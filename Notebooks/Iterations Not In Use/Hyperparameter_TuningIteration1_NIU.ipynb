{
 "cells": [
  {
   "cell_type": "markdown",
   "id": "ffc38cff-6b5e-4d2c-a677-92cce83a8a2e",
   "metadata": {},
   "source": [
    "## Baseline Modeling:\n",
    "- no hyperparam tuning. save for grid search\n",
    "- should i do on scaled or not? PCA?\n",
    "\n"
   ]
  },
  {
   "cell_type": "code",
   "execution_count": 444,
   "id": "04908485-508b-4157-bfe9-7237eb44031b",
   "metadata": {
    "tags": []
   },
   "outputs": [],
   "source": [
    "#load necessary libraries\n",
    "import pandas as pd\n",
    "import numpy as np\n",
    "import matplotlib.pyplot as plt\n",
    "import seaborn as sns\n",
    "import scipy.stats as stats\n",
    "from sklearn.feature_selection import SelectKBest, chi2\n",
    "from sklearn.preprocessing import OneHotEncoder, StandardScaler \n",
    "from sklearn.linear_model import LogisticRegression\n",
    "from sklearn.model_selection import train_test_split, GridSearchCV, cross_val_score, RandomizedSearchCV\n",
    "from sklearn.metrics import accuracy_score, confusion_matrix, classification_report, precision_score, recall_score, f1_score, roc_curve, auc\n",
    "from sklearn.svm import SVC\n",
    "from sklearn.ensemble import RandomForestClassifier\n",
    "from sklearn.tree import DecisionTreeClassifier\n",
    "from xgboost import XGBClassifier\n",
    "\n",
    "#filter warnings\n",
    "from warnings import filterwarnings\n",
    "filterwarnings('ignore')\n",
    "\n",
    "# Set display options to show all columns and rows\n",
    "pd.set_option('display.max_columns', None)\n",
    "pd.set_option('display.max_rows', None)"
   ]
  },
  {
   "cell_type": "code",
   "execution_count": 445,
   "id": "98f7372c-43a2-4001-81e7-16b9145f15af",
   "metadata": {
    "tags": []
   },
   "outputs": [],
   "source": [
    "#read data\n",
    "df = pd.read_csv('my_data_no_mets_organ_primary.csv', index_col='Sample ID')"
   ]
  },
  {
   "cell_type": "code",
   "execution_count": 446,
   "id": "e6a9e6a2-66f7-4707-b432-03017d38f7ae",
   "metadata": {
    "tags": []
   },
   "outputs": [
    {
     "data": {
      "text/html": [
       "<div>\n",
       "<style scoped>\n",
       "    .dataframe tbody tr th:only-of-type {\n",
       "        vertical-align: middle;\n",
       "    }\n",
       "\n",
       "    .dataframe tbody tr th {\n",
       "        vertical-align: top;\n",
       "    }\n",
       "\n",
       "    .dataframe thead th {\n",
       "        text-align: right;\n",
       "    }\n",
       "</style>\n",
       "<table border=\"1\" class=\"dataframe\">\n",
       "  <thead>\n",
       "    <tr style=\"text-align: right;\">\n",
       "      <th></th>\n",
       "      <th>Age at Sequencing</th>\n",
       "      <th>Age at Surgical Procedure</th>\n",
       "      <th>Fraction Genome Altered</th>\n",
       "      <th>Metastatic patient</th>\n",
       "      <th>Met Count</th>\n",
       "      <th>Met Site Count</th>\n",
       "      <th>MSI Score</th>\n",
       "      <th>MSI Instable</th>\n",
       "      <th>Sample coverage</th>\n",
       "      <th>TMB (nonsynonymous)</th>\n",
       "      <th>Tumor Purity</th>\n",
       "      <th>Average Age</th>\n",
       "      <th>Year Group Encoded</th>\n",
       "    </tr>\n",
       "    <tr>\n",
       "      <th>Sample ID</th>\n",
       "      <th></th>\n",
       "      <th></th>\n",
       "      <th></th>\n",
       "      <th></th>\n",
       "      <th></th>\n",
       "      <th></th>\n",
       "      <th></th>\n",
       "      <th></th>\n",
       "      <th></th>\n",
       "      <th></th>\n",
       "      <th></th>\n",
       "      <th></th>\n",
       "      <th></th>\n",
       "    </tr>\n",
       "  </thead>\n",
       "  <tbody>\n",
       "    <tr>\n",
       "      <th>P-0000004-T01-IM3</th>\n",
       "      <td>39.74</td>\n",
       "      <td>37.03</td>\n",
       "      <td>0.2782</td>\n",
       "      <td>1</td>\n",
       "      <td>2</td>\n",
       "      <td>2</td>\n",
       "      <td>2.50</td>\n",
       "      <td>0</td>\n",
       "      <td>428</td>\n",
       "      <td>4.436621</td>\n",
       "      <td>50.0</td>\n",
       "      <td>39.1225</td>\n",
       "      <td>1</td>\n",
       "    </tr>\n",
       "    <tr>\n",
       "      <th>P-0000015-T01-IM3</th>\n",
       "      <td>44.44</td>\n",
       "      <td>44.42</td>\n",
       "      <td>0.3503</td>\n",
       "      <td>1</td>\n",
       "      <td>8</td>\n",
       "      <td>8</td>\n",
       "      <td>2.55</td>\n",
       "      <td>0</td>\n",
       "      <td>281</td>\n",
       "      <td>7.764087</td>\n",
       "      <td>40.0</td>\n",
       "      <td>44.6775</td>\n",
       "      <td>2</td>\n",
       "    </tr>\n",
       "    <tr>\n",
       "      <th>P-0000024-T01-IM3</th>\n",
       "      <td>61.33</td>\n",
       "      <td>61.00</td>\n",
       "      <td>0.3878</td>\n",
       "      <td>1</td>\n",
       "      <td>8</td>\n",
       "      <td>5</td>\n",
       "      <td>0.72</td>\n",
       "      <td>0</td>\n",
       "      <td>1016</td>\n",
       "      <td>6.654932</td>\n",
       "      <td>40.0</td>\n",
       "      <td>61.5050</td>\n",
       "      <td>3</td>\n",
       "    </tr>\n",
       "    <tr>\n",
       "      <th>P-0000025-T02-IM5</th>\n",
       "      <td>74.81</td>\n",
       "      <td>74.64</td>\n",
       "      <td>0.1020</td>\n",
       "      <td>1</td>\n",
       "      <td>13</td>\n",
       "      <td>8</td>\n",
       "      <td>0.15</td>\n",
       "      <td>0</td>\n",
       "      <td>1147</td>\n",
       "      <td>1.957439</td>\n",
       "      <td>30.0</td>\n",
       "      <td>73.9075</td>\n",
       "      <td>3</td>\n",
       "    </tr>\n",
       "    <tr>\n",
       "      <th>P-0000026-T01-IM3</th>\n",
       "      <td>71.72</td>\n",
       "      <td>71.58</td>\n",
       "      <td>0.4196</td>\n",
       "      <td>1</td>\n",
       "      <td>11</td>\n",
       "      <td>7</td>\n",
       "      <td>1.23</td>\n",
       "      <td>0</td>\n",
       "      <td>1222</td>\n",
       "      <td>4.436621</td>\n",
       "      <td>10.0</td>\n",
       "      <td>72.5350</td>\n",
       "      <td>4</td>\n",
       "    </tr>\n",
       "  </tbody>\n",
       "</table>\n",
       "</div>"
      ],
      "text/plain": [
       "                   Age at Sequencing  Age at Surgical Procedure  \\\n",
       "Sample ID                                                         \n",
       "P-0000004-T01-IM3              39.74                      37.03   \n",
       "P-0000015-T01-IM3              44.44                      44.42   \n",
       "P-0000024-T01-IM3              61.33                      61.00   \n",
       "P-0000025-T02-IM5              74.81                      74.64   \n",
       "P-0000026-T01-IM3              71.72                      71.58   \n",
       "\n",
       "                   Fraction Genome Altered  Metastatic patient  Met Count  \\\n",
       "Sample ID                                                                   \n",
       "P-0000004-T01-IM3                   0.2782                   1          2   \n",
       "P-0000015-T01-IM3                   0.3503                   1          8   \n",
       "P-0000024-T01-IM3                   0.3878                   1          8   \n",
       "P-0000025-T02-IM5                   0.1020                   1         13   \n",
       "P-0000026-T01-IM3                   0.4196                   1         11   \n",
       "\n",
       "                   Met Site Count  MSI Score  MSI Instable  Sample coverage  \\\n",
       "Sample ID                                                                     \n",
       "P-0000004-T01-IM3               2       2.50             0              428   \n",
       "P-0000015-T01-IM3               8       2.55             0              281   \n",
       "P-0000024-T01-IM3               5       0.72             0             1016   \n",
       "P-0000025-T02-IM5               8       0.15             0             1147   \n",
       "P-0000026-T01-IM3               7       1.23             0             1222   \n",
       "\n",
       "                   TMB (nonsynonymous)  Tumor Purity  Average Age  \\\n",
       "Sample ID                                                           \n",
       "P-0000004-T01-IM3             4.436621          50.0      39.1225   \n",
       "P-0000015-T01-IM3             7.764087          40.0      44.6775   \n",
       "P-0000024-T01-IM3             6.654932          40.0      61.5050   \n",
       "P-0000025-T02-IM5             1.957439          30.0      73.9075   \n",
       "P-0000026-T01-IM3             4.436621          10.0      72.5350   \n",
       "\n",
       "                   Year Group Encoded  \n",
       "Sample ID                              \n",
       "P-0000004-T01-IM3                   1  \n",
       "P-0000015-T01-IM3                   2  \n",
       "P-0000024-T01-IM3                   3  \n",
       "P-0000025-T02-IM5                   3  \n",
       "P-0000026-T01-IM3                   4  "
      ]
     },
     "execution_count": 446,
     "metadata": {},
     "output_type": "execute_result"
    }
   ],
   "source": [
    "#check out the data\n",
    "df.head()"
   ]
  },
  {
   "cell_type": "code",
   "execution_count": 447,
   "id": "94a015e3-762d-45f9-9bf4-0a7598f637c2",
   "metadata": {
    "tags": []
   },
   "outputs": [
    {
     "data": {
      "text/plain": [
       "(25771, 13)"
      ]
     },
     "execution_count": 447,
     "metadata": {},
     "output_type": "execute_result"
    }
   ],
   "source": [
    "#check the shape\n",
    "df.shape"
   ]
  },
  {
   "cell_type": "code",
   "execution_count": 448,
   "id": "e3e91173-d023-484b-8465-3e470afc4c2a",
   "metadata": {
    "tags": []
   },
   "outputs": [
    {
     "name": "stdout",
     "output_type": "stream",
     "text": [
      "Shape of: X_train_full:(20616, 12), X_train:(16492, 12), X_val:(4124, 12), X_test:(5155, 12)\n",
      "Shape of: y_train_full:(20616,), y_train:(16492,), y_val:(4124,), y_test:(5155,)\n"
     ]
    }
   ],
   "source": [
    "# train test split\n",
    "\n",
    "#set X and y:\n",
    "\n",
    "X = df.drop(columns=['Year Group Encoded'])\n",
    "y = df['Year Group Encoded']\n",
    "\n",
    "# train/test split\n",
    "X_train_full, X_test, y_train_full, y_test = train_test_split(X, y, test_size=0.2, random_state=42, stratify=y)\n",
    "\n",
    "#split off a validation set for hyperparameter tuning from X_train_full and y_train_full\n",
    "X_train, X_val, y_train, y_val = train_test_split(X_train_full, y_train_full, test_size=0.2, random_state=42, stratify=y_train_full)\n",
    "\n",
    "#sanity check to make sure all shapes match\n",
    "print(f'Shape of: X_train_full:{X_train_full.shape}, X_train:{X_train.shape}, X_val:{X_val.shape}, X_test:{X_test.shape}')\n",
    "\n",
    "#sanity check to make sure all shapes match\n",
    "print(f'Shape of: y_train_full:{y_train_full.shape}, y_train:{y_train.shape}, y_val:{y_val.shape}, y_test:{y_test.shape}')"
   ]
  },
  {
   "cell_type": "code",
   "execution_count": 449,
   "id": "96b445cf-8103-4e31-8315-ad5388318644",
   "metadata": {
    "tags": []
   },
   "outputs": [],
   "source": [
    "#scale the data:\n",
    "\n",
    "#instantiate the scaler\n",
    "scaler = StandardScaler()\n",
    "\n",
    "#fit scaler to train data\n",
    "scaler.fit(X_train_full)\n",
    "\n",
    "#transform train and test dataframes\n",
    "X_train_scaled = scaler.transform(X_train)\n",
    "X_val_scaled = scaler.transform(X_val)\n",
    "X_train_full_scaled = scaler.transform(X_train_full)\n",
    "X_test_scaled = scaler.transform(X_test)"
   ]
  },
  {
   "cell_type": "code",
   "execution_count": 450,
   "id": "bb16eb1d-b36a-436d-baa4-dee76f8054b1",
   "metadata": {
    "tags": []
   },
   "outputs": [],
   "source": [
    "#convert X_train scaled to a df\n",
    "\n",
    "X_train_scaled_df = pd.DataFrame(X_train_scaled, columns=X_train.columns).set_index(X_train.index)\n",
    "X_test_scaled_df = pd.DataFrame(X_test_scaled, columns=X_test.columns).set_index(X_test.index)\n",
    "X_train_full_scaled_df = pd.DataFrame(X_train_full_scaled, columns=X_train_full.columns).set_index(X_train_full.index)\n",
    "X_val_scaled_df = pd.DataFrame(X_val_scaled, columns=X_val.columns).set_index(X_val.index)"
   ]
  },
  {
   "cell_type": "code",
   "execution_count": 451,
   "id": "efd6bbbd-5894-41f4-a3d3-91a141ba928e",
   "metadata": {
    "tags": []
   },
   "outputs": [],
   "source": [
    "#necessary libraries\n",
    "import statsmodels.api as sm\n",
    "\n",
    "# Add a constant to the X\n",
    "X_train_with_const = sm.add_constant(X_train_scaled_df)"
   ]
  },
  {
   "cell_type": "code",
   "execution_count": 452,
   "id": "898d598e-77b5-4613-9ac2-7d9fd389d699",
   "metadata": {
    "tags": []
   },
   "outputs": [
    {
     "name": "stdout",
     "output_type": "stream",
     "text": [
      "Optimization terminated successfully.\n",
      "         Current function value: 1.113153\n",
      "         Iterations 8\n",
      "                          MNLogit Regression Results                          \n",
      "==============================================================================\n",
      "Dep. Variable:     Year Group Encoded   No. Observations:                16492\n",
      "Model:                        MNLogit   Df Residuals:                    16453\n",
      "Method:                           MLE   Df Model:                           36\n",
      "Date:                Wed, 22 Nov 2023   Pseudo R-squ.:                  0.1616\n",
      "Time:                        16:30:57   Log-Likelihood:                -18358.\n",
      "converged:                       True   LL-Null:                       -21897.\n",
      "Covariance Type:            nonrobust   LLR p-value:                     0.000\n",
      "=============================================================================================\n",
      "     Year Group Encoded=2       coef    std err          z      P>|z|      [0.025      0.975]\n",
      "---------------------------------------------------------------------------------------------\n",
      "const                         0.1505      0.022      6.790      0.000       0.107       0.194\n",
      "Age at Sequencing            -5.0377      0.325    -15.513      0.000      -5.674      -4.401\n",
      "Age at Surgical Procedure    -2.5137      0.262     -9.600      0.000      -3.027      -2.000\n",
      "Fraction Genome Altered      -0.0443      0.023     -1.926      0.054      -0.089       0.001\n",
      "Metastatic patient            0.0366      0.024      1.516      0.130      -0.011       0.084\n",
      "Met Count                     0.9210      0.075     12.266      0.000       0.774       1.068\n",
      "Met Site Count               -0.6918      0.071     -9.736      0.000      -0.831      -0.553\n",
      "MSI Score                     0.0416      0.026      1.610      0.107      -0.009       0.092\n",
      "MSI Instable                 -0.1245      0.025     -4.967      0.000      -0.174      -0.075\n",
      "Sample coverage              -0.1431      0.022     -6.424      0.000      -0.187      -0.099\n",
      "TMB (nonsynonymous)           0.0763      0.026      2.902      0.004       0.025       0.128\n",
      "Tumor Purity                  0.0257      0.023      1.107      0.268      -0.020       0.071\n",
      "Average Age                   7.5169      0.471     15.973      0.000       6.595       8.439\n",
      "---------------------------------------------------------------------------------------------\n",
      "     Year Group Encoded=3       coef    std err          z      P>|z|      [0.025      0.975]\n",
      "---------------------------------------------------------------------------------------------\n",
      "const                        -0.0728      0.024     -3.049      0.002      -0.120      -0.026\n",
      "Age at Sequencing           -19.2357      0.484    -39.715      0.000     -20.185     -18.286\n",
      "Age at Surgical Procedure   -11.8631      0.339    -34.959      0.000     -12.528     -11.198\n",
      "Fraction Genome Altered      -0.0797      0.026     -3.064      0.002      -0.131      -0.029\n",
      "Metastatic patient            0.1415      0.026      5.344      0.000       0.090       0.193\n",
      "Met Count                     1.5906      0.083     19.068      0.000       1.427       1.754\n",
      "Met Site Count               -1.1950      0.080    -14.902      0.000      -1.352      -1.038\n",
      "MSI Score                    -0.0637      0.028     -2.243      0.025      -0.119      -0.008\n",
      "MSI Instable                  0.1105      0.025      4.485      0.000       0.062       0.159\n",
      "Sample coverage               0.0431      0.025      1.757      0.079      -0.005       0.091\n",
      "TMB (nonsynonymous)           0.0395      0.029      1.369      0.171      -0.017       0.096\n",
      "Tumor Purity                  0.0518      0.026      2.001      0.045       0.001       0.102\n",
      "Average Age                  30.8944      0.708     43.611      0.000      29.506      32.283\n",
      "---------------------------------------------------------------------------------------------\n",
      "     Year Group Encoded=4       coef    std err          z      P>|z|      [0.025      0.975]\n",
      "---------------------------------------------------------------------------------------------\n",
      "const                        -2.0068      0.049    -40.709      0.000      -2.103      -1.910\n",
      "Age at Sequencing           -34.4840      0.716    -48.138      0.000     -35.888     -33.080\n",
      "Age at Surgical Procedure   -22.1097      0.456    -48.479      0.000     -23.004     -21.216\n",
      "Fraction Genome Altered      -0.1489      0.039     -3.796      0.000      -0.226      -0.072\n",
      "Metastatic patient            0.3690      0.039      9.441      0.000       0.292       0.446\n",
      "Met Count                     2.5853      0.109     23.631      0.000       2.371       2.800\n",
      "Met Site Count               -2.0523      0.115    -17.849      0.000      -2.278      -1.827\n",
      "MSI Score                     0.0090      0.037      0.247      0.805      -0.063       0.081\n",
      "MSI Instable                 -0.0448      0.035     -1.271      0.204      -0.114       0.024\n",
      "Sample coverage               0.3527      0.035     10.099      0.000       0.284       0.421\n",
      "TMB (nonsynonymous)           0.0613      0.037      1.672      0.095      -0.011       0.133\n",
      "Tumor Purity                  0.2436      0.037      6.625      0.000       0.172       0.316\n",
      "Average Age                  56.2004      1.039     54.112      0.000      54.165      58.236\n",
      "=============================================================================================\n"
     ]
    }
   ],
   "source": [
    "# Fit the multinomial logistic regression model\n",
    "mnlogit_model = sm.MNLogit(y_train, X_train_with_const)\n",
    "mnlogit_result = mnlogit_model.fit()\n",
    "\n",
    "# Get the summary of the regression\n",
    "print(mnlogit_result.summary())"
   ]
  },
  {
   "cell_type": "code",
   "execution_count": 453,
   "id": "b97b6a95-ce53-4d93-bd39-9d4dddf39967",
   "metadata": {
    "tags": []
   },
   "outputs": [],
   "source": [
    "df.drop(columns='MSI Score', inplace=True)"
   ]
  },
  {
   "cell_type": "code",
   "execution_count": 454,
   "id": "4a87da4b-7ec5-4ce4-8cce-fdb57aae718b",
   "metadata": {
    "tags": []
   },
   "outputs": [
    {
     "name": "stdout",
     "output_type": "stream",
     "text": [
      "Shape of: X_train_full:(20616, 11), X_train:(16492, 11), X_val:(4124, 11), X_test:(5155, 11)\n",
      "Shape of: y_train_full:(20616,), y_train:(16492,), y_val:(4124,), y_test:(5155,)\n"
     ]
    }
   ],
   "source": [
    "# train test split\n",
    "\n",
    "#set X and y:\n",
    "\n",
    "X = df.drop(columns=['Year Group Encoded'])\n",
    "y = df['Year Group Encoded']\n",
    "\n",
    "# train/test split\n",
    "X_train_full, X_test, y_train_full, y_test = train_test_split(X, y, test_size=0.2, random_state=42, stratify=y)\n",
    "\n",
    "#split off a validation set for hyperparameter tuning from X_train_full and y_train_full\n",
    "X_train, X_val, y_train, y_val = train_test_split(X_train_full, y_train_full, test_size=0.2, random_state=42, stratify=y_train_full)\n",
    "\n",
    "#sanity check to make sure all shapes match\n",
    "print(f'Shape of: X_train_full:{X_train_full.shape}, X_train:{X_train.shape}, X_val:{X_val.shape}, X_test:{X_test.shape}')\n",
    "\n",
    "#sanity check to make sure all shapes match\n",
    "print(f'Shape of: y_train_full:{y_train_full.shape}, y_train:{y_train.shape}, y_val:{y_val.shape}, y_test:{y_test.shape}')"
   ]
  },
  {
   "cell_type": "code",
   "execution_count": 455,
   "id": "b7b07fb9-3e19-4243-8f4f-a94f6393b360",
   "metadata": {
    "tags": []
   },
   "outputs": [],
   "source": [
    "#scale the data:\n",
    "\n",
    "#instantiate the scaler\n",
    "scaler = StandardScaler()\n",
    "\n",
    "#fit scaler to train data\n",
    "scaler.fit(X_train_full)\n",
    "\n",
    "#transform train and test dataframes\n",
    "X_train_scaled = scaler.transform(X_train)\n",
    "X_val_scaled = scaler.transform(X_val)\n",
    "X_train_full_scaled = scaler.transform(X_train_full)\n",
    "X_test_scaled = scaler.transform(X_test)"
   ]
  },
  {
   "cell_type": "code",
   "execution_count": 456,
   "id": "ba41791a-bf25-4fc0-9fa3-ec93fb8bd22d",
   "metadata": {
    "tags": []
   },
   "outputs": [],
   "source": [
    "#convert X_train scaled to a df\n",
    "\n",
    "X_train_scaled_df = pd.DataFrame(X_train_scaled, columns=X_train.columns).set_index(X_train.index)\n",
    "X_test_scaled_df = pd.DataFrame(X_test_scaled, columns=X_test.columns).set_index(X_test.index)\n",
    "X_train_full_scaled_df = pd.DataFrame(X_train_full_scaled, columns=X_train_full.columns).set_index(X_train_full.index)\n",
    "X_val_scaled_df = pd.DataFrame(X_val_scaled, columns=X_val.columns).set_index(X_val.index)"
   ]
  },
  {
   "cell_type": "code",
   "execution_count": 457,
   "id": "bebe6b81-4cac-43e2-920c-8afa21d00c80",
   "metadata": {
    "tags": []
   },
   "outputs": [
    {
     "name": "stdout",
     "output_type": "stream",
     "text": [
      "Optimization terminated successfully.\n",
      "         Current function value: 1.113712\n",
      "         Iterations 8\n",
      "                          MNLogit Regression Results                          \n",
      "==============================================================================\n",
      "Dep. Variable:     Year Group Encoded   No. Observations:                16492\n",
      "Model:                        MNLogit   Df Residuals:                    16456\n",
      "Method:                           MLE   Df Model:                           33\n",
      "Date:                Wed, 22 Nov 2023   Pseudo R-squ.:                  0.1612\n",
      "Time:                        16:30:57   Log-Likelihood:                -18367.\n",
      "converged:                       True   LL-Null:                       -21897.\n",
      "Covariance Type:            nonrobust   LLR p-value:                     0.000\n",
      "=============================================================================================\n",
      "     Year Group Encoded=2       coef    std err          z      P>|z|      [0.025      0.975]\n",
      "---------------------------------------------------------------------------------------------\n",
      "const                         0.1519      0.022      6.857      0.000       0.108       0.195\n",
      "Age at Sequencing            -5.0399      0.325    -15.521      0.000      -5.676      -4.403\n",
      "Age at Surgical Procedure    -2.5174      0.262     -9.615      0.000      -3.031      -2.004\n",
      "Fraction Genome Altered      -0.0448      0.023     -1.949      0.051      -0.090       0.000\n",
      "Metastatic patient            0.0381      0.024      1.576      0.115      -0.009       0.085\n",
      "Met Count                     0.9195      0.075     12.250      0.000       0.772       1.067\n",
      "Met Site Count               -0.6910      0.071     -9.727      0.000      -0.830      -0.552\n",
      "MSI Instable                 -0.1052      0.023     -4.624      0.000      -0.150      -0.061\n",
      "Sample coverage              -0.1449      0.022     -6.513      0.000      -0.189      -0.101\n",
      "TMB (nonsynonymous)           0.0867      0.024      3.612      0.000       0.040       0.134\n",
      "Tumor Purity                  0.0281      0.023      1.214      0.225      -0.017       0.073\n",
      "Average Age                   7.5225      0.471     15.983      0.000       6.600       8.445\n",
      "---------------------------------------------------------------------------------------------\n",
      "     Year Group Encoded=3       coef    std err          z      P>|z|      [0.025      0.975]\n",
      "---------------------------------------------------------------------------------------------\n",
      "const                        -0.0721      0.024     -3.021      0.003      -0.119      -0.025\n",
      "Age at Sequencing           -19.2589      0.484    -39.768      0.000     -20.208     -18.310\n",
      "Age at Surgical Procedure   -11.8757      0.339    -34.990      0.000     -12.541     -11.210\n",
      "Fraction Genome Altered      -0.0781      0.026     -3.003      0.003      -0.129      -0.027\n",
      "Metastatic patient            0.1384      0.026      5.234      0.000       0.087       0.190\n",
      "Met Count                     1.5894      0.083     19.060      0.000       1.426       1.753\n",
      "Met Site Count               -1.1926      0.080    -14.879      0.000      -1.350      -1.036\n",
      "MSI Instable                  0.0894      0.023      3.900      0.000       0.044       0.134\n",
      "Sample coverage               0.0472      0.024      1.928      0.054      -0.001       0.095\n",
      "TMB (nonsynonymous)           0.0155      0.027      0.565      0.572      -0.038       0.069\n",
      "Tumor Purity                  0.0471      0.026      1.824      0.068      -0.004       0.098\n",
      "Average Age                  30.9311      0.708     43.657      0.000      29.542      32.320\n",
      "---------------------------------------------------------------------------------------------\n",
      "     Year Group Encoded=4       coef    std err          z      P>|z|      [0.025      0.975]\n",
      "---------------------------------------------------------------------------------------------\n",
      "const                        -2.0084      0.049    -40.717      0.000      -2.105      -1.912\n",
      "Age at Sequencing           -34.5093      0.716    -48.167      0.000     -35.913     -33.105\n",
      "Age at Surgical Procedure   -22.1300      0.456    -48.499      0.000     -23.024     -21.236\n",
      "Fraction Genome Altered      -0.1501      0.039     -3.828      0.000      -0.227      -0.073\n",
      "Metastatic patient            0.3711      0.039      9.516      0.000       0.295       0.448\n",
      "Met Count                     2.5851      0.109     23.630      0.000       2.371       2.800\n",
      "Met Site Count               -2.0517      0.115    -17.845      0.000      -2.277      -1.826\n",
      "MSI Instable                 -0.0430      0.033     -1.317      0.188      -0.107       0.021\n",
      "Sample coverage               0.3530      0.035     10.119      0.000       0.285       0.421\n",
      "TMB (nonsynonymous)           0.0677      0.033      2.025      0.043       0.002       0.133\n",
      "Tumor Purity                  0.2441      0.037      6.657      0.000       0.172       0.316\n",
      "Average Age                  56.2447      1.039     54.133      0.000      54.208      58.281\n",
      "=============================================================================================\n"
     ]
    }
   ],
   "source": [
    "#necessary libraries\n",
    "import statsmodels.api as sm\n",
    "\n",
    "# Add a constant to the X\n",
    "X_train_with_const = sm.add_constant(X_train_scaled_df)\n",
    "\n",
    "# Fit the multinomial logistic regression model\n",
    "mnlogit_model = sm.MNLogit(y_train, X_train_with_const)\n",
    "mnlogit_result = mnlogit_model.fit()\n",
    "\n",
    "# Get the summary of the regression\n",
    "print(mnlogit_result.summary())"
   ]
  },
  {
   "cell_type": "code",
   "execution_count": 458,
   "id": "733e3c5d-3456-4b71-bf6c-fcd2d34c49fe",
   "metadata": {
    "tags": []
   },
   "outputs": [],
   "source": [
    "df.drop(columns='TMB (nonsynonymous)', inplace=True)"
   ]
  },
  {
   "cell_type": "code",
   "execution_count": 459,
   "id": "3e2c5fb2-d1ab-4069-aedc-06f54c571ac4",
   "metadata": {
    "tags": []
   },
   "outputs": [
    {
     "name": "stdout",
     "output_type": "stream",
     "text": [
      "Shape of: X_train_full:(20616, 10), X_train:(16492, 10), X_val:(4124, 10), X_test:(5155, 10)\n",
      "Shape of: y_train_full:(20616,), y_train:(16492,), y_val:(4124,), y_test:(5155,)\n"
     ]
    }
   ],
   "source": [
    "# train test split\n",
    "\n",
    "#set X and y:\n",
    "\n",
    "X = df.drop(columns=['Year Group Encoded'])\n",
    "y = df['Year Group Encoded']\n",
    "\n",
    "# train/test split\n",
    "X_train_full, X_test, y_train_full, y_test = train_test_split(X, y, test_size=0.2, random_state=42, stratify=y)\n",
    "\n",
    "#split off a validation set for hyperparameter tuning from X_train_full and y_train_full\n",
    "X_train, X_val, y_train, y_val = train_test_split(X_train_full, y_train_full, test_size=0.2, random_state=42, stratify=y_train_full)\n",
    "\n",
    "#sanity check to make sure all shapes match\n",
    "print(f'Shape of: X_train_full:{X_train_full.shape}, X_train:{X_train.shape}, X_val:{X_val.shape}, X_test:{X_test.shape}')\n",
    "\n",
    "#sanity check to make sure all shapes match\n",
    "print(f'Shape of: y_train_full:{y_train_full.shape}, y_train:{y_train.shape}, y_val:{y_val.shape}, y_test:{y_test.shape}')"
   ]
  },
  {
   "cell_type": "code",
   "execution_count": 460,
   "id": "1a53e3e4-5630-4da5-b5c7-227c92cb96b0",
   "metadata": {
    "tags": []
   },
   "outputs": [],
   "source": [
    "#scale the data:\n",
    "\n",
    "#instantiate the scaler\n",
    "scaler = StandardScaler()\n",
    "\n",
    "#fit scaler to train data\n",
    "scaler.fit(X_train_full)\n",
    "\n",
    "#transform train and test dataframes\n",
    "X_train_scaled = scaler.transform(X_train)\n",
    "X_val_scaled = scaler.transform(X_val)\n",
    "X_train_full_scaled = scaler.transform(X_train_full)\n",
    "X_test_scaled = scaler.transform(X_test)"
   ]
  },
  {
   "cell_type": "code",
   "execution_count": 461,
   "id": "5c9ce2ee-5a3a-4dc3-bed8-9ec9012c7eaa",
   "metadata": {
    "tags": []
   },
   "outputs": [],
   "source": [
    "#convert X_train scaled to a df\n",
    "\n",
    "X_train_scaled_df = pd.DataFrame(X_train_scaled, columns=X_train.columns).set_index(X_train.index)\n",
    "X_test_scaled_df = pd.DataFrame(X_test_scaled, columns=X_test.columns).set_index(X_test.index)\n",
    "X_train_full_scaled_df = pd.DataFrame(X_train_full_scaled, columns=X_train_full.columns).set_index(X_train_full.index)\n",
    "X_val_scaled_df = pd.DataFrame(X_val_scaled, columns=X_val.columns).set_index(X_val.index)"
   ]
  },
  {
   "cell_type": "code",
   "execution_count": 462,
   "id": "36af285f-2c2f-456d-97b7-37d3b5ca94a5",
   "metadata": {
    "tags": []
   },
   "outputs": [
    {
     "name": "stdout",
     "output_type": "stream",
     "text": [
      "Optimization terminated successfully.\n",
      "         Current function value: 1.114335\n",
      "         Iterations 8\n",
      "                          MNLogit Regression Results                          \n",
      "==============================================================================\n",
      "Dep. Variable:     Year Group Encoded   No. Observations:                16492\n",
      "Model:                        MNLogit   Df Residuals:                    16459\n",
      "Method:                           MLE   Df Model:                           30\n",
      "Date:                Wed, 22 Nov 2023   Pseudo R-squ.:                  0.1607\n",
      "Time:                        16:30:58   Log-Likelihood:                -18378.\n",
      "converged:                       True   LL-Null:                       -21897.\n",
      "Covariance Type:            nonrobust   LLR p-value:                     0.000\n",
      "=============================================================================================\n",
      "     Year Group Encoded=2       coef    std err          z      P>|z|      [0.025      0.975]\n",
      "---------------------------------------------------------------------------------------------\n",
      "const                         0.1524      0.022      6.887      0.000       0.109       0.196\n",
      "Age at Sequencing            -5.0832      0.325    -15.650      0.000      -5.720      -4.447\n",
      "Age at Surgical Procedure    -2.4813      0.262     -9.480      0.000      -2.994      -1.968\n",
      "Fraction Genome Altered      -0.0514      0.023     -2.240      0.025      -0.096      -0.006\n",
      "Metastatic patient            0.0371      0.024      1.536      0.125      -0.010       0.084\n",
      "Met Count                     0.9197      0.075     12.256      0.000       0.773       1.067\n",
      "Met Site Count               -0.6946      0.071     -9.781      0.000      -0.834      -0.555\n",
      "MSI Instable                 -0.0896      0.022     -4.009      0.000      -0.133      -0.046\n",
      "Sample coverage              -0.1459      0.022     -6.561      0.000      -0.189      -0.102\n",
      "Tumor Purity                  0.0344      0.023      1.489      0.137      -0.011       0.080\n",
      "Average Age                   7.5329      0.471     16.000      0.000       6.610       8.456\n",
      "---------------------------------------------------------------------------------------------\n",
      "     Year Group Encoded=3       coef    std err          z      P>|z|      [0.025      0.975]\n",
      "---------------------------------------------------------------------------------------------\n",
      "const                        -0.0726      0.024     -3.046      0.002      -0.119      -0.026\n",
      "Age at Sequencing           -19.2677      0.484    -39.792      0.000     -20.217     -18.319\n",
      "Age at Surgical Procedure   -11.8786      0.339    -35.020      0.000     -12.543     -11.214\n",
      "Fraction Genome Altered      -0.0781      0.026     -3.018      0.003      -0.129      -0.027\n",
      "Metastatic patient            0.1375      0.026      5.203      0.000       0.086       0.189\n",
      "Met Count                     1.5888      0.083     19.056      0.000       1.425       1.752\n",
      "Met Site Count               -1.1920      0.080    -14.874      0.000      -1.349      -1.035\n",
      "MSI Instable                  0.0917      0.022      4.078      0.000       0.048       0.136\n",
      "Sample coverage               0.0472      0.024      1.929      0.054      -0.001       0.095\n",
      "Tumor Purity                  0.0471      0.026      1.829      0.067      -0.003       0.098\n",
      "Average Age                  30.9436      0.709     43.662      0.000      29.555      32.333\n",
      "---------------------------------------------------------------------------------------------\n",
      "     Year Group Encoded=4       coef    std err          z      P>|z|      [0.025      0.975]\n",
      "---------------------------------------------------------------------------------------------\n",
      "const                        -2.0091      0.049    -40.733      0.000      -2.106      -1.912\n",
      "Age at Sequencing           -34.5321      0.716    -48.205      0.000     -35.936     -33.128\n",
      "Age at Surgical Procedure   -22.1067      0.456    -48.495      0.000     -23.000     -21.213\n",
      "Fraction Genome Altered      -0.1554      0.039     -3.974      0.000      -0.232      -0.079\n",
      "Metastatic patient            0.3721      0.039      9.542      0.000       0.296       0.448\n",
      "Met Count                     2.5852      0.109     23.634      0.000       2.371       2.800\n",
      "Met Site Count               -2.0544      0.115    -17.872      0.000      -2.280      -1.829\n",
      "MSI Instable                 -0.0332      0.032     -1.030      0.303      -0.096       0.030\n",
      "Sample coverage               0.3526      0.035     10.111      0.000       0.284       0.421\n",
      "Tumor Purity                  0.2489      0.037      6.810      0.000       0.177       0.321\n",
      "Average Age                  56.2472      1.039     54.136      0.000      54.211      58.284\n",
      "=============================================================================================\n"
     ]
    }
   ],
   "source": [
    "#necessary libraries\n",
    "import statsmodels.api as sm\n",
    "\n",
    "# Add a constant to the X\n",
    "X_train_with_const = sm.add_constant(X_train_scaled_df)\n",
    "\n",
    "# Fit the multinomial logistic regression model\n",
    "mnlogit_model = sm.MNLogit(y_train, X_train_with_const)\n",
    "mnlogit_result = mnlogit_model.fit()\n",
    "\n",
    "# Get the summary of the regression\n",
    "print(mnlogit_result.summary())"
   ]
  },
  {
   "cell_type": "code",
   "execution_count": 463,
   "id": "b63776f8-d2a0-48a4-a2e5-48ecc1daa7a8",
   "metadata": {
    "tags": []
   },
   "outputs": [],
   "source": [
    "df.drop(columns='MSI Instable', inplace=True)"
   ]
  },
  {
   "cell_type": "code",
   "execution_count": 464,
   "id": "79878f27-a3d2-4ad6-9e9a-fb213dcd373e",
   "metadata": {
    "tags": []
   },
   "outputs": [
    {
     "name": "stdout",
     "output_type": "stream",
     "text": [
      "Shape of: X_train_full:(20616, 9), X_train:(16492, 9), X_val:(4124, 9), X_test:(5155, 9)\n",
      "Shape of: y_train_full:(20616,), y_train:(16492,), y_val:(4124,), y_test:(5155,)\n"
     ]
    }
   ],
   "source": [
    "# train test split\n",
    "\n",
    "#set X and y:\n",
    "\n",
    "X = df.drop(columns=['Year Group Encoded'])\n",
    "y = df['Year Group Encoded']\n",
    "\n",
    "# train/test split\n",
    "X_train_full, X_test, y_train_full, y_test = train_test_split(X, y, test_size=0.2, random_state=42, stratify=y)\n",
    "\n",
    "#split off a validation set for hyperparameter tuning from X_train_full and y_train_full\n",
    "X_train, X_val, y_train, y_val = train_test_split(X_train_full, y_train_full, test_size=0.2, random_state=42, stratify=y_train_full)\n",
    "\n",
    "#sanity check to make sure all shapes match\n",
    "print(f'Shape of: X_train_full:{X_train_full.shape}, X_train:{X_train.shape}, X_val:{X_val.shape}, X_test:{X_test.shape}')\n",
    "\n",
    "#sanity check to make sure all shapes match\n",
    "print(f'Shape of: y_train_full:{y_train_full.shape}, y_train:{y_train.shape}, y_val:{y_val.shape}, y_test:{y_test.shape}')"
   ]
  },
  {
   "cell_type": "code",
   "execution_count": 465,
   "id": "4ba2ffe1-b1f6-4b96-9942-ee517cb94e07",
   "metadata": {
    "tags": []
   },
   "outputs": [],
   "source": [
    "#scale the data:\n",
    "\n",
    "#instantiate the scaler\n",
    "scaler = StandardScaler()\n",
    "\n",
    "#fit scaler to train data\n",
    "scaler.fit(X_train_full)\n",
    "\n",
    "#transform train and test dataframes\n",
    "X_train_scaled = scaler.transform(X_train)\n",
    "X_val_scaled = scaler.transform(X_val)\n",
    "X_train_full_scaled = scaler.transform(X_train_full)\n",
    "X_test_scaled = scaler.transform(X_test)"
   ]
  },
  {
   "cell_type": "code",
   "execution_count": 466,
   "id": "12a37547-c7af-4168-8efe-784a5c2adc8b",
   "metadata": {
    "tags": []
   },
   "outputs": [],
   "source": [
    "#convert X_train scaled to a df\n",
    "\n",
    "X_train_scaled_df = pd.DataFrame(X_train_scaled, columns=X_train.columns).set_index(X_train.index)\n",
    "X_test_scaled_df = pd.DataFrame(X_test_scaled, columns=X_test.columns).set_index(X_test.index)\n",
    "X_train_full_scaled_df = pd.DataFrame(X_train_full_scaled, columns=X_train_full.columns).set_index(X_train_full.index)\n",
    "X_val_scaled_df = pd.DataFrame(X_val_scaled, columns=X_val.columns).set_index(X_val.index)"
   ]
  },
  {
   "cell_type": "code",
   "execution_count": 467,
   "id": "02a36204-0a1c-478d-a201-33a86dbea63c",
   "metadata": {
    "tags": []
   },
   "outputs": [
    {
     "name": "stdout",
     "output_type": "stream",
     "text": [
      "Optimization terminated successfully.\n",
      "         Current function value: 1.116557\n",
      "         Iterations 8\n",
      "                          MNLogit Regression Results                          \n",
      "==============================================================================\n",
      "Dep. Variable:     Year Group Encoded   No. Observations:                16492\n",
      "Model:                        MNLogit   Df Residuals:                    16462\n",
      "Method:                           MLE   Df Model:                           27\n",
      "Date:                Wed, 22 Nov 2023   Pseudo R-squ.:                  0.1590\n",
      "Time:                        16:30:58   Log-Likelihood:                -18414.\n",
      "converged:                       True   LL-Null:                       -21897.\n",
      "Covariance Type:            nonrobust   LLR p-value:                     0.000\n",
      "=============================================================================================\n",
      "     Year Group Encoded=2       coef    std err          z      P>|z|      [0.025      0.975]\n",
      "---------------------------------------------------------------------------------------------\n",
      "const                         0.1581      0.022      7.163      0.000       0.115       0.201\n",
      "Age at Sequencing            -5.1276      0.324    -15.829      0.000      -5.763      -4.493\n",
      "Age at Surgical Procedure    -2.4069      0.261     -9.238      0.000      -2.917      -1.896\n",
      "Fraction Genome Altered      -0.0576      0.023     -2.523      0.012      -0.102      -0.013\n",
      "Metastatic patient            0.0382      0.024      1.582      0.114      -0.009       0.085\n",
      "Met Count                     0.9190      0.075     12.262      0.000       0.772       1.066\n",
      "Met Site Count               -0.6946      0.071     -9.790      0.000      -0.834      -0.556\n",
      "Sample coverage              -0.1525      0.022     -6.893      0.000      -0.196      -0.109\n",
      "Tumor Purity                  0.0336      0.023      1.457      0.145      -0.012       0.079\n",
      "Average Age                   7.5023      0.469     15.984      0.000       6.582       8.422\n",
      "---------------------------------------------------------------------------------------------\n",
      "     Year Group Encoded=3       coef    std err          z      P>|z|      [0.025      0.975]\n",
      "---------------------------------------------------------------------------------------------\n",
      "const                        -0.0706      0.024     -2.962      0.003      -0.117      -0.024\n",
      "Age at Sequencing           -19.4097      0.484    -40.065      0.000     -20.359     -18.460\n",
      "Age at Surgical Procedure   -12.0736      0.338    -35.710      0.000     -12.736     -11.411\n",
      "Fraction Genome Altered      -0.0718      0.026     -2.775      0.006      -0.122      -0.021\n",
      "Metastatic patient            0.1355      0.026      5.135      0.000       0.084       0.187\n",
      "Met Count                     1.5779      0.083     18.921      0.000       1.414       1.741\n",
      "Met Site Count               -1.1811      0.080    -14.738      0.000      -1.338      -1.024\n",
      "Sample coverage               0.0569      0.024      2.332      0.020       0.009       0.105\n",
      "Tumor Purity                  0.0471      0.026      1.831      0.067      -0.003       0.097\n",
      "Average Age                  31.2807      0.708     44.167      0.000      29.893      32.669\n",
      "---------------------------------------------------------------------------------------------\n",
      "     Year Group Encoded=4       coef    std err          z      P>|z|      [0.025      0.975]\n",
      "---------------------------------------------------------------------------------------------\n",
      "const                        -2.0130      0.049    -40.750      0.000      -2.110      -1.916\n",
      "Age at Sequencing           -34.5845      0.715    -48.383      0.000     -35.986     -33.184\n",
      "Age at Surgical Procedure   -22.1420      0.454    -48.817      0.000     -23.031     -21.253\n",
      "Fraction Genome Altered      -0.1602      0.039     -4.108      0.000      -0.237      -0.084\n",
      "Metastatic patient            0.3759      0.039      9.656      0.000       0.300       0.452\n",
      "Met Count                     2.5947      0.109     23.765      0.000       2.381       2.809\n",
      "Met Site Count               -2.0582      0.115    -17.932      0.000      -2.283      -1.833\n",
      "Sample coverage               0.3515      0.035     10.119      0.000       0.283       0.420\n",
      "Tumor Purity                  0.2505      0.037      6.855      0.000       0.179       0.322\n",
      "Average Age                  56.3342      1.036     54.402      0.000      54.305      58.364\n",
      "=============================================================================================\n"
     ]
    }
   ],
   "source": [
    "#necessary libraries\n",
    "import statsmodels.api as sm\n",
    "\n",
    "# Add a constant to the X\n",
    "X_train_with_const = sm.add_constant(X_train_scaled_df)\n",
    "\n",
    "# Fit the multinomial logistic regression model\n",
    "mnlogit_model = sm.MNLogit(y_train, X_train_with_const)\n",
    "mnlogit_result = mnlogit_model.fit()\n",
    "\n",
    "# Get the summary of the regression\n",
    "print(mnlogit_result.summary())"
   ]
  },
  {
   "cell_type": "code",
   "execution_count": 468,
   "id": "ea80fb3d-4ed4-4f74-83ac-62ba8f928041",
   "metadata": {
    "tags": []
   },
   "outputs": [],
   "source": [
    "df.drop(columns='Tumor Purity', inplace=True)\n"
   ]
  },
  {
   "cell_type": "code",
   "execution_count": 469,
   "id": "1ea63cf1-ed2b-4f10-ab84-e6288773c5ac",
   "metadata": {
    "tags": []
   },
   "outputs": [
    {
     "name": "stdout",
     "output_type": "stream",
     "text": [
      "Shape of: X_train_full:(20616, 8), X_train:(16492, 8), X_val:(4124, 8), X_test:(5155, 8)\n",
      "Shape of: y_train_full:(20616,), y_train:(16492,), y_val:(4124,), y_test:(5155,)\n"
     ]
    }
   ],
   "source": [
    "# train test split\n",
    "\n",
    "#set X and y:\n",
    "\n",
    "X = df.drop(columns=['Year Group Encoded'])\n",
    "y = df['Year Group Encoded']\n",
    "\n",
    "# train/test split\n",
    "X_train_full, X_test, y_train_full, y_test = train_test_split(X, y, test_size=0.2, random_state=42, stratify=y)\n",
    "\n",
    "#split off a validation set for hyperparameter tuning from X_train_full and y_train_full\n",
    "X_train, X_val, y_train, y_val = train_test_split(X_train_full, y_train_full, test_size=0.2, random_state=42, stratify=y_train_full)\n",
    "\n",
    "#sanity check to make sure all shapes match\n",
    "print(f'Shape of: X_train_full:{X_train_full.shape}, X_train:{X_train.shape}, X_val:{X_val.shape}, X_test:{X_test.shape}')\n",
    "\n",
    "#sanity check to make sure all shapes match\n",
    "print(f'Shape of: y_train_full:{y_train_full.shape}, y_train:{y_train.shape}, y_val:{y_val.shape}, y_test:{y_test.shape}')"
   ]
  },
  {
   "cell_type": "code",
   "execution_count": 470,
   "id": "6abf8e4e-aa9e-48ef-9a55-b8ba5b1c58b4",
   "metadata": {
    "tags": []
   },
   "outputs": [],
   "source": [
    "#scale the data:\n",
    "\n",
    "#instantiate the scaler\n",
    "scaler = StandardScaler()\n",
    "\n",
    "#fit scaler to train data\n",
    "scaler.fit(X_train_full)\n",
    "\n",
    "#transform train and test dataframes\n",
    "X_train_scaled = scaler.transform(X_train)\n",
    "X_val_scaled = scaler.transform(X_val)\n",
    "X_train_full_scaled = scaler.transform(X_train_full)\n",
    "X_test_scaled = scaler.transform(X_test)"
   ]
  },
  {
   "cell_type": "code",
   "execution_count": 471,
   "id": "48026637-01d8-4ebf-9951-a60901bd08c8",
   "metadata": {
    "tags": []
   },
   "outputs": [],
   "source": [
    "#convert X_train scaled to a df\n",
    "\n",
    "X_train_scaled_df = pd.DataFrame(X_train_scaled, columns=X_train.columns).set_index(X_train.index)\n",
    "X_test_scaled_df = pd.DataFrame(X_test_scaled, columns=X_test.columns).set_index(X_test.index)\n",
    "X_train_full_scaled_df = pd.DataFrame(X_train_full_scaled, columns=X_train_full.columns).set_index(X_train_full.index)\n",
    "X_val_scaled_df = pd.DataFrame(X_val_scaled, columns=X_val.columns).set_index(X_val.index)"
   ]
  },
  {
   "cell_type": "code",
   "execution_count": 472,
   "id": "46c5aa46-91d8-4196-b198-6328acd02396",
   "metadata": {
    "tags": []
   },
   "outputs": [
    {
     "name": "stdout",
     "output_type": "stream",
     "text": [
      "Optimization terminated successfully.\n",
      "         Current function value: 1.118067\n",
      "         Iterations 8\n",
      "                          MNLogit Regression Results                          \n",
      "==============================================================================\n",
      "Dep. Variable:     Year Group Encoded   No. Observations:                16492\n",
      "Model:                        MNLogit   Df Residuals:                    16465\n",
      "Method:                           MLE   Df Model:                           24\n",
      "Date:                Wed, 22 Nov 2023   Pseudo R-squ.:                  0.1579\n",
      "Time:                        16:30:58   Log-Likelihood:                -18439.\n",
      "converged:                       True   LL-Null:                       -21897.\n",
      "Covariance Type:            nonrobust   LLR p-value:                     0.000\n",
      "=============================================================================================\n",
      "     Year Group Encoded=2       coef    std err          z      P>|z|      [0.025      0.975]\n",
      "---------------------------------------------------------------------------------------------\n",
      "const                         0.1568      0.022      7.111      0.000       0.114       0.200\n",
      "Age at Sequencing            -5.0967      0.323    -15.771      0.000      -5.730      -4.463\n",
      "Age at Surgical Procedure    -2.4086      0.261     -9.242      0.000      -2.919      -1.898\n",
      "Fraction Genome Altered      -0.0427      0.020     -2.093      0.036      -0.083      -0.003\n",
      "Metastatic patient            0.0367      0.024      1.523      0.128      -0.011       0.084\n",
      "Met Count                     0.9190      0.075     12.263      0.000       0.772       1.066\n",
      "Met Site Count               -0.6935      0.071     -9.778      0.000      -0.833      -0.554\n",
      "Sample coverage              -0.1502      0.022     -6.805      0.000      -0.193      -0.107\n",
      "Average Age                   7.4722      0.469     15.932      0.000       6.553       8.391\n",
      "---------------------------------------------------------------------------------------------\n",
      "     Year Group Encoded=3       coef    std err          z      P>|z|      [0.025      0.975]\n",
      "---------------------------------------------------------------------------------------------\n",
      "const                        -0.0718      0.024     -3.016      0.003      -0.119      -0.025\n",
      "Age at Sequencing           -19.3553      0.484    -40.018      0.000     -20.303     -18.407\n",
      "Age at Surgical Procedure   -12.0863      0.338    -35.755      0.000     -12.749     -11.424\n",
      "Fraction Genome Altered      -0.0501      0.023     -2.168      0.030      -0.095      -0.005\n",
      "Metastatic patient            0.1336      0.026      5.070      0.000       0.082       0.185\n",
      "Met Count                     1.5774      0.083     18.920      0.000       1.414       1.741\n",
      "Met Site Count               -1.1795      0.080    -14.724      0.000      -1.336      -1.022\n",
      "Sample coverage               0.0609      0.024      2.497      0.013       0.013       0.109\n",
      "Average Age                  31.2376      0.708     44.146      0.000      29.851      32.624\n",
      "---------------------------------------------------------------------------------------------\n",
      "     Year Group Encoded=4       coef    std err          z      P>|z|      [0.025      0.975]\n",
      "---------------------------------------------------------------------------------------------\n",
      "const                        -2.0053      0.049    -40.719      0.000      -2.102      -1.909\n",
      "Age at Sequencing           -34.6442      0.714    -48.497      0.000     -36.044     -33.244\n",
      "Age at Surgical Procedure   -22.2767      0.453    -49.145      0.000     -23.165     -21.388\n",
      "Fraction Genome Altered      -0.0499      0.035     -1.419      0.156      -0.119       0.019\n",
      "Metastatic patient            0.3672      0.039      9.468      0.000       0.291       0.443\n",
      "Met Count                     2.5981      0.109     23.815      0.000       2.384       2.812\n",
      "Met Site Count               -2.0538      0.115    -17.896      0.000      -2.279      -1.829\n",
      "Sample coverage               0.3612      0.035     10.417      0.000       0.293       0.429\n",
      "Average Age                  56.5212      1.035     54.617      0.000      54.493      58.549\n",
      "=============================================================================================\n"
     ]
    }
   ],
   "source": [
    "#necessary libraries\n",
    "import statsmodels.api as sm\n",
    "\n",
    "# Add a constant to the X\n",
    "X_train_with_const = sm.add_constant(X_train_scaled_df)\n",
    "\n",
    "# Fit the multinomial logistic regression model\n",
    "mnlogit_model = sm.MNLogit(y_train, X_train_with_const)\n",
    "mnlogit_result = mnlogit_model.fit()\n",
    "\n",
    "# Get the summary of the regression\n",
    "print(mnlogit_result.summary())"
   ]
  },
  {
   "cell_type": "code",
   "execution_count": 473,
   "id": "8904e5d2-10bd-4040-8dd2-3a475a995d91",
   "metadata": {
    "tags": []
   },
   "outputs": [],
   "source": [
    "df.drop(columns='Fraction Genome Altered', inplace=True)\n"
   ]
  },
  {
   "cell_type": "code",
   "execution_count": 474,
   "id": "6877f3c3-a2e0-4a16-b82b-172079f24569",
   "metadata": {
    "tags": []
   },
   "outputs": [
    {
     "name": "stdout",
     "output_type": "stream",
     "text": [
      "Shape of: X_train_full:(20616, 7), X_train:(16492, 7), X_val:(4124, 7), X_test:(5155, 7)\n",
      "Shape of: y_train_full:(20616,), y_train:(16492,), y_val:(4124,), y_test:(5155,)\n"
     ]
    }
   ],
   "source": [
    "# train test split\n",
    "\n",
    "#set X and y:\n",
    "\n",
    "X = df.drop(columns=['Year Group Encoded'])\n",
    "y = df['Year Group Encoded']\n",
    "\n",
    "# train/test split\n",
    "X_train_full, X_test, y_train_full, y_test = train_test_split(X, y, test_size=0.2, random_state=42, stratify=y)\n",
    "\n",
    "#split off a validation set for hyperparameter tuning from X_train_full and y_train_full\n",
    "X_train, X_val, y_train, y_val = train_test_split(X_train_full, y_train_full, test_size=0.2, random_state=42, stratify=y_train_full)\n",
    "\n",
    "#sanity check to make sure all shapes match\n",
    "print(f'Shape of: X_train_full:{X_train_full.shape}, X_train:{X_train.shape}, X_val:{X_val.shape}, X_test:{X_test.shape}')\n",
    "\n",
    "#sanity check to make sure all shapes match\n",
    "print(f'Shape of: y_train_full:{y_train_full.shape}, y_train:{y_train.shape}, y_val:{y_val.shape}, y_test:{y_test.shape}')"
   ]
  },
  {
   "cell_type": "code",
   "execution_count": 475,
   "id": "49c18c1f-3948-4fcd-a630-60e6d9fef0fe",
   "metadata": {
    "tags": []
   },
   "outputs": [],
   "source": [
    "#scale the data:\n",
    "\n",
    "#instantiate the scaler\n",
    "scaler = StandardScaler()\n",
    "\n",
    "#fit scaler to train data\n",
    "scaler.fit(X_train_full)\n",
    "\n",
    "#transform train and test dataframes\n",
    "X_train_scaled = scaler.transform(X_train)\n",
    "X_val_scaled = scaler.transform(X_val)\n",
    "X_train_full_scaled = scaler.transform(X_train_full)\n",
    "X_test_scaled = scaler.transform(X_test)"
   ]
  },
  {
   "cell_type": "code",
   "execution_count": 476,
   "id": "129fbaab-36dc-4a94-9e06-5d2dae102607",
   "metadata": {
    "tags": []
   },
   "outputs": [],
   "source": [
    "#convert X_train scaled to a df\n",
    "\n",
    "X_train_scaled_df = pd.DataFrame(X_train_scaled, columns=X_train.columns).set_index(X_train.index)\n",
    "X_test_scaled_df = pd.DataFrame(X_test_scaled, columns=X_test.columns).set_index(X_test.index)\n",
    "X_train_full_scaled_df = pd.DataFrame(X_train_full_scaled, columns=X_train_full.columns).set_index(X_train_full.index)\n",
    "X_val_scaled_df = pd.DataFrame(X_val_scaled, columns=X_val.columns).set_index(X_val.index)"
   ]
  },
  {
   "cell_type": "code",
   "execution_count": 477,
   "id": "595a284f-2137-4efc-8657-6e73254de68b",
   "metadata": {
    "tags": []
   },
   "outputs": [
    {
     "name": "stdout",
     "output_type": "stream",
     "text": [
      "Optimization terminated successfully.\n",
      "         Current function value: 1.118257\n",
      "         Iterations 8\n",
      "                          MNLogit Regression Results                          \n",
      "==============================================================================\n",
      "Dep. Variable:     Year Group Encoded   No. Observations:                16492\n",
      "Model:                        MNLogit   Df Residuals:                    16468\n",
      "Method:                           MLE   Df Model:                           21\n",
      "Date:                Wed, 22 Nov 2023   Pseudo R-squ.:                  0.1578\n",
      "Time:                        16:30:58   Log-Likelihood:                -18442.\n",
      "converged:                       True   LL-Null:                       -21897.\n",
      "Covariance Type:            nonrobust   LLR p-value:                     0.000\n",
      "=============================================================================================\n",
      "     Year Group Encoded=2       coef    std err          z      P>|z|      [0.025      0.975]\n",
      "---------------------------------------------------------------------------------------------\n",
      "const                         0.1556      0.022      7.062      0.000       0.112       0.199\n",
      "Age at Sequencing            -5.1427      0.323    -15.916      0.000      -5.776      -4.509\n",
      "Age at Surgical Procedure    -2.4268      0.261     -9.300      0.000      -2.938      -1.915\n",
      "Metastatic patient            0.0348      0.024      1.444      0.149      -0.012       0.082\n",
      "Met Count                     0.9155      0.075     12.225      0.000       0.769       1.062\n",
      "Met Site Count               -0.6974      0.071     -9.840      0.000      -0.836      -0.559\n",
      "Sample coverage              -0.1515      0.022     -6.867      0.000      -0.195      -0.108\n",
      "Average Age                   7.5363      0.469     16.053      0.000       6.616       8.456\n",
      "---------------------------------------------------------------------------------------------\n",
      "     Year Group Encoded=3       coef    std err          z      P>|z|      [0.025      0.975]\n",
      "---------------------------------------------------------------------------------------------\n",
      "const                        -0.0728      0.024     -3.057      0.002      -0.119      -0.026\n",
      "Age at Sequencing           -19.4271      0.483    -40.258      0.000     -20.373     -18.481\n",
      "Age at Surgical Procedure   -12.1171      0.338    -35.872      0.000     -12.779     -11.455\n",
      "Metastatic patient            0.1313      0.026      4.986      0.000       0.080       0.183\n",
      "Met Count                     1.5737      0.083     18.891      0.000       1.410       1.737\n",
      "Met Site Count               -1.1839      0.080    -14.791      0.000      -1.341      -1.027\n",
      "Sample coverage               0.0592      0.024      2.432      0.015       0.011       0.107\n",
      "Average Age                  31.3400      0.706     44.381      0.000      29.956      32.724\n",
      "---------------------------------------------------------------------------------------------\n",
      "     Year Group Encoded=4       coef    std err          z      P>|z|      [0.025      0.975]\n",
      "---------------------------------------------------------------------------------------------\n",
      "const                        -2.0061      0.049    -40.748      0.000      -2.103      -1.910\n",
      "Age at Sequencing           -34.7121      0.713    -48.666      0.000     -36.110     -33.314\n",
      "Age at Surgical Procedure   -22.3057      0.453    -49.232      0.000     -23.194     -21.418\n",
      "Metastatic patient            0.3648      0.039      9.421      0.000       0.289       0.441\n",
      "Met Count                     2.5941      0.109     23.794      0.000       2.380       2.808\n",
      "Met Site Count               -2.0577      0.115    -17.939      0.000      -2.283      -1.833\n",
      "Sample coverage               0.3596      0.035     10.375      0.000       0.292       0.428\n",
      "Average Age                  56.6182      1.033     54.785      0.000      54.593      58.644\n",
      "=============================================================================================\n"
     ]
    }
   ],
   "source": [
    "\n",
    "# Add a constant to the X\n",
    "X_train_with_const = sm.add_constant(X_train_scaled_df)\n",
    "\n",
    "# Fit the multinomial logistic regression model\n",
    "mnlogit_model = sm.MNLogit(y_train, X_train_with_const)\n",
    "mnlogit_result = mnlogit_model.fit()\n",
    "\n",
    "# Get the summary of the regression\n",
    "print(mnlogit_result.summary())"
   ]
  },
  {
   "cell_type": "code",
   "execution_count": 478,
   "id": "b16b9f06-c1aa-43ba-9854-d584baac8d50",
   "metadata": {
    "tags": []
   },
   "outputs": [],
   "source": [
    "df.drop(columns='Metastatic patient', inplace=True)\n"
   ]
  },
  {
   "cell_type": "code",
   "execution_count": 479,
   "id": "1baee53c-9f0b-4e5c-a605-c917ad396f37",
   "metadata": {
    "tags": []
   },
   "outputs": [
    {
     "name": "stdout",
     "output_type": "stream",
     "text": [
      "Shape of: X_train_full:(20616, 6), X_train:(16492, 6), X_val:(4124, 6), X_test:(5155, 6)\n",
      "Shape of: y_train_full:(20616,), y_train:(16492,), y_val:(4124,), y_test:(5155,)\n"
     ]
    }
   ],
   "source": [
    "# train test split\n",
    "\n",
    "#set X and y:\n",
    "\n",
    "X = df.drop(columns=['Year Group Encoded'])\n",
    "y = df['Year Group Encoded']\n",
    "\n",
    "# train/test split\n",
    "X_train_full, X_test, y_train_full, y_test = train_test_split(X, y, test_size=0.2, random_state=42, stratify=y)\n",
    "\n",
    "#split off a validation set for hyperparameter tuning from X_train_full and y_train_full\n",
    "X_train, X_val, y_train, y_val = train_test_split(X_train_full, y_train_full, test_size=0.2, random_state=42, stratify=y_train_full)\n",
    "\n",
    "#sanity check to make sure all shapes match\n",
    "print(f'Shape of: X_train_full:{X_train_full.shape}, X_train:{X_train.shape}, X_val:{X_val.shape}, X_test:{X_test.shape}')\n",
    "\n",
    "#sanity check to make sure all shapes match\n",
    "print(f'Shape of: y_train_full:{y_train_full.shape}, y_train:{y_train.shape}, y_val:{y_val.shape}, y_test:{y_test.shape}')"
   ]
  },
  {
   "cell_type": "code",
   "execution_count": 480,
   "id": "eb969926-5b8b-41f6-9125-ab64e4736c4a",
   "metadata": {
    "tags": []
   },
   "outputs": [],
   "source": [
    "#scale the data:\n",
    "\n",
    "#instantiate the scaler\n",
    "scaler = StandardScaler()\n",
    "\n",
    "#fit scaler to train data\n",
    "scaler.fit(X_train_full)\n",
    "\n",
    "#transform train and test dataframes\n",
    "X_train_scaled = scaler.transform(X_train)\n",
    "X_val_scaled = scaler.transform(X_val)\n",
    "X_train_full_scaled = scaler.transform(X_train_full)\n",
    "X_test_scaled = scaler.transform(X_test)"
   ]
  },
  {
   "cell_type": "code",
   "execution_count": 481,
   "id": "face10a7-b597-413c-8f5b-04faa1b514b7",
   "metadata": {
    "tags": []
   },
   "outputs": [],
   "source": [
    "#convert X_train scaled to a df\n",
    "\n",
    "X_train_scaled_df = pd.DataFrame(X_train_scaled, columns=X_train.columns).set_index(X_train.index)\n",
    "X_test_scaled_df = pd.DataFrame(X_test_scaled, columns=X_test.columns).set_index(X_test.index)\n",
    "X_train_full_scaled_df = pd.DataFrame(X_train_full_scaled, columns=X_train_full.columns).set_index(X_train_full.index)\n",
    "X_val_scaled_df = pd.DataFrame(X_val_scaled, columns=X_val.columns).set_index(X_val.index)"
   ]
  },
  {
   "cell_type": "code",
   "execution_count": 482,
   "id": "b1c55ac9-b899-4644-99f3-2eb4fc40e5f9",
   "metadata": {
    "tags": []
   },
   "outputs": [
    {
     "name": "stdout",
     "output_type": "stream",
     "text": [
      "Optimization terminated successfully.\n",
      "         Current function value: 1.121227\n",
      "         Iterations 8\n",
      "                          MNLogit Regression Results                          \n",
      "==============================================================================\n",
      "Dep. Variable:     Year Group Encoded   No. Observations:                16492\n",
      "Model:                        MNLogit   Df Residuals:                    16471\n",
      "Method:                           MLE   Df Model:                           18\n",
      "Date:                Wed, 22 Nov 2023   Pseudo R-squ.:                  0.1555\n",
      "Time:                        16:30:59   Log-Likelihood:                -18491.\n",
      "converged:                       True   LL-Null:                       -21897.\n",
      "Covariance Type:            nonrobust   LLR p-value:                     0.000\n",
      "=============================================================================================\n",
      "     Year Group Encoded=2       coef    std err          z      P>|z|      [0.025      0.975]\n",
      "---------------------------------------------------------------------------------------------\n",
      "const                         0.1543      0.022      7.010      0.000       0.111       0.197\n",
      "Age at Sequencing            -5.1021      0.322    -15.864      0.000      -5.732      -4.472\n",
      "Age at Surgical Procedure    -2.4084      0.261     -9.238      0.000      -2.919      -1.897\n",
      "Met Count                     0.9033      0.074     12.145      0.000       0.758       1.049\n",
      "Met Site Count               -0.6682      0.068     -9.808      0.000      -0.802      -0.535\n",
      "Sample coverage              -0.1497      0.022     -6.799      0.000      -0.193      -0.107\n",
      "Average Age                   7.4786      0.467     16.007      0.000       6.563       8.394\n",
      "---------------------------------------------------------------------------------------------\n",
      "     Year Group Encoded=3       coef    std err          z      P>|z|      [0.025      0.975]\n",
      "---------------------------------------------------------------------------------------------\n",
      "const                        -0.0734      0.024     -3.087      0.002      -0.120      -0.027\n",
      "Age at Sequencing           -19.2090      0.480    -40.024      0.000     -20.150     -18.268\n",
      "Age at Surgical Procedure   -12.0056      0.337    -35.652      0.000     -12.666     -11.346\n",
      "Met Count                     1.5273      0.083     18.503      0.000       1.366       1.689\n",
      "Met Site Count               -1.0753      0.077    -14.037      0.000      -1.225      -0.925\n",
      "Sample coverage               0.0642      0.024      2.641      0.008       0.017       0.112\n",
      "Average Age                  31.0171      0.702     44.195      0.000      29.642      32.393\n",
      "---------------------------------------------------------------------------------------------\n",
      "     Year Group Encoded=4       coef    std err          z      P>|z|      [0.025      0.975]\n",
      "---------------------------------------------------------------------------------------------\n",
      "const                        -1.9756      0.049    -40.654      0.000      -2.071      -1.880\n",
      "Age at Sequencing           -34.0806      0.704    -48.427      0.000     -35.460     -32.701\n",
      "Age at Surgical Procedure   -21.9936      0.448    -49.078      0.000     -22.872     -21.115\n",
      "Met Count                     2.4582      0.107     23.002      0.000       2.249       2.668\n",
      "Met Site Count               -1.7391      0.107    -16.190      0.000      -1.950      -1.529\n",
      "Sample coverage               0.3611      0.035     10.439      0.000       0.293       0.429\n",
      "Average Age                  55.6886      1.019     54.630      0.000      53.691      57.687\n",
      "=============================================================================================\n"
     ]
    }
   ],
   "source": [
    "\n",
    "# Add a constant to the X\n",
    "X_train_with_const = sm.add_constant(X_train_scaled_df)\n",
    "\n",
    "# Fit the multinomial logistic regression model\n",
    "mnlogit_model = sm.MNLogit(y_train, X_train_with_const)\n",
    "mnlogit_result = mnlogit_model.fit()\n",
    "\n",
    "# Get the summary of the regression\n",
    "print(mnlogit_result.summary())"
   ]
  },
  {
   "cell_type": "markdown",
   "id": "88750caa-e336-4c42-9086-af091b0925f8",
   "metadata": {},
   "source": [
    "### Logistic Regression"
   ]
  },
  {
   "cell_type": "code",
   "execution_count": 483,
   "id": "6b1af063-087a-4978-a68f-4824288b32b3",
   "metadata": {
    "tags": []
   },
   "outputs": [
    {
     "name": "stdout",
     "output_type": "stream",
     "text": [
      "Logistic Regression Metrics:\n",
      "Accuracy: 0.5761396702230844\n",
      "Precision: 0.5843759171981588\n",
      "Recall: 0.5761396702230844\n",
      "F1 Score: 0.5664231286266896\n",
      "Confusion Matrix:\n",
      "[[862 333  52   5]\n",
      " [436 627 193  14]\n",
      " [133 206 759  31]\n",
      " [ 41  21 283 128]]\n",
      "Classification Report:\n",
      "              precision    recall  f1-score   support\n",
      "\n",
      "           1       0.59      0.69      0.63      1252\n",
      "           2       0.53      0.49      0.51      1270\n",
      "           3       0.59      0.67      0.63      1129\n",
      "           4       0.72      0.27      0.39       473\n",
      "\n",
      "    accuracy                           0.58      4124\n",
      "   macro avg       0.61      0.53      0.54      4124\n",
      "weighted avg       0.58      0.58      0.57      4124\n",
      "\n"
     ]
    }
   ],
   "source": [
    "# Initialize the model\n",
    "log_reg = LogisticRegression(random_state=42)\n",
    "\n",
    "# Train the model\n",
    "log_reg.fit(X_train_scaled, y_train)\n",
    "\n",
    "# Make predictions\n",
    "preds = log_reg.predict(X_val_scaled)\n",
    "\n",
    "# Compute metrics\n",
    "accuracy_lg = accuracy_score(y_val, preds)\n",
    "precision_lg = precision_score(y_val, preds, average='weighted')\n",
    "recall_lg = recall_score(y_val, preds, average='weighted')\n",
    "f1_lg = f1_score(y_val, preds, average='weighted')\n",
    "conf_mat_lg = confusion_matrix(y_val, preds)\n",
    "clf_report_lg = classification_report(y_val, preds)\n",
    "\n",
    "# Print metrics\n",
    "print(\"Logistic Regression Metrics:\")\n",
    "print(f\"Accuracy: {accuracy_lg}\")\n",
    "print(f\"Precision: {precision_lg}\")\n",
    "print(f\"Recall: {recall_lg}\")\n",
    "print(f\"F1 Score: {f1_lg}\")\n",
    "print(\"Confusion Matrix:\")\n",
    "print(conf_mat_lg)\n",
    "print(\"Classification Report:\")\n",
    "print(clf_report_lg)"
   ]
  },
  {
   "cell_type": "markdown",
   "id": "d2af4ed4-b12b-422b-8b4d-b72a86c93f3d",
   "metadata": {},
   "source": [
    "### KNN "
   ]
  },
  {
   "cell_type": "code",
   "execution_count": null,
   "id": "5d189c88-48e0-4f2a-b17f-2f77db938be4",
   "metadata": {},
   "outputs": [],
   "source": []
  },
  {
   "cell_type": "markdown",
   "id": "dc11e253-d928-42ae-b635-4823bfe6edc5",
   "metadata": {},
   "source": [
    "### Decision Tree Classifier"
   ]
  },
  {
   "cell_type": "code",
   "execution_count": 484,
   "id": "0bb14328-89c9-4af1-bf8b-fb753d7cc412",
   "metadata": {
    "tags": []
   },
   "outputs": [
    {
     "name": "stdout",
     "output_type": "stream",
     "text": [
      "Decision Tree Metrics:\n",
      "Accuracy: 0.3957322987390883\n",
      "Precision: 0.39421127587582\n",
      "Recall: 0.3957322987390883\n",
      "F1 Score: 0.3946680249389642\n",
      "Confusion Matrix:\n",
      "[[534 405 236  77]\n",
      " [364 537 288  81]\n",
      " [226 311 450 142]\n",
      " [ 92 101 169 111]]\n",
      "Classification Report:\n",
      "              precision    recall  f1-score   support\n",
      "\n",
      "           1       0.44      0.43      0.43      1252\n",
      "           2       0.40      0.42      0.41      1270\n",
      "           3       0.39      0.40      0.40      1129\n",
      "           4       0.27      0.23      0.25       473\n",
      "\n",
      "    accuracy                           0.40      4124\n",
      "   macro avg       0.37      0.37      0.37      4124\n",
      "weighted avg       0.39      0.40      0.39      4124\n",
      "\n"
     ]
    }
   ],
   "source": [
    "# Initialize the model\n",
    "dec_tree = DecisionTreeClassifier(random_state=42)\n",
    "\n",
    "# Train the model\n",
    "dec_tree.fit(X_train, y_train)\n",
    "\n",
    "# Make predictions\n",
    "preds = dec_tree.predict(X_val)\n",
    "\n",
    "# Compute metrics\n",
    "accuracy_dt = accuracy_score(y_val, preds)\n",
    "precision_dt = precision_score(y_val, preds, average='weighted')\n",
    "recall_dt = recall_score(y_val, preds, average='weighted')\n",
    "f1_dt = f1_score(y_val, preds, average='weighted')\n",
    "conf_mat_dt = confusion_matrix(y_val, preds)\n",
    "clf_report_dt = classification_report(y_val, preds)\n",
    "\n",
    "# Print metrics\n",
    "print(\"Decision Tree Metrics:\")\n",
    "print(f\"Accuracy: {accuracy_dt}\")\n",
    "print(f\"Precision: {precision_dt}\")\n",
    "print(f\"Recall: {recall_dt}\")\n",
    "print(f\"F1 Score: {f1_dt}\")\n",
    "print(\"Confusion Matrix:\")\n",
    "print(conf_mat_dt)\n",
    "print(\"Classification Report:\")\n",
    "print(clf_report_dt)"
   ]
  },
  {
   "cell_type": "markdown",
   "id": "e8d4cb8a-13f9-4f2a-b930-dbda9082d0ab",
   "metadata": {},
   "source": [
    "### XG Boost"
   ]
  },
  {
   "cell_type": "code",
   "execution_count": 485,
   "id": "409bbf38-0171-402b-b4cb-9ff77e777c8a",
   "metadata": {
    "tags": []
   },
   "outputs": [
    {
     "name": "stdout",
     "output_type": "stream",
     "text": [
      "XGBoost Metrics:\n",
      "Accuracy: 0.549466537342386\n",
      "Precision: 0.5516930733443205\n",
      "Recall: 0.549466537342386\n",
      "F1 Score: 0.5450124812739251\n",
      "Confusion Matrix:\n",
      "[[863 320  55  14]\n",
      " [404 653 198  15]\n",
      " [153 314 584  78]\n",
      " [ 50  55 202 166]]\n",
      "Classification Report:\n",
      "              precision    recall  f1-score   support\n",
      "\n",
      "           0       0.59      0.69      0.63      1252\n",
      "           1       0.49      0.51      0.50      1270\n",
      "           2       0.56      0.52      0.54      1129\n",
      "           3       0.61      0.35      0.45       473\n",
      "\n",
      "    accuracy                           0.55      4124\n",
      "   macro avg       0.56      0.52      0.53      4124\n",
      "weighted avg       0.55      0.55      0.55      4124\n",
      "\n"
     ]
    }
   ],
   "source": [
    "y_train_adjusted = y_train - 1\n",
    "y_val_adjusted = y_val - 1\n",
    "\n",
    "# Initialize the model\n",
    "xgb = XGBClassifier(random_state=42, eval_metric='auc')\n",
    "\n",
    "# Train the model\n",
    "xgb.fit(X_train, y_train_adjusted)\n",
    "\n",
    "# Make predictions\n",
    "preds = xgb.predict(X_val)\n",
    "\n",
    "# Compute metrics\n",
    "accuracy_xgb = accuracy_score(y_val_adjusted, preds)\n",
    "precision_xgb = precision_score(y_val_adjusted, preds, average='weighted')\n",
    "recall_xgb = recall_score(y_val_adjusted, preds, average='weighted')\n",
    "f1_xgb = f1_score(y_val_adjusted, preds, average='weighted')\n",
    "conf_mat_xgb = confusion_matrix(y_val_adjusted, preds)\n",
    "clf_report_xgb = classification_report(y_val_adjusted, preds)\n",
    "\n",
    "# Print metrics\n",
    "print(\"XGBoost Metrics:\")\n",
    "print(f\"Accuracy: {accuracy_xgb}\")\n",
    "print(f\"Precision: {precision_xgb}\")\n",
    "print(f\"Recall: {recall_xgb}\")\n",
    "print(f\"F1 Score: {f1_xgb}\")\n",
    "print(\"Confusion Matrix:\")\n",
    "print(conf_mat_xgb)\n",
    "print(\"Classification Report:\")\n",
    "print(clf_report_xgb)"
   ]
  },
  {
   "cell_type": "markdown",
   "id": "ff9c0997-cd56-4556-93fe-b4be26d5a00a",
   "metadata": {},
   "source": [
    "Use SMOTE:"
   ]
  },
  {
   "cell_type": "code",
   "execution_count": 486,
   "id": "c04a771d-a059-4d91-8ea1-956b6e20e1e7",
   "metadata": {},
   "outputs": [],
   "source": [
    "from imblearn.over_sampling import SMOTE\n",
    "from imblearn.under_sampling import RandomUnderSampler\n",
    "from imblearn.pipeline import Pipeline\n"
   ]
  },
  {
   "cell_type": "code",
   "execution_count": 487,
   "id": "08fc79fe-31a1-40ba-b697-57b9e6cd5854",
   "metadata": {},
   "outputs": [],
   "source": [
    "#apply smote to the training set\n",
    "\n",
    "# Initialize SMOTE\n",
    "smote = SMOTE(random_state=42)\n",
    "\n",
    "X_train_full_sm, y_train_full_sm = smote.fit_resample(X_train_full, y_train_full)"
   ]
  },
  {
   "cell_type": "code",
   "execution_count": 488,
   "id": "77a1cb3f-fb92-40fb-a2ed-38ba2ab2ba05",
   "metadata": {
    "tags": []
   },
   "outputs": [
    {
     "name": "stdout",
     "output_type": "stream",
     "text": [
      "Original class distribution\n"
     ]
    },
    {
     "data": {
      "text/plain": [
       "Year Group Encoded\n",
       "1    6259\n",
       "2    6350\n",
       "3    5641\n",
       "4    2366\n",
       "Name: count, dtype: int64"
      ]
     },
     "metadata": {},
     "output_type": "display_data"
    },
    {
     "name": "stdout",
     "output_type": "stream",
     "text": [
      "\n",
      "Resampled class distribution\n"
     ]
    },
    {
     "data": {
      "text/plain": [
       "Year Group Encoded\n",
       "1    6350\n",
       "2    6350\n",
       "3    6350\n",
       "4    6350\n",
       "Name: count, dtype: int64"
      ]
     },
     "metadata": {},
     "output_type": "display_data"
    }
   ],
   "source": [
    "#see what smote has done\n",
    "print('Original class distribution')\n",
    "display(pd.Series(y_train_full).value_counts().sort_index())\n",
    "\n",
    "print('\\nResampled class distribution')\n",
    "display(pd.Series(y_train_full_sm).value_counts().sort_index())"
   ]
  },
  {
   "cell_type": "code",
   "execution_count": 489,
   "id": "47f2541c-bff0-4314-a208-97d3c3413cc7",
   "metadata": {
    "tags": []
   },
   "outputs": [],
   "source": [
    "#split off a validation set for hyperparameter tuning from X_train_full_sm and y_train_full_sm\n",
    "X_train_sm, X_val_sm, y_train_sm, y_val_sm = train_test_split(X_train_full_sm, y_train_full_sm, test_size=0.2, random_state=42, stratify=y_train_full_sm)"
   ]
  },
  {
   "cell_type": "code",
   "execution_count": 490,
   "id": "5deedc70-ccb5-470d-8701-d1ba9ff5cdd2",
   "metadata": {
    "tags": []
   },
   "outputs": [],
   "source": [
    "#instantiate the scaler\n",
    "scaler = StandardScaler()\n",
    "\n",
    "#fit scaler to train data\n",
    "scaler.fit(X_train_full_sm)\n",
    "\n",
    "#transform train and test dataframes\n",
    "X_train_scaled_sm = scaler.transform(X_train_sm)\n",
    "X_val_scaled_sm = scaler.transform(X_val_sm)\n",
    "X_train_full_scaled_sm = scaler.transform(X_train_full_sm)\n",
    "X_test_scaled_sm = scaler.transform(X_test)"
   ]
  },
  {
   "cell_type": "code",
   "execution_count": 491,
   "id": "402455bc-9251-47d7-a384-843d8db723ff",
   "metadata": {
    "tags": []
   },
   "outputs": [
    {
     "name": "stdout",
     "output_type": "stream",
     "text": [
      "Logistic Regression Metrics:\n",
      "Accuracy: 0.572244094488189\n",
      "Precision: 0.5617982765585173\n",
      "Recall: 0.572244094488189\n",
      "F1 Score: 0.5592010756547721\n",
      "Confusion Matrix:\n",
      "[[ 897  289   48   36]\n",
      " [ 442  517  243   68]\n",
      " [ 144  197  484  445]\n",
      " [  81   52  128 1009]]\n",
      "Classification Report:\n",
      "              precision    recall  f1-score   support\n",
      "\n",
      "           1       0.57      0.71      0.63      1270\n",
      "           2       0.49      0.41      0.44      1270\n",
      "           3       0.54      0.38      0.45      1270\n",
      "           4       0.65      0.79      0.71      1270\n",
      "\n",
      "    accuracy                           0.57      5080\n",
      "   macro avg       0.56      0.57      0.56      5080\n",
      "weighted avg       0.56      0.57      0.56      5080\n",
      "\n"
     ]
    }
   ],
   "source": [
    "# Initialize the model\n",
    "log_reg = LogisticRegression(random_state=42)\n",
    "\n",
    "# Train the model\n",
    "log_reg.fit(X_train_scaled_sm, y_train_sm)\n",
    "\n",
    "# Make predictions\n",
    "preds = log_reg.predict(X_val_scaled_sm)\n",
    "\n",
    "# Compute metrics\n",
    "accuracy_lg = accuracy_score(y_val_sm, preds)\n",
    "precision_lg = precision_score(y_val_sm, preds, average='weighted')\n",
    "recall_lg = recall_score(y_val_sm, preds, average='weighted')\n",
    "f1_lg = f1_score(y_val_sm, preds, average='weighted')\n",
    "conf_mat_lg = confusion_matrix(y_val_sm, preds)\n",
    "clf_report_lg = classification_report(y_val_sm, preds)\n",
    "\n",
    "# Print metrics\n",
    "print(\"Logistic Regression Metrics:\")\n",
    "print(f\"Accuracy: {accuracy_lg}\")\n",
    "print(f\"Precision: {precision_lg}\")\n",
    "print(f\"Recall: {recall_lg}\")\n",
    "print(f\"F1 Score: {f1_lg}\")\n",
    "print(\"Confusion Matrix:\")\n",
    "print(conf_mat_lg)\n",
    "print(\"Classification Report:\")\n",
    "print(clf_report_lg)"
   ]
  },
  {
   "cell_type": "code",
   "execution_count": 636,
   "id": "87a4c69c-a072-4ac3-8bfc-32fe57e46b27",
   "metadata": {
    "tags": []
   },
   "outputs": [
    {
     "data": {
      "image/png": "[encoded data removed]",
      "text/plain": [
       "<Figure size 640x480 with 1 Axes>"
      ]
     },
     "metadata": {},
     "output_type": "display_data"
    }
   ],
   "source": [
    "from sklearn.metrics import roc_curve, roc_auc_score, auc\n",
    "from sklearn.preprocessing import label_binarize\n",
    "import matplotlib.pyplot as plt\n",
    "import numpy as np\n",
    "\n",
    "# Binarize the output\n",
    "y_test_binarized = label_binarize(y_test, classes=np.unique(y_test))\n",
    "n_classes = y_test_binarized.shape[1]\n",
    "\n",
    "y_probs = log_reg.predict_proba(X_test_scaled_sm)\n",
    "\n",
    "# Compute ROC curve and ROC area for each class\n",
    "fpr = dict()\n",
    "tpr = dict()\n",
    "roc_auc = dict()\n",
    "\n",
    "for i in range(n_classes):\n",
    "    fpr[i], tpr[i], _ = roc_curve(y_test_binarized[:, i], y_probs[:, i])\n",
    "    roc_auc[i] = auc(fpr[i], tpr[i])\n",
    "\n",
    "# Plot all ROC curves\n",
    "plt.figure()\n",
    "\n",
    "for i in range(n_classes):\n",
    "    plt.plot(fpr[i], tpr[i], label=f'ROC curve of class {i+1} (AUC = {roc_auc[i]:.5f})')\n",
    "\n",
    "plt.plot([0, 1], [0, 1], 'k--', label='No Distinguishing Line')\n",
    "plt.xlim([0.0, 1.0])\n",
    "plt.ylim([0.0, 1.05])\n",
    "plt.xlabel('False Positive Rate')\n",
    "plt.ylabel('True Positive Rate')\n",
    "plt.title('Multiclass ROC Curve')\n",
    "plt.legend(loc=\"lower right\")\n",
    "plt.savefig('ROC pre_Tuned Log', dpi=300)\n",
    "plt.show()"
   ]
  },
  {
   "cell_type": "code",
   "execution_count": 493,
   "id": "cc74d1a8-ffc0-4865-bd3c-217c7d6462f9",
   "metadata": {
    "tags": []
   },
   "outputs": [
    {
     "name": "stdout",
     "output_type": "stream",
     "text": [
      "Original class distribution\n"
     ]
    },
    {
     "data": {
      "text/plain": [
       "Year Group Encoded\n",
       "1    6259\n",
       "2    6350\n",
       "3    5641\n",
       "4    2366\n",
       "Name: count, dtype: int64"
      ]
     },
     "metadata": {},
     "output_type": "display_data"
    },
    {
     "name": "stdout",
     "output_type": "stream",
     "text": [
      "\n",
      "Resampled class distribution\n"
     ]
    },
    {
     "data": {
      "text/plain": [
       "Year Group Encoded\n",
       "1    6350\n",
       "2    6350\n",
       "3    6350\n",
       "4    6350\n",
       "Name: count, dtype: int64"
      ]
     },
     "metadata": {},
     "output_type": "display_data"
    }
   ],
   "source": [
    "smote = SMOTE(sampling_strategy='auto', random_state=42)\n",
    "\n",
    "# Define undersampling strategy (to downsample the majority classes)\n",
    "under = RandomUnderSampler(sampling_strategy='auto', random_state=42)\n",
    "\n",
    "# Create a pipeline\n",
    "pipeline = Pipeline(steps=[('o', smote), ('u', under)])\n",
    "\n",
    "# Transform the dataset\n",
    "X_train_full_resampled, y_train_full_resampled = pipeline.fit_resample(X_train_full, y_train_full)\n",
    "\n",
    "# Check the new class distribution vs the old\n",
    "#see what smote has done\n",
    "print('Original class distribution')\n",
    "display(pd.Series(y_train_full).value_counts().sort_index())\n",
    "\n",
    "print('\\nResampled class distribution')\n",
    "display(pd.Series(y_train_full_resampled).value_counts().sort_index())\n"
   ]
  },
  {
   "cell_type": "code",
   "execution_count": 494,
   "id": "9e0f4932-4a53-4a4b-a3fc-2d0f9232c77b",
   "metadata": {
    "tags": []
   },
   "outputs": [],
   "source": [
    "#split off a validation set for hyperparameter tuning from X_train_full_sm and y_train_full_sm\n",
    "X_train_resampled, X_val_resampled, y_train_resampled, y_val_resampled = train_test_split(X_train_full_resampled, y_train_full_resampled, test_size=0.2, random_state=42, stratify=y_train_full_resampled)"
   ]
  },
  {
   "cell_type": "code",
   "execution_count": 495,
   "id": "1e53538b-3c6a-410b-bf65-c984a25568cb",
   "metadata": {
    "tags": []
   },
   "outputs": [],
   "source": [
    "#instantiate the scaler\n",
    "scaler = StandardScaler()\n",
    "\n",
    "#fit scaler to train data\n",
    "scaler.fit(X_train_full_resampled)\n",
    "\n",
    "#transform train and test dataframes\n",
    "X_train_scaled_resampled = scaler.transform(X_train_resampled)\n",
    "X_val_scaled_resampled = scaler.transform(X_val_resampled)\n",
    "X_train_full_scaled_resampled = scaler.transform(X_train_full_resampled)\n",
    "X_test_scaled_resampled = scaler.transform(X_test)"
   ]
  },
  {
   "cell_type": "code",
   "execution_count": 496,
   "id": "91c0bb85-a82c-40b4-9a07-011130722877",
   "metadata": {
    "tags": []
   },
   "outputs": [
    {
     "name": "stdout",
     "output_type": "stream",
     "text": [
      "Logistic Regression Metrics:\n",
      "Accuracy: 0.5712598425196851\n",
      "Precision: 0.5618187831544065\n",
      "Recall: 0.5712598425196851\n",
      "F1 Score: 0.5593325953595994\n",
      "Confusion Matrix:\n",
      "[[885 299  53  33]\n",
      " [444 497 250  79]\n",
      " [156 160 521 433]\n",
      " [ 83  53 135 999]]\n",
      "Classification Report:\n",
      "              precision    recall  f1-score   support\n",
      "\n",
      "           1       0.56      0.70      0.62      1270\n",
      "           2       0.49      0.39      0.44      1270\n",
      "           3       0.54      0.41      0.47      1270\n",
      "           4       0.65      0.79      0.71      1270\n",
      "\n",
      "    accuracy                           0.57      5080\n",
      "   macro avg       0.56      0.57      0.56      5080\n",
      "weighted avg       0.56      0.57      0.56      5080\n",
      "\n"
     ]
    }
   ],
   "source": [
    "# Initialize the model\n",
    "log_reg_2 = LogisticRegression(random_state=42)\n",
    "\n",
    "# Train the model\n",
    "log_reg_2.fit(X_train_scaled_resampled, y_train_resampled)\n",
    "\n",
    "# Make predictions\n",
    "preds = log_reg_2.predict(X_val_scaled_resampled)\n",
    "\n",
    "# Compute metrics\n",
    "accuracy_lg = accuracy_score(y_val_resampled, preds)\n",
    "precision_lg = precision_score(y_val_resampled, preds, average='weighted')\n",
    "recall_lg = recall_score(y_val_resampled, preds, average='weighted')\n",
    "f1_lg = f1_score(y_val_resampled, preds, average='weighted')\n",
    "conf_mat_lg = confusion_matrix(y_val_resampled, preds)\n",
    "clf_report_lg = classification_report(y_val_resampled, preds)\n",
    "\n",
    "# Print metrics\n",
    "print(\"Logistic Regression Metrics:\")\n",
    "print(f\"Accuracy: {accuracy_lg}\")\n",
    "print(f\"Precision: {precision_lg}\")\n",
    "print(f\"Recall: {recall_lg}\")\n",
    "print(f\"F1 Score: {f1_lg}\")\n",
    "print(\"Confusion Matrix:\")\n",
    "print(conf_mat_lg)\n",
    "print(\"Classification Report:\")\n",
    "print(clf_report_lg)"
   ]
  },
  {
   "cell_type": "code",
   "execution_count": 588,
   "id": "74673e47-87f1-4259-9206-95ba3c169982",
   "metadata": {
    "tags": []
   },
   "outputs": [
    {
     "data": {
      "image/png": "[encoded data removed]",
      "text/plain": [
       "<Figure size 640x480 with 1 Axes>"
      ]
     },
     "metadata": {},
     "output_type": "display_data"
    }
   ],
   "source": [
    "# Binarize the output\n",
    "y_test_binarized2 = label_binarize(y_test, classes=np.unique(y_test))\n",
    "n_classes = y_test_binarized2.shape[1]\n",
    "\n",
    "y_probs2 = log_reg_2.predict_proba(X_test_scaled_resampled)\n",
    "\n",
    "# Compute ROC curve and ROC area for each class\n",
    "fpr2 = dict()\n",
    "tpr2 = dict()\n",
    "roc_auc2 = dict()\n",
    "\n",
    "for i in range(n_classes):\n",
    "    fpr2[i], tpr2[i], _ = roc_curve(y_test_binarized2[:, i], y_probs2[:, i])\n",
    "    roc_auc2[i] = auc(fpr2[i], tpr2[i])\n",
    "\n",
    "# Plot all ROC curves\n",
    "plt.figure()\n",
    "\n",
    "for i in range(n_classes):\n",
    "    plt.plot(fpr2[i], tpr2[i], label=f'ROC curve of class {i+1} (AUC = {roc_auc2[i]:.5f})')\n",
    "\n",
    "plt.plot([0, 1], [0, 1], '--', label='No Distinguishing Line')\n",
    "plt.xlim([0.0, 1.0])\n",
    "plt.ylim([0.0, 1.05])\n",
    "plt.xlabel('False Positive Rate')\n",
    "plt.ylabel('True Positive Rate')\n",
    "plt.title('Multiclass ROC Curve')\n",
    "plt.legend(loc=\"lower right\")\n",
    "\n",
    "plt.show()\n"
   ]
  },
  {
   "cell_type": "markdown",
   "id": "c3a3d9c5-9a47-4952-9f4f-c09bea331771",
   "metadata": {},
   "source": [
    "### Random Forest Classifier?"
   ]
  },
  {
   "cell_type": "code",
   "execution_count": null,
   "id": "877b46ec-f890-4947-aa28-ce8cf892542e",
   "metadata": {},
   "outputs": [],
   "source": [
    "# Initialize the model\n",
    "rand_forest = RandomForestClassifier(random_state=42)\n",
    "\n",
    "# Train the model\n",
    "rand_forest.fit(X_train, y_train)\n",
    "\n",
    "# Make predictions\n",
    "preds = rand_forest.predict(X_val)\n",
    "\n",
    "# Compute metrics\n",
    "accuracy_rf = accuracy_score(y_val, preds)\n",
    "precision_rf = precision_score(y_val, preds)\n",
    "recall_rf = recall_score(y_val, preds)\n",
    "f1_rf = f1_score(y_val, preds)\n",
    "conf_mat_rf = confusion_matrix(y_val, preds)\n",
    "clf_report_rf = classification_report(y_val, preds)\n",
    "\n",
    "# Print metrics\n",
    "print(\"Random Forest Metrics:\")\n",
    "print(f\"Accuracy: {accuracy_rf}\")\n",
    "print(f\"Precision: {precision_rf}\")\n",
    "print(f\"Recall: {recall_rf}\")\n",
    "print(f\"F1 Score: {f1_rf}\")\n",
    "print(\"Confusion Matrix:\")\n",
    "print(conf_mat_rf)\n",
    "print(\"Classification Report:\")\n",
    "print(clf_report_rf)"
   ]
  },
  {
   "cell_type": "markdown",
   "id": "a8685c18-038b-4fdd-b06a-faef7ce2c09d",
   "metadata": {},
   "source": [
    "KNN"
   ]
  },
  {
   "cell_type": "code",
   "execution_count": 504,
   "id": "14bd4564-c66d-4cf3-93ed-58ec1c43686f",
   "metadata": {
    "tags": []
   },
   "outputs": [
    {
     "name": "stdout",
     "output_type": "stream",
     "text": [
      "KNN Metrics:\n",
      "Accuracy: 0.38405511811023624\n",
      "Precision: 0.39004126663895383\n",
      "Recall: 0.38405511811023624\n",
      "F1 Score: 0.3845143008061653\n",
      "Confusion Matrix:\n",
      "[[524 405 195 146]\n",
      " [472 424 223 151]\n",
      " [359 347 349 215]\n",
      " [205 188 223 654]]\n",
      "Classification Report:\n",
      "              precision    recall  f1-score   support\n",
      "\n",
      "           1       0.34      0.41      0.37      1270\n",
      "           2       0.31      0.33      0.32      1270\n",
      "           3       0.35      0.27      0.31      1270\n",
      "           4       0.56      0.51      0.54      1270\n",
      "\n",
      "    accuracy                           0.38      5080\n",
      "   macro avg       0.39      0.38      0.38      5080\n",
      "weighted avg       0.39      0.38      0.38      5080\n",
      "\n"
     ]
    }
   ],
   "source": [
    "#import necessary libraries\n",
    "from sklearn.neighbors import KNeighborsClassifier\n",
    "\n",
    "#Instantiate the model & fit it to our data\n",
    "KNN_model = KNeighborsClassifier()\n",
    "KNN_model.fit(X_train_scaled_sm, y_train_sm)\n",
    "\n",
    "# Make predictions\n",
    "preds = KNN_model.predict(X_val_scaled_sm)\n",
    "\n",
    "# Compute metrics\n",
    "accuracy_knn = accuracy_score(y_val_sm, preds)\n",
    "precision_knn = precision_score(y_val_sm, preds, average='weighted')\n",
    "recall_knn = recall_score(y_val_sm, preds, average='weighted')\n",
    "f1_knn = f1_score(y_val_sm, preds, average='weighted')\n",
    "conf_mat_knn = confusion_matrix(y_val_sm, preds)\n",
    "clf_report_knn = classification_report(y_val_sm, preds)\n",
    "\n",
    "# Print metrics\n",
    "print(\"KNN Metrics:\")\n",
    "print(f\"Accuracy: {accuracy_knn}\")\n",
    "print(f\"Precision: {precision_knn}\")\n",
    "print(f\"Recall: {recall_knn}\")\n",
    "print(f\"F1 Score: {f1_knn}\")\n",
    "print(\"Confusion Matrix:\")\n",
    "print(conf_mat_knn)\n",
    "print(\"Classification Report:\")\n",
    "print(clf_report_knn)"
   ]
  },
  {
   "cell_type": "code",
   "execution_count": null,
   "id": "36afcf89-ebd2-4260-a45e-6118c1541b22",
   "metadata": {},
   "outputs": [],
   "source": []
  },
  {
   "cell_type": "code",
   "execution_count": null,
   "id": "b0ae04c1-26d6-401f-9234-ad124092e269",
   "metadata": {},
   "outputs": [],
   "source": []
  },
  {
   "cell_type": "markdown",
   "id": "4d756f3d-d2b6-4395-a7b0-7570644ee0e7",
   "metadata": {},
   "source": [
    "### SVM - OvO or OvA?\n",
    "- see feature_new.ipynb"
   ]
  },
  {
   "cell_type": "code",
   "execution_count": 514,
   "id": "2fdde795-a504-43d0-954a-31410b6b6688",
   "metadata": {},
   "outputs": [
    {
     "name": "stdout",
     "output_type": "stream",
     "text": [
      "OvA Metrics:\n",
      "Accuracy: 0.4561023622047244\n",
      "Precision: 0.45919911617906733\n",
      "Recall: 0.4561023622047244\n",
      "F1 Score: 0.45247088849868766\n",
      "Confusion Matrix:\n",
      "[[485 564 106 115]\n",
      " [289 618 224 139]\n",
      " [167 368 407 328]\n",
      " [ 72 137 254 807]]\n",
      "Classification Report:\n",
      "              precision    recall  f1-score   support\n",
      "\n",
      "           1       0.48      0.38      0.42      1270\n",
      "           2       0.37      0.49      0.42      1270\n",
      "           3       0.41      0.32      0.36      1270\n",
      "           4       0.58      0.64      0.61      1270\n",
      "\n",
      "    accuracy                           0.46      5080\n",
      "   macro avg       0.46      0.46      0.45      5080\n",
      "weighted avg       0.46      0.46      0.45      5080\n",
      "\n"
     ]
    }
   ],
   "source": [
    "#OvR\n",
    "\n",
    "from sklearn.svm import SVC\n",
    "\n",
    "# Define the SVM classifier (One-vs-All strategy is used by default)\n",
    "svm_model_OvA = SVC(random_state=42, decision_function_shape='ovr').fit(X_train_scaled_sm, y_train_sm)\n",
    "\n",
    "\n",
    "# Make predictions\n",
    "preds_OvA = svm_model_OvA.predict(X_val_scaled_sm)\n",
    "\n",
    "# Compute metrics\n",
    "accuracy_OvA = accuracy_score(y_val_sm, preds_OvA)\n",
    "precision_OvA = precision_score(y_val_sm, preds_OvA, average='weighted')\n",
    "recall_OvA = recall_score(y_val_sm, preds_OvA, average='weighted')\n",
    "f1_OvA = f1_score(y_val_sm, preds_OvA, average='weighted')\n",
    "conf_mat_OvA = confusion_matrix(y_val_sm, preds_OvA)\n",
    "clf_report_OvA = classification_report(y_val_sm, preds_OvA)\n",
    "\n",
    "# Print metrics\n",
    "print(\"OvA Metrics:\")\n",
    "print(f\"Accuracy: {accuracy_OvA}\")\n",
    "print(f\"Precision: {precision_OvA}\")\n",
    "print(f\"Recall: {recall_OvA}\")\n",
    "print(f\"F1 Score: {f1_OvA}\")\n",
    "print(\"Confusion Matrix:\")\n",
    "print(conf_mat_OvA)\n",
    "print(\"Classification Report:\")\n",
    "print(clf_report_OvA)\n"
   ]
  },
  {
   "cell_type": "code",
   "execution_count": 515,
   "id": "a9aa6e42-58e7-45e0-97fe-4c65b331f18b",
   "metadata": {
    "tags": []
   },
   "outputs": [
    {
     "name": "stdout",
     "output_type": "stream",
     "text": [
      "OvO Metrics:\n",
      "Accuracy: 0.4549212598425197\n",
      "Precision: 0.4581806233834126\n",
      "Recall: 0.4549212598425197\n",
      "F1 Score: 0.45117039070858844\n",
      "Confusion Matrix:\n",
      "[[468 568 119 115]\n",
      " [273 622 237 138]\n",
      " [160 363 414 333]\n",
      " [ 68 135 260 807]]\n",
      "Classification Report:\n",
      "              precision    recall  f1-score   support\n",
      "\n",
      "           1       0.48      0.37      0.42      1270\n",
      "           2       0.37      0.49      0.42      1270\n",
      "           3       0.40      0.33      0.36      1270\n",
      "           4       0.58      0.64      0.61      1270\n",
      "\n",
      "    accuracy                           0.45      5080\n",
      "   macro avg       0.46      0.45      0.45      5080\n",
      "weighted avg       0.46      0.45      0.45      5080\n",
      "\n"
     ]
    }
   ],
   "source": [
    "#OvO\n",
    "\n",
    "from sklearn.multiclass import OneVsOneClassifier\n",
    "\n",
    "# Define the SVM classifier (One-vs-All strategy is used by default)\n",
    "svm_model_OvO = OneVsOneClassifier(SVC(random_state=42)).fit(X_train_scaled_sm, y_train_sm)\n",
    "\n",
    "# Make predictions\n",
    "preds_OvO = svm_model_OvO.predict(X_val_scaled_sm)\n",
    "\n",
    "# Compute metrics\n",
    "accuracy_OvO = accuracy_score(y_val_sm, preds_OvO)\n",
    "precision_OvO = precision_score(y_val_sm, preds_OvO, average='weighted')\n",
    "recall_OvO = recall_score(y_val_sm, preds_OvO, average='weighted')\n",
    "f1_OvO = f1_score(y_val_sm, preds_OvO, average='weighted')\n",
    "conf_mat_OvO = confusion_matrix(y_val_sm, preds_OvO)\n",
    "clf_report_OvO = classification_report(y_val_sm, preds_OvO)\n",
    "\n",
    "# Print metrics\n",
    "print(\"OvO Metrics:\")\n",
    "print(f\"Accuracy: {accuracy_OvO}\")\n",
    "print(f\"Precision: {precision_OvO}\")\n",
    "print(f\"Recall: {recall_OvO}\")\n",
    "print(f\"F1 Score: {f1_OvO}\")\n",
    "print(\"Confusion Matrix:\")\n",
    "print(conf_mat_OvO)\n",
    "print(\"Classification Report:\")\n",
    "print(clf_report_OvO)\n",
    "\n"
   ]
  },
  {
   "cell_type": "markdown",
   "id": "720cad85-69c0-4c81-b472-7ac4ba628a14",
   "metadata": {},
   "source": [
    "## Summary of Baseline models:"
   ]
  },
  {
   "cell_type": "code",
   "execution_count": null,
   "id": "dd3c2331-2564-435c-b856-2ec1c939c0b4",
   "metadata": {},
   "outputs": [],
   "source": [
    "# Create an empty DataFrame to store the metrics\n",
    "metrics_df = pd.DataFrame(columns=['Accuracy', 'Precision', 'Recall', 'F1 Score'])\n",
    "\n",
    "# Add the metrics for the baseline models\n",
    "metrics_df.loc['Logistic Regression'] = [accuracy_lg, precision_lg, recall_lg, f1_lg]\n",
    "#metrics_df.loc['SVM'] = [accuracy_svm, precision_svm, recall_svm, f1_svm]\n",
    "metrics_df.loc['Decision Tree'] = [accuracy_dt, precision_dt, recall_dt, f1_dt]\n",
    "metrics_df.loc['Random Forest'] = [accuracy_rf, precision_rf, recall_rf, f1_rf]\n",
    "metrics_df.loc['XGBoost'] = [accuracy_xgb, precision_xgb, recall_xgb, f1_xgb]\n",
    "\n",
    "# Print the comparison table\n",
    "print(metrics_df)"
   ]
  },
  {
   "cell_type": "code",
   "execution_count": null,
   "id": "ba05977d-030e-4a6f-b318-0abc2cc6e1b6",
   "metadata": {},
   "outputs": [],
   "source": [
    "#Line chart with metrics (Accuracy)\n",
    "\n",
    "# List of model names and corresponding accuracy scores\n",
    "models = ['Logistic Regression', 'Decision Tree', 'Random Forest', 'XGBoost']\n",
    "accuracy_scores = [accuracy_lg, accuracy_dt, accuracy_rf, accuracy_xgb]\n",
    "\n",
    "# Plot the line graph with an orange color theme and grid lines\n",
    "plt.figure(figsize=(10, 6))\n",
    "plt.plot(models, accuracy_scores, color='orange', marker='o', linestyle='-', linewidth=2)\n",
    "plt.xlabel('Model', fontweight='bold')\n",
    "plt.ylabel('Accuracy', fontweight='bold')\n",
    "plt.title('Accuracy Comparison for Baseline Models', fontweight='bold')\n",
    "plt.ylim(0.6, 1.0)  # Set y-axis limits to 0.6 to 1.0\n",
    "plt.axhline(y=0.6, color='gray', linestyle='--')  # Add a horizontal line at y=0.6 for reference\n",
    "\n",
    "# Add accuracy score labels\n",
    "for i, score in enumerate(accuracy_scores):\n",
    "    plt.text(models[i], score, f\"{score*100:.1f}%\", ha='center', va='bottom')\n",
    "\n",
    "plt.grid(True, which='both', linestyle='--', linewidth=0.5)  # Add both horizontal and vertical grid lines\n",
    "plt.show()\n"
   ]
  },
  {
   "cell_type": "code",
   "execution_count": null,
   "id": "657c7fee-4179-4532-a638-d1bf6000c9e9",
   "metadata": {},
   "outputs": [],
   "source": [
    "# bar chart comparing precision, recall and f1 and (maybe add accuracy) - how to do with 4 classes? \n",
    "# List of model names and corresponding precision, recall, and F1 scores\n",
    "models = ['Logistic Regression', 'Decision Tree', 'Random Forest', 'XGBoost']\n",
    "precision_scores = [precision_lg, precision_dt, precision_rf, precision_xgb]\n",
    "recall_scores = [recall_lg, recall_dt, recall_rf, recall_xgb]\n",
    "f1_scores = [f1_lg, f1_dt, f1_rf, f1_xgb]\n",
    "\n",
    "# Convert scores to percentages with one decimal place\n",
    "precision_scores_pct = [round(score * 100, 1) for score in precision_scores]\n",
    "recall_scores_pct = [round(score * 100, 1) for score in recall_scores]\n",
    "f1_scores_pct = [round(score * 100, 1) for score in f1_scores]\n",
    "\n",
    "# Set the positions and width for the bars\n",
    "pos = np.arange(len(models))\n",
    "width = 0.25\n",
    "\n",
    "# Plot the bar graph for precision with an orange color theme\n",
    "plt.figure(figsize=(12, 6))\n",
    "plt.bar(pos, precision_scores_pct, width, color='darkorange', alpha=0.4, label='Precision')\n",
    "\n",
    "# Plot the bar graph for recall with a darker orange color\n",
    "plt.bar(pos + width, recall_scores_pct, width, color='orange', label='Recall')\n",
    "\n",
    "# Plot the bar graph for F1 score with a much darker orange color\n",
    "plt.bar(pos + 2 * width, f1_scores_pct, width, color='saddlebrown', alpha=0.7, label='F1 Score')\n",
    "\n",
    "# Add xticks on the middle of the group bars\n",
    "plt.xlabel('Model', fontweight='bold')\n",
    "plt.ylabel('Score (%)', fontweight='bold')\n",
    "plt.title('Precision, Recall, and F1 Score Comparison for Baseline Models', fontweight='bold')\n",
    "plt.xticks(pos + width, models, rotation=360)\n",
    "plt.legend()\n",
    "\n",
    "# Add score labels on top of the bars\n",
    "for i in range(len(models)):\n",
    "    plt.text(pos[i], precision_scores_pct[i], f\"{precision_scores_pct[i]:.1f}%\", ha='center', va='bottom', fontweight='bold')\n",
    "    plt.text(pos[i] + width, recall_scores_pct[i], f\"{recall_scores_pct[i]:.1f}%\", ha='center', va='bottom', fontweight='bold')\n",
    "    plt.text(pos[i] + 2 * width, f1_scores_pct[i], f\"{f1_scores_pct[i]:.1f}%\", ha='center', va='bottom', fontweight='bold')\n",
    "\n",
    "plt.show()"
   ]
  },
  {
   "cell_type": "markdown",
   "id": "fbfe5d9c-2a1f-4736-919a-fc29618cc722",
   "metadata": {},
   "source": [
    "# Hyperparameter Tuning"
   ]
  },
  {
   "cell_type": "markdown",
   "id": "a36bd06b-a548-4256-8d25-5ee87dd99e7b",
   "metadata": {},
   "source": [
    "## Grid Search with Cross Validation "
   ]
  },
  {
   "cell_type": "markdown",
   "id": "c7a77c75-98a1-4127-8c2d-87d2948fbc9f",
   "metadata": {},
   "source": [
    "Steps:\n",
    "\n",
    " - redo the train test split - we will use cross valiudation so we do not need a validation set\n",
    " - scaling will be done in the pipeline to ensure it is done in the correct way as only the train data being scaled for each k-fold\n",
    " - redo smote upsampling\n"
   ]
  },
  {
   "cell_type": "code",
   "execution_count": 532,
   "id": "3e517375-32db-42a8-a591-dea3850d2d4e",
   "metadata": {
    "tags": []
   },
   "outputs": [
    {
     "name": "stdout",
     "output_type": "stream",
     "text": [
      "Shape of: X_train_full:(20616, 6), X_test:(5155, 6)\n",
      "Shape of: y_train_full: y_train:(20616,), y_test:(5155,)\n"
     ]
    }
   ],
   "source": [
    "# train test split\n",
    "\n",
    "#set X and y:\n",
    "\n",
    "X = df.drop(columns=['Year Group Encoded'])\n",
    "y = df['Year Group Encoded']\n",
    "\n",
    "# train/test split\n",
    "X_train, X_test, y_train, y_test = train_test_split(X, y, test_size=0.2, random_state=42, stratify=y)\n",
    "\n",
    "#sanity check to make sure all shapes match\n",
    "print(f'Shape of: X_train_full:{X_train.shape}, X_test:{X_test.shape}')\n",
    "\n",
    "#sanity check to make sure all shapes match\n",
    "print(f'Shape of: y_train_full: y_train:{y_train.shape}, y_test:{y_test.shape}')\n"
   ]
  },
  {
   "cell_type": "code",
   "execution_count": 533,
   "id": "4bfb343f-d323-4077-8cba-07c77675f1e7",
   "metadata": {
    "tags": []
   },
   "outputs": [],
   "source": [
    "#apply smote to the training set to upsample the minority classes\n",
    "\n",
    "# Initialize SMOTE\n",
    "smote = SMOTE(random_state=42)\n",
    "\n",
    "X_train_sm, y_train_sm = smote.fit_resample(X_train, y_train)"
   ]
  },
  {
   "cell_type": "code",
   "execution_count": 534,
   "id": "78db4804-7635-46e0-9cd8-43af4e73e76c",
   "metadata": {
    "tags": []
   },
   "outputs": [
    {
     "name": "stdout",
     "output_type": "stream",
     "text": [
      "Original class distribution\n"
     ]
    },
    {
     "data": {
      "text/plain": [
       "Year Group Encoded\n",
       "1    6259\n",
       "2    6350\n",
       "3    5641\n",
       "4    2366\n",
       "Name: count, dtype: int64"
      ]
     },
     "metadata": {},
     "output_type": "display_data"
    },
    {
     "name": "stdout",
     "output_type": "stream",
     "text": [
      "\n",
      "Resampled class distribution\n"
     ]
    },
    {
     "data": {
      "text/plain": [
       "Year Group Encoded\n",
       "1    6350\n",
       "2    6350\n",
       "3    6350\n",
       "4    6350\n",
       "Name: count, dtype: int64"
      ]
     },
     "metadata": {},
     "output_type": "display_data"
    }
   ],
   "source": [
    "#see what smote has done\n",
    "print('Original class distribution')\n",
    "display(pd.Series(y_train).value_counts().sort_index())\n",
    "\n",
    "print('\\nResampled class distribution')\n",
    "display(pd.Series(y_train_sm).value_counts().sort_index())"
   ]
  },
  {
   "cell_type": "markdown",
   "id": "927db3cd-6747-4025-bd35-9bdfe3f59f8f",
   "metadata": {},
   "source": [
    "### Logistic Regression"
   ]
  },
  {
   "cell_type": "code",
   "execution_count": 542,
   "id": "71e40111-2fd0-4621-9dbb-5a400b37c5bd",
   "metadata": {
    "tags": []
   },
   "outputs": [
    {
     "data": {
      "text/html": [
       "<style>#sk-container-id-5 {color: black;}#sk-container-id-5 pre{padding: 0;}#sk-container-id-5 div.sk-toggleable {background-color: white;}#sk-container-id-5 label.sk-toggleable__label {cursor: pointer;display: block;width: 100%;margin-bottom: 0;padding: 0.3em;box-sizing: border-box;text-align: center;}#sk-container-id-5 label.sk-toggleable__label-arrow:before {content: \"▸\";float: left;margin-right: 0.25em;color: #696969;}#sk-container-id-5 label.sk-toggleable__label-arrow:hover:before {color: black;}#sk-container-id-5 div.sk-estimator:hover label.sk-toggleable__label-arrow:before {color: black;}#sk-container-id-5 div.sk-toggleable__content {max-height: 0;max-width: 0;overflow: hidden;text-align: left;background-color: #f0f8ff;}#sk-container-id-5 div.sk-toggleable__content pre {margin: 0.2em;color: black;border-radius: 0.25em;background-color: #f0f8ff;}#sk-container-id-5 input.sk-toggleable__control:checked~div.sk-toggleable__content {max-height: 200px;max-width: 100%;overflow: auto;}#sk-container-id-5 input.sk-toggleable__control:checked~label.sk-toggleable__label-arrow:before {content: \"▾\";}#sk-container-id-5 div.sk-estimator input.sk-toggleable__control:checked~label.sk-toggleable__label {background-color: #d4ebff;}#sk-container-id-5 div.sk-label input.sk-toggleable__control:checked~label.sk-toggleable__label {background-color: #d4ebff;}#sk-container-id-5 input.sk-hidden--visually {border: 0;clip: rect(1px 1px 1px 1px);clip: rect(1px, 1px, 1px, 1px);height: 1px;margin: -1px;overflow: hidden;padding: 0;position: absolute;width: 1px;}#sk-container-id-5 div.sk-estimator {font-family: monospace;background-color: #f0f8ff;border: 1px dotted black;border-radius: 0.25em;box-sizing: border-box;margin-bottom: 0.5em;}#sk-container-id-5 div.sk-estimator:hover {background-color: #d4ebff;}#sk-container-id-5 div.sk-parallel-item::after {content: \"\";width: 100%;border-bottom: 1px solid gray;flex-grow: 1;}#sk-container-id-5 div.sk-label:hover label.sk-toggleable__label {background-color: #d4ebff;}#sk-container-id-5 div.sk-serial::before {content: \"\";position: absolute;border-left: 1px solid gray;box-sizing: border-box;top: 0;bottom: 0;left: 50%;z-index: 0;}#sk-container-id-5 div.sk-serial {display: flex;flex-direction: column;align-items: center;background-color: white;padding-right: 0.2em;padding-left: 0.2em;position: relative;}#sk-container-id-5 div.sk-item {position: relative;z-index: 1;}#sk-container-id-5 div.sk-parallel {display: flex;align-items: stretch;justify-content: center;background-color: white;position: relative;}#sk-container-id-5 div.sk-item::before, #sk-container-id-5 div.sk-parallel-item::before {content: \"\";position: absolute;border-left: 1px solid gray;box-sizing: border-box;top: 0;bottom: 0;left: 50%;z-index: -1;}#sk-container-id-5 div.sk-parallel-item {display: flex;flex-direction: column;z-index: 1;position: relative;background-color: white;}#sk-container-id-5 div.sk-parallel-item:first-child::after {align-self: flex-end;width: 50%;}#sk-container-id-5 div.sk-parallel-item:last-child::after {align-self: flex-start;width: 50%;}#sk-container-id-5 div.sk-parallel-item:only-child::after {width: 0;}#sk-container-id-5 div.sk-dashed-wrapped {border: 1px dashed gray;margin: 0 0.4em 0.5em 0.4em;box-sizing: border-box;padding-bottom: 0.4em;background-color: white;}#sk-container-id-5 div.sk-label label {font-family: monospace;font-weight: bold;display: inline-block;line-height: 1.2em;}#sk-container-id-5 div.sk-label-container {text-align: center;}#sk-container-id-5 div.sk-container {/* jupyter's `normalize.less` sets `[hidden] { display: none; }` but bootstrap.min.css set `[hidden] { display: none !important; }` so we also need the `!important` here to be able to override the default hidden behavior on the sphinx rendered scikit-learn.org. See: https://github.com/scikit-learn/scikit-learn/issues/21755 */display: inline-block !important;position: relative;}#sk-container-id-5 div.sk-text-repr-fallback {display: none;}</style><div id=\"sk-container-id-5\" class=\"sk-top-container\"><div class=\"sk-text-repr-fallback\"><pre>Pipeline(memory=&#x27;/var/folders/dp/r86j009572g6fk5d87hv187h0000gp/T/tmpnnvqboht&#x27;,\n",
       "         steps=[(&#x27;normalise&#x27;, StandardScaler()),\n",
       "                (&#x27;model&#x27;,\n",
       "                 LogisticRegression(C=1000.0, random_state=42, solver=&#x27;saga&#x27;))])</pre><b>In a Jupyter environment, please rerun this cell to show the HTML representation or trust the notebook. <br />On GitHub, the HTML representation is unable to render, please try loading this page with nbviewer.org.</b></div><div class=\"sk-container\" hidden><div class=\"sk-item sk-dashed-wrapped\"><div class=\"sk-label-container\"><div class=\"sk-label sk-toggleable\"><input class=\"sk-toggleable__control sk-hidden--visually\" id=\"sk-estimator-id-13\" type=\"checkbox\" ><label for=\"sk-estimator-id-13\" class=\"sk-toggleable__label sk-toggleable__label-arrow\">Pipeline</label><div class=\"sk-toggleable__content\"><pre>Pipeline(memory=&#x27;/var/folders/dp/r86j009572g6fk5d87hv187h0000gp/T/tmpnnvqboht&#x27;,\n",
       "         steps=[(&#x27;normalise&#x27;, StandardScaler()),\n",
       "                (&#x27;model&#x27;,\n",
       "                 LogisticRegression(C=1000.0, random_state=42, solver=&#x27;saga&#x27;))])</pre></div></div></div><div class=\"sk-serial\"><div class=\"sk-item\"><div class=\"sk-estimator sk-toggleable\"><input class=\"sk-toggleable__control sk-hidden--visually\" id=\"sk-estimator-id-14\" type=\"checkbox\" ><label for=\"sk-estimator-id-14\" class=\"sk-toggleable__label sk-toggleable__label-arrow\">StandardScaler</label><div class=\"sk-toggleable__content\"><pre>StandardScaler()</pre></div></div></div><div class=\"sk-item\"><div class=\"sk-estimator sk-toggleable\"><input class=\"sk-toggleable__control sk-hidden--visually\" id=\"sk-estimator-id-15\" type=\"checkbox\" ><label for=\"sk-estimator-id-15\" class=\"sk-toggleable__label sk-toggleable__label-arrow\">LogisticRegression</label><div class=\"sk-toggleable__content\"><pre>LogisticRegression(C=1000.0, random_state=42, solver=&#x27;saga&#x27;)</pre></div></div></div></div></div></div></div>"
      ],
      "text/plain": [
       "Pipeline(memory='/var/folders/dp/r86j009572g6fk5d87hv187h0000gp/T/tmpnnvqboht',\n",
       "         steps=[('normalise', StandardScaler()),\n",
       "                ('model',\n",
       "                 LogisticRegression(C=1000.0, random_state=42, solver='saga'))])"
      ]
     },
     "execution_count": 542,
     "metadata": {},
     "output_type": "execute_result"
    }
   ],
   "source": [
    "from sklearn.preprocessing import StandardScaler, MinMaxScaler\n",
    "from sklearn.linear_model import LogisticRegression\n",
    "\n",
    "from tempfile import mkdtemp\n",
    "from sklearn.model_selection import GridSearchCV\n",
    "\n",
    "\n",
    "estimators = [('normalise', StandardScaler()),  ('model', LogisticRegression(random_state=42))] #('dim_reducer', PCA())\n",
    "\n",
    "#build estimator list trat this as a placeholder\n",
    "cachedir = mkdtemp()\n",
    "pipe=Pipeline(estimators, memory=cachedir)\n",
    "\n",
    "param_grid = [\n",
    "            {'model': [LogisticRegression(random_state=42, solver='liblinear')],\n",
    "            'normalise': [StandardScaler(), MinMaxScaler(), None],\n",
    "            'model__C': [0.000001, 0.00001, 0.0001, 0.001, 0.01, 0.1, 1, 10.0, 100.0, 1000.0, 10000.0, 100000.0, 1000000.0],\n",
    "            'model__penalty': ['l1', 'l2', None]},\n",
    "            \n",
    "            {'model': [LogisticRegression(random_state=42, solver='saga')],\n",
    "            'normalise': [StandardScaler(), MinMaxScaler(), None],\n",
    "            'model__C': [0.000001, 0.00001, 0.0001, 0.001, 0.01, 0.1, 1, 10.0, 100.0, 1000.0, 10000.0, 100000.0, 1000000.0],\n",
    "            'model__penalty': ['l1', 'l2', 'elastinet', None]}]\n",
    "\n",
    "            # 'dim_reducer': [PCA(), KernelPCA()],\n",
    "            # 'dim_reducer__n_components': [2, 3, 4]}]\n",
    "\n",
    "#Instantiate the GridSearch\n",
    "        \n",
    "grid = GridSearchCV(pipe, param_grid, cv=5)\n",
    "\n",
    "#fit the grid search to the train data\n",
    "fittedgrid = grid.fit(X_train_sm, y_train_sm)\n",
    "\n",
    "#display the best estimator\n",
    "fittedgrid.best_estimator_\n",
    "\n",
    "             "
   ]
  },
  {
   "cell_type": "code",
   "execution_count": 543,
   "id": "2642af40-e964-41d0-a78a-2b4a4947eace",
   "metadata": {
    "tags": []
   },
   "outputs": [
    {
     "name": "stdout",
     "output_type": "stream",
     "text": [
      "Pipeline(memory='/var/folders/dp/r86j009572g6fk5d87hv187h0000gp/T/tmpnnvqboht',\n",
      "         steps=[('normalise', StandardScaler()),\n",
      "                ('model',\n",
      "                 LogisticRegression(C=1000.0, random_state=42, solver='saga'))])\n"
     ]
    }
   ],
   "source": [
    "print(fittedgrid.best_estimator_)\n"
   ]
  },
  {
   "cell_type": "code",
   "execution_count": 546,
   "id": "0cf59103-f293-4086-8346-45c75ca2fa82",
   "metadata": {
    "tags": []
   },
   "outputs": [
    {
     "name": "stdout",
     "output_type": "stream",
     "text": [
      "Logistic Regression Metrics:\n",
      "Accuracy: 0.5416100872938894\n",
      "Precision: 0.5473484021689532\n",
      "Recall: 0.5416100872938894\n",
      "F1 Score: 0.535330070072331\n",
      "Confusion Matrix:\n",
      "[[1053  411   65   36]\n",
      " [ 486  662  367   73]\n",
      " [ 158  170  624  459]\n",
      " [  49   31   58  453]]\n",
      "Classification Report:\n",
      "              precision    recall  f1-score   support\n",
      "\n",
      "           1       0.60      0.67      0.64      1565\n",
      "           2       0.52      0.42      0.46      1588\n",
      "           3       0.56      0.44      0.49      1411\n",
      "           4       0.44      0.77      0.56       591\n",
      "\n",
      "    accuracy                           0.54      5155\n",
      "   macro avg       0.53      0.57      0.54      5155\n",
      "weighted avg       0.55      0.54      0.54      5155\n",
      "\n"
     ]
    }
   ],
   "source": [
    "#instantiate the scaler\n",
    "scaler = StandardScaler()\n",
    "\n",
    "#fit scaler to train data\n",
    "scaler.fit(X_train_full_sm)\n",
    "\n",
    "#scale the data\n",
    "#instantiate scaler\n",
    "ss= StandardScaler()\n",
    "\n",
    "#fit scaler to train data\n",
    "ss.fit(X_train_sm)\n",
    "\n",
    "#transform train and test\n",
    "X_train_sm_ss = ss.transform(X_train_sm)\n",
    "X_test_ss = ss.transform(X_test)\n",
    "\n",
    "\n",
    "#instantiate model with best parameteres from above\n",
    "logreg_1 = LogisticRegression(random_state=42, C=1000.0, solver='saga')\n",
    "\n",
    "#fit the model\n",
    "logreg_1.fit(X_train_sm_ss, y_train_sm)\n",
    "\n",
    "#make predictions\n",
    "logreg_1_pred = logreg_1.predict(X_test_ss)\n",
    "\n",
    "#compute metrics\n",
    "\n",
    "accuracy_lg1 = accuracy_score(y_test, logreg_1_pred)\n",
    "precision_lg1 = precision_score(y_test, logreg_1_pred, average='weighted')\n",
    "recall_lg1 = recall_score(y_test, logreg_1_pred, average='weighted')\n",
    "f1_lg1 = f1_score(y_test, logreg_1_pred, average='weighted')\n",
    "conf_mat_lg1 = confusion_matrix(y_test, logreg_1_pred)\n",
    "clf_report_lg1 = classification_report(y_test, logreg_1_pred)\n",
    "\n",
    "# Print metrics\n",
    "print(\"Logistic Regression Metrics:\")\n",
    "print(f\"Accuracy: {accuracy_lg1}\")\n",
    "print(f\"Precision: {precision_lg1}\")\n",
    "print(f\"Recall: {recall_lg1}\")\n",
    "print(f\"F1 Score: {f1_lg1}\")\n",
    "print(\"Confusion Matrix:\")\n",
    "print(conf_mat_lg1)\n",
    "print(\"Classification Report:\")\n",
    "print(clf_report_lg1)\n",
    "\n"
   ]
  },
  {
   "cell_type": "code",
   "execution_count": 590,
   "id": "d5c7a563-4020-4f9e-a57c-65de28bfa891",
   "metadata": {
    "tags": []
   },
   "outputs": [
    {
     "data": {
      "image/png": "[encoded data removed]",
      "text/plain": [
       "<Figure size 640x480 with 1 Axes>"
      ]
     },
     "metadata": {},
     "output_type": "display_data"
    }
   ],
   "source": [
    "# Binarize the output\n",
    "y_test_binarized = label_binarize(y_test, classes=np.unique(y_test))\n",
    "n_classes = y_test_binarized.shape[1]\n",
    "\n",
    "y_probs = logreg_1.predict_proba(X_test_ss)\n",
    "\n",
    "# Compute ROC curve and ROC area for each class\n",
    "fpr = dict()\n",
    "tpr = dict()\n",
    "roc_auc = dict()\n",
    "\n",
    "for i in range(n_classes):\n",
    "    fpr[i], tpr[i], _ = roc_curve(y_test_binarized[:, i], y_probs[:, i])\n",
    "    roc_auc[i] = auc(fpr[i], tpr[i])\n",
    "\n",
    "    \n",
    "# Plot all ROC curves\n",
    "plt.figure()\n",
    "\n",
    "for i in range(n_classes):\n",
    "    plt.plot(fpr[i], tpr[i], label=f'ROC curve of class {i+1} (AUC = {roc_auc[i]:.5f})')\n",
    "\n",
    "plt.plot([0, 1], [0, 1], '--', label='No Distinguishing Line')\n",
    "plt.xlim([0.0, 1.0])\n",
    "plt.ylim([0.0, 1.05])\n",
    "plt.xlabel('False Positive Rate')\n",
    "plt.ylabel('True Positive Rate')\n",
    "plt.title('Multiclass ROC Curve - Tuned Log Regression')\n",
    "plt.legend(loc=\"lower right\")\n",
    "plt.savefig('ROC Tuned Log', dpi=300)\n",
    "plt.show()\n"
   ]
  },
  {
   "cell_type": "code",
   "execution_count": 578,
   "id": "3fa97c9d-e4f0-4fad-ac34-58e387cdf243",
   "metadata": {
    "tags": []
   },
   "outputs": [
    {
     "name": "stdout",
     "output_type": "stream",
     "text": [
      "Logistic Regression Metrics with Adjusted Thresholds:\n",
      "Accuracy: 0.12221144519883609\n",
      "Precision: 0.19001872719975585\n",
      "Recall: 0.12221144519883609\n",
      "F1 Score: 0.1460418257382598\n",
      "Confusion Matrix:\n",
      "[[  0   0   0   0   0   0]\n",
      " [  0   0   0   0   0   0]\n",
      " [986 148 411   0  20   0]\n",
      " [798  94 662   0  34   0]\n",
      " [955  67 170   0 219   0]\n",
      " [155  27  31   0 378   0]]\n",
      "Classification Report:\n",
      "              precision    recall  f1-score   support\n",
      "\n",
      "          -1       0.00      0.00      0.00         0\n",
      "           0       0.00      0.00      0.00         0\n",
      "           1       0.32      0.26      0.29      1565\n",
      "           2       0.00      0.00      0.00      1588\n",
      "           3       0.34      0.16      0.21      1411\n",
      "           4       0.00      0.00      0.00       591\n",
      "\n",
      "    accuracy                           0.12      5155\n",
      "   macro avg       0.11      0.07      0.08      5155\n",
      "weighted avg       0.19      0.12      0.15      5155\n",
      "\n"
     ]
    }
   ],
   "source": [
    "# Get predicted probabilities\n",
    "probabilities = logreg_1.predict_proba(X_test_ss)\n",
    "\n",
    "# Define class-specific thresholds\n",
    "thresholds = [0.5, 0.2, 0.5, 0.5]  # Example thresholds for each class\n",
    "\n",
    "# Apply thresholds to probabilities to get new predictions\n",
    "max_probs = np.max(probabilities, axis=1)\n",
    "predicted_classes = np.argmax(probabilities, axis=1)\n",
    "logreg_1_pred_adjusted = np.where(max_probs >= [thresholds[i] for i in predicted_classes], predicted_classes, -1)\n",
    "# -1 or any specific label can be used for instances not meeting the threshold criteria\n",
    "\n",
    "# Compute metrics with new predictions\n",
    "# Note: Metrics like precision, recall need to handle multiclass scenario properly\n",
    "accuracy_lg1 = accuracy_score(y_test, logreg_1_pred_adjusted)\n",
    "precision_lg1 = precision_score(y_test, logreg_1_pred_adjusted, average='weighted', zero_division=0)\n",
    "recall_lg1 = recall_score(y_test, logreg_1_pred_adjusted, average='weighted', zero_division=0)\n",
    "f1_lg1 = f1_score(y_test, logreg_1_pred_adjusted, average='weighted', zero_division=0)\n",
    "conf_mat_lg1 = confusion_matrix(y_test, logreg_1_pred_adjusted)\n",
    "clf_report_lg1 = classification_report(y_test, logreg_1_pred_adjusted, zero_division=0)\n",
    "\n",
    "# Print metrics\n",
    "print(\"Logistic Regression Metrics with Adjusted Thresholds:\")\n",
    "print(f\"Accuracy: {accuracy_lg1}\")\n",
    "print(f\"Precision: {precision_lg1}\")\n",
    "print(f\"Recall: {recall_lg1}\")\n",
    "print(f\"F1 Score: {f1_lg1}\")\n",
    "print(\"Confusion Matrix:\")\n",
    "print(conf_mat_lg1)\n",
    "print(\"Classification Report:\")\n",
    "print(clf_report_lg1)"
   ]
  },
  {
   "cell_type": "code",
   "execution_count": 580,
   "id": "8f39f586-3d68-469e-b5a0-1169b3fcd189",
   "metadata": {
    "tags": []
   },
   "outputs": [
    {
     "data": {
      "image/png": "[encoded data removed]",
      "text/plain": [
       "<Figure size 640x480 with 1 Axes>"
      ]
     },
     "metadata": {},
     "output_type": "display_data"
    }
   ],
   "source": [
    "from sklearn.metrics import roc_curve, roc_auc_score\n",
    "import matplotlib.pyplot as plt\n",
    "\n",
    "# Assuming y_test is a 1D array of true labels, convert it to a binary matrix representation\n",
    "y_test_bin = label_binarize(y_test, classes=np.unique(y_test))\n",
    "\n",
    "# Calculate ROC curve and AUC for each class\n",
    "n_classes = y_test_bin.shape[1]\n",
    "fpr = dict()\n",
    "tpr = dict()\n",
    "roc_auc = dict()\n",
    "\n",
    "for i in range(n_classes):\n",
    "    fpr[i], tpr[i], _ = roc_curve(y_test_bin[:, i], probabilities[:, i])\n",
    "    roc_auc[i] = roc_auc_score(y_test_bin[:, i], probabilities[:, i])\n",
    "\n",
    "# Plot all ROC curves\n",
    "plt.figure()\n",
    "\n",
    "for i in range(n_classes):\n",
    "    plt.plot(fpr[i], tpr[i], label=f'ROC curve of class {i+1} (area = {roc_auc[i]:.2f})')\n",
    "\n",
    "plt.plot([0, 1], [0, 1], 'k--', label='No Skill Line')\n",
    "plt.xlim([0.0, 1.0])\n",
    "plt.ylim([0.0, 1.05])\n",
    "plt.xlabel('False Positive Rate')\n",
    "plt.ylabel('True Positive Rate')\n",
    "plt.title('Multiclass ROC Curve')\n",
    "plt.legend(loc=\"lower right\")\n",
    "plt.show()\n"
   ]
  },
  {
   "cell_type": "code",
   "execution_count": null,
   "id": "aa6776bc-dd5b-49e7-91a4-1fc2d1637c46",
   "metadata": {},
   "outputs": [],
   "source": []
  },
  {
   "cell_type": "code",
   "execution_count": 552,
   "id": "1158b690-15e9-4751-bb28-e37940883ac7",
   "metadata": {
    "tags": []
   },
   "outputs": [
    {
     "data": {
      "text/html": [
       "<style>#sk-container-id-6 {color: black;}#sk-container-id-6 pre{padding: 0;}#sk-container-id-6 div.sk-toggleable {background-color: white;}#sk-container-id-6 label.sk-toggleable__label {cursor: pointer;display: block;width: 100%;margin-bottom: 0;padding: 0.3em;box-sizing: border-box;text-align: center;}#sk-container-id-6 label.sk-toggleable__label-arrow:before {content: \"▸\";float: left;margin-right: 0.25em;color: #696969;}#sk-container-id-6 label.sk-toggleable__label-arrow:hover:before {color: black;}#sk-container-id-6 div.sk-estimator:hover label.sk-toggleable__label-arrow:before {color: black;}#sk-container-id-6 div.sk-toggleable__content {max-height: 0;max-width: 0;overflow: hidden;text-align: left;background-color: #f0f8ff;}#sk-container-id-6 div.sk-toggleable__content pre {margin: 0.2em;color: black;border-radius: 0.25em;background-color: #f0f8ff;}#sk-container-id-6 input.sk-toggleable__control:checked~div.sk-toggleable__content {max-height: 200px;max-width: 100%;overflow: auto;}#sk-container-id-6 input.sk-toggleable__control:checked~label.sk-toggleable__label-arrow:before {content: \"▾\";}#sk-container-id-6 div.sk-estimator input.sk-toggleable__control:checked~label.sk-toggleable__label {background-color: #d4ebff;}#sk-container-id-6 div.sk-label input.sk-toggleable__control:checked~label.sk-toggleable__label {background-color: #d4ebff;}#sk-container-id-6 input.sk-hidden--visually {border: 0;clip: rect(1px 1px 1px 1px);clip: rect(1px, 1px, 1px, 1px);height: 1px;margin: -1px;overflow: hidden;padding: 0;position: absolute;width: 1px;}#sk-container-id-6 div.sk-estimator {font-family: monospace;background-color: #f0f8ff;border: 1px dotted black;border-radius: 0.25em;box-sizing: border-box;margin-bottom: 0.5em;}#sk-container-id-6 div.sk-estimator:hover {background-color: #d4ebff;}#sk-container-id-6 div.sk-parallel-item::after {content: \"\";width: 100%;border-bottom: 1px solid gray;flex-grow: 1;}#sk-container-id-6 div.sk-label:hover label.sk-toggleable__label {background-color: #d4ebff;}#sk-container-id-6 div.sk-serial::before {content: \"\";position: absolute;border-left: 1px solid gray;box-sizing: border-box;top: 0;bottom: 0;left: 50%;z-index: 0;}#sk-container-id-6 div.sk-serial {display: flex;flex-direction: column;align-items: center;background-color: white;padding-right: 0.2em;padding-left: 0.2em;position: relative;}#sk-container-id-6 div.sk-item {position: relative;z-index: 1;}#sk-container-id-6 div.sk-parallel {display: flex;align-items: stretch;justify-content: center;background-color: white;position: relative;}#sk-container-id-6 div.sk-item::before, #sk-container-id-6 div.sk-parallel-item::before {content: \"\";position: absolute;border-left: 1px solid gray;box-sizing: border-box;top: 0;bottom: 0;left: 50%;z-index: -1;}#sk-container-id-6 div.sk-parallel-item {display: flex;flex-direction: column;z-index: 1;position: relative;background-color: white;}#sk-container-id-6 div.sk-parallel-item:first-child::after {align-self: flex-end;width: 50%;}#sk-container-id-6 div.sk-parallel-item:last-child::after {align-self: flex-start;width: 50%;}#sk-container-id-6 div.sk-parallel-item:only-child::after {width: 0;}#sk-container-id-6 div.sk-dashed-wrapped {border: 1px dashed gray;margin: 0 0.4em 0.5em 0.4em;box-sizing: border-box;padding-bottom: 0.4em;background-color: white;}#sk-container-id-6 div.sk-label label {font-family: monospace;font-weight: bold;display: inline-block;line-height: 1.2em;}#sk-container-id-6 div.sk-label-container {text-align: center;}#sk-container-id-6 div.sk-container {/* jupyter's `normalize.less` sets `[hidden] { display: none; }` but bootstrap.min.css set `[hidden] { display: none !important; }` so we also need the `!important` here to be able to override the default hidden behavior on the sphinx rendered scikit-learn.org. See: https://github.com/scikit-learn/scikit-learn/issues/21755 */display: inline-block !important;position: relative;}#sk-container-id-6 div.sk-text-repr-fallback {display: none;}</style><div id=\"sk-container-id-6\" class=\"sk-top-container\"><div class=\"sk-text-repr-fallback\"><pre>Pipeline(memory=&#x27;/var/folders/dp/r86j009572g6fk5d87hv187h0000gp/T/tmp1b4071tg&#x27;,\n",
       "         steps=[(&#x27;dim_reducer&#x27;, KernelPCA(n_components=6)),\n",
       "                (&#x27;model&#x27;,\n",
       "                 LogisticRegression(C=1000.0, random_state=42, solver=&#x27;saga&#x27;))])</pre><b>In a Jupyter environment, please rerun this cell to show the HTML representation or trust the notebook. <br />On GitHub, the HTML representation is unable to render, please try loading this page with nbviewer.org.</b></div><div class=\"sk-container\" hidden><div class=\"sk-item sk-dashed-wrapped\"><div class=\"sk-label-container\"><div class=\"sk-label sk-toggleable\"><input class=\"sk-toggleable__control sk-hidden--visually\" id=\"sk-estimator-id-16\" type=\"checkbox\" ><label for=\"sk-estimator-id-16\" class=\"sk-toggleable__label sk-toggleable__label-arrow\">Pipeline</label><div class=\"sk-toggleable__content\"><pre>Pipeline(memory=&#x27;/var/folders/dp/r86j009572g6fk5d87hv187h0000gp/T/tmp1b4071tg&#x27;,\n",
       "         steps=[(&#x27;dim_reducer&#x27;, KernelPCA(n_components=6)),\n",
       "                (&#x27;model&#x27;,\n",
       "                 LogisticRegression(C=1000.0, random_state=42, solver=&#x27;saga&#x27;))])</pre></div></div></div><div class=\"sk-serial\"><div class=\"sk-item\"><div class=\"sk-estimator sk-toggleable\"><input class=\"sk-toggleable__control sk-hidden--visually\" id=\"sk-estimator-id-17\" type=\"checkbox\" ><label for=\"sk-estimator-id-17\" class=\"sk-toggleable__label sk-toggleable__label-arrow\">KernelPCA</label><div class=\"sk-toggleable__content\"><pre>KernelPCA(n_components=6)</pre></div></div></div><div class=\"sk-item\"><div class=\"sk-estimator sk-toggleable\"><input class=\"sk-toggleable__control sk-hidden--visually\" id=\"sk-estimator-id-18\" type=\"checkbox\" ><label for=\"sk-estimator-id-18\" class=\"sk-toggleable__label sk-toggleable__label-arrow\">LogisticRegression</label><div class=\"sk-toggleable__content\"><pre>LogisticRegression(C=1000.0, random_state=42, solver=&#x27;saga&#x27;)</pre></div></div></div></div></div></div></div>"
      ],
      "text/plain": [
       "Pipeline(memory='/var/folders/dp/r86j009572g6fk5d87hv187h0000gp/T/tmp1b4071tg',\n",
       "         steps=[('dim_reducer', KernelPCA(n_components=6)),\n",
       "                ('model',\n",
       "                 LogisticRegression(C=1000.0, random_state=42, solver='saga'))])"
      ]
     },
     "execution_count": 552,
     "metadata": {},
     "output_type": "execute_result"
    }
   ],
   "source": [
    "from sklearn.decomposition import KernelPCA, PCA\n",
    "\n",
    "# next iteration use dimensional reduction with best model from above:\n",
    "\n",
    "estimators = [('dim_reducer', PCA()),('model', LogisticRegression(random_state=42, C=1000.0, solver='saga'))]\n",
    "\n",
    "#build estimator list trat this as a placeholder\n",
    "cachedir2 = mkdtemp()\n",
    "pipe2=Pipeline(estimators, memory=cachedir2)\n",
    "\n",
    "param_grid2 = [\n",
    "            {'model':[LogisticRegression(random_state=42, C=1000.0, solver='saga')],\n",
    "            'dim_reducer': [KernelPCA(kernel='linear'), KernelPCA(kernel='poly'), KernelPCA(kernel='rbf'), KernelPCA(kernel='sigmoid'), PCA()],\n",
    "            'dim_reducer__n_components': [2, 3, 4, 5, 6]},\n",
    "\n",
    "            {'model':[LogisticRegression(random_state=42, C=1000.0, solver='saga')],\n",
    "             'dim_reducer': [None]}]\n",
    "             \n",
    "\n",
    "#Instantiate the GridSearch\n",
    "        \n",
    "grid2 = GridSearchCV(pipe2, param_grid2, cv=5)\n",
    "\n",
    "#fit the grid search to the train data\n",
    "fittedgrid2 = grid2.fit(X_train_sm_ss, y_train_sm)\n",
    "\n",
    "#display the best estimator\n",
    "fittedgrid2.best_estimator_"
   ]
  },
  {
   "cell_type": "code",
   "execution_count": 553,
   "id": "99848fdc-6296-4ea1-8db4-5cea192a5760",
   "metadata": {
    "tags": []
   },
   "outputs": [
    {
     "name": "stdout",
     "output_type": "stream",
     "text": [
      "Pipeline(memory='/var/folders/dp/r86j009572g6fk5d87hv187h0000gp/T/tmp1b4071tg',\n",
      "         steps=[('dim_reducer', KernelPCA(n_components=6)),\n",
      "                ('model',\n",
      "                 LogisticRegression(C=1000.0, random_state=42, solver='saga'))])\n"
     ]
    }
   ],
   "source": [
    "print(fittedgrid2.best_estimator_)"
   ]
  },
  {
   "cell_type": "code",
   "execution_count": 555,
   "id": "f9994a83-d558-4be2-b371-7bb43a7e50c5",
   "metadata": {
    "tags": []
   },
   "outputs": [
    {
     "data": {
      "text/html": [
       "<style>#sk-container-id-7 {color: black;}#sk-container-id-7 pre{padding: 0;}#sk-container-id-7 div.sk-toggleable {background-color: white;}#sk-container-id-7 label.sk-toggleable__label {cursor: pointer;display: block;width: 100%;margin-bottom: 0;padding: 0.3em;box-sizing: border-box;text-align: center;}#sk-container-id-7 label.sk-toggleable__label-arrow:before {content: \"▸\";float: left;margin-right: 0.25em;color: #696969;}#sk-container-id-7 label.sk-toggleable__label-arrow:hover:before {color: black;}#sk-container-id-7 div.sk-estimator:hover label.sk-toggleable__label-arrow:before {color: black;}#sk-container-id-7 div.sk-toggleable__content {max-height: 0;max-width: 0;overflow: hidden;text-align: left;background-color: #f0f8ff;}#sk-container-id-7 div.sk-toggleable__content pre {margin: 0.2em;color: black;border-radius: 0.25em;background-color: #f0f8ff;}#sk-container-id-7 input.sk-toggleable__control:checked~div.sk-toggleable__content {max-height: 200px;max-width: 100%;overflow: auto;}#sk-container-id-7 input.sk-toggleable__control:checked~label.sk-toggleable__label-arrow:before {content: \"▾\";}#sk-container-id-7 div.sk-estimator input.sk-toggleable__control:checked~label.sk-toggleable__label {background-color: #d4ebff;}#sk-container-id-7 div.sk-label input.sk-toggleable__control:checked~label.sk-toggleable__label {background-color: #d4ebff;}#sk-container-id-7 input.sk-hidden--visually {border: 0;clip: rect(1px 1px 1px 1px);clip: rect(1px, 1px, 1px, 1px);height: 1px;margin: -1px;overflow: hidden;padding: 0;position: absolute;width: 1px;}#sk-container-id-7 div.sk-estimator {font-family: monospace;background-color: #f0f8ff;border: 1px dotted black;border-radius: 0.25em;box-sizing: border-box;margin-bottom: 0.5em;}#sk-container-id-7 div.sk-estimator:hover {background-color: #d4ebff;}#sk-container-id-7 div.sk-parallel-item::after {content: \"\";width: 100%;border-bottom: 1px solid gray;flex-grow: 1;}#sk-container-id-7 div.sk-label:hover label.sk-toggleable__label {background-color: #d4ebff;}#sk-container-id-7 div.sk-serial::before {content: \"\";position: absolute;border-left: 1px solid gray;box-sizing: border-box;top: 0;bottom: 0;left: 50%;z-index: 0;}#sk-container-id-7 div.sk-serial {display: flex;flex-direction: column;align-items: center;background-color: white;padding-right: 0.2em;padding-left: 0.2em;position: relative;}#sk-container-id-7 div.sk-item {position: relative;z-index: 1;}#sk-container-id-7 div.sk-parallel {display: flex;align-items: stretch;justify-content: center;background-color: white;position: relative;}#sk-container-id-7 div.sk-item::before, #sk-container-id-7 div.sk-parallel-item::before {content: \"\";position: absolute;border-left: 1px solid gray;box-sizing: border-box;top: 0;bottom: 0;left: 50%;z-index: -1;}#sk-container-id-7 div.sk-parallel-item {display: flex;flex-direction: column;z-index: 1;position: relative;background-color: white;}#sk-container-id-7 div.sk-parallel-item:first-child::after {align-self: flex-end;width: 50%;}#sk-container-id-7 div.sk-parallel-item:last-child::after {align-self: flex-start;width: 50%;}#sk-container-id-7 div.sk-parallel-item:only-child::after {width: 0;}#sk-container-id-7 div.sk-dashed-wrapped {border: 1px dashed gray;margin: 0 0.4em 0.5em 0.4em;box-sizing: border-box;padding-bottom: 0.4em;background-color: white;}#sk-container-id-7 div.sk-label label {font-family: monospace;font-weight: bold;display: inline-block;line-height: 1.2em;}#sk-container-id-7 div.sk-label-container {text-align: center;}#sk-container-id-7 div.sk-container {/* jupyter's `normalize.less` sets `[hidden] { display: none; }` but bootstrap.min.css set `[hidden] { display: none !important; }` so we also need the `!important` here to be able to override the default hidden behavior on the sphinx rendered scikit-learn.org. See: https://github.com/scikit-learn/scikit-learn/issues/21755 */display: inline-block !important;position: relative;}#sk-container-id-7 div.sk-text-repr-fallback {display: none;}</style><div id=\"sk-container-id-7\" class=\"sk-top-container\"><div class=\"sk-text-repr-fallback\"><pre>Pipeline(memory=&#x27;/var/folders/dp/r86j009572g6fk5d87hv187h0000gp/T/tmpdsj_6u6t&#x27;,\n",
       "         steps=[(&#x27;dim_reducer&#x27;, KernelPCA(n_components=6)),\n",
       "                (&#x27;model&#x27;,\n",
       "                 LogisticRegression(C=1000.0, random_state=42, solver=&#x27;saga&#x27;))])</pre><b>In a Jupyter environment, please rerun this cell to show the HTML representation or trust the notebook. <br />On GitHub, the HTML representation is unable to render, please try loading this page with nbviewer.org.</b></div><div class=\"sk-container\" hidden><div class=\"sk-item sk-dashed-wrapped\"><div class=\"sk-label-container\"><div class=\"sk-label sk-toggleable\"><input class=\"sk-toggleable__control sk-hidden--visually\" id=\"sk-estimator-id-19\" type=\"checkbox\" ><label for=\"sk-estimator-id-19\" class=\"sk-toggleable__label sk-toggleable__label-arrow\">Pipeline</label><div class=\"sk-toggleable__content\"><pre>Pipeline(memory=&#x27;/var/folders/dp/r86j009572g6fk5d87hv187h0000gp/T/tmpdsj_6u6t&#x27;,\n",
       "         steps=[(&#x27;dim_reducer&#x27;, KernelPCA(n_components=6)),\n",
       "                (&#x27;model&#x27;,\n",
       "                 LogisticRegression(C=1000.0, random_state=42, solver=&#x27;saga&#x27;))])</pre></div></div></div><div class=\"sk-serial\"><div class=\"sk-item\"><div class=\"sk-estimator sk-toggleable\"><input class=\"sk-toggleable__control sk-hidden--visually\" id=\"sk-estimator-id-20\" type=\"checkbox\" ><label for=\"sk-estimator-id-20\" class=\"sk-toggleable__label sk-toggleable__label-arrow\">KernelPCA</label><div class=\"sk-toggleable__content\"><pre>KernelPCA(n_components=6)</pre></div></div></div><div class=\"sk-item\"><div class=\"sk-estimator sk-toggleable\"><input class=\"sk-toggleable__control sk-hidden--visually\" id=\"sk-estimator-id-21\" type=\"checkbox\" ><label for=\"sk-estimator-id-21\" class=\"sk-toggleable__label sk-toggleable__label-arrow\">LogisticRegression</label><div class=\"sk-toggleable__content\"><pre>LogisticRegression(C=1000.0, random_state=42, solver=&#x27;saga&#x27;)</pre></div></div></div></div></div></div></div>"
      ],
      "text/plain": [
       "Pipeline(memory='/var/folders/dp/r86j009572g6fk5d87hv187h0000gp/T/tmpdsj_6u6t',\n",
       "         steps=[('dim_reducer', KernelPCA(n_components=6)),\n",
       "                ('model',\n",
       "                 LogisticRegression(C=1000.0, random_state=42, solver='saga'))])"
      ]
     },
     "execution_count": 555,
     "metadata": {},
     "output_type": "execute_result"
    }
   ],
   "source": [
    "estimators = [('dim_reducer', KernelPCA(n_components=6)),('model', LogisticRegression(random_state=42, C=1000.0, solver='saga'))]\n",
    "\n",
    "#build estimator list trat this as a placeholder\n",
    "cachedir3 = mkdtemp()\n",
    "pipe3=Pipeline(estimators, memory=cachedir3)\n",
    "\n",
    "param_grid3 = [\n",
    "            {'model':[LogisticRegression(random_state=42, C=1000.0, solver='saga')],\n",
    "            'dim_reducer': [KernelPCA(kernel='linear'), KernelPCA(kernel='poly'), KernelPCA(kernel='rbf'), KernelPCA(kernel='sigmoid')],\n",
    "            'dim_reducer__n_components': [6]}]\n",
    "\n",
    "#Instantiate the GridSearch\n",
    "        \n",
    "grid3 = GridSearchCV(pipe3, param_grid3, cv=5)\n",
    "\n",
    "#fit the grid search to the train data\n",
    "fittedgrid3 = grid3.fit(X_train_sm_ss, y_train_sm)\n",
    "\n",
    "#display the best estimator\n",
    "fittedgrid3.best_estimator_"
   ]
  },
  {
   "cell_type": "code",
   "execution_count": 556,
   "id": "fb1ffba4-0b8f-4f57-9165-024a2757b03a",
   "metadata": {
    "tags": []
   },
   "outputs": [
    {
     "name": "stdout",
     "output_type": "stream",
     "text": [
      "Logistic Regression Metrics:\n",
      "Accuracy: 0.26556741028128034\n",
      "Precision: 0.30021072995837367\n",
      "Recall: 0.26556741028128034\n",
      "F1 Score: 0.25379038760137307\n",
      "Confusion Matrix:\n",
      "[[278 593 192 502]\n",
      " [283 610 185 510]\n",
      " [191 457 157 606]\n",
      " [ 58 159  50 324]]\n",
      "Classification Report:\n",
      "              precision    recall  f1-score   support\n",
      "\n",
      "           1       0.34      0.18      0.23      1565\n",
      "           2       0.34      0.38      0.36      1588\n",
      "           3       0.27      0.11      0.16      1411\n",
      "           4       0.17      0.55      0.26       591\n",
      "\n",
      "    accuracy                           0.27      5155\n",
      "   macro avg       0.28      0.31      0.25      5155\n",
      "weighted avg       0.30      0.27      0.25      5155\n",
      "\n"
     ]
    }
   ],
   "source": [
    "#fit the best model and evaluate use a pipeline for Kernel dim reduction prior to log regression\n",
    "pipeline = Pipeline([\n",
    "    ('kernel_pca', KernelPCA(n_components=6, kernel='rbf')),\n",
    "    ('log_reg', LogisticRegression(C=1000.0, solver='saga', random_state=42))\n",
    "])\n",
    "\n",
    "# Fit the pipeline to the training data\n",
    "pipeline.fit(X_train_sm_ss, y_train_sm)\n",
    "\n",
    "# Now you can use pipeline to make predictions, for example:\n",
    "y_pred = pipeline.predict(X_test_ss)\n",
    "\n",
    "#score\n",
    "accuracy_pipe = accuracy_score(y_test, y_pred)\n",
    "precision_pipe = precision_score(y_test, y_pred, average='weighted')\n",
    "recall_pipe = recall_score(y_test, y_pred, average='weighted')\n",
    "f1_pipe = f1_score(y_test, y_pred, average='weighted')\n",
    "conf_mat_pipe = confusion_matrix(y_test, y_pred)\n",
    "clf_report_pipe = classification_report(y_test, y_pred)\n",
    "\n",
    "# Print metrics\n",
    "print(\"Logistic Regression Metrics:\")\n",
    "print(f\"Accuracy: {accuracy_pipe}\")\n",
    "print(f\"Precision: {precision_pipe}\")\n",
    "print(f\"Recall: {recall_pipe}\")\n",
    "print(f\"F1 Score: {f1_pipe}\")\n",
    "print(\"Confusion Matrix:\")\n",
    "print(conf_mat_pipe)\n",
    "print(\"Classification Report:\")\n",
    "print(clf_report_pipe)\n"
   ]
  },
  {
   "cell_type": "code",
   "execution_count": null,
   "id": "f1775d48-3bc1-4030-a8f9-4ab098237ae9",
   "metadata": {},
   "outputs": [],
   "source": []
  },
  {
   "cell_type": "code",
   "execution_count": null,
   "id": "2abbe15e-b8e8-4b7e-838f-3b0c6219cb42",
   "metadata": {},
   "outputs": [],
   "source": [
    "\n",
    "\n",
    "\n",
    "#instantiate model with best parameteres from above\n",
    "logreg_1 = LogisticRegression(random_state=42, C=1000.0, solver='saga')\n",
    "\n",
    "#fit the model\n",
    "logreg_1.fit(X_train_sm_ss, y_train_sm)\n",
    "\n",
    "#make predictions\n",
    "logreg_1_pred = logreg_1.predict(X_test_ss)\n",
    "\n",
    "#compute metrics\n",
    "\n",
    "accuracy_lg1 = accuracy_score(y_test, logreg_1_pred)\n",
    "precision_lg1 = precision_score(y_test, logreg_1_pred, average='weighted')\n",
    "recall_lg1 = recall_score(y_test, logreg_1_pred, average='weighted')\n",
    "f1_lg1 = f1_score(y_test, logreg_1_pred, average='weighted')\n",
    "conf_mat_lg1 = confusion_matrix(y_test, logreg_1_pred)\n",
    "clf_report_lg1 = classification_report(y_test, logreg_1_pred)\n",
    "\n",
    "# Print metrics\n",
    "print(\"Logistic Regression Metrics:\")\n",
    "print(f\"Accuracy: {accuracy_lg1}\")\n",
    "print(f\"Precision: {precision_lg1}\")\n",
    "print(f\"Recall: {recall_lg1}\")\n",
    "print(f\"F1 Score: {f1_lg1}\")\n",
    "print(\"Confusion Matrix:\")\n",
    "print(conf_mat_lg1)\n",
    "print(\"Classification Report:\")\n",
    "print(clf_report_lg1)\n",
    "\n"
   ]
  },
  {
   "cell_type": "code",
   "execution_count": null,
   "id": "5e3a0581-1a37-467c-a9d0-add8d9520b3c",
   "metadata": {},
   "outputs": [],
   "source": []
  },
  {
   "cell_type": "markdown",
   "id": "1aaaef51-edb8-41d4-b07a-077d379ec543",
   "metadata": {},
   "source": [
    "### KNN"
   ]
  },
  {
   "cell_type": "code",
   "execution_count": null,
   "id": "0b1e638d-2201-4c96-a6c7-bdc5db5bf060",
   "metadata": {},
   "outputs": [],
   "source": []
  },
  {
   "cell_type": "markdown",
   "id": "28c301b5-2a3f-4ec7-a919-e406965c0c8f",
   "metadata": {},
   "source": [
    "### DT Classifier"
   ]
  },
  {
   "cell_type": "code",
   "execution_count": null,
   "id": "3c117429-b345-413c-8c8c-f230c405d0f7",
   "metadata": {},
   "outputs": [],
   "source": [
    "# Initialize the model\n",
    "dec_tree = DecisionTreeClassifier(random_state=42)\n",
    "\n",
    "# Define the hyperparameter grid to search\n",
    "param_grid = {\n",
    "    'criterion': ['gini', 'entropy'], \n",
    "    'max_depth': [None, 10, 20, 30],   \n",
    "    'min_samples_split': [2, 5, 10],   \n",
    "    'min_samples_leaf': [1, 2, 4]      \n",
    "}\n",
    "\n",
    "# Initialize GridSearchCV with the model, parameter grid, and scoring metric (F1 score)\n",
    "grid_search = GridSearchCV(dec_tree, param_grid, cv=5, scoring='f1', n_jobs=-1)\n",
    "\n",
    "# Perform the hyperparameter search on the validation data\n",
    "grid_search.fit(X_train, y_train)\n",
    "\n",
    "# Get the best hyperparameters and the corresponding model\n",
    "best_params = grid_search.best_params_\n",
    "best_model = grid_search.best_estimator_\n",
    "\n",
    "# Make predictions using the best model\n",
    "preds_tuned = best_model.predict(X_val)\n",
    "\n",
    "# Compute metrics for the tuned model\n",
    "accuracy_tuned = accuracy_score(y_val, preds_tuned)\n",
    "precision_tuned = precision_score(y_val, preds_tuned)\n",
    "recall_tuned = recall_score(y_val, preds_tuned)\n",
    "f1_tuned = f1_score(y_val, preds_tuned)\n",
    "conf_mat_tuned = confusion_matrix(y_val, preds_tuned)\n",
    "clf_report_tuned = classification_report(y_val, preds_tuned)\n",
    "\n",
    "# Print metrics for the tuned model\n",
    "print(\"Tuned Decision Tree Metrics:\")\n",
    "print(f\"Best Hyperparameters: {best_params}\")\n",
    "print(f\"Accuracy: {accuracy_tuned}\")\n",
    "print(f\"Precision: {precision_tuned}\")\n",
    "print(f\"Recall: {recall_tuned}\")\n",
    "print(f\"F1 Score: {f1_tuned}\")\n",
    "print(\"Confusion Matrix:\")\n",
    "print(conf_mat_tuned)\n",
    "print(\"Classification Report:\")\n",
    "print(clf_report_tuned)"
   ]
  },
  {
   "cell_type": "markdown",
   "id": "443e2499-e270-48ca-92af-62791fce11c6",
   "metadata": {},
   "source": [
    "### XGBoost"
   ]
  },
  {
   "cell_type": "code",
   "execution_count": null,
   "id": "425e73ef-a096-438c-8adf-e25c35086f70",
   "metadata": {},
   "outputs": [],
   "source": [
    "# Initialize the model\n",
    "xgb = XGBClassifier(random_state=42, use_label_encoder=False, eval_metric='logloss')\n",
    "\n",
    "# Define the hyperparameter grid to search\n",
    "param_grid = {\n",
    "    'n_estimators': [100, 200, 300],      \n",
    "    'max_depth': [3, 5, 7],               \n",
    "    'learning_rate': [0.01, 0.1, 0.2]     \n",
    "}\n",
    "\n",
    "# Initialize GridSearchCV with the model, parameter grid, and scoring metric (F1 score)\n",
    "grid_search = GridSearchCV(xgb, param_grid, cv=5, scoring='f1', n_jobs=-1)\n",
    "\n",
    "# Perform the hyperparameter search on the validation data\n",
    "grid_search.fit(X_train, y_train)\n",
    "\n",
    "# Get the best hyperparameters and the corresponding model\n",
    "best_params = grid_search.best_params_\n",
    "best_model = grid_search.best_estimator_\n",
    "\n",
    "# Make predictions using the best model\n",
    "preds_tuned = best_model.predict(X_val)\n",
    "\n",
    "# Compute metrics for the tuned model\n",
    "accuracy_tuned = accuracy_score(y_val, preds_tuned)\n",
    "precision_tuned = precision_score(y_val, preds_tuned)\n",
    "recall_tuned = recall_score(y_val, preds_tuned)\n",
    "f1_tuned = f1_score(y_val, preds_tuned)\n",
    "conf_mat_tuned = confusion_matrix(y_val, preds_tuned)\n",
    "clf_report_tuned = classification_report(y_val, preds_tuned)\n",
    "\n",
    "# Print metrics for the tuned model\n",
    "print(\"Tuned XGBoost Metrics:\")\n",
    "print(f\"Best Hyperparameters: {best_params}\")\n",
    "print(f\"Accuracy: {accuracy_tuned}\")\n",
    "print(f\"Precision: {precision_tuned}\")\n",
    "print(f\"Recall: {recall_tuned}\")\n",
    "print(f\"F1 Score: {f1_tuned}\")\n",
    "print(\"Confusion Matrix:\")\n",
    "print(conf_mat_tuned)\n",
    "print(\"Classification Report:\")\n",
    "print(clf_report_tuned)"
   ]
  },
  {
   "cell_type": "markdown",
   "id": "1949cc17-15e5-4838-b369-2cf9b31b60a1",
   "metadata": {},
   "source": [
    "### Random Forest\n"
   ]
  },
  {
   "cell_type": "code",
   "execution_count": null,
   "id": "684ee353-57a7-4cdb-9fb9-df357b87dac9",
   "metadata": {},
   "outputs": [],
   "source": [
    "# Initialize the model\n",
    "rand_forest = RandomForestClassifier(random_state=42)\n",
    "\n",
    "# Define the hyperparameter grid to search\n",
    "param_grid = {\n",
    "    'n_estimators': [100, 200, 300],         \n",
    "    'max_depth': [None, 10, 20, 30],          \n",
    "    'min_samples_split': [2, 5, 10],          \n",
    "    'min_samples_leaf': [1, 2, 4]           \n",
    "}\n",
    "\n",
    "# Initialize GridSearchCV with the model, parameter grid, and scoring metric (F1 score)\n",
    "grid_search = GridSearchCV(rand_forest, param_grid, cv=5, scoring='f1', n_jobs=-1)\n",
    "\n",
    "# Perform the hyperparameter search on the validation data\n",
    "grid_search.fit(X_train, y_train)\n",
    "\n",
    "# Get the best hyperparameters and the corresponding model\n",
    "best_params = grid_search.best_params_\n",
    "best_model = grid_search.best_estimator_\n",
    "\n",
    "# Make predictions using the best model\n",
    "preds_tuned = best_model.predict(X_val)\n",
    "\n",
    "# Compute metrics for the tuned model\n",
    "accuracy_tuned = accuracy_score(y_val, preds_tuned)\n",
    "precision_tuned = precision_score(y_val, preds_tuned)\n",
    "recall_tuned = recall_score(y_val, preds_tuned)\n",
    "f1_tuned = f1_score(y_val, preds_tuned)\n",
    "conf_mat_tuned = confusion_matrix(y_val, preds_tuned)\n",
    "clf_report_tuned = classification_report(y_val, preds_tuned)\n",
    "\n",
    "# Print metrics for the tuned model\n",
    "print(\"Tuned Random Forest Metrics:\")\n",
    "print(f\"Best Hyperparameters: {best_params}\")\n",
    "print(f\"Accuracy: {accuracy_tuned}\")\n",
    "print(f\"Precision: {precision_tuned}\")\n",
    "print(f\"Recall: {recall_tuned}\")\n",
    "print(f\"F1 Score: {f1_tuned}\")\n",
    "print(\"Confusion Matrix:\")\n",
    "print(conf_mat_tuned)\n",
    "print(\"Classification Report:\")\n",
    "print(clf_report_tuned)"
   ]
  },
  {
   "cell_type": "markdown",
   "id": "90c8088e-5566-438d-94b5-ab31cfa0f333",
   "metadata": {},
   "source": [
    "### SVM -OvO or OvA \n",
    "- see feature_new.ipynb"
   ]
  },
  {
   "cell_type": "code",
   "execution_count": null,
   "id": "8e8c666e-41c0-46c3-90d8-0f5bb0c4c376",
   "metadata": {},
   "outputs": [],
   "source": []
  },
  {
   "cell_type": "markdown",
   "id": "1e2acf28-7a16-41a9-850f-a15d411370d5",
   "metadata": {},
   "source": [
    "### Hyper Parameter Tuning Summary"
   ]
  },
  {
   "cell_type": "code",
   "execution_count": null,
   "id": "50899b3e-6415-4c22-be33-492b1b5e76b4",
   "metadata": {},
   "outputs": [],
   "source": [
    "# Set the maximum column width to -1 to display all the text in a column\n",
    "pd.set_option('display.max_colwidth', -1)\n",
    "\n",
    "# Create a DataFrame with the best parameters for each model\n",
    "best_params_df = pd.DataFrame({\n",
    "    'Model': ['Logistic Regression', 'Decision Tree', 'Random Forest', 'XGBoost'],\n",
    "    'Best Parameters': [\n",
    "        {'C': 0.1, 'penalty': 'l2'},\n",
    "        {'criterion': 'entropy', 'max_depth': None, 'min_samples_leaf': 1, 'min_samples_split': 2},\n",
    "        {'max_depth': None, 'min_samples_leaf': 1, 'min_samples_split': 2, 'n_estimators': 300},\n",
    "        {'learning_rate': 0.1, 'max_depth': 7, 'n_estimators': 200}\n",
    "    ]\n",
    "})\n",
    "\n",
    "print(best_params_df)\n"
   ]
  },
  {
   "cell_type": "markdown",
   "id": "f2de3df1-a318-4356-a0d5-9751e614420b",
   "metadata": {},
   "source": [
    "# Compare Baseline Models"
   ]
  },
  {
   "cell_type": "code",
   "execution_count": 633,
   "id": "56ca5e61-15a8-40b3-924c-2d5d9e1ef590",
   "metadata": {
    "tags": []
   },
   "outputs": [
    {
     "data": {
      "image/png": "[encoded data removed]",
      "text/plain": [
       "<Figure size 1200x800 with 1 Axes>"
      ]
     },
     "metadata": {},
     "output_type": "display_data"
    }
   ],
   "source": [
    "import matplotlib.pyplot as plt\n",
    "import numpy as np\n",
    "\n",
    "# Sample data: replace these with your actual values\n",
    "accuracies = [0.5712598425196851, 0.549466537342386, 0.4561023622047244, 0.4549212598425197, 0.3957322987390883, 0.38405511811023624]\n",
    "f1_scores = [0.5593325953595994, 0.5450124812739251, 0.45247088849868766, 0.45117039070858844, 0.3946680249389642, 0.3845143008061653]\n",
    "model_names = ['Logistic Regression', 'XGBoost', 'SVM-OvA', 'SVM-OvO', 'Decision Tree', 'KNN']\n",
    "\n",
    "# Set up the bar width and positions\n",
    "barWidth = 0.4\n",
    "acc_bars = np.arange(len(accuracies))\n",
    "f1_bars = [x + barWidth for x in acc_bars]\n",
    "\n",
    "# Create the bars\n",
    "plt.figure(figsize=(12, 8))\n",
    "plt.bar(acc_bars, accuracies, color='skyblue', width=barWidth, edgecolor='grey', label='Accuracy')\n",
    "plt.bar(f1_bars, f1_scores, color='purple', width=barWidth, edgecolor='grey', label='F1 Score')\n",
    "\n",
    "# Add labels and title\n",
    "plt.xlabel('Models', fontsize=15)\n",
    "plt.ylabel('Scores', fontsize=15)\n",
    "plt.xticks([r + barWidth/2 for r in range(len(accuracies))], model_names,  rotation=45, ha=\"right\", fontweight='bold', fontsize=12)\n",
    "\n",
    "# Create legend & Show graphic\n",
    "plt.title('Baseline Model Performance: Accuracy and F1 Score', fontsize=15, fontweight='bold')\n",
    "plt.legend()\n",
    "plt.tight_layout()\n",
    "\n",
    "# Adding value labels on top of each bar\n",
    "for i in range(len(acc_bars)):\n",
    "    plt.text(acc_bars[i], accuracies[i] + 0.01, f'{accuracies[i]:.2f}', ha = 'center')\n",
    "    plt.text(f1_bars[i], f1_scores[i] + 0.01, f'{f1_scores[i]:.2f}', ha = 'center')\n",
    "\n",
    "# Show and save the plot\n",
    "plt.tight_layout()\n",
    "plt.savefig('baseline_model_performance.png', format='png', dpi=300, bbox_inches='tight')\n",
    "\n",
    "plt.show()\n",
    "\n"
   ]
  },
  {
   "cell_type": "code",
   "execution_count": 635,
   "id": "31f2b1ba-10ab-4020-bebc-66835ff92d27",
   "metadata": {
    "tags": []
   },
   "outputs": [
    {
     "data": {
      "image/png": "[encoded data removed]",
      "text/plain": [
       "<Figure size 800x600 with 1 Axes>"
      ]
     },
     "metadata": {},
     "output_type": "display_data"
    }
   ],
   "source": [
    "# Sample data: replace these with your actual values\n",
    "original_class_distribution = pd.Series(y_train).value_counts().sort_index()\n",
    "resampled_class_distribution = pd.Series(y_train_sm).value_counts().sort_index()\n",
    "\n",
    "# Class labels\n",
    "class_labels = {1: 'Very Poor', 2: 'Poor', 3: 'Intermediate', 4: 'Good'}\n",
    "\n",
    "# Map the class numbers to the class labels\n",
    "original_class_labels = [class_labels[i] for i in original_class_distribution.index]\n",
    "resampled_class_labels = [class_labels[i] for i in resampled_class_distribution.index]\n",
    "\n",
    "# Original class distribution plot\n",
    "plt.figure(figsize=(8, 6))\n",
    "plt.bar(original_class_labels, original_class_distribution, color='skyblue')\n",
    "plt.title('Original Category Distribution', fontsize=15, fontweight='bold')\n",
    "plt.xlabel('Prognosis Category', fontsize=12)\n",
    "plt.ylabel('Number of Patients', fontsize=12)\n",
    "plt.xticks(fontsize=12, fontweight='bold')\n",
    "plt.grid(axis='y')\n",
    "plt.tight_layout()\n",
    "plt.savefig('original_category_distribution.png', format='png', dpi=300, bbox_inches='tight')\n",
    "plt.show()\n"
   ]
  },
  {
   "cell_type": "code",
   "execution_count": 629,
   "id": "39e1e430-c812-445e-a392-25f668502884",
   "metadata": {
    "tags": []
   },
   "outputs": [
    {
     "data": {
      "image/png": "[encoded data removed]",
      "text/plain": [
       "<Figure size 800x600 with 1 Axes>"
      ]
     },
     "metadata": {},
     "output_type": "display_data"
    }
   ],
   "source": [
    "\n",
    "# Resampled class distribution plot\n",
    "plt.figure(figsize=(8, 6))\n",
    "plt.bar(resampled_class_labels, resampled_class_distribution, color='skyblue')\n",
    "plt.title('Resampled Category Distribution (SMOTE)', fontsize=15, fontweight='bold')\n",
    "plt.xlabel('Prognosis Category', fontsize=12)\n",
    "plt.ylabel('Number of Patients', fontsize=12)\n",
    "plt.xticks(fontsize=12, fontweight='bold')\n",
    "plt.grid(axis='y')\n",
    "plt.tight_layout()\n",
    "plt.savefig('Resampled_Category_Distribution.png', format='png', dpi=300, bbox_inches='tight')\n",
    "plt.show()"
   ]
  },
  {
   "cell_type": "code",
   "execution_count": null,
   "id": "25625983-4876-47ad-84eb-e975ee7f3fc1",
   "metadata": {},
   "outputs": [],
   "source": []
  },
  {
   "cell_type": "code",
   "execution_count": null,
   "id": "1c6ed884-974c-43eb-8363-037d17efe5a8",
   "metadata": {},
   "outputs": [],
   "source": []
  }
 ],
 "metadata": {
  "kernelspec": {
   "display_name": "deeplearning",
   "language": "python",
   "name": "deeplearning"
  },
  "language_info": {
   "codemirror_mode": {
    "name": "ipython",
    "version": 3
   },
   "file_extension": ".py",
   "mimetype": "text/x-python",
   "name": "python",
   "nbconvert_exporter": "python",
   "pygments_lexer": "ipython3",
   "version": "3.8.15"
  }
 },
 "nbformat": 4,
 "nbformat_minor": 5
}
