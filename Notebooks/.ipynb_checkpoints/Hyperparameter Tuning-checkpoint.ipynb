{
 "cells": [
  {
   "cell_type": "markdown",
   "id": "ffc38cff-6b5e-4d2c-a677-92cce83a8a2e",
   "metadata": {},
   "source": [
    "## Baseline Modeling:\n",
    "- no hyperparam tuning. save for grid search\n",
    "- should i do on scaled or not? PCA?\n",
    "\n"
   ]
  },
  {
   "cell_type": "markdown",
   "id": "88750caa-e336-4c42-9086-af091b0925f8",
   "metadata": {},
   "source": [
    "### Logistic Regression"
   ]
  },
  {
   "cell_type": "code",
   "execution_count": null,
   "id": "6b1af063-087a-4978-a68f-4824288b32b3",
   "metadata": {},
   "outputs": [],
   "source": [
    "# Initialize the model\n",
    "log_reg = LogisticRegression(random_state=42)\n",
    "\n",
    "# Train the model\n",
    "log_reg.fit(X_train, y_train)\n",
    "\n",
    "# Make predictions\n",
    "preds = log_reg.predict(X_val)\n",
    "\n",
    "# Compute metrics\n",
    "accuracy_lg = accuracy_score(y_val, preds)\n",
    "precision_lg = precision_score(y_val, preds)\n",
    "recall_lg = recall_score(y_val, preds)\n",
    "f1_lg = f1_score(y_val, preds)\n",
    "conf_mat_lg = confusion_matrix(y_val, preds)\n",
    "clf_report_lg = classification_report(y_val, preds)\n",
    "\n",
    "# Print metrics\n",
    "print(\"Logistic Regression Metrics:\")\n",
    "print(f\"Accuracy: {accuracy_lg}\")\n",
    "print(f\"Precision: {precision_lg}\")\n",
    "print(f\"Recall: {recall_lg}\")\n",
    "print(f\"F1 Score: {f1_lg}\")\n",
    "print(\"Confusion Matrix:\")\n",
    "print(conf_mat_lg)\n",
    "print(\"Classification Report:\")\n",
    "print(clf_report_lg)"
   ]
  },
  {
   "cell_type": "markdown",
   "id": "d2af4ed4-b12b-422b-8b4d-b72a86c93f3d",
   "metadata": {},
   "source": [
    "### KNN "
   ]
  },
  {
   "cell_type": "code",
   "execution_count": null,
   "id": "5d189c88-48e0-4f2a-b17f-2f77db938be4",
   "metadata": {},
   "outputs": [],
   "source": []
  },
  {
   "cell_type": "markdown",
   "id": "dc11e253-d928-42ae-b635-4823bfe6edc5",
   "metadata": {},
   "source": [
    "### Decision Tree Classifier"
   ]
  },
  {
   "cell_type": "code",
   "execution_count": null,
   "id": "0bb14328-89c9-4af1-bf8b-fb753d7cc412",
   "metadata": {},
   "outputs": [],
   "source": [
    "# Initialize the model\n",
    "dec_tree = DecisionTreeClassifier(random_state=42)\n",
    "\n",
    "# Train the model\n",
    "dec_tree.fit(X_train, y_train)\n",
    "\n",
    "# Make predictions\n",
    "preds = dec_tree.predict(X_val)\n",
    "\n",
    "# Compute metrics\n",
    "accuracy_dt = accuracy_score(y_val, preds)\n",
    "precision_dt = precision_score(y_val, preds)\n",
    "recall_dt = recall_score(y_val, preds)\n",
    "f1_dt = f1_score(y_val, preds)\n",
    "conf_mat_dt = confusion_matrix(y_val, preds)\n",
    "clf_report_dt = classification_report(y_val, preds)\n",
    "\n",
    "# Print metrics\n",
    "print(\"Decision Tree Metrics:\")\n",
    "print(f\"Accuracy: {accuracy_dt}\")\n",
    "print(f\"Precision: {precision_dt}\")\n",
    "print(f\"Recall: {recall_dt}\")\n",
    "print(f\"F1 Score: {f1_dt}\")\n",
    "print(\"Confusion Matrix:\")\n",
    "print(conf_mat_dt)\n",
    "print(\"Classification Report:\")\n",
    "print(clf_report_dt)"
   ]
  },
  {
   "cell_type": "markdown",
   "id": "e8d4cb8a-13f9-4f2a-b930-dbda9082d0ab",
   "metadata": {},
   "source": [
    "### XG Boost"
   ]
  },
  {
   "cell_type": "code",
   "execution_count": null,
   "id": "409bbf38-0171-402b-b4cb-9ff77e777c8a",
   "metadata": {},
   "outputs": [],
   "source": [
    "# Initialize the model\n",
    "xgb = XGBClassifier(random_state=42, use_label_encoder=False, eval_metric='logloss')\n",
    "\n",
    "# Train the model\n",
    "xgb.fit(X_train, y_train)\n",
    "\n",
    "# Make predictions\n",
    "preds = xgb.predict(X_val)\n",
    "\n",
    "# Compute metrics\n",
    "accuracy_xgb = accuracy_score(y_val, preds)\n",
    "precision_xgb = precision_score(y_val, preds)\n",
    "recall_xgb = recall_score(y_val, preds)\n",
    "f1_xgb = f1_score(y_val, preds)\n",
    "conf_mat_xgb = confusion_matrix(y_val, preds)\n",
    "clf_report_xgb = classification_report(y_val, preds)\n",
    "\n",
    "# Print metrics\n",
    "print(\"XGBoost Metrics:\")\n",
    "print(f\"Accuracy: {accuracy_xgb}\")\n",
    "print(f\"Precision: {precision_xgb}\")\n",
    "print(f\"Recall: {recall_xgb}\")\n",
    "print(f\"F1 Score: {f1_xgb}\")\n",
    "print(\"Confusion Matrix:\")\n",
    "print(conf_mat_xgb)\n",
    "print(\"Classification Report:\")\n",
    "print(clf_report_xgb)"
   ]
  },
  {
   "cell_type": "markdown",
   "id": "ff9c0997-cd56-4556-93fe-b4be26d5a00a",
   "metadata": {},
   "source": []
  },
  {
   "cell_type": "code",
   "execution_count": null,
   "id": "c04a771d-a059-4d91-8ea1-956b6e20e1e7",
   "metadata": {},
   "outputs": [],
   "source": []
  },
  {
   "cell_type": "code",
   "execution_count": null,
   "id": "08fc79fe-31a1-40ba-b697-57b9e6cd5854",
   "metadata": {},
   "outputs": [],
   "source": []
  },
  {
   "cell_type": "code",
   "execution_count": null,
   "id": "77a1cb3f-fb92-40fb-a2ed-38ba2ab2ba05",
   "metadata": {},
   "outputs": [],
   "source": []
  },
  {
   "cell_type": "code",
   "execution_count": null,
   "id": "9e0f4932-4a53-4a4b-a3fc-2d0f9232c77b",
   "metadata": {},
   "outputs": [],
   "source": []
  },
  {
   "cell_type": "markdown",
   "id": "c3a3d9c5-9a47-4952-9f4f-c09bea331771",
   "metadata": {},
   "source": [
    "### Random Forest Classifier?"
   ]
  },
  {
   "cell_type": "code",
   "execution_count": null,
   "id": "877b46ec-f890-4947-aa28-ce8cf892542e",
   "metadata": {},
   "outputs": [],
   "source": [
    "# Initialize the model\n",
    "rand_forest = RandomForestClassifier(random_state=42)\n",
    "\n",
    "# Train the model\n",
    "rand_forest.fit(X_train, y_train)\n",
    "\n",
    "# Make predictions\n",
    "preds = rand_forest.predict(X_val)\n",
    "\n",
    "# Compute metrics\n",
    "accuracy_rf = accuracy_score(y_val, preds)\n",
    "precision_rf = precision_score(y_val, preds)\n",
    "recall_rf = recall_score(y_val, preds)\n",
    "f1_rf = f1_score(y_val, preds)\n",
    "conf_mat_rf = confusion_matrix(y_val, preds)\n",
    "clf_report_rf = classification_report(y_val, preds)\n",
    "\n",
    "# Print metrics\n",
    "print(\"Random Forest Metrics:\")\n",
    "print(f\"Accuracy: {accuracy_rf}\")\n",
    "print(f\"Precision: {precision_rf}\")\n",
    "print(f\"Recall: {recall_rf}\")\n",
    "print(f\"F1 Score: {f1_rf}\")\n",
    "print(\"Confusion Matrix:\")\n",
    "print(conf_mat_rf)\n",
    "print(\"Classification Report:\")\n",
    "print(clf_report_rf)"
   ]
  },
  {
   "cell_type": "markdown",
   "id": "4d756f3d-d2b6-4395-a7b0-7570644ee0e7",
   "metadata": {},
   "source": [
    "### SVM - OvO or OvA?\n",
    "- see feature_new.ipynb"
   ]
  },
  {
   "cell_type": "code",
   "execution_count": null,
   "id": "2fdde795-a504-43d0-954a-31410b6b6688",
   "metadata": {},
   "outputs": [],
   "source": []
  },
  {
   "cell_type": "code",
   "execution_count": null,
   "id": "71c1543c-a56e-44f9-b1d9-66bb33d77e82",
   "metadata": {},
   "outputs": [],
   "source": []
  },
  {
   "cell_type": "code",
   "execution_count": null,
   "id": "a1b9e102-1e5d-48be-82ad-310955eb5835",
   "metadata": {},
   "outputs": [],
   "source": []
  },
  {
   "cell_type": "code",
   "execution_count": null,
   "id": "12ab3997-f53e-447b-890a-f6aef77c3198",
   "metadata": {},
   "outputs": [],
   "source": []
  },
  {
   "cell_type": "code",
   "execution_count": null,
   "id": "8bca7980-1909-465c-9cf7-d36fd79f8ee4",
   "metadata": {},
   "outputs": [],
   "source": []
  }
 ],
 "metadata": {
  "kernelspec": {
   "display_name": "deeplearning",
   "language": "python",
   "name": "deeplearning"
  },
  "language_info": {
   "codemirror_mode": {
    "name": "ipython",
    "version": 3
   },
   "file_extension": ".py",
   "mimetype": "text/x-python",
   "name": "python",
   "nbconvert_exporter": "python",
   "pygments_lexer": "ipython3",
   "version": "3.8.15"
  }
 },
 "nbformat": 4,
 "nbformat_minor": 5
}
