{
 "cells": [
  {
   "cell_type": "markdown",
   "id": "a1ec154e-dae4-436d-b82b-4214b294b3c5",
   "metadata": {},
   "source": [
    "---\n",
    "\n",
    "# Cancer Survivability Prediction\n",
    "\n",
    "---"
   ]
  },
  {
   "cell_type": "markdown",
   "id": "07a7bad4-4603-466a-a964-dd77ebf8d58d",
   "metadata": {
    "tags": []
   },
   "source": [
    "## Table of Contents\n",
    "---\n",
    "1. [Introduction](#introduction)\n",
    "2. [Key Questions](#keyquestions)\n",
    "3. [Methods Used for Analysis](#methods)\n",
    "    -[Loading Libraries](#libs)\n",
    "4. [Data Set](#dataset)\n",
    "    - [Data Dictionary](#dict)\n",
    "5. [Initial Data Cleaning](#cleaning)\n",
    "    - [Plan of Action](#action)\n",
    "    - [Data Loading](#load)\n",
    "    - [Data Assessment](#assess)\n",
    "    - [Handling Missing Values](#missing)\n",
    "6. [Findings Summary](#findings)\n",
    "    - [Next Steps](#next)\n"
   ]
  },
  {
   "cell_type": "code",
   "execution_count": null,
   "id": "4675e23d-a85e-44e3-98e0-6fadf851a11b",
   "metadata": {},
   "outputs": [],
   "source": []
  },
  {
   "cell_type": "markdown",
   "id": "f677548c-68ca-41e7-b81d-136319ac5b4e",
   "metadata": {
    "tags": []
   },
   "source": [
    "## Introduction <a class=\"anchor\" id=\"introduction\"></a>\n",
    "---\n",
    "\n",
    "The goal of this project is to build a machine learning model to accurately predict the prognosis i.e. the survivability of various cancers using key demographic and tumour specific indicatiors.  The goal is to generate a more accurate prognosis to allow physicians to better inform their patients of thier cancer prognosis and overall survivability.  The ultimate use of this would allow for improved pateint care, better resource management, identifying patients for clinical trials and an overall increase in a patient's quality of life."
   ]
  },
  {
   "cell_type": "markdown",
   "id": "df0c0912-3607-4874-93bf-fa3d09bfd633",
   "metadata": {},
   "source": [
    "## Key Questions <a class=\"anchor\" id=\"keyquestions\"></a>\n",
    "---\n",
    "\n",
    "This analysis of this data set attempts to answer the following questions:\n",
    "\n",
    "- Using Machine Learning, are we able to accurately predict prognosis and overall survivability for pateints with cancer - using various demographic and cancer specific features?\n",
    "\n",
    "We will use this throughout the analysis to explore the relationships between key featues and gather insights about data derived from the cBioPortal for Cancer genomics: MSK MetTropism (MSK, Cell 2021) study\n"
   ]
  },
  {
   "cell_type": "markdown",
   "id": "201f1204-b45f-45a9-955b-36deacf74fac",
   "metadata": {},
   "source": [
    "## Methods Used for Analysis <a class=\"anchor\" id=\"methods\"></a>\n",
    "---"
   ]
  },
  {
   "cell_type": "markdown",
   "id": "9531375d-b9e0-4667-8ddd-26e1b676a58a",
   "metadata": {},
   "source": [
    "I used `Python 3` in `Jupyter Lab` and its associated libraries:\n",
    " - Pandas\n",
    "- Matplotlib\n",
    "- Numpy\n",
    "- Seasborn\n",
    "\n",
    "We will load necesssary libraries below. More libraries will be loaded as needed for analysis."
   ]
  },
  {
   "cell_type": "markdown",
   "id": "00440373-314e-4711-997a-6e212d2c8790",
   "metadata": {},
   "source": [
    "### Loading the Necessary Libraries <a class=\"anchor\" id=\"load\"></a>"
   ]
  },
  {
   "cell_type": "code",
   "execution_count": 104,
   "id": "445a820e-af0a-42f6-86a4-e53185cbca54",
   "metadata": {},
   "outputs": [],
   "source": [
    "#load the necessary libraries for analysis\n",
    "import pandas as pd\n",
    "import numpy as np\n",
    "import matplotlib.pyplot as plt\n",
    "import seaborn as sns\n",
    "\n",
    "from scipy import stats\n",
    "from scipy.stats import norm\n"
   ]
  },
  {
   "cell_type": "markdown",
   "id": "f610d7df-64d3-4c1f-ba18-f13027c48c7a",
   "metadata": {},
   "source": [
    "## Data Set <a class=\"anchor\" id=\"dataset\"></a>\n",
    "---\n",
    "For this proejct, we will be using the MSK MetTropism data set collected at the Memorial Sloan Kettering Cancer Centre in New York, USA during the MSK Cell 2021 study. This data set contains information on patient demographics(such as age, gender, race) and cancer specific features. "
   ]
  },
  {
   "cell_type": "markdown",
   "id": "f3b8582f-cac9-41fb-a732-94eed07e930c",
   "metadata": {},
   "source": [
    "### Data Dictionary <a class=\"anchor\" id=\"dict\"></a>\n",
    "\n",
    "To help with the analysis, study the data dictionary below."
   ]
  },
  {
   "cell_type": "markdown",
   "id": "405834ff-4662-4d6b-affd-39a404b9aef0",
   "metadata": {},
   "source": [
    "<table>\n",
    "  <tr>\n",
    "    <th style=\"text-align: left; background: lightgrey\">Column Name</th>\n",
    "    <th style=\"text-align: left; background: lightgrey\">Description</th>\n",
    "  </tr>\n",
    "  <tr>\n",
    "    <td style=\"text-align: left\"> <code>Study ID</code> </td>\n",
    "    <td style=\"text-align: left\">ID for the Study where the data is from</td>\n",
    "  </tr>\n",
    "  <tr>\n",
    "    <td style=\"text-align: left\"><code>Patient ID</code></td>\n",
    "    <td style=\"text-align: left\">Unique patient identifier</td>\n",
    "  </tr>\n",
    "  <tr>\n",
    "    <td style=\"text-align: left\"><code>Sample ID</code></td>\n",
    "    <td style=\"text-align: left\">Unique sample identifier</td>\n",
    "  </tr>\n",
    "  <tr>\n",
    "    <td style=\"text-align: left\"><code>Age at Death</code></td>\n",
    "    <td style=\"text-align: left\">Age at which patient died (blank indicated patient is alive at time of study)</td>\n",
    "  </tr>\n",
    "  <tr>\n",
    "    <td style=\"text-align: left\"><code>Age at First Mets Dx</code></td>\n",
    "    <td style=\"text-align: left\">Age at which patient was diagnosed with metastatic cancer</td>\n",
    "  </tr>\n",
    "  <tr>\n",
    "    <td style=\"text-align: left\"><code>Age at Last Contact</code></td>\n",
    "    <td style=\"text-align: left\">Age at which the study made last contact with the patient</td>\n",
    "  </tr>\n",
    "  <tr>\n",
    "    <td style=\"text-align: left\"><code>Age at Sequencing</code></td>\n",
    "    <td style=\"text-align: left\">Age at which the patients tumour was genetically sequenced</td>\n",
    "  </tr>\n",
    "  <tr>\n",
    "    <td style=\"text-align: left\"><code>Age at Surgical Procedure</code></td>\n",
    "    <td style=\"text-align: left\">Age at which patentee underwent surgery to remove tumour</td>\n",
    "  </tr>\n",
    "  <tr>\n",
    "    <td style=\"text-align: left\"><code>Cancer Type</code></td>\n",
    "    <td style=\"text-align: left\">Type of cancer at diagnosis</td>\n",
    "  </tr>\n",
    "  <tr>\n",
    "    <td style=\"text-align: left\"><code>Cancer Type Detailed</code></td>\n",
    "    <td style=\"text-align: left\">Detailed description of cancer type</td>\n",
    "  </tr>\n",
    "  <tr>\n",
    "    <td style=\"text-align: left\"><code>Distant Mets: Adrenal Gland</code></td>\n",
    "    <td style=\"text-align: left\">Presence or absence of distant Metastasis at Diagnosis in the Adrenal Gland</td>\n",
    "  </tr>\n",
    "  <tr>\n",
    "    <td style=\"text-align: left\"><code>Distant Mets: Biliary tract</code></td>\n",
    "    <td style=\"text-align: left\">Presence or absence of distant Metastasis at Diagnosis in the Biliary tract </td>\n",
    "  </tr>\n",
    "  <tr>\n",
    "    <td style=\"text-align: left\"><code>Distant Mets: Bladder/UT</code></td>\n",
    "    <td style=\"text-align: left\">Presence or absence of distant Metastasis at Diagnosis in the Bladder/Urinary Tract </td>\n",
    "  </tr>\n",
    "  <tr>\n",
    "    <td style=\"text-align: left\"><code>Distant Mets: Bone</code></td>\n",
    "    <td style=\"text-align: left\">Presence or absence of distant Metastasis at Diagnosis in Bone </td>\n",
    "  </tr>\n",
    "  <tr>\n",
    "    <td style=\"text-align: left\"><code>Distant Mets: Bowel</code></td>\n",
    "    <td style=\"text-align: left\">Presence or absence of distant Metastasis at Diagnosis in the Bowel</td>\n",
    "  </tr>\n",
    "  <tr>\n",
    "    <td style=\"text-align: left\"><code>Distant Mets: Breast</code></td>\n",
    "    <td style=\"text-align: left\">Presence or absence of distant Metastasis at Diagnosis in the Breast tissue</td>\n",
    "  </tr>\n",
    "  <tr>\n",
    "    <td style=\"text-align: left\"><code>Distant Mets: CNS/Brain</code></td>\n",
    "    <td style=\"text-align: left\">Presence or absence of distant Metastasis at Diagnosis in the Central Nervous System(spinal cord)/Brain </td>\n",
    "  </tr>\n",
    "  <tr>\n",
    "    <td style=\"text-align: left\"><code>Distant Mets: Distant LN</code></td>\n",
    "    <td style=\"text-align: left\">Presence or absence of distant Metastasis at Diagnosis in distant Lymph Nodes</td>\n",
    "  </tr>\n",
    "   <tr>\n",
    "    <td style=\"text-align: left\"><code>Distant Mets: Female Genital</code></td>\n",
    "    <td style=\"text-align: left\">Presence or absence of distant Metastasis at Diagnosis in female genitalia</td>\n",
    "  </tr>\n",
    "   <tr>\n",
    "    <td style=\"text-align: left\"><code>Distant Mets: Head and Neck</code></td>\n",
    "    <td style=\"text-align: left\">Presence or absence of distant Metastasis at Diagnosis in the head or neck</td>\n",
    "  </tr>\n",
    "   <tr>\n",
    "    <td style=\"text-align: left\"><code>Distant Mets: Intra-Abdominal</code></td>\n",
    "    <td style=\"text-align: left\">Presence or absence of distant Metastasis at Diagnosis in the intra abdominal area</td>\n",
    "  </tr>\n",
    "   <tr>\n",
    "    <td style=\"text-align: left\"><code>Distant Mets: Kidney</code></td>\n",
    "    <td style=\"text-align: left\">Presence or absence of distant Metastasis at Diagnosis in the kidneys</td>\n",
    "  </tr>\n",
    "   <tr>\n",
    "    <td style=\"text-align: left\"><code>Distant Mets: Liver</code></td>\n",
    "    <td style=\"text-align: left\">Presence or absence of distant Metastasis at Diagnosis in the liver </td>\n",
    "  </tr>\n",
    "   <tr>\n",
    "    <td style=\"text-align: left\"><code>Distant Mets: Lung</code></td>\n",
    "    <td style=\"text-align: left\">Presence or absence of distant Metastasis at Diagnosis in the lungs</td>\n",
    "  </tr>\n",
    "   <tr>\n",
    "    <td style=\"text-align: left\"><code>Distant Mets: Male Genital</code></td>\n",
    "    <td style=\"text-align: left\">Presence or absence of distant Metastasis at Diagnosis in the male genitalia</td>\n",
    "  </tr>\n",
    "   <tr>\n",
    "    <td style=\"text-align: left\"><code>Distant Mets: Mediastinum</code></td>\n",
    "    <td style=\"text-align: left\">Presence or absence of distant Metastasis at Diagnosis in the mediastinum</td>\n",
    "  </tr>\n",
    "   <tr>\n",
    "    <td style=\"text-align: left\"><code>Distant Mets: Ovary</code></td>\n",
    "    <td style=\"text-align: left\">Presence or absence of distant Metastasis at Diagnosis in the ovaries</td>\n",
    "  </tr>\n",
    "   <tr>\n",
    "    <td style=\"text-align: left\"><code>Distant Mets: Pleura</code></td>\n",
    "    <td style=\"text-align: left\">Presence or absence of distant Metastasis at Diagnosis in pleural tissue</td>\n",
    "  </tr>\n",
    "   <tr>\n",
    "    <td style=\"text-align: left\"><code>Distant Mets: PNS</code></td>\n",
    "    <td style=\"text-align: left\">Presence or absence of distant Metastasis at Diagnosis in the peripheral nervous system</td>\n",
    "  </tr>\n",
    "   <tr>\n",
    "    <td style=\"text-align: left\"><code>Distant Mets: Skin</code></td>\n",
    "    <td style=\"text-align: left\">Presence or absence of distant Metastasis at Diagnosis in the skin </td>\n",
    "  </tr>\n",
    "  <tr>\n",
    "    <td style=\"text-align: left\"><code>Distant Mets: Unspecified</code></td>\n",
    "    <td style=\"text-align: left\">Presence or absence of distant Metastasis at Diagnosis in unspecified regions</td>\n",
    "  </tr>\n",
    "  <tr>\n",
    "    <td style=\"text-align: left\"><code>FGA</code></td>\n",
    "    <td style=\"text-align: left\">Fraction Genome Altered (rounded)</td>\n",
    "  </tr>\n",
    "  <tr>\n",
    "    <td style=\"text-align: left\"><code>Fraction Genome Altered</code></td>\n",
    "    <td style=\"text-align: left\">Fraction Genome Altered indicates the fraction of the genome that is copy-number altered. Add the length of all copy-number segments with an absolute value greater than 0.1 and then divide that number by the length of the genome. The resulting number is a fraction.</td>\n",
    "  </tr>\n",
    "  <tr>\n",
    "    <td style=\"text-align: left\"><code>Gene Panel</code></td>\n",
    "    <td style=\"text-align: left\">ID of the gene panel used for genetic sequencing</td>\n",
    "  </tr>\n",
    "  <tr>\n",
    "    <td style=\"text-align: left\"><code>Metastatic patient</code></td>\n",
    "    <td style=\"text-align: left\">True or False: if patient had metastatic disease or not</td>\n",
    "  </tr>\n",
    "  <tr>\n",
    "    <td style=\"text-align: left\"><code>Metastatic Site</code></td>\n",
    "    <td style=\"text-align: left\">The anatomic location where tumour has spread</td>\n",
    "  </tr>\n",
    "  <tr>\n",
    "    <td style=\"text-align: left\"><code>Met Count</code></td>\n",
    "    <td style=\"text-align: left\">Number of metastasis found</td>\n",
    "  </tr>\n",
    "  <tr>\n",
    "    <td style=\"text-align: left\"><code>Met Site Count</code></td>\n",
    "    <td style=\"text-align: left\">Number of different metastatic sites</td>\n",
    "  </tr>\n",
    "  <tr>\n",
    "    <td style=\"text-align: left\"><code>MSI Score</code></td>\n",
    "    <td style=\"text-align: left\">Numerical value of the amount of Microsatellite Instability found in the tumour</td>\n",
    "  </tr>\n",
    "  <tr>\n",
    "    <td style=\"text-align: left\"><code>MSI Type</code></td>\n",
    "    <td style=\"text-align: left\">Does tutor exhibit Microsatellite Instability</td>\n",
    "  </tr>\n",
    "  <tr>\n",
    "    <td style=\"text-align: left\"><code>Mutation Count</code></td>\n",
    "    <td style=\"text-align: left\">Number of gene mutations found</td>\n",
    "  </tr>\n",
    "  <tr>\n",
    "    <td style=\"text-align: left\"><code>Oncotree Code</code></td>\n",
    "    <td style=\"text-align: left\">The OncoTree is an open-source ontology that was developed at Memorial Sloan Kettering Cancer Center (MSK) for standardizing cancer type diagnosis from a clinical perspective by assigning each diagnosis a unique OncoTree code.</td>\n",
    "  </tr>\n",
    "  <tr>\n",
    "    <td style=\"text-align: left\"><code>Organ System</code></td>\n",
    "    <td style=\"text-align: left\">Organ System where the cancer was found</td>\n",
    "  </tr>\n",
    "  <tr>\n",
    "    <td style=\"text-align: left\"><code>Overall Survival (Months)</code></td>\n",
    "    <td style=\"text-align: left\">Number of months that patient survived from initial diagnosis</td>\n",
    "  </tr>\n",
    "  <tr>\n",
    "    <td style=\"text-align: left\"><code>Overall Survival Status</code></td>\n",
    "    <td style=\"text-align: left\">Survival status: ",
    "0:LIVING, 1:DECEASED</td>\n",
    "  </tr>\n",
    "  <tr>\n",
    "    <td style=\"text-align: left\"><code>Primary Tumor Site</code></td>\n",
    "    <td style=\"text-align: left\">The organ sub-division where the primary tumour was found</td>\n",
    "  </tr>\n",
    "  <tr>\n",
    "    <td style=\"text-align: left\"><code>Race Category</code></td>\n",
    "    <td style=\"text-align: left\">Patient information about race</td>\n",
    "  </tr>\n",
    "  <tr>\n",
    "    <td style=\"text-align: left\"><code>Number of Samples Per Patientn</code></td>\n",
    "    <td style=\"text-align: left\">Number of samples taken per patient in the study</td>\n",
    "  </tr>\n",
    "  <tr>\n",
    "    <td style=\"text-align: left\"><code>Sample coverage</code></td>\n",
    "    <td style=\"text-align: left\">The number of unique sequencing reads that align to a region in a reference genome</td>\n",
    "  </tr>\n",
    "  <tr>\n",
    "    <td style=\"text-align: left\"><code>Sample Type</code></td>\n",
    "    <td style=\"text-align: left\">Primary tumour or metastasis</td>\n",
    "  </tr>\n",
    "  <tr>\n",
    "    <td style=\"text-align: left\"><code>Sex</code></td>\n",
    "    <td style=\"text-align: left\">Biological gender at birth</td>\n",
    "  </tr>\n",
    "  <tr>\n",
    "    <td style=\"text-align: left\"><code>Subtype</code></td>\n",
    "    <td style=\"text-align: left\">Cancer subtype</td>\n",
    "  </tr>\n",
    "  <tr>\n",
    "    <td style=\"text-align: left\"><code>Subtype Abbreviation</code></td>\n",
    "    <td style=\"text-align: left\">Cancer subtype abbreviation</td>\n",
    "  </tr>\n",
    "  <tr>\n",
    "    <td style=\"text-align: left\"><code>TMB (nonsynonymous)</code></td>\n",
    "    <td style=\"text-align: left\">The number of non-synonymous mutations within coding regions across the genome. Non-synonymous mutations alter coding regions and change the resulting protein into dysfunctional or malformed protein products.</td>\n",
    "  </tr>\n",
    "  <tr>\n",
    "    <td style=\"text-align: left\"><code>Tumor Purity</code></td>\n",
    "    <td style=\"text-align: left\">The proportion of tumour cells in the tumour micro environment (TME)</td>\n",
    "  </tr>\n",
    "</table>"
   ]
  },
  {
   "cell_type": "code",
   "execution_count": 105,
   "id": "7bf9c4fa-01eb-4d83-a679-665705d42fbc",
   "metadata": {
    "tags": []
   },
   "outputs": [],
   "source": [
    "#load the data dictionary\n",
    "feature_df = pd.read_csv('data_dictionary.csv', index_col = 'Column')"
   ]
  },
  {
   "cell_type": "code",
   "execution_count": 106,
   "id": "cf7104aa-6b7b-4f4b-abec-c57b62c4d78a",
   "metadata": {
    "tags": []
   },
   "outputs": [
    {
     "data": {
      "text/plain": [
       "55"
      ]
     },
     "execution_count": 106,
     "metadata": {},
     "output_type": "execute_result"
    }
   ],
   "source": [
    "#how many features do we have\n",
    "feature_df.shape[0]"
   ]
  },
  {
   "cell_type": "markdown",
   "id": "37f627db-d2ae-4ba6-ab98-b5da57a41f3d",
   "metadata": {},
   "source": [
    "**Observations:** \n",
    "\n",
    "There are 55 features that are described in the data dictionary. It has been loaded as a pandas dataframe so we can call on the descriptions when needed during the analysis"
   ]
  },
  {
   "cell_type": "code",
   "execution_count": 107,
   "id": "0b568b3a-cbc5-4547-85d0-50c66d9af7cc",
   "metadata": {
    "tags": []
   },
   "outputs": [
    {
     "data": {
      "text/html": [
       "<div>\n",
       "<style scoped>\n",
       "    .dataframe tbody tr th:only-of-type {\n",
       "        vertical-align: middle;\n",
       "    }\n",
       "\n",
       "    .dataframe tbody tr th {\n",
       "        vertical-align: top;\n",
       "    }\n",
       "\n",
       "    .dataframe thead th {\n",
       "        text-align: right;\n",
       "    }\n",
       "</style>\n",
       "<table border=\"1\" class=\"dataframe\">\n",
       "  <thead>\n",
       "    <tr style=\"text-align: right;\">\n",
       "      <th></th>\n",
       "      <th>Description</th>\n",
       "    </tr>\n",
       "    <tr>\n",
       "      <th>Column</th>\n",
       "      <th></th>\n",
       "    </tr>\n",
       "  </thead>\n",
       "  <tbody>\n",
       "    <tr>\n",
       "      <th>Study ID</th>\n",
       "      <td>ID for the Study where the data is from</td>\n",
       "    </tr>\n",
       "    <tr>\n",
       "      <th>Patient ID</th>\n",
       "      <td>Patient identifier (some patients may have mul...</td>\n",
       "    </tr>\n",
       "    <tr>\n",
       "      <th>Sample ID</th>\n",
       "      <td>Unique sample identifier</td>\n",
       "    </tr>\n",
       "    <tr>\n",
       "      <th>Age at Death</th>\n",
       "      <td>Age at which patient died (blank indicated pat...</td>\n",
       "    </tr>\n",
       "    <tr>\n",
       "      <th>Age at First Mets Dx</th>\n",
       "      <td>Age at which patient was diagnosed with metast...</td>\n",
       "    </tr>\n",
       "    <tr>\n",
       "      <th>Age at Last Contact</th>\n",
       "      <td>Age at which the study made last contact with ...</td>\n",
       "    </tr>\n",
       "    <tr>\n",
       "      <th>Age at Sequencing</th>\n",
       "      <td>Age at which the patients tumour was genetical...</td>\n",
       "    </tr>\n",
       "    <tr>\n",
       "      <th>Age at Surgical Procedure</th>\n",
       "      <td>Age at which patentee underwent surgery to rem...</td>\n",
       "    </tr>\n",
       "    <tr>\n",
       "      <th>Cancer Type</th>\n",
       "      <td>Type of cancer at diagnosis</td>\n",
       "    </tr>\n",
       "    <tr>\n",
       "      <th>Cancer Type Detailed</th>\n",
       "      <td>Detailed description of cancer type</td>\n",
       "    </tr>\n",
       "    <tr>\n",
       "      <th>Distant Mets: Adrenal Gland</th>\n",
       "      <td>Presence or absence of distant Metastasis at D...</td>\n",
       "    </tr>\n",
       "    <tr>\n",
       "      <th>Distant Mets: Biliary tract</th>\n",
       "      <td>Presence or absence of distant Metastasis at D...</td>\n",
       "    </tr>\n",
       "    <tr>\n",
       "      <th>Distant Mets: Bladder/UT</th>\n",
       "      <td>Presence or absence of distant Metastasis at D...</td>\n",
       "    </tr>\n",
       "    <tr>\n",
       "      <th>Distant Mets: Bone</th>\n",
       "      <td>Presence or absence of distant Metastasis at D...</td>\n",
       "    </tr>\n",
       "    <tr>\n",
       "      <th>Distant Mets: Bowel</th>\n",
       "      <td>Presence or absence of distant Metastasis at D...</td>\n",
       "    </tr>\n",
       "    <tr>\n",
       "      <th>Distant Mets: Breast</th>\n",
       "      <td>Presence or absence of distant Metastasis at D...</td>\n",
       "    </tr>\n",
       "    <tr>\n",
       "      <th>Distant Mets: CNS/Brain</th>\n",
       "      <td>Presence or absence of distant Metastasis at D...</td>\n",
       "    </tr>\n",
       "    <tr>\n",
       "      <th>Distant Mets: Distant LN</th>\n",
       "      <td>Presence or absence of distant Metastasis at D...</td>\n",
       "    </tr>\n",
       "    <tr>\n",
       "      <th>Distant Mets: Female Genital</th>\n",
       "      <td>Presence or absence of distant Metastasis at D...</td>\n",
       "    </tr>\n",
       "    <tr>\n",
       "      <th>Distant Mets: Head and Neck</th>\n",
       "      <td>Presence or absence of distant Metastasis at D...</td>\n",
       "    </tr>\n",
       "    <tr>\n",
       "      <th>Distant Mets: Intra-Abdominal</th>\n",
       "      <td>Presence or absence of distant Metastasis at D...</td>\n",
       "    </tr>\n",
       "    <tr>\n",
       "      <th>Distant Mets: Kidney</th>\n",
       "      <td>Presence or absence of distant Metastasis at D...</td>\n",
       "    </tr>\n",
       "    <tr>\n",
       "      <th>Distant Mets: Liver</th>\n",
       "      <td>Presence or absence of distant Metastasis at D...</td>\n",
       "    </tr>\n",
       "    <tr>\n",
       "      <th>Distant Mets: Lung</th>\n",
       "      <td>Presence or absence of distant Metastasis at D...</td>\n",
       "    </tr>\n",
       "    <tr>\n",
       "      <th>Distant Mets: Male Genital</th>\n",
       "      <td>Presence or absence of distant Metastasis at D...</td>\n",
       "    </tr>\n",
       "    <tr>\n",
       "      <th>Distant Mets: Mediastinum</th>\n",
       "      <td>Presence or absence of distant Metastasis at D...</td>\n",
       "    </tr>\n",
       "    <tr>\n",
       "      <th>Distant Mets: Ovary</th>\n",
       "      <td>Presence or absence of distant Metastasis at D...</td>\n",
       "    </tr>\n",
       "    <tr>\n",
       "      <th>Distant Mets: Pleura</th>\n",
       "      <td>Presence or absence of distant Metastasis at D...</td>\n",
       "    </tr>\n",
       "    <tr>\n",
       "      <th>Distant Mets: PNS</th>\n",
       "      <td>Presence or absence of distant Metastasis at D...</td>\n",
       "    </tr>\n",
       "    <tr>\n",
       "      <th>Distant Mets: Skin</th>\n",
       "      <td>Presence or absence of distant Metastasis at D...</td>\n",
       "    </tr>\n",
       "    <tr>\n",
       "      <th>Distant Mets: Unspecified</th>\n",
       "      <td>Presence or absence of distant Metastasis at D...</td>\n",
       "    </tr>\n",
       "    <tr>\n",
       "      <th>FGA</th>\n",
       "      <td>Fraction Genome Altered (rounded)</td>\n",
       "    </tr>\n",
       "    <tr>\n",
       "      <th>Fraction Genome Altered</th>\n",
       "      <td>Fraction Genome Altered indicates the fraction...</td>\n",
       "    </tr>\n",
       "    <tr>\n",
       "      <th>Gene Panel</th>\n",
       "      <td>ID of the gene panel used for genetic sequencing</td>\n",
       "    </tr>\n",
       "    <tr>\n",
       "      <th>Metastatic patient</th>\n",
       "      <td>Bool of if patient had metastatic disease or not</td>\n",
       "    </tr>\n",
       "    <tr>\n",
       "      <th>Metastatic Site</th>\n",
       "      <td>The anatomic location where tumour has spread</td>\n",
       "    </tr>\n",
       "    <tr>\n",
       "      <th>Met Count</th>\n",
       "      <td>Number of metastasis found</td>\n",
       "    </tr>\n",
       "    <tr>\n",
       "      <th>Met Site Count</th>\n",
       "      <td>Number of different metastatic sites</td>\n",
       "    </tr>\n",
       "    <tr>\n",
       "      <th>MSI Score</th>\n",
       "      <td>Numerical value of the amount of Microsatellit...</td>\n",
       "    </tr>\n",
       "    <tr>\n",
       "      <th>MSI Type</th>\n",
       "      <td>Does tutor exhibit Microsatellite Instability</td>\n",
       "    </tr>\n",
       "    <tr>\n",
       "      <th>Mutation Count</th>\n",
       "      <td>Number of gene mutations found</td>\n",
       "    </tr>\n",
       "    <tr>\n",
       "      <th>Oncotree Code</th>\n",
       "      <td>The OncoTree is an open-source ontology that w...</td>\n",
       "    </tr>\n",
       "    <tr>\n",
       "      <th>Organ System</th>\n",
       "      <td>Organ System where the cancer was found</td>\n",
       "    </tr>\n",
       "    <tr>\n",
       "      <th>Overall Survival (Months)</th>\n",
       "      <td>Number of months that patient survived from in...</td>\n",
       "    </tr>\n",
       "    <tr>\n",
       "      <th>Overall Survival Status</th>\n",
       "      <td>Survival status: ",
       "0:LIVING, 1:DECEASED</td>\n",
       "    </tr>\n",
       "    <tr>\n",
       "      <th>Primary Tumor Site</th>\n",
       "      <td>The organ sub-division where the primary tumou...</td>\n",
       "    </tr>\n",
       "    <tr>\n",
       "      <th>Race Category</th>\n",
       "      <td>Patient information about race</td>\n",
       "    </tr>\n",
       "    <tr>\n",
       "      <th>Number of Samples Per Patient</th>\n",
       "      <td>Number of samples taken per patient in the study</td>\n",
       "    </tr>\n",
       "    <tr>\n",
       "      <th>Sample coverage</th>\n",
       "      <td>The number of unique sequencing reads that ali...</td>\n",
       "    </tr>\n",
       "    <tr>\n",
       "      <th>Sample Type</th>\n",
       "      <td>Primary tumour or metastasis</td>\n",
       "    </tr>\n",
       "    <tr>\n",
       "      <th>Sex</th>\n",
       "      <td>Biological gender at birth</td>\n",
       "    </tr>\n",
       "    <tr>\n",
       "      <th>Subtype</th>\n",
       "      <td>Cancer subtype</td>\n",
       "    </tr>\n",
       "    <tr>\n",
       "      <th>Subtype Abbreviation</th>\n",
       "      <td>Cancer subtype abbreviation</td>\n",
       "    </tr>\n",
       "    <tr>\n",
       "      <th>TMB (nonsynonymous)</th>\n",
       "      <td>The number of non-synonymous mutations within ...</td>\n",
       "    </tr>\n",
       "    <tr>\n",
       "      <th>Tumor Purity</th>\n",
       "      <td>The proportion of tumour cells in the tumour m...</td>\n",
       "    </tr>\n",
       "  </tbody>\n",
       "</table>\n",
       "</div>"
      ],
      "text/plain": [
       "                                                                     Description\n",
       "Column                                                                          \n",
       "Study ID                                 ID for the Study where the data is from\n",
       "Patient ID                     Patient identifier (some patients may have mul...\n",
       "Sample ID                                               Unique sample identifier\n",
       "Age at Death                   Age at which patient died (blank indicated pat...\n",
       "Age at First Mets Dx           Age at which patient was diagnosed with metast...\n",
       "Age at Last Contact            Age at which the study made last contact with ...\n",
       "Age at Sequencing              Age at which the patients tumour was genetical...\n",
       "Age at Surgical Procedure      Age at which patentee underwent surgery to rem...\n",
       "Cancer Type                                          Type of cancer at diagnosis\n",
       "Cancer Type Detailed                         Detailed description of cancer type\n",
       "Distant Mets: Adrenal Gland    Presence or absence of distant Metastasis at D...\n",
       "Distant Mets: Biliary tract    Presence or absence of distant Metastasis at D...\n",
       "Distant Mets: Bladder/UT       Presence or absence of distant Metastasis at D...\n",
       "Distant Mets: Bone             Presence or absence of distant Metastasis at D...\n",
       "Distant Mets: Bowel            Presence or absence of distant Metastasis at D...\n",
       "Distant Mets: Breast           Presence or absence of distant Metastasis at D...\n",
       "Distant Mets: CNS/Brain        Presence or absence of distant Metastasis at D...\n",
       "Distant Mets: Distant LN       Presence or absence of distant Metastasis at D...\n",
       "Distant Mets: Female Genital   Presence or absence of distant Metastasis at D...\n",
       "Distant Mets: Head and Neck    Presence or absence of distant Metastasis at D...\n",
       "Distant Mets: Intra-Abdominal  Presence or absence of distant Metastasis at D...\n",
       "Distant Mets: Kidney           Presence or absence of distant Metastasis at D...\n",
       "Distant Mets: Liver            Presence or absence of distant Metastasis at D...\n",
       "Distant Mets: Lung             Presence or absence of distant Metastasis at D...\n",
       "Distant Mets: Male Genital     Presence or absence of distant Metastasis at D...\n",
       "Distant Mets: Mediastinum      Presence or absence of distant Metastasis at D...\n",
       "Distant Mets: Ovary            Presence or absence of distant Metastasis at D...\n",
       "Distant Mets: Pleura           Presence or absence of distant Metastasis at D...\n",
       "Distant Mets: PNS              Presence or absence of distant Metastasis at D...\n",
       "Distant Mets: Skin             Presence or absence of distant Metastasis at D...\n",
       "Distant Mets: Unspecified      Presence or absence of distant Metastasis at D...\n",
       "FGA                                            Fraction Genome Altered (rounded)\n",
       "Fraction Genome Altered        Fraction Genome Altered indicates the fraction...\n",
       "Gene Panel                      ID of the gene panel used for genetic sequencing\n",
       "Metastatic patient              Bool of if patient had metastatic disease or not\n",
       "Metastatic Site                    The anatomic location where tumour has spread\n",
       "Met Count                                             Number of metastasis found\n",
       "Met Site Count                              Number of different metastatic sites\n",
       "MSI Score                      Numerical value of the amount of Microsatellit...\n",
       "MSI Type                           Does tutor exhibit Microsatellite Instability\n",
       "Mutation Count                                    Number of gene mutations found\n",
       "Oncotree Code                  The OncoTree is an open-source ontology that w...\n",
       "Organ System                             Organ System where the cancer was found\n",
       "Overall Survival (Months)      Number of months that patient survived from in...\n",
       "Overall Survival Status                    Survival status:\n",
       "0:LIVING, 1:DECEASED\n",
       "Primary Tumor Site             The organ sub-division where the primary tumou...\n",
       "Race Category                                     Patient information about race\n",
       "Number of Samples Per Patient   Number of samples taken per patient in the study\n",
       "Sample coverage                The number of unique sequencing reads that ali...\n",
       "Sample Type                                         Primary tumour or metastasis\n",
       "Sex                                                   Biological gender at birth\n",
       "Subtype                                                           Cancer subtype\n",
       "Subtype Abbreviation                                 Cancer subtype abbreviation\n",
       "TMB (nonsynonymous)            The number of non-synonymous mutations within ...\n",
       "Tumor Purity                   The proportion of tumour cells in the tumour m..."
      ]
     },
     "execution_count": 107,
     "metadata": {},
     "output_type": "execute_result"
    }
   ],
   "source": [
    "feature_df"
   ]
  },
  {
   "cell_type": "code",
   "execution_count": 108,
   "id": "024df983-1f3b-4b82-b258-84a919c47c04",
   "metadata": {
    "tags": []
   },
   "outputs": [
    {
     "name": "stdout",
     "output_type": "stream",
     "text": [
      "Age at which patient died (blank indicated patient is alive at time of study)\n"
     ]
    }
   ],
   "source": [
    "#test fature information lookup\n",
    "print(feature_df.loc['Age at Death']['Description'])\n"
   ]
  },
  {
   "cell_type": "markdown",
   "id": "9aa3b075-6fd4-4d5a-8a15-7d1e22e31655",
   "metadata": {},
   "source": [
    "#### Feature Information Lookup:\n",
    "\n",
    "I have defined a function that allows us to look up feature information from the data dictionary as we need to during analysis. This function uses an input of the feature name and returns the corresponding description."
   ]
  },
  {
   "cell_type": "code",
   "execution_count": 109,
   "id": "b9e5b96e-c4b3-4c69-8618-b9a850e3b1b4",
   "metadata": {
    "jupyter": {
     "source_hidden": true
    },
    "tags": []
   },
   "outputs": [],
   "source": [
    "#Feature information lookup function\n",
    "def feature_information(col_name):\n",
    "    \n",
    "    '''\n",
    "    Description:\n",
    "    -------------\n",
    "    Feature lookup function - \n",
    "    Prints the description of a feature in the data set\n",
    "    \n",
    "    Parameters:\n",
    "    -----------\n",
    "    col_name = string of the name of the column (feature) in the data set\n",
    "    Examples: \n",
    "        'Patient ID'\n",
    "        'Age at Death'\n",
    "    \n",
    "    Examples:\n",
    "    ---------\n",
    "    feature_information('Cancer Type')\n",
    "    Returns: \n",
    "        \"Cancer Type: Type of cancer at diagnosis\"\n",
    "    \n",
    "    ----------------------------------\n",
    "    feature_information('Age at Death')\n",
    "    Returns:\n",
    "        \"Age at Death: Age at which patient died (blank indicated patient is alive at time of study)\"\n",
    "    \n",
    "    \n",
    "    '''\n",
    "    print(f\"{col_name}: {feature_df.loc[col_name]['Description']}\")"
   ]
  },
  {
   "cell_type": "code",
   "execution_count": 110,
   "id": "5fe7dcac-7af7-4521-a67d-1142c7a03a68",
   "metadata": {
    "tags": []
   },
   "outputs": [
    {
     "name": "stdout",
     "output_type": "stream",
     "text": [
      "Cancer Type: Type of cancer at diagnosis\n"
     ]
    }
   ],
   "source": [
    "#test feature_information lookup function\n",
    "feature_information('Cancer Type')"
   ]
  },
  {
   "cell_type": "code",
   "execution_count": 111,
   "id": "4c27dfe7-fb63-43e6-8494-60cd75e58326",
   "metadata": {
    "tags": []
   },
   "outputs": [
    {
     "name": "stdout",
     "output_type": "stream",
     "text": [
      "Help on function feature_information in module __main__:\n",
      "\n",
      "feature_information(col_name)\n",
      "    Description:\n",
      "    -------------\n",
      "    Feature lookup function - \n",
      "    Prints the description of a feature in the data set\n",
      "    \n",
      "    Parameters:\n",
      "    -----------\n",
      "    col_name = string of the name of the column (feature) in the data set\n",
      "    Examples: \n",
      "        'Patient ID'\n",
      "        'Age at Death'\n",
      "    \n",
      "    Examples:\n",
      "    ---------\n",
      "    feature_information('Cancer Type')\n",
      "    Returns: \n",
      "        \"Cancer Type: Type of cancer at diagnosis\"\n",
      "    \n",
      "    ----------------------------------\n",
      "    feature_information('Age at Death')\n",
      "    Returns:\n",
      "        \"Age at Death: Age at which patient died (blank indicated patient is alive at time of study)\"\n",
      "\n"
     ]
    }
   ],
   "source": [
    "#test feature_information lookup function\n",
    "help(feature_information)"
   ]
  },
  {
   "cell_type": "markdown",
   "id": "552b9601-3838-43f3-987a-38928da8e881",
   "metadata": {
    "tags": []
   },
   "source": [
    "## Initial Data Cleaning <a class=\"anchor\" id=\"cleaning\"></a>\n",
    "---\n"
   ]
  },
  {
   "cell_type": "markdown",
   "id": "8e6a8002-9599-4866-af93-a3e8aeda4af2",
   "metadata": {},
   "source": [
    "### Plan of action <a class=\"anchor\" id=\"action\"></a>\n",
    "\n",
    "1. Data Loading\n",
    "2. Initial Data Assessment\n",
    "2. Data Cleaning\n",
    "    - Dealing with duplicated values\n",
    "    - Dealing with redundant columns\n",
    "    - Dealing with null values\n",
    "3. EDA \n",
    "4. Draw insights\n",
    "5. Formulate a conclusion"
   ]
  },
  {
   "cell_type": "markdown",
   "id": "4dbca764-c6a8-4396-ad68-6942dd0d84cb",
   "metadata": {},
   "source": [
    "### Data Loading <a class=\"anchor\" id=\"load\"></a>\n"
   ]
  },
  {
   "cell_type": "code",
   "execution_count": 112,
   "id": "41abf475-c108-4be8-bdeb-743b9b77efc2",
   "metadata": {
    "tags": []
   },
   "outputs": [],
   "source": [
    "#load the data set\n",
    "df = pd.read_csv('Capstone_data.csv')"
   ]
  },
  {
   "cell_type": "markdown",
   "id": "f5ea3fc9-4506-4c9f-8436-f5493a4236ba",
   "metadata": {},
   "source": [
    "### Data Assesment <a class=\"anchor\" id=\"assess\"></a>\n",
    "---"
   ]
  },
  {
   "cell_type": "code",
   "execution_count": 113,
   "id": "f63a397a-fae7-47f1-a6e8-c92f11dda0fa",
   "metadata": {
    "tags": []
   },
   "outputs": [],
   "source": [
    "#Display max columns and rows so we can visualize the entire data set if needed.\n",
    "pd.set_option('display.max_columns', None)\n",
    "pd.set_option('display.max_rows', None)"
   ]
  },
  {
   "cell_type": "markdown",
   "id": "5307cc62-f78a-4c1c-87c8-fcd5727ff9e5",
   "metadata": {},
   "source": [
    "First lets take a look at the number of rows and columns in this data set"
   ]
  },
  {
   "cell_type": "code",
   "execution_count": 114,
   "id": "1f45fc0d-ca21-413b-8ca9-f8ca94800b7b",
   "metadata": {
    "tags": []
   },
   "outputs": [
    {
     "data": {
      "text/plain": [
       "(25775, 55)"
      ]
     },
     "execution_count": 114,
     "metadata": {},
     "output_type": "execute_result"
    }
   ],
   "source": [
    "# Check the shape of the data:\n",
    "df.shape"
   ]
  },
  {
   "cell_type": "markdown",
   "id": "59b05c62-accc-4edf-892d-780013a032e2",
   "metadata": {},
   "source": [
    "**Observations:**\n",
    "\n",
    "There are 25,775 rows and 55 columns in this dataset\n",
    "\n",
    "---\n"
   ]
  },
  {
   "cell_type": "markdown",
   "id": "e4af2814-dd0d-4bc2-a2c4-ff47fb1e1dd0",
   "metadata": {},
   "source": [
    "Next let familiarize ourselves with the data by checking th information contained in the first 5 columns"
   ]
  },
  {
   "cell_type": "code",
   "execution_count": 115,
   "id": "e5f391c8-6ac8-484c-9669-3098077b7712",
   "metadata": {
    "tags": []
   },
   "outputs": [
    {
     "data": {
      "text/html": [
       "<div>\n",
       "<style scoped>\n",
       "    .dataframe tbody tr th:only-of-type {\n",
       "        vertical-align: middle;\n",
       "    }\n",
       "\n",
       "    .dataframe tbody tr th {\n",
       "        vertical-align: top;\n",
       "    }\n",
       "\n",
       "    .dataframe thead th {\n",
       "        text-align: right;\n",
       "    }\n",
       "</style>\n",
       "<table border=\"1\" class=\"dataframe\">\n",
       "  <thead>\n",
       "    <tr style=\"text-align: right;\">\n",
       "      <th></th>\n",
       "      <th>Study ID</th>\n",
       "      <th>Patient ID</th>\n",
       "      <th>Sample ID</th>\n",
       "      <th>Age at Death</th>\n",
       "      <th>Age at First Mets Dx</th>\n",
       "      <th>Age at Last Contact</th>\n",
       "      <th>Age at Sequencing</th>\n",
       "      <th>Age at Surgical Procedure</th>\n",
       "      <th>Cancer Type</th>\n",
       "      <th>Cancer Type Detailed</th>\n",
       "      <th>Distant Mets: Adrenal Gland</th>\n",
       "      <th>Distant Mets: Biliary tract</th>\n",
       "      <th>Distant Mets: Bladder/UT</th>\n",
       "      <th>Distant Mets: Bone</th>\n",
       "      <th>Distant Mets: Bowel</th>\n",
       "      <th>Distant Mets: Breast</th>\n",
       "      <th>Distant Mets: CNS/Brain</th>\n",
       "      <th>Distant Mets: Distant LN</th>\n",
       "      <th>Distant Mets: Female Genital</th>\n",
       "      <th>Distant Mets: Head and Neck</th>\n",
       "      <th>Distant Mets: Intra-Abdominal</th>\n",
       "      <th>Distant Mets: Kidney</th>\n",
       "      <th>Distant Mets: Liver</th>\n",
       "      <th>Distant Mets: Lung</th>\n",
       "      <th>Distant Mets: Male Genital</th>\n",
       "      <th>Distant Mets: Mediastinum</th>\n",
       "      <th>Distant Mets: Ovary</th>\n",
       "      <th>Distant Mets: Pleura</th>\n",
       "      <th>Distant Mets: PNS</th>\n",
       "      <th>Distant Mets: Skin</th>\n",
       "      <th>Distant Mets: Unspecified</th>\n",
       "      <th>FGA</th>\n",
       "      <th>Fraction Genome Altered</th>\n",
       "      <th>Gene Panel</th>\n",
       "      <th>Metastatic patient</th>\n",
       "      <th>Metastatic Site</th>\n",
       "      <th>Met Count</th>\n",
       "      <th>Met Site Count</th>\n",
       "      <th>MSI Score</th>\n",
       "      <th>MSI Type</th>\n",
       "      <th>Mutation Count</th>\n",
       "      <th>Oncotree Code</th>\n",
       "      <th>Organ System</th>\n",
       "      <th>Overall Survival (Months)</th>\n",
       "      <th>Overall Survival Status</th>\n",
       "      <th>Primary Tumor Site</th>\n",
       "      <th>Race Category</th>\n",
       "      <th>Number of Samples Per Patient</th>\n",
       "      <th>Sample coverage</th>\n",
       "      <th>Sample Type</th>\n",
       "      <th>Sex</th>\n",
       "      <th>Subtype</th>\n",
       "      <th>Subtype Abbreviation</th>\n",
       "      <th>TMB (nonsynonymous)</th>\n",
       "      <th>Tumor Purity</th>\n",
       "    </tr>\n",
       "  </thead>\n",
       "  <tbody>\n",
       "    <tr>\n",
       "      <th>0</th>\n",
       "      <td>msk_met_2021</td>\n",
       "      <td>P-0000004</td>\n",
       "      <td>P-0000004-T01-IM3</td>\n",
       "      <td>40.06</td>\n",
       "      <td>39.66</td>\n",
       "      <td>NaN</td>\n",
       "      <td>39.74</td>\n",
       "      <td>37.03</td>\n",
       "      <td>Breast Cancer</td>\n",
       "      <td>Breast Invasive Ductal Carcinoma</td>\n",
       "      <td>No</td>\n",
       "      <td>No</td>\n",
       "      <td>No</td>\n",
       "      <td>Yes</td>\n",
       "      <td>No</td>\n",
       "      <td>No</td>\n",
       "      <td>No</td>\n",
       "      <td>No</td>\n",
       "      <td>No</td>\n",
       "      <td>No</td>\n",
       "      <td>No</td>\n",
       "      <td>No</td>\n",
       "      <td>Yes</td>\n",
       "      <td>No</td>\n",
       "      <td>No</td>\n",
       "      <td>No</td>\n",
       "      <td>No</td>\n",
       "      <td>No</td>\n",
       "      <td>No</td>\n",
       "      <td>No</td>\n",
       "      <td>No</td>\n",
       "      <td>0.278</td>\n",
       "      <td>0.2782</td>\n",
       "      <td>IMPACT341</td>\n",
       "      <td>True</td>\n",
       "      <td>NaN</td>\n",
       "      <td>2</td>\n",
       "      <td>2</td>\n",
       "      <td>2.50</td>\n",
       "      <td>Stable</td>\n",
       "      <td>4.0</td>\n",
       "      <td>IDC</td>\n",
       "      <td>Breast</td>\n",
       "      <td>3.78</td>\n",
       "      <td>1:DECEASED</td>\n",
       "      <td>Breast</td>\n",
       "      <td>White</td>\n",
       "      <td>1</td>\n",
       "      <td>428</td>\n",
       "      <td>Primary</td>\n",
       "      <td>Female</td>\n",
       "      <td>Breast Ductal HR+HER2-</td>\n",
       "      <td>IDC HR+HER2-</td>\n",
       "      <td>4.436621</td>\n",
       "      <td>50.0</td>\n",
       "    </tr>\n",
       "    <tr>\n",
       "      <th>1</th>\n",
       "      <td>msk_met_2021</td>\n",
       "      <td>P-0000015</td>\n",
       "      <td>P-0000015-T01-IM3</td>\n",
       "      <td>45.60</td>\n",
       "      <td>44.25</td>\n",
       "      <td>NaN</td>\n",
       "      <td>44.44</td>\n",
       "      <td>44.42</td>\n",
       "      <td>Breast Cancer</td>\n",
       "      <td>Breast Invasive Ductal Carcinoma</td>\n",
       "      <td>No</td>\n",
       "      <td>No</td>\n",
       "      <td>No</td>\n",
       "      <td>Yes</td>\n",
       "      <td>No</td>\n",
       "      <td>No</td>\n",
       "      <td>Yes</td>\n",
       "      <td>Yes</td>\n",
       "      <td>No</td>\n",
       "      <td>No</td>\n",
       "      <td>No</td>\n",
       "      <td>No</td>\n",
       "      <td>Yes</td>\n",
       "      <td>Yes</td>\n",
       "      <td>No</td>\n",
       "      <td>No</td>\n",
       "      <td>Yes</td>\n",
       "      <td>Yes</td>\n",
       "      <td>No</td>\n",
       "      <td>No</td>\n",
       "      <td>Yes</td>\n",
       "      <td>0.350</td>\n",
       "      <td>0.3503</td>\n",
       "      <td>IMPACT341</td>\n",
       "      <td>True</td>\n",
       "      <td>Liver</td>\n",
       "      <td>8</td>\n",
       "      <td>8</td>\n",
       "      <td>2.55</td>\n",
       "      <td>Stable</td>\n",
       "      <td>7.0</td>\n",
       "      <td>IDC</td>\n",
       "      <td>Breast</td>\n",
       "      <td>13.90</td>\n",
       "      <td>1:DECEASED</td>\n",
       "      <td>Breast</td>\n",
       "      <td>White</td>\n",
       "      <td>1</td>\n",
       "      <td>281</td>\n",
       "      <td>Metastasis</td>\n",
       "      <td>Female</td>\n",
       "      <td>Breast Ductal HR+HER2-</td>\n",
       "      <td>IDC HR+HER2-</td>\n",
       "      <td>7.764087</td>\n",
       "      <td>40.0</td>\n",
       "    </tr>\n",
       "    <tr>\n",
       "      <th>2</th>\n",
       "      <td>msk_met_2021</td>\n",
       "      <td>P-0000024</td>\n",
       "      <td>P-0000024-T01-IM3</td>\n",
       "      <td>64.25</td>\n",
       "      <td>59.44</td>\n",
       "      <td>NaN</td>\n",
       "      <td>61.33</td>\n",
       "      <td>61.00</td>\n",
       "      <td>Endometrial Cancer</td>\n",
       "      <td>Uterine Endometrioid Carcinoma</td>\n",
       "      <td>No</td>\n",
       "      <td>No</td>\n",
       "      <td>No</td>\n",
       "      <td>Yes</td>\n",
       "      <td>No</td>\n",
       "      <td>No</td>\n",
       "      <td>No</td>\n",
       "      <td>No</td>\n",
       "      <td>No</td>\n",
       "      <td>No</td>\n",
       "      <td>Yes</td>\n",
       "      <td>No</td>\n",
       "      <td>Yes</td>\n",
       "      <td>Yes</td>\n",
       "      <td>No</td>\n",
       "      <td>No</td>\n",
       "      <td>No</td>\n",
       "      <td>No</td>\n",
       "      <td>No</td>\n",
       "      <td>No</td>\n",
       "      <td>Yes</td>\n",
       "      <td>0.388</td>\n",
       "      <td>0.3878</td>\n",
       "      <td>IMPACT341</td>\n",
       "      <td>True</td>\n",
       "      <td>Lung</td>\n",
       "      <td>8</td>\n",
       "      <td>5</td>\n",
       "      <td>0.72</td>\n",
       "      <td>Stable</td>\n",
       "      <td>6.0</td>\n",
       "      <td>UEC</td>\n",
       "      <td>Gynecologic</td>\n",
       "      <td>35.06</td>\n",
       "      <td>1:DECEASED</td>\n",
       "      <td>Uterus</td>\n",
       "      <td>White</td>\n",
       "      <td>1</td>\n",
       "      <td>1016</td>\n",
       "      <td>Metastasis</td>\n",
       "      <td>Female</td>\n",
       "      <td>Uterine Endometrioid</td>\n",
       "      <td>UCEC ENDO</td>\n",
       "      <td>6.654932</td>\n",
       "      <td>40.0</td>\n",
       "    </tr>\n",
       "    <tr>\n",
       "      <th>3</th>\n",
       "      <td>msk_met_2021</td>\n",
       "      <td>P-0000025</td>\n",
       "      <td>P-0000025-T02-IM5</td>\n",
       "      <td>76.53</td>\n",
       "      <td>69.65</td>\n",
       "      <td>NaN</td>\n",
       "      <td>74.81</td>\n",
       "      <td>74.64</td>\n",
       "      <td>Endometrial Cancer</td>\n",
       "      <td>Uterine Serous Carcinoma/Uterine Papillary Ser...</td>\n",
       "      <td>Yes</td>\n",
       "      <td>Yes</td>\n",
       "      <td>No</td>\n",
       "      <td>No</td>\n",
       "      <td>Yes</td>\n",
       "      <td>No</td>\n",
       "      <td>No</td>\n",
       "      <td>No</td>\n",
       "      <td>Yes</td>\n",
       "      <td>No</td>\n",
       "      <td>Yes</td>\n",
       "      <td>No</td>\n",
       "      <td>Yes</td>\n",
       "      <td>No</td>\n",
       "      <td>No</td>\n",
       "      <td>No</td>\n",
       "      <td>Yes</td>\n",
       "      <td>No</td>\n",
       "      <td>No</td>\n",
       "      <td>No</td>\n",
       "      <td>Yes</td>\n",
       "      <td>0.102</td>\n",
       "      <td>0.1020</td>\n",
       "      <td>IMPACT410</td>\n",
       "      <td>True</td>\n",
       "      <td>Intra-Abdominal</td>\n",
       "      <td>13</td>\n",
       "      <td>8</td>\n",
       "      <td>0.15</td>\n",
       "      <td>Stable</td>\n",
       "      <td>2.0</td>\n",
       "      <td>USC</td>\n",
       "      <td>Gynecologic</td>\n",
       "      <td>46.00</td>\n",
       "      <td>1:DECEASED</td>\n",
       "      <td>Uterus</td>\n",
       "      <td>White</td>\n",
       "      <td>1</td>\n",
       "      <td>1147</td>\n",
       "      <td>Metastasis</td>\n",
       "      <td>Female</td>\n",
       "      <td>Uterine Serous</td>\n",
       "      <td>UCEC SEROUS</td>\n",
       "      <td>1.957439</td>\n",
       "      <td>30.0</td>\n",
       "    </tr>\n",
       "    <tr>\n",
       "      <th>4</th>\n",
       "      <td>msk_met_2021</td>\n",
       "      <td>P-0000026</td>\n",
       "      <td>P-0000026-T01-IM3</td>\n",
       "      <td>NaN</td>\n",
       "      <td>68.41</td>\n",
       "      <td>78.43</td>\n",
       "      <td>71.72</td>\n",
       "      <td>71.58</td>\n",
       "      <td>Endometrial Cancer</td>\n",
       "      <td>Uterine Endometrioid Carcinoma</td>\n",
       "      <td>No</td>\n",
       "      <td>No</td>\n",
       "      <td>No</td>\n",
       "      <td>No</td>\n",
       "      <td>Yes</td>\n",
       "      <td>No</td>\n",
       "      <td>No</td>\n",
       "      <td>Yes</td>\n",
       "      <td>Yes</td>\n",
       "      <td>No</td>\n",
       "      <td>Yes</td>\n",
       "      <td>No</td>\n",
       "      <td>Yes</td>\n",
       "      <td>Yes</td>\n",
       "      <td>No</td>\n",
       "      <td>No</td>\n",
       "      <td>No</td>\n",
       "      <td>No</td>\n",
       "      <td>No</td>\n",
       "      <td>No</td>\n",
       "      <td>Yes</td>\n",
       "      <td>0.420</td>\n",
       "      <td>0.4196</td>\n",
       "      <td>IMPACT341</td>\n",
       "      <td>True</td>\n",
       "      <td>Unspecified</td>\n",
       "      <td>11</td>\n",
       "      <td>7</td>\n",
       "      <td>1.23</td>\n",
       "      <td>Stable</td>\n",
       "      <td>4.0</td>\n",
       "      <td>UEC</td>\n",
       "      <td>Gynecologic</td>\n",
       "      <td>80.59</td>\n",
       "      <td>0:LIVING</td>\n",
       "      <td>Uterus</td>\n",
       "      <td>Asian-far east/indian subcont</td>\n",
       "      <td>1</td>\n",
       "      <td>1222</td>\n",
       "      <td>Metastasis</td>\n",
       "      <td>Female</td>\n",
       "      <td>Uterine Endometrioid</td>\n",
       "      <td>UCEC ENDO</td>\n",
       "      <td>4.436621</td>\n",
       "      <td>10.0</td>\n",
       "    </tr>\n",
       "  </tbody>\n",
       "</table>\n",
       "</div>"
      ],
      "text/plain": [
       "       Study ID Patient ID          Sample ID  Age at Death  \\\n",
       "0  msk_met_2021  P-0000004  P-0000004-T01-IM3         40.06   \n",
       "1  msk_met_2021  P-0000015  P-0000015-T01-IM3         45.60   \n",
       "2  msk_met_2021  P-0000024  P-0000024-T01-IM3         64.25   \n",
       "3  msk_met_2021  P-0000025  P-0000025-T02-IM5         76.53   \n",
       "4  msk_met_2021  P-0000026  P-0000026-T01-IM3           NaN   \n",
       "\n",
       "   Age at First Mets Dx  Age at Last Contact  Age at Sequencing  \\\n",
       "0                 39.66                  NaN              39.74   \n",
       "1                 44.25                  NaN              44.44   \n",
       "2                 59.44                  NaN              61.33   \n",
       "3                 69.65                  NaN              74.81   \n",
       "4                 68.41                78.43              71.72   \n",
       "\n",
       "   Age at Surgical Procedure         Cancer Type  \\\n",
       "0                      37.03       Breast Cancer   \n",
       "1                      44.42       Breast Cancer   \n",
       "2                      61.00  Endometrial Cancer   \n",
       "3                      74.64  Endometrial Cancer   \n",
       "4                      71.58  Endometrial Cancer   \n",
       "\n",
       "                                Cancer Type Detailed  \\\n",
       "0                   Breast Invasive Ductal Carcinoma   \n",
       "1                   Breast Invasive Ductal Carcinoma   \n",
       "2                     Uterine Endometrioid Carcinoma   \n",
       "3  Uterine Serous Carcinoma/Uterine Papillary Ser...   \n",
       "4                     Uterine Endometrioid Carcinoma   \n",
       "\n",
       "  Distant Mets: Adrenal Gland Distant Mets: Biliary tract  \\\n",
       "0                          No                          No   \n",
       "1                          No                          No   \n",
       "2                          No                          No   \n",
       "3                         Yes                         Yes   \n",
       "4                          No                          No   \n",
       "\n",
       "  Distant Mets: Bladder/UT Distant Mets: Bone Distant Mets: Bowel  \\\n",
       "0                       No                Yes                  No   \n",
       "1                       No                Yes                  No   \n",
       "2                       No                Yes                  No   \n",
       "3                       No                 No                 Yes   \n",
       "4                       No                 No                 Yes   \n",
       "\n",
       "  Distant Mets: Breast Distant Mets: CNS/Brain Distant Mets: Distant LN  \\\n",
       "0                   No                      No                       No   \n",
       "1                   No                     Yes                      Yes   \n",
       "2                   No                      No                       No   \n",
       "3                   No                      No                       No   \n",
       "4                   No                      No                      Yes   \n",
       "\n",
       "  Distant Mets: Female Genital Distant Mets: Head and Neck  \\\n",
       "0                           No                          No   \n",
       "1                           No                          No   \n",
       "2                           No                          No   \n",
       "3                          Yes                          No   \n",
       "4                          Yes                          No   \n",
       "\n",
       "  Distant Mets: Intra-Abdominal Distant Mets: Kidney Distant Mets: Liver  \\\n",
       "0                            No                   No                 Yes   \n",
       "1                            No                   No                 Yes   \n",
       "2                           Yes                   No                 Yes   \n",
       "3                           Yes                   No                 Yes   \n",
       "4                           Yes                   No                 Yes   \n",
       "\n",
       "  Distant Mets: Lung Distant Mets: Male Genital Distant Mets: Mediastinum  \\\n",
       "0                 No                         No                        No   \n",
       "1                Yes                         No                        No   \n",
       "2                Yes                         No                        No   \n",
       "3                 No                         No                        No   \n",
       "4                Yes                         No                        No   \n",
       "\n",
       "  Distant Mets: Ovary Distant Mets: Pleura Distant Mets: PNS  \\\n",
       "0                  No                   No                No   \n",
       "1                 Yes                  Yes                No   \n",
       "2                  No                   No                No   \n",
       "3                 Yes                   No                No   \n",
       "4                  No                   No                No   \n",
       "\n",
       "  Distant Mets: Skin Distant Mets: Unspecified    FGA  \\\n",
       "0                 No                        No  0.278   \n",
       "1                 No                       Yes  0.350   \n",
       "2                 No                       Yes  0.388   \n",
       "3                 No                       Yes  0.102   \n",
       "4                 No                       Yes  0.420   \n",
       "\n",
       "   Fraction Genome Altered Gene Panel  Metastatic patient  Metastatic Site  \\\n",
       "0                   0.2782  IMPACT341                True              NaN   \n",
       "1                   0.3503  IMPACT341                True            Liver   \n",
       "2                   0.3878  IMPACT341                True             Lung   \n",
       "3                   0.1020  IMPACT410                True  Intra-Abdominal   \n",
       "4                   0.4196  IMPACT341                True      Unspecified   \n",
       "\n",
       "   Met Count  Met Site Count  MSI Score MSI Type  Mutation Count  \\\n",
       "0          2               2       2.50   Stable             4.0   \n",
       "1          8               8       2.55   Stable             7.0   \n",
       "2          8               5       0.72   Stable             6.0   \n",
       "3         13               8       0.15   Stable             2.0   \n",
       "4         11               7       1.23   Stable             4.0   \n",
       "\n",
       "  Oncotree Code Organ System  Overall Survival (Months)  \\\n",
       "0           IDC       Breast                       3.78   \n",
       "1           IDC       Breast                      13.90   \n",
       "2           UEC  Gynecologic                      35.06   \n",
       "3           USC  Gynecologic                      46.00   \n",
       "4           UEC  Gynecologic                      80.59   \n",
       "\n",
       "  Overall Survival Status Primary Tumor Site                  Race Category  \\\n",
       "0              1:DECEASED             Breast                          White   \n",
       "1              1:DECEASED             Breast                          White   \n",
       "2              1:DECEASED             Uterus                          White   \n",
       "3              1:DECEASED             Uterus                          White   \n",
       "4                0:LIVING             Uterus  Asian-far east/indian subcont   \n",
       "\n",
       "   Number of Samples Per Patient  Sample coverage Sample Type     Sex  \\\n",
       "0                              1              428     Primary  Female   \n",
       "1                              1              281  Metastasis  Female   \n",
       "2                              1             1016  Metastasis  Female   \n",
       "3                              1             1147  Metastasis  Female   \n",
       "4                              1             1222  Metastasis  Female   \n",
       "\n",
       "                  Subtype Subtype Abbreviation  TMB (nonsynonymous)  \\\n",
       "0  Breast Ductal HR+HER2-         IDC HR+HER2-             4.436621   \n",
       "1  Breast Ductal HR+HER2-         IDC HR+HER2-             7.764087   \n",
       "2    Uterine Endometrioid            UCEC ENDO             6.654932   \n",
       "3          Uterine Serous          UCEC SEROUS             1.957439   \n",
       "4    Uterine Endometrioid            UCEC ENDO             4.436621   \n",
       "\n",
       "   Tumor Purity  \n",
       "0          50.0  \n",
       "1          40.0  \n",
       "2          40.0  \n",
       "3          30.0  \n",
       "4          10.0  "
      ]
     },
     "execution_count": 115,
     "metadata": {},
     "output_type": "execute_result"
    }
   ],
   "source": [
    "df.head()"
   ]
  },
  {
   "cell_type": "markdown",
   "id": "763ea141-4dbe-49c0-aaea-ba6bf87f9354",
   "metadata": {},
   "source": [
    "Next Steps:\n",
    "- Check data types and formats\n",
    "- Check for duplicates\n",
    "- Check missing data\n",
    "\n",
    "---\n"
   ]
  },
  {
   "cell_type": "markdown",
   "id": "53250a46-fa0a-4276-a69e-9886c04a43d3",
   "metadata": {},
   "source": [
    "Next lets check the data types and formats of the 55 columns in this data set using the .info() function"
   ]
  },
  {
   "cell_type": "code",
   "execution_count": 116,
   "id": "7224fd55-c274-4159-b702-b399bff2bef3",
   "metadata": {
    "tags": []
   },
   "outputs": [
    {
     "name": "stdout",
     "output_type": "stream",
     "text": [
      "<class 'pandas.core.frame.DataFrame'>\n",
      "RangeIndex: 25775 entries, 0 to 25774\n",
      "Data columns (total 55 columns):\n",
      " #   Column                         Non-Null Count  Dtype  \n",
      "---  ------                         --------------  -----  \n",
      " 0   Study ID                       25775 non-null  object \n",
      " 1   Patient ID                     25775 non-null  object \n",
      " 2   Sample ID                      25775 non-null  object \n",
      " 3   Age at Death                   10023 non-null  float64\n",
      " 4   Age at First Mets Dx           19638 non-null  float64\n",
      " 5   Age at Last Contact            15646 non-null  float64\n",
      " 6   Age at Sequencing              25517 non-null  float64\n",
      " 7   Age at Surgical Procedure      24953 non-null  float64\n",
      " 8   Cancer Type                    25775 non-null  object \n",
      " 9   Cancer Type Detailed           25775 non-null  object \n",
      " 10  Distant Mets: Adrenal Gland    25775 non-null  object \n",
      " 11  Distant Mets: Biliary tract    25775 non-null  object \n",
      " 12  Distant Mets: Bladder/UT       25775 non-null  object \n",
      " 13  Distant Mets: Bone             25775 non-null  object \n",
      " 14  Distant Mets: Bowel            25775 non-null  object \n",
      " 15  Distant Mets: Breast           25775 non-null  object \n",
      " 16  Distant Mets: CNS/Brain        25775 non-null  object \n",
      " 17  Distant Mets: Distant LN       25775 non-null  object \n",
      " 18  Distant Mets: Female Genital   25775 non-null  object \n",
      " 19  Distant Mets: Head and Neck    25775 non-null  object \n",
      " 20  Distant Mets: Intra-Abdominal  25775 non-null  object \n",
      " 21  Distant Mets: Kidney           25775 non-null  object \n",
      " 22  Distant Mets: Liver            25775 non-null  object \n",
      " 23  Distant Mets: Lung             25775 non-null  object \n",
      " 24  Distant Mets: Male Genital     25775 non-null  object \n",
      " 25  Distant Mets: Mediastinum      25775 non-null  object \n",
      " 26  Distant Mets: Ovary            25775 non-null  object \n",
      " 27  Distant Mets: Pleura           25775 non-null  object \n",
      " 28  Distant Mets: PNS              25775 non-null  object \n",
      " 29  Distant Mets: Skin             25775 non-null  object \n",
      " 30  Distant Mets: Unspecified      25775 non-null  object \n",
      " 31  FGA                            25775 non-null  float64\n",
      " 32  Fraction Genome Altered        25775 non-null  float64\n",
      " 33  Gene Panel                     25775 non-null  object \n",
      " 34  Metastatic patient             25775 non-null  bool   \n",
      " 35  Metastatic Site                10143 non-null  object \n",
      " 36  Met Count                      25775 non-null  int64  \n",
      " 37  Met Site Count                 25775 non-null  int64  \n",
      " 38  MSI Score                      25773 non-null  float64\n",
      " 39  MSI Type                       25774 non-null  object \n",
      " 40  Mutation Count                 24753 non-null  float64\n",
      " 41  Oncotree Code                  25775 non-null  object \n",
      " 42  Organ System                   25775 non-null  object \n",
      " 43  Overall Survival (Months)      25659 non-null  float64\n",
      " 44  Overall Survival Status        25775 non-null  object \n",
      " 45  Primary Tumor Site             25773 non-null  object \n",
      " 46  Race Category                  25698 non-null  object \n",
      " 47  Number of Samples Per Patient  25775 non-null  int64  \n",
      " 48  Sample coverage                25775 non-null  int64  \n",
      " 49  Sample Type                    25775 non-null  object \n",
      " 50  Sex                            25771 non-null  object \n",
      " 51  Subtype                        25775 non-null  object \n",
      " 52  Subtype Abbreviation           25775 non-null  object \n",
      " 53  TMB (nonsynonymous)            25775 non-null  float64\n",
      " 54  Tumor Purity                   25368 non-null  float64\n",
      "dtypes: bool(1), float64(12), int64(4), object(38)\n",
      "memory usage: 10.6+ MB\n"
     ]
    }
   ],
   "source": [
    "#Display the info of the dataset\n",
    "df.info()"
   ]
  },
  {
   "cell_type": "markdown",
   "id": "35c9fd58-3bb4-452a-a015-609fbe3950f9",
   "metadata": {},
   "source": [
    "**Observations:**\n",
    "\n",
    "This data set contains the following data types:\n",
    "\n",
    "- `bool` (1)\n",
    "- `float64`(12)\n",
    "- `int64`(4)\n",
    "- `obect`(38)\n",
    "\n",
    "There seems to be columns with null values which we will take care of shortly.\n",
    "\n",
    "---"
   ]
  },
  {
   "cell_type": "markdown",
   "id": "cb6464de-a212-4f55-88c6-c81a38662d29",
   "metadata": {},
   "source": [
    "Next we will take a look at the number duplicate rows in the dataframe"
   ]
  },
  {
   "cell_type": "code",
   "execution_count": 117,
   "id": "9aae6dfe-fc28-47f1-854a-1554bbd456c1",
   "metadata": {
    "tags": []
   },
   "outputs": [
    {
     "data": {
      "text/plain": [
       "0"
      ]
     },
     "execution_count": 117,
     "metadata": {},
     "output_type": "execute_result"
    }
   ],
   "source": [
    "#Check the number of duplicated rows\n",
    "df.duplicated().sum()"
   ]
  },
  {
   "cell_type": "markdown",
   "id": "5f38ecb4-6d3b-43c7-b9f7-2171792963a5",
   "metadata": {},
   "source": [
    "**Observations:**\n",
    "\n",
    "There are no duplicated rows in this data frame. \n",
    "\n",
    "---\n"
   ]
  },
  {
   "cell_type": "markdown",
   "id": "8432c68b-fcb4-4f18-b375-b906ce14c8dc",
   "metadata": {},
   "source": [
    "Next we will take a look if any columns are duplicated by transposing the dataframe and running the duplicated function from above"
   ]
  },
  {
   "cell_type": "code",
   "execution_count": 118,
   "id": "2d0f3e14-b811-4e23-99f2-57fc8ba2b04c",
   "metadata": {
    "tags": []
   },
   "outputs": [
    {
     "data": {
      "text/plain": [
       "0"
      ]
     },
     "execution_count": 118,
     "metadata": {},
     "output_type": "execute_result"
    }
   ],
   "source": [
    "# Transpose the data frame and then look for duplicated rows to determine if any of the columns are duplicated:\n",
    "df.T.duplicated().sum()"
   ]
  },
  {
   "cell_type": "markdown",
   "id": "c96333d7-4d08-42a8-ba5c-c0901cb0602d",
   "metadata": {},
   "source": [
    "**Observations:**\n",
    "\n",
    "There are no duplicated columns in this data frame. \n",
    "\n",
    "---"
   ]
  },
  {
   "cell_type": "markdown",
   "id": "a67de0fd-197a-4710-affa-cd4efd2819f5",
   "metadata": {},
   "source": [
    "Even though there are no duplicated columns, there could be numerical columns that are fully correlated but do not contain the same values. Lets visualize this with a heatmap of correlations. "
   ]
  },
  {
   "cell_type": "code",
   "execution_count": 119,
   "id": "95bc2e9e-01e9-4344-86a1-576cd20ea8b7",
   "metadata": {
    "tags": []
   },
   "outputs": [
    {
     "data": {
      "image/png": "[encoded data removed]",
      "text/plain": [
       "<Figure size 1500x500 with 2 Axes>"
      ]
     },
     "metadata": {},
     "output_type": "display_data"
    }
   ],
   "source": [
    "#Create a heatmap of correlations to check if any columns are fully correlated\n",
    "\n",
    "corr_df = df.corr(numeric_only=True)\n",
    "mask = np.triu(corr_df)\n",
    "\n",
    "plt.figure(figsize=(15, 5))\n",
    "sns.heatmap(corr_df, vmin=-1.0, vmax=1.0, annot=True, mask=mask, cmap='coolwarm')\n",
    "plt.show()"
   ]
  },
  {
   "cell_type": "markdown",
   "id": "ce9882d5-8da1-4838-b87b-cdf7de4b980a",
   "metadata": {},
   "source": [
    "**Observations:**\n",
    "\n",
    "There are quite a few columns that have high correlation and we will take care of these when it comes time to modeling.  \n",
    "\n",
    "As you can see in the heatmap however, there some features that have a full correlation with others:\n",
    "- `Mutation Count` is fully correlated with `TMB (nonsynonymous)`\n",
    "- `Fraction Genome Altered` is fully correlated with `FGA`\n",
    "- `Age at Death` is fully correlated with `Age at Squencing`\n",
    "\n",
    "Lets further investigate what information these columns contain\n",
    "\n",
    "---"
   ]
  },
  {
   "cell_type": "markdown",
   "id": "912648b9-c42a-4a94-9a1e-eb5e3124553d",
   "metadata": {},
   "source": [
    "Investigate the fully correlated columns:\n",
    "- `Mutation Count` vs `TMB (nonsynonymous)`"
   ]
  },
  {
   "cell_type": "code",
   "execution_count": 120,
   "id": "7103fe7b-6770-4508-ae4e-7093afb73c69",
   "metadata": {
    "tags": []
   },
   "outputs": [
    {
     "name": "stdout",
     "output_type": "stream",
     "text": [
      "Mutation Count: Number of gene mutations found\n"
     ]
    }
   ],
   "source": [
    "#check description for Mutation Count\n",
    "feature_information('Mutation Count')"
   ]
  },
  {
   "cell_type": "code",
   "execution_count": 121,
   "id": "1bd7dbfb-c64d-4964-904e-15d245b431d3",
   "metadata": {
    "tags": []
   },
   "outputs": [
    {
     "name": "stdout",
     "output_type": "stream",
     "text": [
      "TMB (nonsynonymous): The number of non-synonymous mutations within coding regions across the genome. Non-synonymous mutations alter coding regions and change the resulting protein into dysfunctional or malformed protein products.\n"
     ]
    }
   ],
   "source": [
    "#check description for TMB (nonsynonymous)\n",
    "feature_information('TMB (nonsynonymous)')"
   ]
  },
  {
   "cell_type": "code",
   "execution_count": 122,
   "id": "1539f48e-1918-454d-9fe7-ee33c754468a",
   "metadata": {
    "tags": []
   },
   "outputs": [
    {
     "data": {
      "text/plain": [
       "Mutation Count         1022\n",
       "TMB (nonsynonymous)       0\n",
       "dtype: int64"
      ]
     },
     "execution_count": 122,
     "metadata": {},
     "output_type": "execute_result"
    }
   ],
   "source": [
    "#check null values in these columns to determine if one is better to drop than the other\n",
    "df[['Mutation Count','TMB (nonsynonymous)']].isna().sum()"
   ]
  },
  {
   "cell_type": "code",
   "execution_count": 123,
   "id": "9f50e4dd-8beb-4915-853a-c5dab772200c",
   "metadata": {
    "tags": []
   },
   "outputs": [
    {
     "data": {
      "text/plain": [
       "(1022, 55)"
      ]
     },
     "execution_count": 123,
     "metadata": {},
     "output_type": "execute_result"
    }
   ],
   "source": [
    "#check if the null values in Mutation Count = to a value of 0 in TMB (nonsynonymous)\n",
    "specific_value = 0\n",
    "\n",
    "filtered_rows = df[(df['Mutation Count'].isna()) & (df['TMB (nonsynonymous)'] == specific_value)]\n",
    "filtered_rows.shape"
   ]
  },
  {
   "cell_type": "markdown",
   "id": "32a785d1-c124-4713-9c64-54cafbf0eeb9",
   "metadata": {},
   "source": [
    "**Observations:**\n",
    "\n",
    "Since `Mutation Count` and `TMB (nonsynonymous)` both describe a value for the number of mutations specified in a patient, they are fully correlated. Though they might indicate different values for a patient,  `TMB (nonsynoymous)` looks at the coding regions and therefore is more informative than `Mutation Count`.  We will drop the `Mutation Count` column as it gives less valuable information.\n",
    "\n",
    "As another check, we checked the null values in each column as this may help guide which to drop contains null values where the `TMB (nonsynoymous)` feature does not contain null values.  As seen in the above codes, when `TMB(nonsynonymous) = 0`, `Mutation Count = NaN`. \n",
    "\n",
    "With these observations, we can drop the `Mutation Count` column.\n",
    "\n",
    "---"
   ]
  },
  {
   "cell_type": "markdown",
   "id": "cee505d0-cbcd-4365-bfef-e0c3d6d229ee",
   "metadata": {},
   "source": [
    "Investigate the fully correlated columns:\n",
    "- `Fraction Genome Altered` vs `FGA`    \n",
    "    "
   ]
  },
  {
   "cell_type": "code",
   "execution_count": 124,
   "id": "2548590f-c70f-45af-997e-29ac05004d2a",
   "metadata": {
    "tags": []
   },
   "outputs": [
    {
     "name": "stdout",
     "output_type": "stream",
     "text": [
      "Fraction Genome Altered: Fraction Genome Altered indicates the fraction of the genome that is copy-number altered. Add the length of all copy-number segments with an absolute value greater than 0.1 and then divide that number by the length of the genome. The resulting number is a fraction.\n"
     ]
    }
   ],
   "source": [
    "#check description for Fraction Genome Altered\n",
    "feature_information('Fraction Genome Altered')"
   ]
  },
  {
   "cell_type": "code",
   "execution_count": 125,
   "id": "d1f48e12-a672-4af4-8c9f-e8c5b5b3f115",
   "metadata": {
    "tags": []
   },
   "outputs": [
    {
     "name": "stdout",
     "output_type": "stream",
     "text": [
      "FGA: Fraction Genome Altered (rounded)\n"
     ]
    }
   ],
   "source": [
    "#check description for FGA\n",
    "feature_information('FGA')"
   ]
  },
  {
   "cell_type": "code",
   "execution_count": 126,
   "id": "d0f5868f-0aa5-439c-a236-5c60a10a4b26",
   "metadata": {
    "tags": []
   },
   "outputs": [
    {
     "data": {
      "text/plain": [
       "Fraction Genome Altered    0\n",
       "FGA                        0\n",
       "dtype: int64"
      ]
     },
     "execution_count": 126,
     "metadata": {},
     "output_type": "execute_result"
    }
   ],
   "source": [
    "#check the null values for each of these columns\n",
    "df[['Fraction Genome Altered','FGA']].isna().sum()"
   ]
  },
  {
   "cell_type": "markdown",
   "id": "fda52b10-be3d-45d4-b398-c0e57f08a56a",
   "metadata": {},
   "source": [
    "**Observations:**\n",
    "\n",
    "`Fraction Genome Altered` and `FGA` contain the same information, `FGA` is a rounded version of this column. We can see that neither have null values. Since `Fraction Genome Altered` is not rounded and remains a 'fraction' we will keep this column as it provides more information and we will drop `FGA`.\n",
    "\n",
    "---\n"
   ]
  },
  {
   "cell_type": "markdown",
   "id": "3064f8da-588d-4fc1-8c45-c7826fb704db",
   "metadata": {},
   "source": [
    "Investigate the fully correlated columns:\n",
    "\n",
    "- `Age at Death` is fully correlated with `Age at Squencing`"
   ]
  },
  {
   "cell_type": "code",
   "execution_count": 127,
   "id": "93d4ea81-42fc-42da-898c-ba29c862f317",
   "metadata": {
    "tags": []
   },
   "outputs": [
    {
     "name": "stdout",
     "output_type": "stream",
     "text": [
      "Age at Death: Age at which patient died (blank indicated patient is alive at time of study)\n"
     ]
    }
   ],
   "source": [
    "#check the description for Age at Death\n",
    "feature_information('Age at Death')"
   ]
  },
  {
   "cell_type": "code",
   "execution_count": 128,
   "id": "a61e8c2c-7551-4659-81ff-502defab3b63",
   "metadata": {
    "tags": []
   },
   "outputs": [
    {
     "name": "stdout",
     "output_type": "stream",
     "text": [
      "Age at Sequencing: Age at which the patients tumour was genetically sequenced\n"
     ]
    }
   ],
   "source": [
    "#check the description for Age at Sequencing\n",
    "feature_information('Age at Sequencing')"
   ]
  },
  {
   "cell_type": "code",
   "execution_count": 129,
   "id": "2786e20e-a038-4f8a-a77a-5d3e6e44bd4b",
   "metadata": {
    "tags": []
   },
   "outputs": [
    {
     "data": {
      "text/plain": [
       "Age at Death         15752\n",
       "Age at Sequencing      258\n",
       "dtype: int64"
      ]
     },
     "execution_count": 129,
     "metadata": {},
     "output_type": "execute_result"
    }
   ],
   "source": [
    "#check the null values for each of these columns\n",
    "\n",
    "df[['Age at Death','Age at Sequencing']].isna().sum()"
   ]
  },
  {
   "cell_type": "code",
   "execution_count": 130,
   "id": "de599bbe-3efd-4a75-a7c1-80886fcc3e5d",
   "metadata": {
    "tags": []
   },
   "outputs": [
    {
     "data": {
      "text/plain": [
       "Overall Survival Status\n",
       "0:LIVING      15606\n",
       "1:DECEASED    10169\n",
       "Name: count, dtype: int64"
      ]
     },
     "execution_count": 130,
     "metadata": {},
     "output_type": "execute_result"
    }
   ],
   "source": [
    "#check a related column Overall Survival Status:\n",
    "\n",
    "df['Overall Survival Status'].value_counts()"
   ]
  },
  {
   "cell_type": "markdown",
   "id": "6d978b2b-3087-4afa-8d54-8b061cc4c704",
   "metadata": {},
   "source": [
    "**Observations:**\n",
    "\n",
    "`Age at Death` and `Age at Sequencing` are fully correlated so one need to be dropped. They represent different ages in the span of the study.  When looking at the null values, `Age at Death` has a high number of null values.  This is because if the patient was stilla live during the entire study, no age was recorded.  This information is then captured in `Overall Survival Status`.  As it would be difficult to have any utility with the `Age at Death` feature with such a high proportion of Null values, we will drop this column. Note: Though there are 146 Null values in the `Age at Death` column that are unaccounted for in the `Overall Survival Status` column, this can be attirbuted to a data entry error. \n",
    "\n",
    "---"
   ]
  },
  {
   "cell_type": "markdown",
   "id": "9e4d3613-2b59-42ba-89b1-e54ae12ea582",
   "metadata": {},
   "source": [
    "Next I want to investigate `Number of Samples per Patient` as this value does not appear in our correlation heatmap. All values are blank. Lets see what values this column contains."
   ]
  },
  {
   "cell_type": "code",
   "execution_count": 131,
   "id": "2a5e65b2-7439-43fd-af12-db45b1f4de3e",
   "metadata": {
    "tags": []
   },
   "outputs": [
    {
     "data": {
      "text/plain": [
       "Number of Samples Per Patient\n",
       "1    25775\n",
       "Name: count, dtype: int64"
      ]
     },
     "execution_count": 131,
     "metadata": {},
     "output_type": "execute_result"
    }
   ],
   "source": [
    "df['Number of Samples Per Patient'].value_counts()"
   ]
  },
  {
   "cell_type": "markdown",
   "id": "bea03663-b622-437c-90c3-6d3d6b1c724f",
   "metadata": {},
   "source": [
    "**Observations:**\n",
    "\n",
    "As we can see there is only one value for this column which is why there was no correlation value in the heat map.  The entire data set only includes 1 sample per patient.  We can drop this column as it will not have any utility in our modeling.\n",
    "\n",
    "---"
   ]
  },
  {
   "cell_type": "markdown",
   "id": "8640bd4d-4ba1-44f3-9271-09526aa2a94d",
   "metadata": {},
   "source": [
    "Now that we have investigated the features that are fully correlated and decided which to drop, we can go ahead and drop these columns and then move on to dealing with missing values.  We will drop these columns in a copy of the data frame so that we can use the original data later if needed. Lets recap the columns we will be dropping:\n",
    "\n",
    "- `Mutation Count`\n",
    "- `FGA`\n",
    "- `Age at Death`\n",
    "- `Number of Samples Per Patient`"
   ]
  },
  {
   "cell_type": "code",
   "execution_count": 132,
   "id": "66682819-7a3a-460f-8d2e-1b1559cb7631",
   "metadata": {
    "tags": []
   },
   "outputs": [],
   "source": [
    "#make a copy of our data frame\n",
    "df_2 = df.copy()\n",
    "\n",
    "#make a list of the columns to drop\n",
    "cols_to_drop =['Mutation Count', 'FGA', 'Age at Death', 'Number of Samples Per Patient']\n",
    "\n",
    "#drop the columns\n",
    "df_2.drop(cols_to_drop, axis=1, inplace=True)"
   ]
  },
  {
   "cell_type": "code",
   "execution_count": 133,
   "id": "2bd4fa78-1550-489f-966f-47b0fa3a7461",
   "metadata": {
    "tags": []
   },
   "outputs": [
    {
     "data": {
      "text/html": [
       "<div>\n",
       "<style scoped>\n",
       "    .dataframe tbody tr th:only-of-type {\n",
       "        vertical-align: middle;\n",
       "    }\n",
       "\n",
       "    .dataframe tbody tr th {\n",
       "        vertical-align: top;\n",
       "    }\n",
       "\n",
       "    .dataframe thead th {\n",
       "        text-align: right;\n",
       "    }\n",
       "</style>\n",
       "<table border=\"1\" class=\"dataframe\">\n",
       "  <thead>\n",
       "    <tr style=\"text-align: right;\">\n",
       "      <th></th>\n",
       "      <th>Study ID</th>\n",
       "      <th>Patient ID</th>\n",
       "      <th>Sample ID</th>\n",
       "      <th>Age at First Mets Dx</th>\n",
       "      <th>Age at Last Contact</th>\n",
       "      <th>Age at Sequencing</th>\n",
       "      <th>Age at Surgical Procedure</th>\n",
       "      <th>Cancer Type</th>\n",
       "      <th>Cancer Type Detailed</th>\n",
       "      <th>Distant Mets: Adrenal Gland</th>\n",
       "      <th>Distant Mets: Biliary tract</th>\n",
       "      <th>Distant Mets: Bladder/UT</th>\n",
       "      <th>Distant Mets: Bone</th>\n",
       "      <th>Distant Mets: Bowel</th>\n",
       "      <th>Distant Mets: Breast</th>\n",
       "      <th>Distant Mets: CNS/Brain</th>\n",
       "      <th>Distant Mets: Distant LN</th>\n",
       "      <th>Distant Mets: Female Genital</th>\n",
       "      <th>Distant Mets: Head and Neck</th>\n",
       "      <th>Distant Mets: Intra-Abdominal</th>\n",
       "      <th>Distant Mets: Kidney</th>\n",
       "      <th>Distant Mets: Liver</th>\n",
       "      <th>Distant Mets: Lung</th>\n",
       "      <th>Distant Mets: Male Genital</th>\n",
       "      <th>Distant Mets: Mediastinum</th>\n",
       "      <th>Distant Mets: Ovary</th>\n",
       "      <th>Distant Mets: Pleura</th>\n",
       "      <th>Distant Mets: PNS</th>\n",
       "      <th>Distant Mets: Skin</th>\n",
       "      <th>Distant Mets: Unspecified</th>\n",
       "      <th>Fraction Genome Altered</th>\n",
       "      <th>Gene Panel</th>\n",
       "      <th>Metastatic patient</th>\n",
       "      <th>Metastatic Site</th>\n",
       "      <th>Met Count</th>\n",
       "      <th>Met Site Count</th>\n",
       "      <th>MSI Score</th>\n",
       "      <th>MSI Type</th>\n",
       "      <th>Oncotree Code</th>\n",
       "      <th>Organ System</th>\n",
       "      <th>Overall Survival (Months)</th>\n",
       "      <th>Overall Survival Status</th>\n",
       "      <th>Primary Tumor Site</th>\n",
       "      <th>Race Category</th>\n",
       "      <th>Sample coverage</th>\n",
       "      <th>Sample Type</th>\n",
       "      <th>Sex</th>\n",
       "      <th>Subtype</th>\n",
       "      <th>Subtype Abbreviation</th>\n",
       "      <th>TMB (nonsynonymous)</th>\n",
       "      <th>Tumor Purity</th>\n",
       "    </tr>\n",
       "  </thead>\n",
       "  <tbody>\n",
       "    <tr>\n",
       "      <th>0</th>\n",
       "      <td>msk_met_2021</td>\n",
       "      <td>P-0000004</td>\n",
       "      <td>P-0000004-T01-IM3</td>\n",
       "      <td>39.66</td>\n",
       "      <td>NaN</td>\n",
       "      <td>39.74</td>\n",
       "      <td>37.03</td>\n",
       "      <td>Breast Cancer</td>\n",
       "      <td>Breast Invasive Ductal Carcinoma</td>\n",
       "      <td>No</td>\n",
       "      <td>No</td>\n",
       "      <td>No</td>\n",
       "      <td>Yes</td>\n",
       "      <td>No</td>\n",
       "      <td>No</td>\n",
       "      <td>No</td>\n",
       "      <td>No</td>\n",
       "      <td>No</td>\n",
       "      <td>No</td>\n",
       "      <td>No</td>\n",
       "      <td>No</td>\n",
       "      <td>Yes</td>\n",
       "      <td>No</td>\n",
       "      <td>No</td>\n",
       "      <td>No</td>\n",
       "      <td>No</td>\n",
       "      <td>No</td>\n",
       "      <td>No</td>\n",
       "      <td>No</td>\n",
       "      <td>No</td>\n",
       "      <td>0.2782</td>\n",
       "      <td>IMPACT341</td>\n",
       "      <td>True</td>\n",
       "      <td>NaN</td>\n",
       "      <td>2</td>\n",
       "      <td>2</td>\n",
       "      <td>2.50</td>\n",
       "      <td>Stable</td>\n",
       "      <td>IDC</td>\n",
       "      <td>Breast</td>\n",
       "      <td>3.78</td>\n",
       "      <td>1:DECEASED</td>\n",
       "      <td>Breast</td>\n",
       "      <td>White</td>\n",
       "      <td>428</td>\n",
       "      <td>Primary</td>\n",
       "      <td>Female</td>\n",
       "      <td>Breast Ductal HR+HER2-</td>\n",
       "      <td>IDC HR+HER2-</td>\n",
       "      <td>4.436621</td>\n",
       "      <td>50.0</td>\n",
       "    </tr>\n",
       "    <tr>\n",
       "      <th>1</th>\n",
       "      <td>msk_met_2021</td>\n",
       "      <td>P-0000015</td>\n",
       "      <td>P-0000015-T01-IM3</td>\n",
       "      <td>44.25</td>\n",
       "      <td>NaN</td>\n",
       "      <td>44.44</td>\n",
       "      <td>44.42</td>\n",
       "      <td>Breast Cancer</td>\n",
       "      <td>Breast Invasive Ductal Carcinoma</td>\n",
       "      <td>No</td>\n",
       "      <td>No</td>\n",
       "      <td>No</td>\n",
       "      <td>Yes</td>\n",
       "      <td>No</td>\n",
       "      <td>No</td>\n",
       "      <td>Yes</td>\n",
       "      <td>Yes</td>\n",
       "      <td>No</td>\n",
       "      <td>No</td>\n",
       "      <td>No</td>\n",
       "      <td>No</td>\n",
       "      <td>Yes</td>\n",
       "      <td>Yes</td>\n",
       "      <td>No</td>\n",
       "      <td>No</td>\n",
       "      <td>Yes</td>\n",
       "      <td>Yes</td>\n",
       "      <td>No</td>\n",
       "      <td>No</td>\n",
       "      <td>Yes</td>\n",
       "      <td>0.3503</td>\n",
       "      <td>IMPACT341</td>\n",
       "      <td>True</td>\n",
       "      <td>Liver</td>\n",
       "      <td>8</td>\n",
       "      <td>8</td>\n",
       "      <td>2.55</td>\n",
       "      <td>Stable</td>\n",
       "      <td>IDC</td>\n",
       "      <td>Breast</td>\n",
       "      <td>13.90</td>\n",
       "      <td>1:DECEASED</td>\n",
       "      <td>Breast</td>\n",
       "      <td>White</td>\n",
       "      <td>281</td>\n",
       "      <td>Metastasis</td>\n",
       "      <td>Female</td>\n",
       "      <td>Breast Ductal HR+HER2-</td>\n",
       "      <td>IDC HR+HER2-</td>\n",
       "      <td>7.764087</td>\n",
       "      <td>40.0</td>\n",
       "    </tr>\n",
       "    <tr>\n",
       "      <th>2</th>\n",
       "      <td>msk_met_2021</td>\n",
       "      <td>P-0000024</td>\n",
       "      <td>P-0000024-T01-IM3</td>\n",
       "      <td>59.44</td>\n",
       "      <td>NaN</td>\n",
       "      <td>61.33</td>\n",
       "      <td>61.00</td>\n",
       "      <td>Endometrial Cancer</td>\n",
       "      <td>Uterine Endometrioid Carcinoma</td>\n",
       "      <td>No</td>\n",
       "      <td>No</td>\n",
       "      <td>No</td>\n",
       "      <td>Yes</td>\n",
       "      <td>No</td>\n",
       "      <td>No</td>\n",
       "      <td>No</td>\n",
       "      <td>No</td>\n",
       "      <td>No</td>\n",
       "      <td>No</td>\n",
       "      <td>Yes</td>\n",
       "      <td>No</td>\n",
       "      <td>Yes</td>\n",
       "      <td>Yes</td>\n",
       "      <td>No</td>\n",
       "      <td>No</td>\n",
       "      <td>No</td>\n",
       "      <td>No</td>\n",
       "      <td>No</td>\n",
       "      <td>No</td>\n",
       "      <td>Yes</td>\n",
       "      <td>0.3878</td>\n",
       "      <td>IMPACT341</td>\n",
       "      <td>True</td>\n",
       "      <td>Lung</td>\n",
       "      <td>8</td>\n",
       "      <td>5</td>\n",
       "      <td>0.72</td>\n",
       "      <td>Stable</td>\n",
       "      <td>UEC</td>\n",
       "      <td>Gynecologic</td>\n",
       "      <td>35.06</td>\n",
       "      <td>1:DECEASED</td>\n",
       "      <td>Uterus</td>\n",
       "      <td>White</td>\n",
       "      <td>1016</td>\n",
       "      <td>Metastasis</td>\n",
       "      <td>Female</td>\n",
       "      <td>Uterine Endometrioid</td>\n",
       "      <td>UCEC ENDO</td>\n",
       "      <td>6.654932</td>\n",
       "      <td>40.0</td>\n",
       "    </tr>\n",
       "    <tr>\n",
       "      <th>3</th>\n",
       "      <td>msk_met_2021</td>\n",
       "      <td>P-0000025</td>\n",
       "      <td>P-0000025-T02-IM5</td>\n",
       "      <td>69.65</td>\n",
       "      <td>NaN</td>\n",
       "      <td>74.81</td>\n",
       "      <td>74.64</td>\n",
       "      <td>Endometrial Cancer</td>\n",
       "      <td>Uterine Serous Carcinoma/Uterine Papillary Ser...</td>\n",
       "      <td>Yes</td>\n",
       "      <td>Yes</td>\n",
       "      <td>No</td>\n",
       "      <td>No</td>\n",
       "      <td>Yes</td>\n",
       "      <td>No</td>\n",
       "      <td>No</td>\n",
       "      <td>No</td>\n",
       "      <td>Yes</td>\n",
       "      <td>No</td>\n",
       "      <td>Yes</td>\n",
       "      <td>No</td>\n",
       "      <td>Yes</td>\n",
       "      <td>No</td>\n",
       "      <td>No</td>\n",
       "      <td>No</td>\n",
       "      <td>Yes</td>\n",
       "      <td>No</td>\n",
       "      <td>No</td>\n",
       "      <td>No</td>\n",
       "      <td>Yes</td>\n",
       "      <td>0.1020</td>\n",
       "      <td>IMPACT410</td>\n",
       "      <td>True</td>\n",
       "      <td>Intra-Abdominal</td>\n",
       "      <td>13</td>\n",
       "      <td>8</td>\n",
       "      <td>0.15</td>\n",
       "      <td>Stable</td>\n",
       "      <td>USC</td>\n",
       "      <td>Gynecologic</td>\n",
       "      <td>46.00</td>\n",
       "      <td>1:DECEASED</td>\n",
       "      <td>Uterus</td>\n",
       "      <td>White</td>\n",
       "      <td>1147</td>\n",
       "      <td>Metastasis</td>\n",
       "      <td>Female</td>\n",
       "      <td>Uterine Serous</td>\n",
       "      <td>UCEC SEROUS</td>\n",
       "      <td>1.957439</td>\n",
       "      <td>30.0</td>\n",
       "    </tr>\n",
       "    <tr>\n",
       "      <th>4</th>\n",
       "      <td>msk_met_2021</td>\n",
       "      <td>P-0000026</td>\n",
       "      <td>P-0000026-T01-IM3</td>\n",
       "      <td>68.41</td>\n",
       "      <td>78.43</td>\n",
       "      <td>71.72</td>\n",
       "      <td>71.58</td>\n",
       "      <td>Endometrial Cancer</td>\n",
       "      <td>Uterine Endometrioid Carcinoma</td>\n",
       "      <td>No</td>\n",
       "      <td>No</td>\n",
       "      <td>No</td>\n",
       "      <td>No</td>\n",
       "      <td>Yes</td>\n",
       "      <td>No</td>\n",
       "      <td>No</td>\n",
       "      <td>Yes</td>\n",
       "      <td>Yes</td>\n",
       "      <td>No</td>\n",
       "      <td>Yes</td>\n",
       "      <td>No</td>\n",
       "      <td>Yes</td>\n",
       "      <td>Yes</td>\n",
       "      <td>No</td>\n",
       "      <td>No</td>\n",
       "      <td>No</td>\n",
       "      <td>No</td>\n",
       "      <td>No</td>\n",
       "      <td>No</td>\n",
       "      <td>Yes</td>\n",
       "      <td>0.4196</td>\n",
       "      <td>IMPACT341</td>\n",
       "      <td>True</td>\n",
       "      <td>Unspecified</td>\n",
       "      <td>11</td>\n",
       "      <td>7</td>\n",
       "      <td>1.23</td>\n",
       "      <td>Stable</td>\n",
       "      <td>UEC</td>\n",
       "      <td>Gynecologic</td>\n",
       "      <td>80.59</td>\n",
       "      <td>0:LIVING</td>\n",
       "      <td>Uterus</td>\n",
       "      <td>Asian-far east/indian subcont</td>\n",
       "      <td>1222</td>\n",
       "      <td>Metastasis</td>\n",
       "      <td>Female</td>\n",
       "      <td>Uterine Endometrioid</td>\n",
       "      <td>UCEC ENDO</td>\n",
       "      <td>4.436621</td>\n",
       "      <td>10.0</td>\n",
       "    </tr>\n",
       "  </tbody>\n",
       "</table>\n",
       "</div>"
      ],
      "text/plain": [
       "       Study ID Patient ID          Sample ID  Age at First Mets Dx  \\\n",
       "0  msk_met_2021  P-0000004  P-0000004-T01-IM3                 39.66   \n",
       "1  msk_met_2021  P-0000015  P-0000015-T01-IM3                 44.25   \n",
       "2  msk_met_2021  P-0000024  P-0000024-T01-IM3                 59.44   \n",
       "3  msk_met_2021  P-0000025  P-0000025-T02-IM5                 69.65   \n",
       "4  msk_met_2021  P-0000026  P-0000026-T01-IM3                 68.41   \n",
       "\n",
       "   Age at Last Contact  Age at Sequencing  Age at Surgical Procedure  \\\n",
       "0                  NaN              39.74                      37.03   \n",
       "1                  NaN              44.44                      44.42   \n",
       "2                  NaN              61.33                      61.00   \n",
       "3                  NaN              74.81                      74.64   \n",
       "4                78.43              71.72                      71.58   \n",
       "\n",
       "          Cancer Type                               Cancer Type Detailed  \\\n",
       "0       Breast Cancer                   Breast Invasive Ductal Carcinoma   \n",
       "1       Breast Cancer                   Breast Invasive Ductal Carcinoma   \n",
       "2  Endometrial Cancer                     Uterine Endometrioid Carcinoma   \n",
       "3  Endometrial Cancer  Uterine Serous Carcinoma/Uterine Papillary Ser...   \n",
       "4  Endometrial Cancer                     Uterine Endometrioid Carcinoma   \n",
       "\n",
       "  Distant Mets: Adrenal Gland Distant Mets: Biliary tract  \\\n",
       "0                          No                          No   \n",
       "1                          No                          No   \n",
       "2                          No                          No   \n",
       "3                         Yes                         Yes   \n",
       "4                          No                          No   \n",
       "\n",
       "  Distant Mets: Bladder/UT Distant Mets: Bone Distant Mets: Bowel  \\\n",
       "0                       No                Yes                  No   \n",
       "1                       No                Yes                  No   \n",
       "2                       No                Yes                  No   \n",
       "3                       No                 No                 Yes   \n",
       "4                       No                 No                 Yes   \n",
       "\n",
       "  Distant Mets: Breast Distant Mets: CNS/Brain Distant Mets: Distant LN  \\\n",
       "0                   No                      No                       No   \n",
       "1                   No                     Yes                      Yes   \n",
       "2                   No                      No                       No   \n",
       "3                   No                      No                       No   \n",
       "4                   No                      No                      Yes   \n",
       "\n",
       "  Distant Mets: Female Genital Distant Mets: Head and Neck  \\\n",
       "0                           No                          No   \n",
       "1                           No                          No   \n",
       "2                           No                          No   \n",
       "3                          Yes                          No   \n",
       "4                          Yes                          No   \n",
       "\n",
       "  Distant Mets: Intra-Abdominal Distant Mets: Kidney Distant Mets: Liver  \\\n",
       "0                            No                   No                 Yes   \n",
       "1                            No                   No                 Yes   \n",
       "2                           Yes                   No                 Yes   \n",
       "3                           Yes                   No                 Yes   \n",
       "4                           Yes                   No                 Yes   \n",
       "\n",
       "  Distant Mets: Lung Distant Mets: Male Genital Distant Mets: Mediastinum  \\\n",
       "0                 No                         No                        No   \n",
       "1                Yes                         No                        No   \n",
       "2                Yes                         No                        No   \n",
       "3                 No                         No                        No   \n",
       "4                Yes                         No                        No   \n",
       "\n",
       "  Distant Mets: Ovary Distant Mets: Pleura Distant Mets: PNS  \\\n",
       "0                  No                   No                No   \n",
       "1                 Yes                  Yes                No   \n",
       "2                  No                   No                No   \n",
       "3                 Yes                   No                No   \n",
       "4                  No                   No                No   \n",
       "\n",
       "  Distant Mets: Skin Distant Mets: Unspecified  Fraction Genome Altered  \\\n",
       "0                 No                        No                   0.2782   \n",
       "1                 No                       Yes                   0.3503   \n",
       "2                 No                       Yes                   0.3878   \n",
       "3                 No                       Yes                   0.1020   \n",
       "4                 No                       Yes                   0.4196   \n",
       "\n",
       "  Gene Panel  Metastatic patient  Metastatic Site  Met Count  Met Site Count  \\\n",
       "0  IMPACT341                True              NaN          2               2   \n",
       "1  IMPACT341                True            Liver          8               8   \n",
       "2  IMPACT341                True             Lung          8               5   \n",
       "3  IMPACT410                True  Intra-Abdominal         13               8   \n",
       "4  IMPACT341                True      Unspecified         11               7   \n",
       "\n",
       "   MSI Score MSI Type Oncotree Code Organ System  Overall Survival (Months)  \\\n",
       "0       2.50   Stable           IDC       Breast                       3.78   \n",
       "1       2.55   Stable           IDC       Breast                      13.90   \n",
       "2       0.72   Stable           UEC  Gynecologic                      35.06   \n",
       "3       0.15   Stable           USC  Gynecologic                      46.00   \n",
       "4       1.23   Stable           UEC  Gynecologic                      80.59   \n",
       "\n",
       "  Overall Survival Status Primary Tumor Site                  Race Category  \\\n",
       "0              1:DECEASED             Breast                          White   \n",
       "1              1:DECEASED             Breast                          White   \n",
       "2              1:DECEASED             Uterus                          White   \n",
       "3              1:DECEASED             Uterus                          White   \n",
       "4                0:LIVING             Uterus  Asian-far east/indian subcont   \n",
       "\n",
       "   Sample coverage Sample Type     Sex                 Subtype  \\\n",
       "0              428     Primary  Female  Breast Ductal HR+HER2-   \n",
       "1              281  Metastasis  Female  Breast Ductal HR+HER2-   \n",
       "2             1016  Metastasis  Female    Uterine Endometrioid   \n",
       "3             1147  Metastasis  Female          Uterine Serous   \n",
       "4             1222  Metastasis  Female    Uterine Endometrioid   \n",
       "\n",
       "  Subtype Abbreviation  TMB (nonsynonymous)  Tumor Purity  \n",
       "0         IDC HR+HER2-             4.436621          50.0  \n",
       "1         IDC HR+HER2-             7.764087          40.0  \n",
       "2            UCEC ENDO             6.654932          40.0  \n",
       "3          UCEC SEROUS             1.957439          30.0  \n",
       "4            UCEC ENDO             4.436621          10.0  "
      ]
     },
     "execution_count": 133,
     "metadata": {},
     "output_type": "execute_result"
    }
   ],
   "source": [
    "#sanity check\n",
    "df_2.head()"
   ]
  },
  {
   "cell_type": "code",
   "execution_count": 134,
   "id": "0cb9f728-c347-47f8-8503-c3ea14a0c8b5",
   "metadata": {
    "tags": []
   },
   "outputs": [
    {
     "data": {
      "text/plain": [
       "51"
      ]
     },
     "execution_count": 134,
     "metadata": {},
     "output_type": "execute_result"
    }
   ],
   "source": [
    "#check the shape of the new data frame after the 4 columns were dropped\n",
    "df_2.shape[1]"
   ]
  },
  {
   "cell_type": "markdown",
   "id": "70190244-0869-4193-8024-edd1843a9dc5",
   "metadata": {},
   "source": [
    "The new data set with the removed columns has 51 columns."
   ]
  },
  {
   "cell_type": "code",
   "execution_count": 135,
   "id": "3bbbf1d2-9f6b-4157-b9ac-2cd77b806f4a",
   "metadata": {
    "tags": []
   },
   "outputs": [
    {
     "data": {
      "image/png": "[encoded data removed]",
      "text/plain": [
       "<Figure size 1500x500 with 2 Axes>"
      ]
     },
     "metadata": {},
     "output_type": "display_data"
    }
   ],
   "source": [
    "#re-Create a heatmap of correlations to check if any columns are fully correlated\n",
    "\n",
    "corr_df2 = df_2.corr(numeric_only=True)\n",
    "mask = np.triu(corr_df2)\n",
    "\n",
    "plt.figure(figsize=(15, 5))\n",
    "sns.heatmap(corr_df2, vmin=-1.0, vmax=1.0, annot=True, mask=mask, cmap='coolwarm')\n",
    "plt.show()"
   ]
  },
  {
   "cell_type": "markdown",
   "id": "d390d3d0-1ea9-41c7-bbd9-f772f3f5a0ef",
   "metadata": {},
   "source": [
    "**Observations:**\n",
    "\n",
    "The columns that were full correlated have been removed and now we can move on to dealing with null values in the remainder of the data set.\n",
    "\n",
    "---\n",
    "\n",
    "Next steps:\n",
    "\n",
    "- Check columns for unique values to see if there are insignificant columns that can be dropped\n",
    "- Check columns for missing values\n",
    "- Deal with missing values"
   ]
  },
  {
   "cell_type": "code",
   "execution_count": 136,
   "id": "13d77c29-9c54-46d0-8bc7-1e043e47a92c",
   "metadata": {
    "tags": []
   },
   "outputs": [
    {
     "data": {
      "text/plain": [
       "Study ID                             1\n",
       "Patient ID                       25775\n",
       "Sample ID                        25775\n",
       "Age at First Mets Dx              5296\n",
       "Age at Last Contact               4972\n",
       "Age at Sequencing                 5595\n",
       "Age at Surgical Procedure         5618\n",
       "Cancer Type                         27\n",
       "Cancer Type Detailed                84\n",
       "Distant Mets: Adrenal Gland          2\n",
       "Distant Mets: Biliary tract          2\n",
       "Distant Mets: Bladder/UT             2\n",
       "Distant Mets: Bone                   2\n",
       "Distant Mets: Bowel                  2\n",
       "Distant Mets: Breast                 2\n",
       "Distant Mets: CNS/Brain              2\n",
       "Distant Mets: Distant LN             2\n",
       "Distant Mets: Female Genital         2\n",
       "Distant Mets: Head and Neck          2\n",
       "Distant Mets: Intra-Abdominal        2\n",
       "Distant Mets: Kidney                 2\n",
       "Distant Mets: Liver                  2\n",
       "Distant Mets: Lung                   2\n",
       "Distant Mets: Male Genital           2\n",
       "Distant Mets: Mediastinum            2\n",
       "Distant Mets: Ovary                  2\n",
       "Distant Mets: Pleura                 2\n",
       "Distant Mets: PNS                    2\n",
       "Distant Mets: Skin                   2\n",
       "Distant Mets: Unspecified            2\n",
       "Fraction Genome Altered           6290\n",
       "Gene Panel                           3\n",
       "Metastatic patient                   2\n",
       "Metastatic Site                     21\n",
       "Met Count                           28\n",
       "Met Site Count                      16\n",
       "MSI Score                         1227\n",
       "MSI Type                             4\n",
       "Oncotree Code                       90\n",
       "Organ System                        10\n",
       "Overall Survival (Months)         2247\n",
       "Overall Survival Status              2\n",
       "Primary Tumor Site                 189\n",
       "Race Category                        9\n",
       "Sample coverage                   1256\n",
       "Sample Type                          2\n",
       "Sex                                  2\n",
       "Subtype                             50\n",
       "Subtype Abbreviation                50\n",
       "TMB (nonsynonymous)                371\n",
       "Tumor Purity                        23\n",
       "dtype: int64"
      ]
     },
     "execution_count": 136,
     "metadata": {},
     "output_type": "execute_result"
    }
   ],
   "source": [
    "#Check number of unique values in each column of the dataset\n",
    "df_2.nunique()"
   ]
  },
  {
   "cell_type": "markdown",
   "id": "86048a95-97bd-437b-baf4-2be3785cb032",
   "metadata": {},
   "source": [
    "Nex I will take a look at the data in the following columns:\n",
    "\n",
    "- `Patient ID` vs `Sample ID`: as they have the same amount of unique values as number of entries in the data set\n",
    "- `Study ID`: There is only one unique value in this column"
   ]
  },
  {
   "cell_type": "code",
   "execution_count": 137,
   "id": "dd522c09-2c99-4541-af41-df40985acd2c",
   "metadata": {
    "tags": []
   },
   "outputs": [
    {
     "data": {
      "text/html": [
       "<div>\n",
       "<style scoped>\n",
       "    .dataframe tbody tr th:only-of-type {\n",
       "        vertical-align: middle;\n",
       "    }\n",
       "\n",
       "    .dataframe tbody tr th {\n",
       "        vertical-align: top;\n",
       "    }\n",
       "\n",
       "    .dataframe thead th {\n",
       "        text-align: right;\n",
       "    }\n",
       "</style>\n",
       "<table border=\"1\" class=\"dataframe\">\n",
       "  <thead>\n",
       "    <tr style=\"text-align: right;\">\n",
       "      <th></th>\n",
       "      <th>Patient ID</th>\n",
       "      <th>Sample ID</th>\n",
       "    </tr>\n",
       "  </thead>\n",
       "  <tbody>\n",
       "    <tr>\n",
       "      <th>0</th>\n",
       "      <td>P-0000004</td>\n",
       "      <td>P-0000004-T01-IM3</td>\n",
       "    </tr>\n",
       "    <tr>\n",
       "      <th>1</th>\n",
       "      <td>P-0000015</td>\n",
       "      <td>P-0000015-T01-IM3</td>\n",
       "    </tr>\n",
       "    <tr>\n",
       "      <th>2</th>\n",
       "      <td>P-0000024</td>\n",
       "      <td>P-0000024-T01-IM3</td>\n",
       "    </tr>\n",
       "    <tr>\n",
       "      <th>3</th>\n",
       "      <td>P-0000025</td>\n",
       "      <td>P-0000025-T02-IM5</td>\n",
       "    </tr>\n",
       "    <tr>\n",
       "      <th>4</th>\n",
       "      <td>P-0000026</td>\n",
       "      <td>P-0000026-T01-IM3</td>\n",
       "    </tr>\n",
       "  </tbody>\n",
       "</table>\n",
       "</div>"
      ],
      "text/plain": [
       "  Patient ID          Sample ID\n",
       "0  P-0000004  P-0000004-T01-IM3\n",
       "1  P-0000015  P-0000015-T01-IM3\n",
       "2  P-0000024  P-0000024-T01-IM3\n",
       "3  P-0000025  P-0000025-T02-IM5\n",
       "4  P-0000026  P-0000026-T01-IM3"
      ]
     },
     "execution_count": 137,
     "metadata": {},
     "output_type": "execute_result"
    }
   ],
   "source": [
    "df_2[['Patient ID', 'Sample ID']].head()"
   ]
  },
  {
   "cell_type": "code",
   "execution_count": 138,
   "id": "433b8ae9-b126-4775-b7b7-b8f6d952515a",
   "metadata": {
    "tags": []
   },
   "outputs": [
    {
     "data": {
      "text/plain": [
       "Study ID\n",
       "msk_met_2021    25775\n",
       "Name: count, dtype: int64"
      ]
     },
     "execution_count": 138,
     "metadata": {},
     "output_type": "execute_result"
    }
   ],
   "source": [
    "df['Study ID'].value_counts()"
   ]
  },
  {
   "cell_type": "markdown",
   "id": "51ac10cd-9006-479a-8642-c97391c2014e",
   "metadata": {},
   "source": [
    "**Observations:**\n",
    "\n",
    "`Patient ID` and `Sample ID` seem to both have very similar information. `Sample ID` contains the `Patient ID` string followed by another string which must be an ID for a process that the sample went through for analysis.  Since `Sample ID` contains more information and is also a unique value for each entry, we can drop the redundant column `Patient ID`.  \n",
    "\n",
    "`Study ID` contains only one value msk_met_2021.  This is not useful information for us as we know from the data source what study this data belongs to. To keep our data as clean as possible keeping only significant information, we can also drop this column."
   ]
  },
  {
   "cell_type": "code",
   "execution_count": 139,
   "id": "cd6c1af2-a811-40ca-9b46-4aece2f7cb7f",
   "metadata": {
    "tags": []
   },
   "outputs": [],
   "source": [
    "#make a list of columns to drop\n",
    "cols_to_drop =['Patient ID', 'Study ID']\n",
    "\n",
    "#drop the columns\n",
    "df_2.drop(cols_to_drop, axis=1, inplace=True)"
   ]
  },
  {
   "cell_type": "code",
   "execution_count": 140,
   "id": "b13dc55d-30e8-485d-b97a-17d210666bf1",
   "metadata": {
    "tags": []
   },
   "outputs": [
    {
     "data": {
      "text/html": [
       "<div>\n",
       "<style scoped>\n",
       "    .dataframe tbody tr th:only-of-type {\n",
       "        vertical-align: middle;\n",
       "    }\n",
       "\n",
       "    .dataframe tbody tr th {\n",
       "        vertical-align: top;\n",
       "    }\n",
       "\n",
       "    .dataframe thead th {\n",
       "        text-align: right;\n",
       "    }\n",
       "</style>\n",
       "<table border=\"1\" class=\"dataframe\">\n",
       "  <thead>\n",
       "    <tr style=\"text-align: right;\">\n",
       "      <th></th>\n",
       "      <th>Sample ID</th>\n",
       "      <th>Age at First Mets Dx</th>\n",
       "      <th>Age at Last Contact</th>\n",
       "      <th>Age at Sequencing</th>\n",
       "      <th>Age at Surgical Procedure</th>\n",
       "      <th>Cancer Type</th>\n",
       "      <th>Cancer Type Detailed</th>\n",
       "      <th>Distant Mets: Adrenal Gland</th>\n",
       "      <th>Distant Mets: Biliary tract</th>\n",
       "      <th>Distant Mets: Bladder/UT</th>\n",
       "      <th>Distant Mets: Bone</th>\n",
       "      <th>Distant Mets: Bowel</th>\n",
       "      <th>Distant Mets: Breast</th>\n",
       "      <th>Distant Mets: CNS/Brain</th>\n",
       "      <th>Distant Mets: Distant LN</th>\n",
       "      <th>Distant Mets: Female Genital</th>\n",
       "      <th>Distant Mets: Head and Neck</th>\n",
       "      <th>Distant Mets: Intra-Abdominal</th>\n",
       "      <th>Distant Mets: Kidney</th>\n",
       "      <th>Distant Mets: Liver</th>\n",
       "      <th>Distant Mets: Lung</th>\n",
       "      <th>Distant Mets: Male Genital</th>\n",
       "      <th>Distant Mets: Mediastinum</th>\n",
       "      <th>Distant Mets: Ovary</th>\n",
       "      <th>Distant Mets: Pleura</th>\n",
       "      <th>Distant Mets: PNS</th>\n",
       "      <th>Distant Mets: Skin</th>\n",
       "      <th>Distant Mets: Unspecified</th>\n",
       "      <th>Fraction Genome Altered</th>\n",
       "      <th>Gene Panel</th>\n",
       "      <th>Metastatic patient</th>\n",
       "      <th>Metastatic Site</th>\n",
       "      <th>Met Count</th>\n",
       "      <th>Met Site Count</th>\n",
       "      <th>MSI Score</th>\n",
       "      <th>MSI Type</th>\n",
       "      <th>Oncotree Code</th>\n",
       "      <th>Organ System</th>\n",
       "      <th>Overall Survival (Months)</th>\n",
       "      <th>Overall Survival Status</th>\n",
       "      <th>Primary Tumor Site</th>\n",
       "      <th>Race Category</th>\n",
       "      <th>Sample coverage</th>\n",
       "      <th>Sample Type</th>\n",
       "      <th>Sex</th>\n",
       "      <th>Subtype</th>\n",
       "      <th>Subtype Abbreviation</th>\n",
       "      <th>TMB (nonsynonymous)</th>\n",
       "      <th>Tumor Purity</th>\n",
       "    </tr>\n",
       "  </thead>\n",
       "  <tbody>\n",
       "    <tr>\n",
       "      <th>0</th>\n",
       "      <td>P-0000004-T01-IM3</td>\n",
       "      <td>39.66</td>\n",
       "      <td>NaN</td>\n",
       "      <td>39.74</td>\n",
       "      <td>37.03</td>\n",
       "      <td>Breast Cancer</td>\n",
       "      <td>Breast Invasive Ductal Carcinoma</td>\n",
       "      <td>No</td>\n",
       "      <td>No</td>\n",
       "      <td>No</td>\n",
       "      <td>Yes</td>\n",
       "      <td>No</td>\n",
       "      <td>No</td>\n",
       "      <td>No</td>\n",
       "      <td>No</td>\n",
       "      <td>No</td>\n",
       "      <td>No</td>\n",
       "      <td>No</td>\n",
       "      <td>No</td>\n",
       "      <td>Yes</td>\n",
       "      <td>No</td>\n",
       "      <td>No</td>\n",
       "      <td>No</td>\n",
       "      <td>No</td>\n",
       "      <td>No</td>\n",
       "      <td>No</td>\n",
       "      <td>No</td>\n",
       "      <td>No</td>\n",
       "      <td>0.2782</td>\n",
       "      <td>IMPACT341</td>\n",
       "      <td>True</td>\n",
       "      <td>NaN</td>\n",
       "      <td>2</td>\n",
       "      <td>2</td>\n",
       "      <td>2.50</td>\n",
       "      <td>Stable</td>\n",
       "      <td>IDC</td>\n",
       "      <td>Breast</td>\n",
       "      <td>3.78</td>\n",
       "      <td>1:DECEASED</td>\n",
       "      <td>Breast</td>\n",
       "      <td>White</td>\n",
       "      <td>428</td>\n",
       "      <td>Primary</td>\n",
       "      <td>Female</td>\n",
       "      <td>Breast Ductal HR+HER2-</td>\n",
       "      <td>IDC HR+HER2-</td>\n",
       "      <td>4.436621</td>\n",
       "      <td>50.0</td>\n",
       "    </tr>\n",
       "    <tr>\n",
       "      <th>1</th>\n",
       "      <td>P-0000015-T01-IM3</td>\n",
       "      <td>44.25</td>\n",
       "      <td>NaN</td>\n",
       "      <td>44.44</td>\n",
       "      <td>44.42</td>\n",
       "      <td>Breast Cancer</td>\n",
       "      <td>Breast Invasive Ductal Carcinoma</td>\n",
       "      <td>No</td>\n",
       "      <td>No</td>\n",
       "      <td>No</td>\n",
       "      <td>Yes</td>\n",
       "      <td>No</td>\n",
       "      <td>No</td>\n",
       "      <td>Yes</td>\n",
       "      <td>Yes</td>\n",
       "      <td>No</td>\n",
       "      <td>No</td>\n",
       "      <td>No</td>\n",
       "      <td>No</td>\n",
       "      <td>Yes</td>\n",
       "      <td>Yes</td>\n",
       "      <td>No</td>\n",
       "      <td>No</td>\n",
       "      <td>Yes</td>\n",
       "      <td>Yes</td>\n",
       "      <td>No</td>\n",
       "      <td>No</td>\n",
       "      <td>Yes</td>\n",
       "      <td>0.3503</td>\n",
       "      <td>IMPACT341</td>\n",
       "      <td>True</td>\n",
       "      <td>Liver</td>\n",
       "      <td>8</td>\n",
       "      <td>8</td>\n",
       "      <td>2.55</td>\n",
       "      <td>Stable</td>\n",
       "      <td>IDC</td>\n",
       "      <td>Breast</td>\n",
       "      <td>13.90</td>\n",
       "      <td>1:DECEASED</td>\n",
       "      <td>Breast</td>\n",
       "      <td>White</td>\n",
       "      <td>281</td>\n",
       "      <td>Metastasis</td>\n",
       "      <td>Female</td>\n",
       "      <td>Breast Ductal HR+HER2-</td>\n",
       "      <td>IDC HR+HER2-</td>\n",
       "      <td>7.764087</td>\n",
       "      <td>40.0</td>\n",
       "    </tr>\n",
       "    <tr>\n",
       "      <th>2</th>\n",
       "      <td>P-0000024-T01-IM3</td>\n",
       "      <td>59.44</td>\n",
       "      <td>NaN</td>\n",
       "      <td>61.33</td>\n",
       "      <td>61.00</td>\n",
       "      <td>Endometrial Cancer</td>\n",
       "      <td>Uterine Endometrioid Carcinoma</td>\n",
       "      <td>No</td>\n",
       "      <td>No</td>\n",
       "      <td>No</td>\n",
       "      <td>Yes</td>\n",
       "      <td>No</td>\n",
       "      <td>No</td>\n",
       "      <td>No</td>\n",
       "      <td>No</td>\n",
       "      <td>No</td>\n",
       "      <td>No</td>\n",
       "      <td>Yes</td>\n",
       "      <td>No</td>\n",
       "      <td>Yes</td>\n",
       "      <td>Yes</td>\n",
       "      <td>No</td>\n",
       "      <td>No</td>\n",
       "      <td>No</td>\n",
       "      <td>No</td>\n",
       "      <td>No</td>\n",
       "      <td>No</td>\n",
       "      <td>Yes</td>\n",
       "      <td>0.3878</td>\n",
       "      <td>IMPACT341</td>\n",
       "      <td>True</td>\n",
       "      <td>Lung</td>\n",
       "      <td>8</td>\n",
       "      <td>5</td>\n",
       "      <td>0.72</td>\n",
       "      <td>Stable</td>\n",
       "      <td>UEC</td>\n",
       "      <td>Gynecologic</td>\n",
       "      <td>35.06</td>\n",
       "      <td>1:DECEASED</td>\n",
       "      <td>Uterus</td>\n",
       "      <td>White</td>\n",
       "      <td>1016</td>\n",
       "      <td>Metastasis</td>\n",
       "      <td>Female</td>\n",
       "      <td>Uterine Endometrioid</td>\n",
       "      <td>UCEC ENDO</td>\n",
       "      <td>6.654932</td>\n",
       "      <td>40.0</td>\n",
       "    </tr>\n",
       "    <tr>\n",
       "      <th>3</th>\n",
       "      <td>P-0000025-T02-IM5</td>\n",
       "      <td>69.65</td>\n",
       "      <td>NaN</td>\n",
       "      <td>74.81</td>\n",
       "      <td>74.64</td>\n",
       "      <td>Endometrial Cancer</td>\n",
       "      <td>Uterine Serous Carcinoma/Uterine Papillary Ser...</td>\n",
       "      <td>Yes</td>\n",
       "      <td>Yes</td>\n",
       "      <td>No</td>\n",
       "      <td>No</td>\n",
       "      <td>Yes</td>\n",
       "      <td>No</td>\n",
       "      <td>No</td>\n",
       "      <td>No</td>\n",
       "      <td>Yes</td>\n",
       "      <td>No</td>\n",
       "      <td>Yes</td>\n",
       "      <td>No</td>\n",
       "      <td>Yes</td>\n",
       "      <td>No</td>\n",
       "      <td>No</td>\n",
       "      <td>No</td>\n",
       "      <td>Yes</td>\n",
       "      <td>No</td>\n",
       "      <td>No</td>\n",
       "      <td>No</td>\n",
       "      <td>Yes</td>\n",
       "      <td>0.1020</td>\n",
       "      <td>IMPACT410</td>\n",
       "      <td>True</td>\n",
       "      <td>Intra-Abdominal</td>\n",
       "      <td>13</td>\n",
       "      <td>8</td>\n",
       "      <td>0.15</td>\n",
       "      <td>Stable</td>\n",
       "      <td>USC</td>\n",
       "      <td>Gynecologic</td>\n",
       "      <td>46.00</td>\n",
       "      <td>1:DECEASED</td>\n",
       "      <td>Uterus</td>\n",
       "      <td>White</td>\n",
       "      <td>1147</td>\n",
       "      <td>Metastasis</td>\n",
       "      <td>Female</td>\n",
       "      <td>Uterine Serous</td>\n",
       "      <td>UCEC SEROUS</td>\n",
       "      <td>1.957439</td>\n",
       "      <td>30.0</td>\n",
       "    </tr>\n",
       "    <tr>\n",
       "      <th>4</th>\n",
       "      <td>P-0000026-T01-IM3</td>\n",
       "      <td>68.41</td>\n",
       "      <td>78.43</td>\n",
       "      <td>71.72</td>\n",
       "      <td>71.58</td>\n",
       "      <td>Endometrial Cancer</td>\n",
       "      <td>Uterine Endometrioid Carcinoma</td>\n",
       "      <td>No</td>\n",
       "      <td>No</td>\n",
       "      <td>No</td>\n",
       "      <td>No</td>\n",
       "      <td>Yes</td>\n",
       "      <td>No</td>\n",
       "      <td>No</td>\n",
       "      <td>Yes</td>\n",
       "      <td>Yes</td>\n",
       "      <td>No</td>\n",
       "      <td>Yes</td>\n",
       "      <td>No</td>\n",
       "      <td>Yes</td>\n",
       "      <td>Yes</td>\n",
       "      <td>No</td>\n",
       "      <td>No</td>\n",
       "      <td>No</td>\n",
       "      <td>No</td>\n",
       "      <td>No</td>\n",
       "      <td>No</td>\n",
       "      <td>Yes</td>\n",
       "      <td>0.4196</td>\n",
       "      <td>IMPACT341</td>\n",
       "      <td>True</td>\n",
       "      <td>Unspecified</td>\n",
       "      <td>11</td>\n",
       "      <td>7</td>\n",
       "      <td>1.23</td>\n",
       "      <td>Stable</td>\n",
       "      <td>UEC</td>\n",
       "      <td>Gynecologic</td>\n",
       "      <td>80.59</td>\n",
       "      <td>0:LIVING</td>\n",
       "      <td>Uterus</td>\n",
       "      <td>Asian-far east/indian subcont</td>\n",
       "      <td>1222</td>\n",
       "      <td>Metastasis</td>\n",
       "      <td>Female</td>\n",
       "      <td>Uterine Endometrioid</td>\n",
       "      <td>UCEC ENDO</td>\n",
       "      <td>4.436621</td>\n",
       "      <td>10.0</td>\n",
       "    </tr>\n",
       "  </tbody>\n",
       "</table>\n",
       "</div>"
      ],
      "text/plain": [
       "           Sample ID  Age at First Mets Dx  Age at Last Contact  \\\n",
       "0  P-0000004-T01-IM3                 39.66                  NaN   \n",
       "1  P-0000015-T01-IM3                 44.25                  NaN   \n",
       "2  P-0000024-T01-IM3                 59.44                  NaN   \n",
       "3  P-0000025-T02-IM5                 69.65                  NaN   \n",
       "4  P-0000026-T01-IM3                 68.41                78.43   \n",
       "\n",
       "   Age at Sequencing  Age at Surgical Procedure         Cancer Type  \\\n",
       "0              39.74                      37.03       Breast Cancer   \n",
       "1              44.44                      44.42       Breast Cancer   \n",
       "2              61.33                      61.00  Endometrial Cancer   \n",
       "3              74.81                      74.64  Endometrial Cancer   \n",
       "4              71.72                      71.58  Endometrial Cancer   \n",
       "\n",
       "                                Cancer Type Detailed  \\\n",
       "0                   Breast Invasive Ductal Carcinoma   \n",
       "1                   Breast Invasive Ductal Carcinoma   \n",
       "2                     Uterine Endometrioid Carcinoma   \n",
       "3  Uterine Serous Carcinoma/Uterine Papillary Ser...   \n",
       "4                     Uterine Endometrioid Carcinoma   \n",
       "\n",
       "  Distant Mets: Adrenal Gland Distant Mets: Biliary tract  \\\n",
       "0                          No                          No   \n",
       "1                          No                          No   \n",
       "2                          No                          No   \n",
       "3                         Yes                         Yes   \n",
       "4                          No                          No   \n",
       "\n",
       "  Distant Mets: Bladder/UT Distant Mets: Bone Distant Mets: Bowel  \\\n",
       "0                       No                Yes                  No   \n",
       "1                       No                Yes                  No   \n",
       "2                       No                Yes                  No   \n",
       "3                       No                 No                 Yes   \n",
       "4                       No                 No                 Yes   \n",
       "\n",
       "  Distant Mets: Breast Distant Mets: CNS/Brain Distant Mets: Distant LN  \\\n",
       "0                   No                      No                       No   \n",
       "1                   No                     Yes                      Yes   \n",
       "2                   No                      No                       No   \n",
       "3                   No                      No                       No   \n",
       "4                   No                      No                      Yes   \n",
       "\n",
       "  Distant Mets: Female Genital Distant Mets: Head and Neck  \\\n",
       "0                           No                          No   \n",
       "1                           No                          No   \n",
       "2                           No                          No   \n",
       "3                          Yes                          No   \n",
       "4                          Yes                          No   \n",
       "\n",
       "  Distant Mets: Intra-Abdominal Distant Mets: Kidney Distant Mets: Liver  \\\n",
       "0                            No                   No                 Yes   \n",
       "1                            No                   No                 Yes   \n",
       "2                           Yes                   No                 Yes   \n",
       "3                           Yes                   No                 Yes   \n",
       "4                           Yes                   No                 Yes   \n",
       "\n",
       "  Distant Mets: Lung Distant Mets: Male Genital Distant Mets: Mediastinum  \\\n",
       "0                 No                         No                        No   \n",
       "1                Yes                         No                        No   \n",
       "2                Yes                         No                        No   \n",
       "3                 No                         No                        No   \n",
       "4                Yes                         No                        No   \n",
       "\n",
       "  Distant Mets: Ovary Distant Mets: Pleura Distant Mets: PNS  \\\n",
       "0                  No                   No                No   \n",
       "1                 Yes                  Yes                No   \n",
       "2                  No                   No                No   \n",
       "3                 Yes                   No                No   \n",
       "4                  No                   No                No   \n",
       "\n",
       "  Distant Mets: Skin Distant Mets: Unspecified  Fraction Genome Altered  \\\n",
       "0                 No                        No                   0.2782   \n",
       "1                 No                       Yes                   0.3503   \n",
       "2                 No                       Yes                   0.3878   \n",
       "3                 No                       Yes                   0.1020   \n",
       "4                 No                       Yes                   0.4196   \n",
       "\n",
       "  Gene Panel  Metastatic patient  Metastatic Site  Met Count  Met Site Count  \\\n",
       "0  IMPACT341                True              NaN          2               2   \n",
       "1  IMPACT341                True            Liver          8               8   \n",
       "2  IMPACT341                True             Lung          8               5   \n",
       "3  IMPACT410                True  Intra-Abdominal         13               8   \n",
       "4  IMPACT341                True      Unspecified         11               7   \n",
       "\n",
       "   MSI Score MSI Type Oncotree Code Organ System  Overall Survival (Months)  \\\n",
       "0       2.50   Stable           IDC       Breast                       3.78   \n",
       "1       2.55   Stable           IDC       Breast                      13.90   \n",
       "2       0.72   Stable           UEC  Gynecologic                      35.06   \n",
       "3       0.15   Stable           USC  Gynecologic                      46.00   \n",
       "4       1.23   Stable           UEC  Gynecologic                      80.59   \n",
       "\n",
       "  Overall Survival Status Primary Tumor Site                  Race Category  \\\n",
       "0              1:DECEASED             Breast                          White   \n",
       "1              1:DECEASED             Breast                          White   \n",
       "2              1:DECEASED             Uterus                          White   \n",
       "3              1:DECEASED             Uterus                          White   \n",
       "4                0:LIVING             Uterus  Asian-far east/indian subcont   \n",
       "\n",
       "   Sample coverage Sample Type     Sex                 Subtype  \\\n",
       "0              428     Primary  Female  Breast Ductal HR+HER2-   \n",
       "1              281  Metastasis  Female  Breast Ductal HR+HER2-   \n",
       "2             1016  Metastasis  Female    Uterine Endometrioid   \n",
       "3             1147  Metastasis  Female          Uterine Serous   \n",
       "4             1222  Metastasis  Female    Uterine Endometrioid   \n",
       "\n",
       "  Subtype Abbreviation  TMB (nonsynonymous)  Tumor Purity  \n",
       "0         IDC HR+HER2-             4.436621          50.0  \n",
       "1         IDC HR+HER2-             7.764087          40.0  \n",
       "2            UCEC ENDO             6.654932          40.0  \n",
       "3          UCEC SEROUS             1.957439          30.0  \n",
       "4            UCEC ENDO             4.436621          10.0  "
      ]
     },
     "execution_count": 140,
     "metadata": {},
     "output_type": "execute_result"
    }
   ],
   "source": [
    "#sanity check\n",
    "df_2.head()"
   ]
  },
  {
   "cell_type": "code",
   "execution_count": 141,
   "id": "38d0408f-3b59-4458-99c5-b1acdf388479",
   "metadata": {
    "tags": []
   },
   "outputs": [
    {
     "data": {
      "text/plain": [
       "49"
      ]
     },
     "execution_count": 141,
     "metadata": {},
     "output_type": "execute_result"
    }
   ],
   "source": [
    "df_2.shape[1]"
   ]
  },
  {
   "cell_type": "markdown",
   "id": "6e237085-3c80-4029-85e1-985c70b68ccb",
   "metadata": {},
   "source": [
    "We are now left with 49 columns"
   ]
  },
  {
   "cell_type": "markdown",
   "id": "839464b7-86b7-4829-a9cb-66a8a953999e",
   "metadata": {},
   "source": [
    "### Handling Missing Values <a class=\"anchor\" id=\"missing\"></a>"
   ]
  },
  {
   "cell_type": "code",
   "execution_count": 142,
   "id": "cb79505d-6da2-40d0-b947-8a9663155677",
   "metadata": {
    "tags": []
   },
   "outputs": [],
   "source": [
    "#check for missing values:"
   ]
  },
  {
   "cell_type": "code",
   "execution_count": 143,
   "id": "e512373f-7337-40b2-8b98-f44b0a7c9a5a",
   "metadata": {
    "tags": []
   },
   "outputs": [
    {
     "data": {
      "text/plain": [
       "Age at First Mets Dx          6137\n",
       "Age at Last Contact          10129\n",
       "Age at Sequencing              258\n",
       "Age at Surgical Procedure      822\n",
       "Metastatic Site              15632\n",
       "MSI Score                        2\n",
       "MSI Type                         1\n",
       "Overall Survival (Months)      116\n",
       "Primary Tumor Site               2\n",
       "Race Category                   77\n",
       "Sex                              4\n",
       "Tumor Purity                   407\n",
       "dtype: int64"
      ]
     },
     "execution_count": 143,
     "metadata": {},
     "output_type": "execute_result"
    }
   ],
   "source": [
    "null_counts = df_2.isna().sum()\n",
    "columns_with_nulls = null_counts[null_counts > 0]\n",
    "columns_with_nulls"
   ]
  },
  {
   "cell_type": "code",
   "execution_count": 144,
   "id": "920f421c-3ee8-4bc2-8f3e-d7f6d056d5a8",
   "metadata": {
    "tags": []
   },
   "outputs": [
    {
     "data": {
      "text/plain": [
       "Age at First Mets Dx         23.809893\n",
       "Age at Last Contact          39.297769\n",
       "Age at Sequencing             1.000970\n",
       "Age at Surgical Procedure     3.189137\n",
       "Metastatic Site              60.647915\n",
       "MSI Score                     0.007759\n",
       "MSI Type                      0.003880\n",
       "Overall Survival (Months)     0.450048\n",
       "Primary Tumor Site            0.007759\n",
       "Race Category                 0.298739\n",
       "Sex                           0.015519\n",
       "Tumor Purity                  1.579049\n",
       "dtype: float64"
      ]
     },
     "execution_count": 144,
     "metadata": {},
     "output_type": "execute_result"
    }
   ],
   "source": [
    "#lets take a look at the percentage of the data that these nulls make up\n",
    "percentage_nulls = columns_with_nulls/df_2.shape[0]*100\n",
    "percentage_nulls"
   ]
  },
  {
   "cell_type": "markdown",
   "id": "a39c1693-6c22-47e6-a763-cf20196da325",
   "metadata": {},
   "source": [
    "**Observations:**\n",
    "\n",
    "There are some columns with quite a high percentage of missing values.  Lets investigate the 3 columns that have >10% of values missing to see what information they provide so we can determine how to deal with these missing values:\n",
    "- `Age at First Mets Dx`: ~24% missing\n",
    "- `Age at Last Contact`: ~39% missing\n",
    "- `Metastatic Site`: ~61% missing\n",
    "\n",
    "\n",
    "As we can see from above, there are alot of missing values in the Age columns. I will be dropping some of these columns but prior to doing this I will create a new column that takes the average age across all age columns to preserve some of this information in case it is needed for modeling. This will be the average age of the patient during the study.\n",
    "\n",
    "---"
   ]
  },
  {
   "cell_type": "code",
   "execution_count": 145,
   "id": "4f4db054-2e21-4797-9f4c-f8e46c614edd",
   "metadata": {
    "tags": []
   },
   "outputs": [],
   "source": [
    "# take the average age across each age column from the original dataframe and add it into the new data frame\n",
    "df_2['Average Age'] = df[['Age at First Mets Dx', 'Age at Last Contact', 'Age at Sequencing', 'Age at Surgical Procedure', 'Age at Death']].mean(axis=1)"
   ]
  },
  {
   "cell_type": "code",
   "execution_count": 146,
   "id": "75976367-37cc-4ac3-bf93-32b12543dc32",
   "metadata": {
    "tags": []
   },
   "outputs": [
    {
     "data": {
      "text/plain": [
       "101"
      ]
     },
     "execution_count": 146,
     "metadata": {},
     "output_type": "execute_result"
    }
   ],
   "source": [
    "#check the amount of null values in our new column\n",
    "df_2['Average Age'].isna().sum()"
   ]
  },
  {
   "cell_type": "markdown",
   "id": "715337d7-5cdc-4ae5-9846-cf590d9a64ca",
   "metadata": {},
   "source": [
    "**Observations:**\n",
    "\n",
    "I created a new column `Average Age` that takes into account all the age columns from the original data frame so when we drop columns with a high amount of null values there still remains some of that age information. There are only 101 null values in this column, meaning there were some patients that had no age information input in the data set.  For these nulls, since this meant there is no age information, we can fill them in with the mean of the `Average Age` column as this will have minimal affect on the distribution."
   ]
  },
  {
   "cell_type": "code",
   "execution_count": 147,
   "id": "89fade7e-295d-4f13-a5c5-7e97a931cc76",
   "metadata": {
    "tags": []
   },
   "outputs": [
    {
     "data": {
      "image/png": "[encoded data removed]",
      "text/plain": [
       "<Figure size 640x480 with 1 Axes>"
      ]
     },
     "metadata": {},
     "output_type": "display_data"
    }
   ],
   "source": [
    "#show the distribution of the average age column:\n",
    "\n",
    "plt.figure()\n",
    "plt.hist(df_2['Average Age'], bins = 25)\n",
    "plt.xlabel('Age')\n",
    "plt.ylabel('Frequency')\n",
    "plt.title('Distribution of Average Age')\n",
    "plt.axvline(df_2['Average Age'].median(), label='median', color='r')\n",
    "plt.axvline(df_2['Average Age'].mean(), label='mean', color='y')\n",
    "\n",
    "plt.legend(bbox_to_anchor=(1, 1.01), loc='upper left')\n",
    "plt.show()"
   ]
  },
  {
   "cell_type": "markdown",
   "id": "2204667c-8cfa-4278-abb6-f17cf7db4009",
   "metadata": {},
   "source": [
    "The average age column is normally distributed with a left/negative skew.  We will fill in the null values with the mean and revisualize the distribution to make sure it has not changed much"
   ]
  },
  {
   "cell_type": "code",
   "execution_count": 148,
   "id": "ec6e3036-d0af-4934-9d34-4bb0db4a1ec6",
   "metadata": {
    "tags": []
   },
   "outputs": [],
   "source": [
    "#take the mean of the average age column\n",
    "mean_age = df_2['Average Age'].mean()\n",
    "\n",
    "# Fill null values with the mean\n",
    "df_2['Average Age'].fillna(mean_age, inplace=True)"
   ]
  },
  {
   "cell_type": "code",
   "execution_count": 149,
   "id": "cd401a9c-ada4-446c-b580-29c346fc5791",
   "metadata": {
    "tags": []
   },
   "outputs": [
    {
     "data": {
      "text/plain": [
       "0"
      ]
     },
     "execution_count": 149,
     "metadata": {},
     "output_type": "execute_result"
    }
   ],
   "source": [
    "#sanity check\n",
    "df_2['Average Age'].isna().sum()"
   ]
  },
  {
   "cell_type": "code",
   "execution_count": 150,
   "id": "4b5fc594-076c-4c6f-81f4-e7dfb5d73b54",
   "metadata": {
    "tags": []
   },
   "outputs": [
    {
     "data": {
      "image/png": "[encoded data removed]",
      "text/plain": [
       "<Figure size 640x480 with 1 Axes>"
      ]
     },
     "metadata": {},
     "output_type": "display_data"
    }
   ],
   "source": [
    "# re-visualize distribution\n",
    "plt.figure()\n",
    "plt.hist(df_2['Average Age'], bins = 25)\n",
    "plt.xlabel('Age')\n",
    "plt.ylabel('Frequency')\n",
    "plt.title('Distribution of Average Age')\n",
    "plt.axvline(df_2['Average Age'].median(), label='median', color='r')\n",
    "plt.axvline(df_2['Average Age'].mean(), label='mean', color='y')\n",
    "\n",
    "plt.legend(bbox_to_anchor=(1, 1.01), loc='upper left')\n",
    "plt.show()"
   ]
  },
  {
   "cell_type": "markdown",
   "id": "12206586-f062-4591-bf07-d520eab4a79a",
   "metadata": {},
   "source": [
    "**Observations:**\n",
    "\n",
    "The distribution appears to look the same visually as the original distribution so we will continue on to taking care of the rest of the null values.\n",
    "\n",
    "---"
   ]
  },
  {
   "cell_type": "markdown",
   "id": "783e9b07-2e8c-4db4-a9ee-2ae1d05c73f4",
   "metadata": {},
   "source": [
    "We will start with `Age at First Mets Dx`"
   ]
  },
  {
   "cell_type": "code",
   "execution_count": 151,
   "id": "28ec0bbf-1dfc-454e-90bd-0badc9682a6b",
   "metadata": {
    "tags": []
   },
   "outputs": [
    {
     "name": "stdout",
     "output_type": "stream",
     "text": [
      "Age at First Mets Dx: Age at which patient was diagnosed with metastatic cancer\n"
     ]
    }
   ],
   "source": [
    "feature_information('Age at First Mets Dx')"
   ]
  },
  {
   "cell_type": "code",
   "execution_count": 152,
   "id": "73e90598-20c6-476e-af8d-f343654ce87f",
   "metadata": {
    "tags": []
   },
   "outputs": [
    {
     "data": {
      "text/plain": [
       "6137"
      ]
     },
     "execution_count": 152,
     "metadata": {},
     "output_type": "execute_result"
    }
   ],
   "source": [
    "#check the number of null values in this columndd\n",
    "df_2['Age at First Mets Dx'].isna().sum()"
   ]
  },
  {
   "cell_type": "code",
   "execution_count": 153,
   "id": "642c047f-2d94-4e97-86d0-ab91d4bcb3e0",
   "metadata": {},
   "outputs": [
    {
     "name": "stdout",
     "output_type": "stream",
     "text": [
      "Metastatic patient: Bool of if patient had metastatic disease or not\n"
     ]
    }
   ],
   "source": [
    "#check the information of a similar column which may capture the information of the column we would like to drop'\n",
    "feature_information('Metastatic patient')"
   ]
  },
  {
   "cell_type": "code",
   "execution_count": 154,
   "id": "d8706c7f-6501-43ba-8692-22d35ae484a2",
   "metadata": {
    "tags": []
   },
   "outputs": [
    {
     "data": {
      "text/plain": [
       "Metastatic patient\n",
       "True     21546\n",
       "False     4229\n",
       "Name: count, dtype: int64"
      ]
     },
     "execution_count": 154,
     "metadata": {},
     "output_type": "execute_result"
    }
   ],
   "source": [
    "df_2['Metastatic patient'].value_counts()"
   ]
  },
  {
   "cell_type": "code",
   "execution_count": 155,
   "id": "5e3a9781-53b5-4169-8c3a-5735ef48ea33",
   "metadata": {
    "tags": []
   },
   "outputs": [
    {
     "data": {
      "text/plain": [
       "0"
      ]
     },
     "execution_count": 155,
     "metadata": {},
     "output_type": "execute_result"
    }
   ],
   "source": [
    "df_2['Metastatic patient'].isna().sum()"
   ]
  },
  {
   "cell_type": "markdown",
   "id": "8b3f0860-d35e-4c87-a198-259c8a1c370c",
   "metadata": {},
   "source": [
    "**Observations:**\n",
    "\n",
    "`Age at First Mets Dx` has ~24% missing values. The information in this column is not useful with this many missing values. We can choose to drop as the majority of these null values are due to these patients not having metastatic disease. We can not fill this value in with a value as this would disrupt our model as there is no age at which they had metastatic disease if they were never diagnosed with such. Since this column has so many null values, filling it with an age that is not  is Therefore we will drop the `Age at First Mets Dx` column from the data frame as the important information is captured in `Metastatic patient`."
   ]
  },
  {
   "cell_type": "markdown",
   "id": "19028a5c-734f-44fb-b536-1a161c5ecea1",
   "metadata": {},
   "source": [
    "Next will look at `Age at Last Contact`"
   ]
  },
  {
   "cell_type": "code",
   "execution_count": 156,
   "id": "e7342748-6f1c-414e-af0d-0bb33a30923d",
   "metadata": {
    "tags": []
   },
   "outputs": [
    {
     "name": "stdout",
     "output_type": "stream",
     "text": [
      "Age at Last Contact: Age at which the study made last contact with the patient\n"
     ]
    }
   ],
   "source": [
    "feature_information('Age at Last Contact')"
   ]
  },
  {
   "cell_type": "code",
   "execution_count": 157,
   "id": "c07eefaa-f44c-4a97-9cbe-46da71dba0f8",
   "metadata": {
    "tags": []
   },
   "outputs": [
    {
     "data": {
      "text/plain": [
       "10129"
      ]
     },
     "execution_count": 157,
     "metadata": {},
     "output_type": "execute_result"
    }
   ],
   "source": [
    "#check the number of null values\n",
    "df_2['Age at Last Contact'].isna().sum()"
   ]
  },
  {
   "cell_type": "code",
   "execution_count": 158,
   "id": "ac6868e6-8a84-4636-adc8-024f578ad8d6",
   "metadata": {
    "tags": []
   },
   "outputs": [
    {
     "data": {
      "text/html": [
       "<div>\n",
       "<style scoped>\n",
       "    .dataframe tbody tr th:only-of-type {\n",
       "        vertical-align: middle;\n",
       "    }\n",
       "\n",
       "    .dataframe tbody tr th {\n",
       "        vertical-align: top;\n",
       "    }\n",
       "\n",
       "    .dataframe thead th {\n",
       "        text-align: right;\n",
       "    }\n",
       "</style>\n",
       "<table border=\"1\" class=\"dataframe\">\n",
       "  <thead>\n",
       "    <tr style=\"text-align: right;\">\n",
       "      <th></th>\n",
       "      <th>Sample ID</th>\n",
       "      <th>Age at First Mets Dx</th>\n",
       "      <th>Age at Last Contact</th>\n",
       "      <th>Age at Sequencing</th>\n",
       "      <th>Age at Surgical Procedure</th>\n",
       "      <th>Cancer Type</th>\n",
       "      <th>Cancer Type Detailed</th>\n",
       "      <th>Distant Mets: Adrenal Gland</th>\n",
       "      <th>Distant Mets: Biliary tract</th>\n",
       "      <th>Distant Mets: Bladder/UT</th>\n",
       "      <th>Distant Mets: Bone</th>\n",
       "      <th>Distant Mets: Bowel</th>\n",
       "      <th>Distant Mets: Breast</th>\n",
       "      <th>Distant Mets: CNS/Brain</th>\n",
       "      <th>Distant Mets: Distant LN</th>\n",
       "      <th>Distant Mets: Female Genital</th>\n",
       "      <th>Distant Mets: Head and Neck</th>\n",
       "      <th>Distant Mets: Intra-Abdominal</th>\n",
       "      <th>Distant Mets: Kidney</th>\n",
       "      <th>Distant Mets: Liver</th>\n",
       "      <th>Distant Mets: Lung</th>\n",
       "      <th>Distant Mets: Male Genital</th>\n",
       "      <th>Distant Mets: Mediastinum</th>\n",
       "      <th>Distant Mets: Ovary</th>\n",
       "      <th>Distant Mets: Pleura</th>\n",
       "      <th>Distant Mets: PNS</th>\n",
       "      <th>Distant Mets: Skin</th>\n",
       "      <th>Distant Mets: Unspecified</th>\n",
       "      <th>Fraction Genome Altered</th>\n",
       "      <th>Gene Panel</th>\n",
       "      <th>Metastatic patient</th>\n",
       "      <th>Metastatic Site</th>\n",
       "      <th>Met Count</th>\n",
       "      <th>Met Site Count</th>\n",
       "      <th>MSI Score</th>\n",
       "      <th>MSI Type</th>\n",
       "      <th>Oncotree Code</th>\n",
       "      <th>Organ System</th>\n",
       "      <th>Overall Survival (Months)</th>\n",
       "      <th>Overall Survival Status</th>\n",
       "      <th>Primary Tumor Site</th>\n",
       "      <th>Race Category</th>\n",
       "      <th>Sample coverage</th>\n",
       "      <th>Sample Type</th>\n",
       "      <th>Sex</th>\n",
       "      <th>Subtype</th>\n",
       "      <th>Subtype Abbreviation</th>\n",
       "      <th>TMB (nonsynonymous)</th>\n",
       "      <th>Tumor Purity</th>\n",
       "      <th>Average Age</th>\n",
       "    </tr>\n",
       "  </thead>\n",
       "  <tbody>\n",
       "    <tr>\n",
       "      <th>0</th>\n",
       "      <td>P-0000004-T01-IM3</td>\n",
       "      <td>39.66</td>\n",
       "      <td>NaN</td>\n",
       "      <td>39.74</td>\n",
       "      <td>37.03</td>\n",
       "      <td>Breast Cancer</td>\n",
       "      <td>Breast Invasive Ductal Carcinoma</td>\n",
       "      <td>No</td>\n",
       "      <td>No</td>\n",
       "      <td>No</td>\n",
       "      <td>Yes</td>\n",
       "      <td>No</td>\n",
       "      <td>No</td>\n",
       "      <td>No</td>\n",
       "      <td>No</td>\n",
       "      <td>No</td>\n",
       "      <td>No</td>\n",
       "      <td>No</td>\n",
       "      <td>No</td>\n",
       "      <td>Yes</td>\n",
       "      <td>No</td>\n",
       "      <td>No</td>\n",
       "      <td>No</td>\n",
       "      <td>No</td>\n",
       "      <td>No</td>\n",
       "      <td>No</td>\n",
       "      <td>No</td>\n",
       "      <td>No</td>\n",
       "      <td>0.2782</td>\n",
       "      <td>IMPACT341</td>\n",
       "      <td>True</td>\n",
       "      <td>NaN</td>\n",
       "      <td>2</td>\n",
       "      <td>2</td>\n",
       "      <td>2.50</td>\n",
       "      <td>Stable</td>\n",
       "      <td>IDC</td>\n",
       "      <td>Breast</td>\n",
       "      <td>3.78</td>\n",
       "      <td>1:DECEASED</td>\n",
       "      <td>Breast</td>\n",
       "      <td>White</td>\n",
       "      <td>428</td>\n",
       "      <td>Primary</td>\n",
       "      <td>Female</td>\n",
       "      <td>Breast Ductal HR+HER2-</td>\n",
       "      <td>IDC HR+HER2-</td>\n",
       "      <td>4.436621</td>\n",
       "      <td>50.0</td>\n",
       "      <td>39.1225</td>\n",
       "    </tr>\n",
       "    <tr>\n",
       "      <th>1</th>\n",
       "      <td>P-0000015-T01-IM3</td>\n",
       "      <td>44.25</td>\n",
       "      <td>NaN</td>\n",
       "      <td>44.44</td>\n",
       "      <td>44.42</td>\n",
       "      <td>Breast Cancer</td>\n",
       "      <td>Breast Invasive Ductal Carcinoma</td>\n",
       "      <td>No</td>\n",
       "      <td>No</td>\n",
       "      <td>No</td>\n",
       "      <td>Yes</td>\n",
       "      <td>No</td>\n",
       "      <td>No</td>\n",
       "      <td>Yes</td>\n",
       "      <td>Yes</td>\n",
       "      <td>No</td>\n",
       "      <td>No</td>\n",
       "      <td>No</td>\n",
       "      <td>No</td>\n",
       "      <td>Yes</td>\n",
       "      <td>Yes</td>\n",
       "      <td>No</td>\n",
       "      <td>No</td>\n",
       "      <td>Yes</td>\n",
       "      <td>Yes</td>\n",
       "      <td>No</td>\n",
       "      <td>No</td>\n",
       "      <td>Yes</td>\n",
       "      <td>0.3503</td>\n",
       "      <td>IMPACT341</td>\n",
       "      <td>True</td>\n",
       "      <td>Liver</td>\n",
       "      <td>8</td>\n",
       "      <td>8</td>\n",
       "      <td>2.55</td>\n",
       "      <td>Stable</td>\n",
       "      <td>IDC</td>\n",
       "      <td>Breast</td>\n",
       "      <td>13.90</td>\n",
       "      <td>1:DECEASED</td>\n",
       "      <td>Breast</td>\n",
       "      <td>White</td>\n",
       "      <td>281</td>\n",
       "      <td>Metastasis</td>\n",
       "      <td>Female</td>\n",
       "      <td>Breast Ductal HR+HER2-</td>\n",
       "      <td>IDC HR+HER2-</td>\n",
       "      <td>7.764087</td>\n",
       "      <td>40.0</td>\n",
       "      <td>44.6775</td>\n",
       "    </tr>\n",
       "    <tr>\n",
       "      <th>2</th>\n",
       "      <td>P-0000024-T01-IM3</td>\n",
       "      <td>59.44</td>\n",
       "      <td>NaN</td>\n",
       "      <td>61.33</td>\n",
       "      <td>61.00</td>\n",
       "      <td>Endometrial Cancer</td>\n",
       "      <td>Uterine Endometrioid Carcinoma</td>\n",
       "      <td>No</td>\n",
       "      <td>No</td>\n",
       "      <td>No</td>\n",
       "      <td>Yes</td>\n",
       "      <td>No</td>\n",
       "      <td>No</td>\n",
       "      <td>No</td>\n",
       "      <td>No</td>\n",
       "      <td>No</td>\n",
       "      <td>No</td>\n",
       "      <td>Yes</td>\n",
       "      <td>No</td>\n",
       "      <td>Yes</td>\n",
       "      <td>Yes</td>\n",
       "      <td>No</td>\n",
       "      <td>No</td>\n",
       "      <td>No</td>\n",
       "      <td>No</td>\n",
       "      <td>No</td>\n",
       "      <td>No</td>\n",
       "      <td>Yes</td>\n",
       "      <td>0.3878</td>\n",
       "      <td>IMPACT341</td>\n",
       "      <td>True</td>\n",
       "      <td>Lung</td>\n",
       "      <td>8</td>\n",
       "      <td>5</td>\n",
       "      <td>0.72</td>\n",
       "      <td>Stable</td>\n",
       "      <td>UEC</td>\n",
       "      <td>Gynecologic</td>\n",
       "      <td>35.06</td>\n",
       "      <td>1:DECEASED</td>\n",
       "      <td>Uterus</td>\n",
       "      <td>White</td>\n",
       "      <td>1016</td>\n",
       "      <td>Metastasis</td>\n",
       "      <td>Female</td>\n",
       "      <td>Uterine Endometrioid</td>\n",
       "      <td>UCEC ENDO</td>\n",
       "      <td>6.654932</td>\n",
       "      <td>40.0</td>\n",
       "      <td>61.5050</td>\n",
       "    </tr>\n",
       "    <tr>\n",
       "      <th>3</th>\n",
       "      <td>P-0000025-T02-IM5</td>\n",
       "      <td>69.65</td>\n",
       "      <td>NaN</td>\n",
       "      <td>74.81</td>\n",
       "      <td>74.64</td>\n",
       "      <td>Endometrial Cancer</td>\n",
       "      <td>Uterine Serous Carcinoma/Uterine Papillary Ser...</td>\n",
       "      <td>Yes</td>\n",
       "      <td>Yes</td>\n",
       "      <td>No</td>\n",
       "      <td>No</td>\n",
       "      <td>Yes</td>\n",
       "      <td>No</td>\n",
       "      <td>No</td>\n",
       "      <td>No</td>\n",
       "      <td>Yes</td>\n",
       "      <td>No</td>\n",
       "      <td>Yes</td>\n",
       "      <td>No</td>\n",
       "      <td>Yes</td>\n",
       "      <td>No</td>\n",
       "      <td>No</td>\n",
       "      <td>No</td>\n",
       "      <td>Yes</td>\n",
       "      <td>No</td>\n",
       "      <td>No</td>\n",
       "      <td>No</td>\n",
       "      <td>Yes</td>\n",
       "      <td>0.1020</td>\n",
       "      <td>IMPACT410</td>\n",
       "      <td>True</td>\n",
       "      <td>Intra-Abdominal</td>\n",
       "      <td>13</td>\n",
       "      <td>8</td>\n",
       "      <td>0.15</td>\n",
       "      <td>Stable</td>\n",
       "      <td>USC</td>\n",
       "      <td>Gynecologic</td>\n",
       "      <td>46.00</td>\n",
       "      <td>1:DECEASED</td>\n",
       "      <td>Uterus</td>\n",
       "      <td>White</td>\n",
       "      <td>1147</td>\n",
       "      <td>Metastasis</td>\n",
       "      <td>Female</td>\n",
       "      <td>Uterine Serous</td>\n",
       "      <td>UCEC SEROUS</td>\n",
       "      <td>1.957439</td>\n",
       "      <td>30.0</td>\n",
       "      <td>73.9075</td>\n",
       "    </tr>\n",
       "    <tr>\n",
       "      <th>5</th>\n",
       "      <td>P-0000027-T01-IM3</td>\n",
       "      <td>79.50</td>\n",
       "      <td>NaN</td>\n",
       "      <td>81.00</td>\n",
       "      <td>79.50</td>\n",
       "      <td>Mesothelioma</td>\n",
       "      <td>Pleural Mesothelioma, Epithelioid Type</td>\n",
       "      <td>No</td>\n",
       "      <td>No</td>\n",
       "      <td>No</td>\n",
       "      <td>No</td>\n",
       "      <td>No</td>\n",
       "      <td>No</td>\n",
       "      <td>No</td>\n",
       "      <td>No</td>\n",
       "      <td>No</td>\n",
       "      <td>No</td>\n",
       "      <td>Yes</td>\n",
       "      <td>No</td>\n",
       "      <td>Yes</td>\n",
       "      <td>Yes</td>\n",
       "      <td>No</td>\n",
       "      <td>No</td>\n",
       "      <td>No</td>\n",
       "      <td>No</td>\n",
       "      <td>No</td>\n",
       "      <td>No</td>\n",
       "      <td>No</td>\n",
       "      <td>0.0295</td>\n",
       "      <td>IMPACT341</td>\n",
       "      <td>True</td>\n",
       "      <td>NaN</td>\n",
       "      <td>3</td>\n",
       "      <td>3</td>\n",
       "      <td>0.00</td>\n",
       "      <td>Stable</td>\n",
       "      <td>PLEMESO</td>\n",
       "      <td>Thoracic</td>\n",
       "      <td>12.32</td>\n",
       "      <td>1:DECEASED</td>\n",
       "      <td>Lung</td>\n",
       "      <td>White</td>\n",
       "      <td>668</td>\n",
       "      <td>Primary</td>\n",
       "      <td>Female</td>\n",
       "      <td>Pleural Mesothelioma</td>\n",
       "      <td>PLMESO</td>\n",
       "      <td>0.000000</td>\n",
       "      <td>NaN</td>\n",
       "      <td>80.5075</td>\n",
       "    </tr>\n",
       "  </tbody>\n",
       "</table>\n",
       "</div>"
      ],
      "text/plain": [
       "           Sample ID  Age at First Mets Dx  Age at Last Contact  \\\n",
       "0  P-0000004-T01-IM3                 39.66                  NaN   \n",
       "1  P-0000015-T01-IM3                 44.25                  NaN   \n",
       "2  P-0000024-T01-IM3                 59.44                  NaN   \n",
       "3  P-0000025-T02-IM5                 69.65                  NaN   \n",
       "5  P-0000027-T01-IM3                 79.50                  NaN   \n",
       "\n",
       "   Age at Sequencing  Age at Surgical Procedure         Cancer Type  \\\n",
       "0              39.74                      37.03       Breast Cancer   \n",
       "1              44.44                      44.42       Breast Cancer   \n",
       "2              61.33                      61.00  Endometrial Cancer   \n",
       "3              74.81                      74.64  Endometrial Cancer   \n",
       "5              81.00                      79.50        Mesothelioma   \n",
       "\n",
       "                                Cancer Type Detailed  \\\n",
       "0                   Breast Invasive Ductal Carcinoma   \n",
       "1                   Breast Invasive Ductal Carcinoma   \n",
       "2                     Uterine Endometrioid Carcinoma   \n",
       "3  Uterine Serous Carcinoma/Uterine Papillary Ser...   \n",
       "5             Pleural Mesothelioma, Epithelioid Type   \n",
       "\n",
       "  Distant Mets: Adrenal Gland Distant Mets: Biliary tract  \\\n",
       "0                          No                          No   \n",
       "1                          No                          No   \n",
       "2                          No                          No   \n",
       "3                         Yes                         Yes   \n",
       "5                          No                          No   \n",
       "\n",
       "  Distant Mets: Bladder/UT Distant Mets: Bone Distant Mets: Bowel  \\\n",
       "0                       No                Yes                  No   \n",
       "1                       No                Yes                  No   \n",
       "2                       No                Yes                  No   \n",
       "3                       No                 No                 Yes   \n",
       "5                       No                 No                  No   \n",
       "\n",
       "  Distant Mets: Breast Distant Mets: CNS/Brain Distant Mets: Distant LN  \\\n",
       "0                   No                      No                       No   \n",
       "1                   No                     Yes                      Yes   \n",
       "2                   No                      No                       No   \n",
       "3                   No                      No                       No   \n",
       "5                   No                      No                       No   \n",
       "\n",
       "  Distant Mets: Female Genital Distant Mets: Head and Neck  \\\n",
       "0                           No                          No   \n",
       "1                           No                          No   \n",
       "2                           No                          No   \n",
       "3                          Yes                          No   \n",
       "5                           No                          No   \n",
       "\n",
       "  Distant Mets: Intra-Abdominal Distant Mets: Kidney Distant Mets: Liver  \\\n",
       "0                            No                   No                 Yes   \n",
       "1                            No                   No                 Yes   \n",
       "2                           Yes                   No                 Yes   \n",
       "3                           Yes                   No                 Yes   \n",
       "5                           Yes                   No                 Yes   \n",
       "\n",
       "  Distant Mets: Lung Distant Mets: Male Genital Distant Mets: Mediastinum  \\\n",
       "0                 No                         No                        No   \n",
       "1                Yes                         No                        No   \n",
       "2                Yes                         No                        No   \n",
       "3                 No                         No                        No   \n",
       "5                Yes                         No                        No   \n",
       "\n",
       "  Distant Mets: Ovary Distant Mets: Pleura Distant Mets: PNS  \\\n",
       "0                  No                   No                No   \n",
       "1                 Yes                  Yes                No   \n",
       "2                  No                   No                No   \n",
       "3                 Yes                   No                No   \n",
       "5                  No                   No                No   \n",
       "\n",
       "  Distant Mets: Skin Distant Mets: Unspecified  Fraction Genome Altered  \\\n",
       "0                 No                        No                   0.2782   \n",
       "1                 No                       Yes                   0.3503   \n",
       "2                 No                       Yes                   0.3878   \n",
       "3                 No                       Yes                   0.1020   \n",
       "5                 No                        No                   0.0295   \n",
       "\n",
       "  Gene Panel  Metastatic patient  Metastatic Site  Met Count  Met Site Count  \\\n",
       "0  IMPACT341                True              NaN          2               2   \n",
       "1  IMPACT341                True            Liver          8               8   \n",
       "2  IMPACT341                True             Lung          8               5   \n",
       "3  IMPACT410                True  Intra-Abdominal         13               8   \n",
       "5  IMPACT341                True              NaN          3               3   \n",
       "\n",
       "   MSI Score MSI Type Oncotree Code Organ System  Overall Survival (Months)  \\\n",
       "0       2.50   Stable           IDC       Breast                       3.78   \n",
       "1       2.55   Stable           IDC       Breast                      13.90   \n",
       "2       0.72   Stable           UEC  Gynecologic                      35.06   \n",
       "3       0.15   Stable           USC  Gynecologic                      46.00   \n",
       "5       0.00   Stable       PLEMESO     Thoracic                      12.32   \n",
       "\n",
       "  Overall Survival Status Primary Tumor Site Race Category  Sample coverage  \\\n",
       "0              1:DECEASED             Breast         White              428   \n",
       "1              1:DECEASED             Breast         White              281   \n",
       "2              1:DECEASED             Uterus         White             1016   \n",
       "3              1:DECEASED             Uterus         White             1147   \n",
       "5              1:DECEASED               Lung         White              668   \n",
       "\n",
       "  Sample Type     Sex                 Subtype Subtype Abbreviation  \\\n",
       "0     Primary  Female  Breast Ductal HR+HER2-         IDC HR+HER2-   \n",
       "1  Metastasis  Female  Breast Ductal HR+HER2-         IDC HR+HER2-   \n",
       "2  Metastasis  Female    Uterine Endometrioid            UCEC ENDO   \n",
       "3  Metastasis  Female          Uterine Serous          UCEC SEROUS   \n",
       "5     Primary  Female    Pleural Mesothelioma               PLMESO   \n",
       "\n",
       "   TMB (nonsynonymous)  Tumor Purity  Average Age  \n",
       "0             4.436621          50.0      39.1225  \n",
       "1             7.764087          40.0      44.6775  \n",
       "2             6.654932          40.0      61.5050  \n",
       "3             1.957439          30.0      73.9075  \n",
       "5             0.000000           NaN      80.5075  "
      ]
     },
     "execution_count": 158,
     "metadata": {},
     "output_type": "execute_result"
    }
   ],
   "source": [
    "#Check only patients that are deceased & Age at last contact is null\n",
    "specific_value = '1:DECEASED'\n",
    "\n",
    "filtered_deceased = df_2[(df_2['Age at Last Contact'].isna()) & (df_2['Overall Survival Status'] == specific_value)]\n",
    "filtered_deceased.head()"
   ]
  },
  {
   "cell_type": "code",
   "execution_count": 159,
   "id": "d03adbd9-b420-4be2-ab64-7306d5183ccf",
   "metadata": {
    "tags": []
   },
   "outputs": [
    {
     "data": {
      "text/plain": [
       "10023"
      ]
     },
     "execution_count": 159,
     "metadata": {},
     "output_type": "execute_result"
    }
   ],
   "source": [
    "#check how many rows are in this new df with only patients that are DECEASED\n",
    "filtered_deceased.shape[0]"
   ]
  },
  {
   "cell_type": "code",
   "execution_count": 160,
   "id": "30b0c4cc-2761-4937-aa04-4939c9ec2f89",
   "metadata": {
    "tags": []
   },
   "outputs": [
    {
     "data": {
      "text/html": [
       "<div>\n",
       "<style scoped>\n",
       "    .dataframe tbody tr th:only-of-type {\n",
       "        vertical-align: middle;\n",
       "    }\n",
       "\n",
       "    .dataframe tbody tr th {\n",
       "        vertical-align: top;\n",
       "    }\n",
       "\n",
       "    .dataframe thead th {\n",
       "        text-align: right;\n",
       "    }\n",
       "</style>\n",
       "<table border=\"1\" class=\"dataframe\">\n",
       "  <thead>\n",
       "    <tr style=\"text-align: right;\">\n",
       "      <th></th>\n",
       "      <th>Sample ID</th>\n",
       "      <th>Age at First Mets Dx</th>\n",
       "      <th>Age at Last Contact</th>\n",
       "      <th>Age at Sequencing</th>\n",
       "      <th>Age at Surgical Procedure</th>\n",
       "      <th>Cancer Type</th>\n",
       "      <th>Cancer Type Detailed</th>\n",
       "      <th>Distant Mets: Adrenal Gland</th>\n",
       "      <th>Distant Mets: Biliary tract</th>\n",
       "      <th>Distant Mets: Bladder/UT</th>\n",
       "      <th>Distant Mets: Bone</th>\n",
       "      <th>Distant Mets: Bowel</th>\n",
       "      <th>Distant Mets: Breast</th>\n",
       "      <th>Distant Mets: CNS/Brain</th>\n",
       "      <th>Distant Mets: Distant LN</th>\n",
       "      <th>Distant Mets: Female Genital</th>\n",
       "      <th>Distant Mets: Head and Neck</th>\n",
       "      <th>Distant Mets: Intra-Abdominal</th>\n",
       "      <th>Distant Mets: Kidney</th>\n",
       "      <th>Distant Mets: Liver</th>\n",
       "      <th>Distant Mets: Lung</th>\n",
       "      <th>Distant Mets: Male Genital</th>\n",
       "      <th>Distant Mets: Mediastinum</th>\n",
       "      <th>Distant Mets: Ovary</th>\n",
       "      <th>Distant Mets: Pleura</th>\n",
       "      <th>Distant Mets: PNS</th>\n",
       "      <th>Distant Mets: Skin</th>\n",
       "      <th>Distant Mets: Unspecified</th>\n",
       "      <th>Fraction Genome Altered</th>\n",
       "      <th>Gene Panel</th>\n",
       "      <th>Metastatic patient</th>\n",
       "      <th>Metastatic Site</th>\n",
       "      <th>Met Count</th>\n",
       "      <th>Met Site Count</th>\n",
       "      <th>MSI Score</th>\n",
       "      <th>MSI Type</th>\n",
       "      <th>Oncotree Code</th>\n",
       "      <th>Organ System</th>\n",
       "      <th>Overall Survival (Months)</th>\n",
       "      <th>Overall Survival Status</th>\n",
       "      <th>Primary Tumor Site</th>\n",
       "      <th>Race Category</th>\n",
       "      <th>Sample coverage</th>\n",
       "      <th>Sample Type</th>\n",
       "      <th>Sex</th>\n",
       "      <th>Subtype</th>\n",
       "      <th>Subtype Abbreviation</th>\n",
       "      <th>TMB (nonsynonymous)</th>\n",
       "      <th>Tumor Purity</th>\n",
       "      <th>Average Age</th>\n",
       "    </tr>\n",
       "  </thead>\n",
       "  <tbody>\n",
       "    <tr>\n",
       "      <th>45</th>\n",
       "      <td>P-0000112-T01-IM3</td>\n",
       "      <td>NaN</td>\n",
       "      <td>NaN</td>\n",
       "      <td>NaN</td>\n",
       "      <td>NaN</td>\n",
       "      <td>Esophagogastric Cancer</td>\n",
       "      <td>Esophageal Adenocarcinoma</td>\n",
       "      <td>No</td>\n",
       "      <td>No</td>\n",
       "      <td>No</td>\n",
       "      <td>No</td>\n",
       "      <td>No</td>\n",
       "      <td>No</td>\n",
       "      <td>No</td>\n",
       "      <td>No</td>\n",
       "      <td>No</td>\n",
       "      <td>No</td>\n",
       "      <td>No</td>\n",
       "      <td>No</td>\n",
       "      <td>No</td>\n",
       "      <td>No</td>\n",
       "      <td>No</td>\n",
       "      <td>No</td>\n",
       "      <td>No</td>\n",
       "      <td>No</td>\n",
       "      <td>No</td>\n",
       "      <td>No</td>\n",
       "      <td>No</td>\n",
       "      <td>0.3580</td>\n",
       "      <td>IMPACT341</td>\n",
       "      <td>False</td>\n",
       "      <td>NaN</td>\n",
       "      <td>0</td>\n",
       "      <td>0</td>\n",
       "      <td>2.76</td>\n",
       "      <td>Stable</td>\n",
       "      <td>ESCA</td>\n",
       "      <td>Core GI</td>\n",
       "      <td>NaN</td>\n",
       "      <td>0:LIVING</td>\n",
       "      <td>Esophagus</td>\n",
       "      <td>NaN</td>\n",
       "      <td>743</td>\n",
       "      <td>Primary</td>\n",
       "      <td>NaN</td>\n",
       "      <td>Esophageal Adenocarinoma</td>\n",
       "      <td>ESCA</td>\n",
       "      <td>8.873242</td>\n",
       "      <td>NaN</td>\n",
       "      <td>62.303043</td>\n",
       "    </tr>\n",
       "    <tr>\n",
       "      <th>168</th>\n",
       "      <td>P-0000306-T01-IM3</td>\n",
       "      <td>NaN</td>\n",
       "      <td>NaN</td>\n",
       "      <td>NaN</td>\n",
       "      <td>NaN</td>\n",
       "      <td>Gastrointestinal Stromal Tumor</td>\n",
       "      <td>Gastrointestinal Stromal Tumor</td>\n",
       "      <td>No</td>\n",
       "      <td>No</td>\n",
       "      <td>No</td>\n",
       "      <td>No</td>\n",
       "      <td>Yes</td>\n",
       "      <td>No</td>\n",
       "      <td>No</td>\n",
       "      <td>No</td>\n",
       "      <td>No</td>\n",
       "      <td>No</td>\n",
       "      <td>No</td>\n",
       "      <td>No</td>\n",
       "      <td>Yes</td>\n",
       "      <td>No</td>\n",
       "      <td>No</td>\n",
       "      <td>No</td>\n",
       "      <td>No</td>\n",
       "      <td>No</td>\n",
       "      <td>No</td>\n",
       "      <td>No</td>\n",
       "      <td>Yes</td>\n",
       "      <td>0.1704</td>\n",
       "      <td>IMPACT341</td>\n",
       "      <td>True</td>\n",
       "      <td>NaN</td>\n",
       "      <td>3</td>\n",
       "      <td>3</td>\n",
       "      <td>0.76</td>\n",
       "      <td>Stable</td>\n",
       "      <td>GIST</td>\n",
       "      <td>Core GI</td>\n",
       "      <td>NaN</td>\n",
       "      <td>0:LIVING</td>\n",
       "      <td>Stomach</td>\n",
       "      <td>White</td>\n",
       "      <td>212</td>\n",
       "      <td>Primary</td>\n",
       "      <td>Male</td>\n",
       "      <td>Gastrointestinal Stromal</td>\n",
       "      <td>GIST</td>\n",
       "      <td>1.109155</td>\n",
       "      <td>90.0</td>\n",
       "      <td>62.303043</td>\n",
       "    </tr>\n",
       "    <tr>\n",
       "      <th>227</th>\n",
       "      <td>P-0000397-T01-IM3</td>\n",
       "      <td>NaN</td>\n",
       "      <td>NaN</td>\n",
       "      <td>NaN</td>\n",
       "      <td>NaN</td>\n",
       "      <td>Breast Cancer</td>\n",
       "      <td>Breast Invasive Lobular Carcinoma</td>\n",
       "      <td>No</td>\n",
       "      <td>No</td>\n",
       "      <td>No</td>\n",
       "      <td>No</td>\n",
       "      <td>No</td>\n",
       "      <td>No</td>\n",
       "      <td>No</td>\n",
       "      <td>No</td>\n",
       "      <td>No</td>\n",
       "      <td>No</td>\n",
       "      <td>No</td>\n",
       "      <td>No</td>\n",
       "      <td>No</td>\n",
       "      <td>No</td>\n",
       "      <td>No</td>\n",
       "      <td>No</td>\n",
       "      <td>No</td>\n",
       "      <td>No</td>\n",
       "      <td>No</td>\n",
       "      <td>Yes</td>\n",
       "      <td>No</td>\n",
       "      <td>0.0912</td>\n",
       "      <td>IMPACT341</td>\n",
       "      <td>True</td>\n",
       "      <td>Skin</td>\n",
       "      <td>1</td>\n",
       "      <td>1</td>\n",
       "      <td>0.56</td>\n",
       "      <td>Stable</td>\n",
       "      <td>ILC</td>\n",
       "      <td>Breast</td>\n",
       "      <td>NaN</td>\n",
       "      <td>0:LIVING</td>\n",
       "      <td>Breast</td>\n",
       "      <td>NaN</td>\n",
       "      <td>925</td>\n",
       "      <td>Metastasis</td>\n",
       "      <td>Female</td>\n",
       "      <td>Breast Lobular HR+</td>\n",
       "      <td>ILC HR+HER2-</td>\n",
       "      <td>15.528174</td>\n",
       "      <td>20.0</td>\n",
       "      <td>62.303043</td>\n",
       "    </tr>\n",
       "    <tr>\n",
       "      <th>483</th>\n",
       "      <td>P-0000789-T01-IM3</td>\n",
       "      <td>NaN</td>\n",
       "      <td>NaN</td>\n",
       "      <td>NaN</td>\n",
       "      <td>NaN</td>\n",
       "      <td>Non-Small Cell Lung Cancer</td>\n",
       "      <td>Lung Adenocarcinoma</td>\n",
       "      <td>No</td>\n",
       "      <td>No</td>\n",
       "      <td>No</td>\n",
       "      <td>No</td>\n",
       "      <td>No</td>\n",
       "      <td>No</td>\n",
       "      <td>No</td>\n",
       "      <td>No</td>\n",
       "      <td>No</td>\n",
       "      <td>No</td>\n",
       "      <td>No</td>\n",
       "      <td>No</td>\n",
       "      <td>No</td>\n",
       "      <td>No</td>\n",
       "      <td>No</td>\n",
       "      <td>No</td>\n",
       "      <td>No</td>\n",
       "      <td>No</td>\n",
       "      <td>No</td>\n",
       "      <td>No</td>\n",
       "      <td>No</td>\n",
       "      <td>0.4953</td>\n",
       "      <td>IMPACT341</td>\n",
       "      <td>False</td>\n",
       "      <td>Lymph</td>\n",
       "      <td>0</td>\n",
       "      <td>0</td>\n",
       "      <td>1.14</td>\n",
       "      <td>Stable</td>\n",
       "      <td>LUAD</td>\n",
       "      <td>Thoracic</td>\n",
       "      <td>NaN</td>\n",
       "      <td>0:LIVING</td>\n",
       "      <td>Lung</td>\n",
       "      <td>NaN</td>\n",
       "      <td>422</td>\n",
       "      <td>Metastasis</td>\n",
       "      <td>Female</td>\n",
       "      <td>Lung Adenocarcinoma</td>\n",
       "      <td>LUAD</td>\n",
       "      <td>21.073951</td>\n",
       "      <td>25.0</td>\n",
       "      <td>62.303043</td>\n",
       "    </tr>\n",
       "    <tr>\n",
       "      <th>798</th>\n",
       "      <td>P-0001309-T01-IM3</td>\n",
       "      <td>NaN</td>\n",
       "      <td>NaN</td>\n",
       "      <td>NaN</td>\n",
       "      <td>NaN</td>\n",
       "      <td>Non-Small Cell Lung Cancer</td>\n",
       "      <td>Lung Adenocarcinoma</td>\n",
       "      <td>No</td>\n",
       "      <td>No</td>\n",
       "      <td>No</td>\n",
       "      <td>No</td>\n",
       "      <td>No</td>\n",
       "      <td>No</td>\n",
       "      <td>No</td>\n",
       "      <td>No</td>\n",
       "      <td>No</td>\n",
       "      <td>No</td>\n",
       "      <td>No</td>\n",
       "      <td>No</td>\n",
       "      <td>No</td>\n",
       "      <td>No</td>\n",
       "      <td>No</td>\n",
       "      <td>No</td>\n",
       "      <td>No</td>\n",
       "      <td>No</td>\n",
       "      <td>No</td>\n",
       "      <td>No</td>\n",
       "      <td>No</td>\n",
       "      <td>0.5103</td>\n",
       "      <td>IMPACT341</td>\n",
       "      <td>False</td>\n",
       "      <td>NaN</td>\n",
       "      <td>0</td>\n",
       "      <td>0</td>\n",
       "      <td>3.59</td>\n",
       "      <td>Indeterminate</td>\n",
       "      <td>LUAD</td>\n",
       "      <td>Thoracic</td>\n",
       "      <td>NaN</td>\n",
       "      <td>0:LIVING</td>\n",
       "      <td>Lung</td>\n",
       "      <td>NaN</td>\n",
       "      <td>435</td>\n",
       "      <td>Primary</td>\n",
       "      <td>NaN</td>\n",
       "      <td>Lung Adenocarcinoma</td>\n",
       "      <td>LUAD</td>\n",
       "      <td>15.528174</td>\n",
       "      <td>40.0</td>\n",
       "      <td>62.303043</td>\n",
       "    </tr>\n",
       "  </tbody>\n",
       "</table>\n",
       "</div>"
      ],
      "text/plain": [
       "             Sample ID  Age at First Mets Dx  Age at Last Contact  \\\n",
       "45   P-0000112-T01-IM3                   NaN                  NaN   \n",
       "168  P-0000306-T01-IM3                   NaN                  NaN   \n",
       "227  P-0000397-T01-IM3                   NaN                  NaN   \n",
       "483  P-0000789-T01-IM3                   NaN                  NaN   \n",
       "798  P-0001309-T01-IM3                   NaN                  NaN   \n",
       "\n",
       "     Age at Sequencing  Age at Surgical Procedure  \\\n",
       "45                 NaN                        NaN   \n",
       "168                NaN                        NaN   \n",
       "227                NaN                        NaN   \n",
       "483                NaN                        NaN   \n",
       "798                NaN                        NaN   \n",
       "\n",
       "                        Cancer Type               Cancer Type Detailed  \\\n",
       "45           Esophagogastric Cancer          Esophageal Adenocarcinoma   \n",
       "168  Gastrointestinal Stromal Tumor     Gastrointestinal Stromal Tumor   \n",
       "227                   Breast Cancer  Breast Invasive Lobular Carcinoma   \n",
       "483      Non-Small Cell Lung Cancer                Lung Adenocarcinoma   \n",
       "798      Non-Small Cell Lung Cancer                Lung Adenocarcinoma   \n",
       "\n",
       "    Distant Mets: Adrenal Gland Distant Mets: Biliary tract  \\\n",
       "45                           No                          No   \n",
       "168                          No                          No   \n",
       "227                          No                          No   \n",
       "483                          No                          No   \n",
       "798                          No                          No   \n",
       "\n",
       "    Distant Mets: Bladder/UT Distant Mets: Bone Distant Mets: Bowel  \\\n",
       "45                        No                 No                  No   \n",
       "168                       No                 No                 Yes   \n",
       "227                       No                 No                  No   \n",
       "483                       No                 No                  No   \n",
       "798                       No                 No                  No   \n",
       "\n",
       "    Distant Mets: Breast Distant Mets: CNS/Brain Distant Mets: Distant LN  \\\n",
       "45                    No                      No                       No   \n",
       "168                   No                      No                       No   \n",
       "227                   No                      No                       No   \n",
       "483                   No                      No                       No   \n",
       "798                   No                      No                       No   \n",
       "\n",
       "    Distant Mets: Female Genital Distant Mets: Head and Neck  \\\n",
       "45                            No                          No   \n",
       "168                           No                          No   \n",
       "227                           No                          No   \n",
       "483                           No                          No   \n",
       "798                           No                          No   \n",
       "\n",
       "    Distant Mets: Intra-Abdominal Distant Mets: Kidney Distant Mets: Liver  \\\n",
       "45                             No                   No                  No   \n",
       "168                            No                   No                 Yes   \n",
       "227                            No                   No                  No   \n",
       "483                            No                   No                  No   \n",
       "798                            No                   No                  No   \n",
       "\n",
       "    Distant Mets: Lung Distant Mets: Male Genital Distant Mets: Mediastinum  \\\n",
       "45                  No                         No                        No   \n",
       "168                 No                         No                        No   \n",
       "227                 No                         No                        No   \n",
       "483                 No                         No                        No   \n",
       "798                 No                         No                        No   \n",
       "\n",
       "    Distant Mets: Ovary Distant Mets: Pleura Distant Mets: PNS  \\\n",
       "45                   No                   No                No   \n",
       "168                  No                   No                No   \n",
       "227                  No                   No                No   \n",
       "483                  No                   No                No   \n",
       "798                  No                   No                No   \n",
       "\n",
       "    Distant Mets: Skin Distant Mets: Unspecified  Fraction Genome Altered  \\\n",
       "45                  No                        No                   0.3580   \n",
       "168                 No                       Yes                   0.1704   \n",
       "227                Yes                        No                   0.0912   \n",
       "483                 No                        No                   0.4953   \n",
       "798                 No                        No                   0.5103   \n",
       "\n",
       "    Gene Panel  Metastatic patient Metastatic Site  Met Count  Met Site Count  \\\n",
       "45   IMPACT341               False             NaN          0               0   \n",
       "168  IMPACT341                True             NaN          3               3   \n",
       "227  IMPACT341                True            Skin          1               1   \n",
       "483  IMPACT341               False           Lymph          0               0   \n",
       "798  IMPACT341               False             NaN          0               0   \n",
       "\n",
       "     MSI Score       MSI Type Oncotree Code Organ System  \\\n",
       "45        2.76         Stable          ESCA      Core GI   \n",
       "168       0.76         Stable          GIST      Core GI   \n",
       "227       0.56         Stable           ILC       Breast   \n",
       "483       1.14         Stable          LUAD     Thoracic   \n",
       "798       3.59  Indeterminate          LUAD     Thoracic   \n",
       "\n",
       "     Overall Survival (Months) Overall Survival Status Primary Tumor Site  \\\n",
       "45                         NaN                0:LIVING          Esophagus   \n",
       "168                        NaN                0:LIVING            Stomach   \n",
       "227                        NaN                0:LIVING             Breast   \n",
       "483                        NaN                0:LIVING               Lung   \n",
       "798                        NaN                0:LIVING               Lung   \n",
       "\n",
       "    Race Category  Sample coverage Sample Type     Sex  \\\n",
       "45            NaN              743     Primary     NaN   \n",
       "168         White              212     Primary    Male   \n",
       "227           NaN              925  Metastasis  Female   \n",
       "483           NaN              422  Metastasis  Female   \n",
       "798           NaN              435     Primary     NaN   \n",
       "\n",
       "                      Subtype Subtype Abbreviation  TMB (nonsynonymous)  \\\n",
       "45   Esophageal Adenocarinoma                 ESCA             8.873242   \n",
       "168  Gastrointestinal Stromal                 GIST             1.109155   \n",
       "227        Breast Lobular HR+         ILC HR+HER2-            15.528174   \n",
       "483       Lung Adenocarcinoma                 LUAD            21.073951   \n",
       "798       Lung Adenocarcinoma                 LUAD            15.528174   \n",
       "\n",
       "     Tumor Purity  Average Age  \n",
       "45            NaN    62.303043  \n",
       "168          90.0    62.303043  \n",
       "227          20.0    62.303043  \n",
       "483          25.0    62.303043  \n",
       "798          40.0    62.303043  "
      ]
     },
     "execution_count": 160,
     "metadata": {},
     "output_type": "execute_result"
    }
   ],
   "source": [
    "#check the remainder of the patients where 'Age at Last Contact' is null but that are NOT deceased \n",
    "specific_value = '1:DECEASED'\n",
    "\n",
    "filtered_living = df_2[(df_2['Age at Last Contact'].isna()) & (df_2['Overall Survival Status'] != specific_value)]\n",
    "filtered_living.head()"
   ]
  },
  {
   "cell_type": "code",
   "execution_count": 161,
   "id": "d9ebaf19-5947-49c5-9a8e-0d9c638ae2ee",
   "metadata": {
    "tags": []
   },
   "outputs": [
    {
     "data": {
      "text/plain": [
       "106"
      ]
     },
     "execution_count": 161,
     "metadata": {},
     "output_type": "execute_result"
    }
   ],
   "source": [
    "#check how many rows that have null values for 'Age at Last Contact' and that are not recorded as Deceased\n",
    "filtered_living.shape[0]"
   ]
  },
  {
   "cell_type": "markdown",
   "id": "0fcc8928-b924-467f-ac5d-71970e9dda11",
   "metadata": {},
   "source": [
    "**Observations:**\n",
    "\n",
    "`Age at Last Contact` has ~39% of its values missing. As this column specifies an age, it is once again not useful with this many missing values. There are few ways we can handle this data. One, we can fill it in with data from a column that records age at which the patient definitely made contact with the study and that could be `Age at Sequencing` or `Age at Surgical Procedure`.  This would be the best practice if I determined that this column is necessary for modeling, however it could introduce correlations or colinearity that may affect my downstream model effectivness as we would be filling in a lot of values with values from another column. The information in this column has been captured in `Average Age`\n",
    "\n",
    "In my opinion, I do not think this column provides any useful information for modeling. If we look at the numbers of null values in the `Age at Last Contact` column (10,129) and the number of patients that are deceased (10,169), the numbers are very similar. \n",
    "\n",
    "When we check for rows where `Overall Survival Status =='1:DECEASED'` and where `Age at Last Contact == Null` we can see we have 10023 rows where these are both true. Therefore it can be assumed that the patients that do not have a value for `Age at Last Contact` died before the study concluded and therefore do not have a last contact age retroactively recorded. The other 106 null values are for patients that are still living. We can account this to a data entry or collection error as there is no logical reason of why this would be missing.\n",
    "\n",
    "As seen above, most of the information in `Age at Last Contact` in can be captured in the `Overall Survival Status` column and since if a pateint has contact with the study is not an indicator for survivability, we will drop this column due to the high amount of null values and the fact that it wont contribute much to the power of the model.\n",
    "\n",
    "---"
   ]
  },
  {
   "cell_type": "markdown",
   "id": "437e133e-f9f9-4aaa-8caf-52b6cd7d8d51",
   "metadata": {},
   "source": [
    "Next we will look at `Metastaic Site`"
   ]
  },
  {
   "cell_type": "code",
   "execution_count": 162,
   "id": "ad8bb87c-6e2a-43dc-8588-b952602d3889",
   "metadata": {
    "tags": []
   },
   "outputs": [
    {
     "name": "stdout",
     "output_type": "stream",
     "text": [
      "Metastatic Site: The anatomic location where tumour has spread\n"
     ]
    }
   ],
   "source": [
    "feature_information('Metastatic Site')"
   ]
  },
  {
   "cell_type": "code",
   "execution_count": 163,
   "id": "fd8c337f-e191-47ad-a053-ab9da032d9f4",
   "metadata": {
    "tags": []
   },
   "outputs": [
    {
     "data": {
      "text/plain": [
       "15632"
      ]
     },
     "execution_count": 163,
     "metadata": {},
     "output_type": "execute_result"
    }
   ],
   "source": [
    "df_2['Metastatic Site'].isna().sum()"
   ]
  },
  {
   "cell_type": "code",
   "execution_count": 164,
   "id": "0b55d8ee-7f96-451a-95cb-ae9617493c9c",
   "metadata": {
    "tags": []
   },
   "outputs": [
    {
     "data": {
      "text/plain": [
       "Metastatic Site\n",
       "Lymph              2305\n",
       "Liver              2289\n",
       "Unspecified        1321\n",
       "Lung                982\n",
       "Bone                726\n",
       "Intra-Abdominal     674\n",
       "CNS/Brain           421\n",
       "Pleura              381\n",
       "Bowel               279\n",
       "Ovary               139\n",
       "Skin                128\n",
       "Adrenal Gland       124\n",
       "Female Genital       75\n",
       "Head and Neck        69\n",
       "Bladder/UT           58\n",
       "Mediastinum          44\n",
       "Distant LN           44\n",
       "Biliary tract        33\n",
       "Kidney               19\n",
       "Breast               17\n",
       "Male Genital         15\n",
       "Name: count, dtype: int64"
      ]
     },
     "execution_count": 164,
     "metadata": {},
     "output_type": "execute_result"
    }
   ],
   "source": [
    "df_2['Metastatic Site'].value_counts()"
   ]
  },
  {
   "cell_type": "markdown",
   "id": "7fa719b5-c61c-4b6a-bf9a-5fd4b4a027e4",
   "metadata": {},
   "source": [
    "**Observations**\n",
    "\n",
    "The feature `Metastatic Site` holds information about where a tumor has spread. We can see that ~61% of values are missing here. This is not very useful for modelling as this column seems to only hold information about one metastatic site (see value counts) when infact there could be multiple. This information is captured in the 21 `Distant Mets` categories. It can be seen that some of the values that are null in the `Metastatic Site` column contain 1 to multiple metastatic sites in the `Distant Mets` columns.  Therefore the `Metastatic Site` column with all these missing values and a very minimal amount of information (does not capture all the metastatic info) does not have useful information for modeling and therefore can be dropped.\n",
    "\n",
    "---\n"
   ]
  },
  {
   "cell_type": "markdown",
   "id": "efc99e22-d4e2-478a-999b-6135b4ee1ac7",
   "metadata": {},
   "source": [
    "**Recap:**\n",
    "\n",
    "There are 3 columns that have >10% missing values:\n",
    "\n",
    "- `Age at First Mets Dx`: ~24% missing\n",
    "- `Age at Last Contact`: ~39% missing\n",
    "- `Metastatic Site`: ~61% missing\n",
    "\n",
    "\n",
    "As explained above we will be dropping these columns.\n",
    "\n",
    "---\n",
    "\n"
   ]
  },
  {
   "cell_type": "code",
   "execution_count": 165,
   "id": "69bceb48-ccf5-4cc6-b4f7-07688a87ea0e",
   "metadata": {
    "tags": []
   },
   "outputs": [],
   "source": [
    "# create a list of columns to drop that have null values >10%\n",
    "percentage_nulls = columns_with_nulls/df_2.shape[0]*100\n",
    "percentage_nulls\n",
    "\n",
    "cols_to_drop = percentage_nulls[percentage_nulls > 10].index\n",
    "df_2.drop(cols_to_drop, axis=1, inplace=True)"
   ]
  },
  {
   "cell_type": "code",
   "execution_count": 166,
   "id": "0a0cbdeb-2840-4724-bb8a-0f28b43042ac",
   "metadata": {
    "tags": []
   },
   "outputs": [
    {
     "data": {
      "text/plain": [
       "Age at Sequencing            258\n",
       "Age at Surgical Procedure    822\n",
       "MSI Score                      2\n",
       "MSI Type                       1\n",
       "Overall Survival (Months)    116\n",
       "Primary Tumor Site             2\n",
       "Race Category                 77\n",
       "Sex                            4\n",
       "Tumor Purity                 407\n",
       "dtype: int64"
      ]
     },
     "execution_count": 166,
     "metadata": {},
     "output_type": "execute_result"
    }
   ],
   "source": [
    "#sanity check\n",
    "null_counts = df_2.isna().sum()\n",
    "columns_with_nulls = null_counts[null_counts > 0]\n",
    "columns_with_nulls"
   ]
  },
  {
   "cell_type": "code",
   "execution_count": 167,
   "id": "9e1cad83-b20b-43a6-a923-0388d55f518a",
   "metadata": {
    "tags": []
   },
   "outputs": [
    {
     "data": {
      "text/plain": [
       "Age at Sequencing            1.000970\n",
       "Age at Surgical Procedure    3.189137\n",
       "MSI Score                    0.007759\n",
       "MSI Type                     0.003880\n",
       "Overall Survival (Months)    0.450048\n",
       "Primary Tumor Site           0.007759\n",
       "Race Category                0.298739\n",
       "Sex                          0.015519\n",
       "Tumor Purity                 1.579049\n",
       "dtype: float64"
      ]
     },
     "execution_count": 167,
     "metadata": {},
     "output_type": "execute_result"
    }
   ],
   "source": [
    "percentage_nulls = columns_with_nulls/df_2.shape[0]*100\n",
    "percentage_nulls"
   ]
  },
  {
   "cell_type": "markdown",
   "id": "fa133a53-9ea6-44a2-97c8-ff505b6db1af",
   "metadata": {},
   "source": [
    "**Observations:**\n",
    "\n",
    "As we can see above, all of the columns with null values now only contain < 5% null values.\n",
    "\n",
    "There are 9 columns that still contain null values:\n",
    "\n",
    "- `Age at Sequencing`\n",
    "- `Age at Surgical Procedure`\n",
    "- `MSI Score`\n",
    "- `MSI Type`\n",
    "- `Overall Survival (Months)`\n",
    "- `Primary Tumor Site`\n",
    "- `Race Category`\n",
    "- `Sex`\n",
    "- `Tumor Purity`\n",
    "\n",
    "Lets investigate these individually by first looking at the description of each category by checking their distribution to see how we can fill in the missing values\n",
    "\n",
    "---"
   ]
  },
  {
   "cell_type": "markdown",
   "id": "564d3628-6343-4d01-b6af-3d65fb317be4",
   "metadata": {},
   "source": [
    "First we will look at `Age at sequencing` and `Age at Surgical Procedure`.  There `258` and `822` null values in the columns respectively. Since these are age categories and it does not make sense here to fill with mean or median of this category as each individual has thier own age, I will use the `Average Age column` to fill these values in across the rows."
   ]
  },
  {
   "cell_type": "code",
   "execution_count": 168,
   "id": "694c0d6d-7948-42d1-b126-a9ffd386b2b7",
   "metadata": {
    "tags": []
   },
   "outputs": [
    {
     "data": {
      "image/png": "[encoded data removed]",
      "text/plain": [
       "<Figure size 640x480 with 1 Axes>"
      ]
     },
     "metadata": {},
     "output_type": "display_data"
    }
   ],
   "source": [
    "# Age at sequencing\n",
    "plt.figure()\n",
    "plt.hist(df_2['Age at Sequencing'], bins = 25)\n",
    "plt.xlabel('Age')\n",
    "plt.ylabel('Frequency')\n",
    "plt.title('Distribution of Sequencing')\n",
    "\n",
    "plt.axvline(df_2['Age at Sequencing'].median(), label='median', color='r')\n",
    "plt.axvline(df_2['Age at Sequencing'].mean(), label='mean', color='y')\n",
    "\n",
    "plt.legend()\n",
    "plt.show()"
   ]
  },
  {
   "cell_type": "code",
   "execution_count": 169,
   "id": "8775e468-fdc2-4dfa-abcf-7583f0377b02",
   "metadata": {
    "tags": []
   },
   "outputs": [],
   "source": [
    "#fill nulls from Average Age column\n",
    "df_2['Age at Sequencing'].fillna(df_2['Average Age'], inplace=True)"
   ]
  },
  {
   "cell_type": "code",
   "execution_count": 170,
   "id": "305f7082-bafc-4aec-b57f-695d2123594b",
   "metadata": {
    "tags": []
   },
   "outputs": [
    {
     "data": {
      "image/png": "[encoded data removed]",
      "text/plain": [
       "<Figure size 640x480 with 1 Axes>"
      ]
     },
     "metadata": {},
     "output_type": "display_data"
    }
   ],
   "source": [
    "#Age at surgical procedure\n",
    "plt.figure()\n",
    "plt.hist(df_2['Age at Surgical Procedure'], bins = 25)\n",
    "plt.xlabel('Age')\n",
    "plt.title('Distribution of Surgical Procedure Age')\n",
    "plt.ylabel('Frequency')\n",
    "\n",
    "plt.axvline(df_2['Age at Surgical Procedure'].median(), label='median', color='r')\n",
    "plt.axvline(df_2['Age at Surgical Procedure'].mean(), label='mean', color='y')\n",
    "\n",
    "plt.legend()\n",
    "plt.show()"
   ]
  },
  {
   "cell_type": "code",
   "execution_count": 171,
   "id": "d5856991-8c37-4268-8f2d-312a296bef8e",
   "metadata": {
    "tags": []
   },
   "outputs": [
    {
     "data": {
      "text/plain": [
       "0     37.03\n",
       "1     44.42\n",
       "2     61.00\n",
       "3     74.64\n",
       "4     71.58\n",
       "5     79.50\n",
       "6     75.55\n",
       "7     64.30\n",
       "8     66.77\n",
       "9     51.46\n",
       "10    67.16\n",
       "11    63.07\n",
       "12    73.57\n",
       "13    70.38\n",
       "14    58.06\n",
       "15    49.39\n",
       "16    62.12\n",
       "17    62.10\n",
       "18    78.60\n",
       "19    61.14\n",
       "20    63.04\n",
       "21    63.34\n",
       "22    58.53\n",
       "23    76.88\n",
       "24    67.96\n",
       "25    64.71\n",
       "26    64.74\n",
       "27    18.39\n",
       "28    50.26\n",
       "29    57.39\n",
       "30    55.88\n",
       "31    73.62\n",
       "32    65.42\n",
       "33    61.87\n",
       "34    60.08\n",
       "35    62.89\n",
       "36    63.64\n",
       "37    62.05\n",
       "38    46.15\n",
       "39    57.60\n",
       "40    67.86\n",
       "41    52.71\n",
       "42    46.85\n",
       "43    28.83\n",
       "44    71.17\n",
       "45      NaN\n",
       "46    59.61\n",
       "47    57.88\n",
       "48    57.38\n",
       "49    46.16\n",
       "Name: Age at Surgical Procedure, dtype: float64"
      ]
     },
     "execution_count": 171,
     "metadata": {},
     "output_type": "execute_result"
    }
   ],
   "source": [
    "df_2['Age at Surgical Procedure'].head(50)"
   ]
  },
  {
   "cell_type": "code",
   "execution_count": 172,
   "id": "fc65cd7b-c9d3-4e4b-8625-c2efe820662b",
   "metadata": {
    "tags": []
   },
   "outputs": [],
   "source": [
    "#fill nulls from Average Age column\n",
    "df_2['Age at Surgical Procedure'].fillna(df_2['Average Age'], inplace=True)"
   ]
  },
  {
   "cell_type": "markdown",
   "id": "7c687372-0012-42cd-ad71-ac093f70fcb2",
   "metadata": {},
   "source": [
    "Next we will take a look at the Null values in the features that do not contain age information"
   ]
  },
  {
   "cell_type": "code",
   "execution_count": 173,
   "id": "e3a13238-42ca-40c7-ac8a-238ad78221d7",
   "metadata": {
    "tags": []
   },
   "outputs": [
    {
     "data": {
      "text/plain": [
       "2"
      ]
     },
     "execution_count": 173,
     "metadata": {},
     "output_type": "execute_result"
    }
   ],
   "source": [
    "#MSI score - how many null values?\n",
    "df_2['MSI Score'].isna().sum()"
   ]
  },
  {
   "cell_type": "code",
   "execution_count": 174,
   "id": "76df0c76-fc2f-4d41-a38d-ea1f10ff272a",
   "metadata": {
    "tags": []
   },
   "outputs": [
    {
     "data": {
      "text/plain": [
       "count    25773.000000\n",
       "mean         1.285071\n",
       "std          4.635967\n",
       "min         -1.000000\n",
       "25%          0.000000\n",
       "50%          0.230000\n",
       "75%          0.860000\n",
       "max         53.440000\n",
       "Name: MSI Score, dtype: float64"
      ]
     },
     "execution_count": 174,
     "metadata": {},
     "output_type": "execute_result"
    }
   ],
   "source": [
    "#check the distribution of values \n",
    "df_2['MSI Score'].describe()"
   ]
  },
  {
   "cell_type": "code",
   "execution_count": 175,
   "id": "874ed58d-7f5e-442e-85c8-9981aca76d5b",
   "metadata": {
    "tags": []
   },
   "outputs": [
    {
     "data": {
      "text/plain": [
       "MSI Type\n",
       "Do not report    1\n",
       "Indeterminate    0\n",
       "Instable         0\n",
       "Stable           0\n",
       "Name: MSI Score, dtype: int64"
      ]
     },
     "execution_count": 175,
     "metadata": {},
     "output_type": "execute_result"
    }
   ],
   "source": [
    "#check how they relate to MSI Type as MSI Type can be used to determine a more likely score\n",
    "null_counts = df_2.groupby('MSI Type')['MSI Score'].apply(lambda x: x.isnull().sum())\n",
    "null_counts"
   ]
  },
  {
   "cell_type": "code",
   "execution_count": 176,
   "id": "efb8225c-a3ec-404e-8760-315460c060cd",
   "metadata": {
    "tags": []
   },
   "outputs": [],
   "source": [
    "#fill nulls of MSI Score with mean\n",
    "df_2['MSI Score'].fillna(df_2['MSI Score'].mean(), inplace = True)"
   ]
  },
  {
   "cell_type": "markdown",
   "id": "75b0e30a-db35-41ef-80be-cb5a4cbafed3",
   "metadata": {},
   "source": [
    "**Observations:**\n",
    "\n",
    "Since there were only 2 null values for MSI score, we filled these values in with the mean of the MSI score as it should not affect the distribution drastically.\n",
    "\n",
    "---"
   ]
  },
  {
   "cell_type": "markdown",
   "id": "ba8263fb-ebaa-4bda-bf9f-48f95621a51d",
   "metadata": {},
   "source": [
    "Next we will look at the `MSI Type` column"
   ]
  },
  {
   "cell_type": "code",
   "execution_count": 177,
   "id": "d37b3658-dbc2-4b3a-a871-ecd8bcd1c573",
   "metadata": {
    "tags": []
   },
   "outputs": [
    {
     "data": {
      "text/plain": [
       "1"
      ]
     },
     "execution_count": 177,
     "metadata": {},
     "output_type": "execute_result"
    }
   ],
   "source": [
    "#check the number of null values:\n",
    "df_2['MSI Type'].isna().sum()"
   ]
  },
  {
   "cell_type": "code",
   "execution_count": 178,
   "id": "a0772245-bcbb-42c7-b157-317a2064e368",
   "metadata": {
    "tags": []
   },
   "outputs": [
    {
     "data": {
      "text/plain": [
       "MSI Type\n",
       "Stable           21879\n",
       "Do not report     2558\n",
       "Indeterminate      714\n",
       "Instable           623\n",
       "Name: count, dtype: int64"
      ]
     },
     "execution_count": 178,
     "metadata": {},
     "output_type": "execute_result"
    }
   ],
   "source": [
    "#check the categories in MSI Type\n",
    "df_2['MSI Type'].value_counts()"
   ]
  },
  {
   "cell_type": "markdown",
   "id": "47cd517a-636f-445e-9f1a-8b32f444249a",
   "metadata": {},
   "source": [
    "**Findings:**\n",
    "\n",
    "There seems to be a `Do Not Report` category and `Indeterminate`. To simplfy this feature and make it more meaningful we will covert the `Do Not Report`category to Indeterminate and add this null value to that category as they can be considered very similar categories. `Indeterminate` gives slightly more information as it means the tests were inconclusive."
   ]
  },
  {
   "cell_type": "code",
   "execution_count": 179,
   "id": "c6e0dc74-7593-4b5e-a8fb-f6cb9817386b",
   "metadata": {
    "tags": []
   },
   "outputs": [],
   "source": [
    "#fill in null to indeterminate category\n",
    "df_2['MSI Type'].fillna('Indeterminate', inplace = True)"
   ]
  },
  {
   "cell_type": "code",
   "execution_count": 180,
   "id": "ef65c721-18a6-4a92-868b-ee529166f8d5",
   "metadata": {
    "tags": []
   },
   "outputs": [],
   "source": [
    "#replace Do not Report with Indeterminate:\n",
    "df_2['MSI Type'].replace({'Do not report':'Indeterminate'}, inplace=True)"
   ]
  },
  {
   "cell_type": "code",
   "execution_count": 181,
   "id": "be99e110-36cd-4f6e-a624-475d5f7761dc",
   "metadata": {
    "tags": []
   },
   "outputs": [
    {
     "data": {
      "text/plain": [
       "MSI Type\n",
       "Stable           21879\n",
       "Indeterminate     3273\n",
       "Instable           623\n",
       "Name: count, dtype: int64"
      ]
     },
     "execution_count": 181,
     "metadata": {},
     "output_type": "execute_result"
    }
   ],
   "source": [
    "# sanity check\n",
    "df_2['MSI Type'].value_counts()"
   ]
  },
  {
   "cell_type": "markdown",
   "id": "a9a1ea4a-f9a4-431a-bd60-f75df8214b6f",
   "metadata": {},
   "source": [
    "**Observations:**\n",
    "\n",
    "The null values in `MSI Type` have been replaced and I have also made the column more informative by replacing the `Do Not Report` Category with the `Indeterminate` category."
   ]
  },
  {
   "cell_type": "markdown",
   "id": "31be45b1-fea3-40cc-9b17-54e92ed2192d",
   "metadata": {},
   "source": [
    "Next, we will check out the `Overall Survival (Months)` column. It contains 116 null values. This is a numerical column so lets check out the distribution"
   ]
  },
  {
   "cell_type": "code",
   "execution_count": 182,
   "id": "3ef2d1c2-dd95-4e42-b787-4d18c5bda7d1",
   "metadata": {
    "tags": []
   },
   "outputs": [
    {
     "data": {
      "image/png": "[encoded data removed]",
      "text/plain": [
       "<Figure size 640x480 with 1 Axes>"
      ]
     },
     "metadata": {},
     "output_type": "display_data"
    }
   ],
   "source": [
    "#plot histogram of Overall Survival\n",
    "plt.figure()\n",
    "plt.hist(df_2['Overall Survival (Months)'], bins = 25)\n",
    "plt.xlabel('Months')\n",
    "plt.title('Distribution of Overall Survival')\n",
    "plt.ylabel('Frequency')\n",
    "\n",
    "#Plot the Mean and Median\n",
    "plt.axvline(df_2['Overall Survival (Months)'].median(), label='median', color='r')\n",
    "plt.axvline(df_2['Overall Survival (Months)'].mean(), label='mean', color='y')\n",
    "\n",
    "plt.legend()\n",
    "plt.show()"
   ]
  },
  {
   "cell_type": "code",
   "execution_count": 183,
   "id": "8fcc3b3b-bc26-4444-83eb-e9872c4573b1",
   "metadata": {
    "tags": []
   },
   "outputs": [
    {
     "data": {
      "text/plain": [
       "count    25659.000000\n",
       "mean        22.112903\n",
       "std         17.695178\n",
       "min          0.000000\n",
       "25%          8.440000\n",
       "50%         17.450000\n",
       "75%         33.120000\n",
       "max         80.890000\n",
       "Name: Overall Survival (Months), dtype: float64"
      ]
     },
     "execution_count": 183,
     "metadata": {},
     "output_type": "execute_result"
    }
   ],
   "source": [
    "df_2['Overall Survival (Months)'].describe()"
   ]
  },
  {
   "cell_type": "code",
   "execution_count": 184,
   "id": "90f86784-27fa-4e30-b8f1-ea9c2303acf8",
   "metadata": {
    "tags": []
   },
   "outputs": [
    {
     "data": {
      "text/plain": [
       "(115, 47)"
      ]
     },
     "execution_count": 184,
     "metadata": {},
     "output_type": "execute_result"
    }
   ],
   "source": [
    "#check what the null values correspond to:\n",
    "specific_value = '0:LIVING'\n",
    "\n",
    "filtered_rows = df_2[(df_2['Overall Survival (Months)'].isna()) & (df_2['Overall Survival Status'] == specific_value)]\n",
    "filtered_rows.shape"
   ]
  },
  {
   "cell_type": "markdown",
   "id": "8ebc839d-ecb0-47a7-95f2-a4b032bbca59",
   "metadata": {},
   "source": [
    "**Findings:**\n",
    "\n",
    "The null values in Overall Survival (Months) are mostly for patients who are still alive at the end of the study. There is 1 null value not accounted for. Since these pateints are living, I will fill in these values with the mean overall survival of the patients that are still living."
   ]
  },
  {
   "cell_type": "code",
   "execution_count": 185,
   "id": "004d1fc6-6595-425b-816d-d49b071ac973",
   "metadata": {
    "tags": []
   },
   "outputs": [
    {
     "data": {
      "text/plain": [
       "26.66572396875605"
      ]
     },
     "execution_count": 185,
     "metadata": {},
     "output_type": "execute_result"
    }
   ],
   "source": [
    "# set up a filter to filter rows for 0:LIVING\n",
    "filtered_living = df_2[df_2['Overall Survival Status'] == '0:LIVING']\n",
    "\n",
    "#find the mean overall survival\n",
    "mean_survival_months = filtered_living['Overall Survival (Months)'].mean()\n",
    "mean_survival_months"
   ]
  },
  {
   "cell_type": "code",
   "execution_count": 186,
   "id": "8dc9729f-7c98-492f-abd7-27fde3a6f629",
   "metadata": {
    "tags": []
   },
   "outputs": [],
   "source": [
    "#fill nulls with the mean overall survival for those patients that are living\n",
    "df_2['Overall Survival (Months)'].fillna(mean_survival_months, inplace=True)\n"
   ]
  },
  {
   "cell_type": "code",
   "execution_count": 187,
   "id": "21b55fce-566e-454d-b442-22b8391e049b",
   "metadata": {
    "tags": []
   },
   "outputs": [
    {
     "data": {
      "text/plain": [
       "0"
      ]
     },
     "execution_count": 187,
     "metadata": {},
     "output_type": "execute_result"
    }
   ],
   "source": [
    "#sanity check\n",
    "df_2['Overall Survival (Months)'].isna().sum()"
   ]
  },
  {
   "cell_type": "markdown",
   "id": "64c72ce0-77b6-489d-8e1f-e05681699fa6",
   "metadata": {
    "tags": []
   },
   "source": [
    "Next we will look at Primary Tumour Site, there are 2 null values in this column:"
   ]
  },
  {
   "cell_type": "code",
   "execution_count": 188,
   "id": "e141aebe-cf23-470f-9a7f-06bd875c0e04",
   "metadata": {
    "tags": []
   },
   "outputs": [
    {
     "data": {
      "text/plain": [
       "Primary Tumor Site\n",
       "Lung                             5041\n",
       "Breast                           2612\n",
       "Prostate                         2176\n",
       "Pancreas                         1996\n",
       "Colon                            1282\n",
       "Uterus                           1232\n",
       "Ovary                            1137\n",
       "Bladder                           962\n",
       "Rectum                            952\n",
       "Skin                              732\n",
       "Liver                             574\n",
       "Stomach                           511\n",
       "Sigmoid Colon                     475\n",
       "Thyroid                           429\n",
       "Kidney                            416\n",
       "Esophagus                         352\n",
       "Testis                            345\n",
       "Ascending Colon                   245\n",
       "Unknown                           231\n",
       "Cecum                             228\n",
       "Pleura                            216\n",
       "Endometrium                       214\n",
       "Rectosigmoid Colon                213\n",
       "Appendix                          206\n",
       "Soft Tissue                       193\n",
       "Gallbladder                       174\n",
       "Small Bowel                       166\n",
       "Retroperitoneum                   146\n",
       "Bile Duct                         140\n",
       "Anus                              117\n",
       "Transverse Colon                  116\n",
       "Descending Colon                  114\n",
       "Cervix                            104\n",
       "Tongue                             97\n",
       "Eye                                96\n",
       "Upper Tract                        91\n",
       "GE Junction                        84\n",
       "Oral Cavity                        77\n",
       "Cancer of Unknown Primary          70\n",
       "Gastroesophageal Junction          68\n",
       "Oropharynx                         60\n",
       "Duodenum                           58\n",
       "Kidney/Upper Tract                 54\n",
       "Tonsil                             44\n",
       "Larynx                             41\n",
       "Abdomen                            38\n",
       "Renal Pelvis                       35\n",
       "Salivary Gland                     32\n",
       "Ileum                              27\n",
       "Nasopharynx                        26\n",
       "Vagina                             25\n",
       "Vulva                              25\n",
       "Major Salivary Gland               24\n",
       "Thigh                              23\n",
       "Esophagogastric Junction           21\n",
       "Scalp                              20\n",
       "Neck                               20\n",
       "Pelvis                             19\n",
       "Leg                                18\n",
       "Sigmoid colon                      18\n",
       "Adnexa or Endomterium              17\n",
       "Small Intestine                    16\n",
       "Minor Salivary Gland               16\n",
       "Chest Wall                         15\n",
       "Gastroesophageal                   14\n",
       "Conjunctiva                        13\n",
       "Lower Extremity                    13\n",
       "Mouth                              13\n",
       "Parotid                            13\n",
       "Gastric                            12\n",
       "Maxilla                            12\n",
       "Arm                                12\n",
       "Ureter                             12\n",
       "Sinus                              11\n",
       "Ascending colon                    11\n",
       "Submandibular Gland                11\n",
       "Jejunum                            11\n",
       "Bowel                              10\n",
       "Intraabdominal                     10\n",
       "Mediastinum                         9\n",
       "Eyelid                              8\n",
       "Parotid Gland                       8\n",
       "Uterine                             8\n",
       "Palate                              8\n",
       "Pharynx                             8\n",
       "Back                                8\n",
       "Urethra                             7\n",
       "Trachea                             7\n",
       "Adnexa or Endometrium               6\n",
       "Buttock                             6\n",
       "Uterus/Cervix                       6\n",
       "Diaphragm                           6\n",
       "Hypopharynx                         6\n",
       "Maxillary Sinus                     6\n",
       "Trigone                             5\n",
       "Sinonasal                           5\n",
       "Peritoneum                          5\n",
       "Mesentery                           5\n",
       "Abdominal Wall                      5\n",
       "Upper Extremity                     5\n",
       "Scrotum                             4\n",
       "Gastric Wall                        4\n",
       "Bone                                4\n",
       "Muscle                              4\n",
       "Flank                               4\n",
       "Right Foot                          3\n",
       "Esophagus/Stomach                   3\n",
       "Transverse colon                    3\n",
       "Hepatic flexure                     3\n",
       "Unknown Primary                     3\n",
       "Pleural Fluid                       3\n",
       "Hypopharynx vs Oropharynx           3\n",
       "Nose                                3\n",
       "Rectum and Colon                    3\n",
       "Rectal Mucosa                       2\n",
       "Duodenum-Jejunum                    2\n",
       "Upper Back                          2\n",
       "Skull Base - Pterygoid margin       2\n",
       "Thigh - Left                        2\n",
       "Lymph Node                          2\n",
       "Hip                                 2\n",
       "Forearm                             2\n",
       "Adrenal Gland                       2\n",
       "Base of tongue                      2\n",
       "Hepatic Flexure                     2\n",
       "Kidney/Upper tract                  2\n",
       "Ileocecal Valve                     2\n",
       "Orbital Floor                       2\n",
       "common Bile Duct                    1\n",
       "distal bile duct                    1\n",
       "Nasal Moscher Biopsy                1\n",
       "Carcinoma of Unknown Primary        1\n",
       "left ovary and fallopian tube       1\n",
       "Right Forearm                       1\n",
       "Epiglottis                          1\n",
       "Uvula                               1\n",
       "Left Colon                          1\n",
       "Shoulder                            1\n",
       "Left Parietal Pleura                1\n",
       "Adrenal                             1\n",
       "Paraspinal                          1\n",
       "uterus                              1\n",
       "Omentum                             1\n",
       "Endome                              1\n",
       "Buccal                              1\n",
       "Scapula                             1\n",
       "Retroperitenium                     1\n",
       "Heart - Right Ventricle             1\n",
       "Tibia                               1\n",
       "Bile duct                           1\n",
       "descending colon                    1\n",
       "Buccal Mucosa                       1\n",
       "Glabella                            1\n",
       "Knee                                1\n",
       "Biliary Tract                       1\n",
       "Cheek                               1\n",
       "Ethmoid Sinus                       1\n",
       "Intrahepatic Bile Duct              1\n",
       "Hard palate                         1\n",
       "Soft Palate                         1\n",
       "Ear Canal                           1\n",
       "Adnexa                              1\n",
       "Anorectal Junction                  1\n",
       "Ectopic Embryonic Rest              1\n",
       "Blood Vessel                        1\n",
       "Auditory Canal                      1\n",
       "Perineal                            1\n",
       "Inguinal Canal                      1\n",
       "Heart                               1\n",
       "Groin                               1\n",
       "shoulder                            1\n",
       "Sacral Mass                         1\n",
       "Head and Neck                       1\n",
       "Gingiva                             1\n",
       "Skin, Ear                           1\n",
       "Spine                               1\n",
       "Melanoma of Unknown Primary         1\n",
       "Prostatic urethra                   1\n",
       "Base of Tongue                      1\n",
       "Lacrimal Gland                      1\n",
       "base of tongue                      1\n",
       "Pelvic mass                         1\n",
       "Pelvic Nodule                       1\n",
       "Uvea                                1\n",
       "Left Thigh                          1\n",
       "Orbit - Right                       1\n",
       "Left parietal Pleura                1\n",
       "Nasal Cavity                        1\n",
       "Uterus, Ovaries                     1\n",
       "Name: count, dtype: int64"
      ]
     },
     "execution_count": 188,
     "metadata": {},
     "output_type": "execute_result"
    }
   ],
   "source": [
    "df_2['Primary Tumor Site'].value_counts()"
   ]
  },
  {
   "cell_type": "markdown",
   "id": "efa98190-c26a-4c1c-b75c-3eae59189dca",
   "metadata": {},
   "source": [
    "For these 2 patients, there is no value for the primary tumour site, however if you look at the value_counts, there is an unknown column, for now we will put the value as `Unknown`, by for future modeling, we may need to extrapolate the info from the `Organ System` and `Cancer Type` to fill in this unknown category if possible. There also seems to be a category that is `Unknown Primary`, that has 3 entries we will also add these to the `Unknown` category"
   ]
  },
  {
   "cell_type": "code",
   "execution_count": 189,
   "id": "5090aed0-d067-417c-a93b-bef96b248ac8",
   "metadata": {
    "tags": []
   },
   "outputs": [],
   "source": [
    "#fill null values with unknown\n",
    "\n",
    "df_2['Primary Tumor Site'].fillna('Unknown', inplace=True)"
   ]
  },
  {
   "cell_type": "code",
   "execution_count": 190,
   "id": "8d073674-e760-4230-a523-29ff3d87ebfc",
   "metadata": {
    "tags": []
   },
   "outputs": [],
   "source": [
    "#replace Unknown Primary with Unknown:\n",
    "df_2['Primary Tumor Site'].replace({'Unknown Primary':'Unknown'}, inplace=True)"
   ]
  },
  {
   "cell_type": "markdown",
   "id": "73032806-71e2-4d09-a90b-87ee5f6ddcea",
   "metadata": {},
   "source": [
    "Next, lets take a look at `Race Category` with 77 missing values:"
   ]
  },
  {
   "cell_type": "code",
   "execution_count": 191,
   "id": "254333cd-d3fa-4be3-b54a-fc56fd77d94d",
   "metadata": {
    "tags": []
   },
   "outputs": [
    {
     "data": {
      "text/plain": [
       "Race Category\n",
       "White                             20263\n",
       "Asian-far east/indian subcont      1787\n",
       "Black or african american          1597\n",
       "Pt refused to answer                903\n",
       "Other                               596\n",
       "No value entered                    396\n",
       "Unknown                             111\n",
       "Native american-am ind/alaska        34\n",
       "Native hawaiian or pacific isl       11\n",
       "Name: count, dtype: int64"
      ]
     },
     "execution_count": 191,
     "metadata": {},
     "output_type": "execute_result"
    }
   ],
   "source": [
    "#check the types of values\n",
    "df_2['Race Category'].value_counts()"
   ]
  },
  {
   "cell_type": "markdown",
   "id": "c9eb9877-916b-4df1-9fb2-b0167c6a4494",
   "metadata": {},
   "source": [
    "As seen from the value_counts, there are a few unknown categories. There are `Pt refused to answer`, `Other`, `No value entered` and `Unknown`. I will be replacing all these entries into the `Other` category, where I will also place the null values. This will clean up the data set for this feature."
   ]
  },
  {
   "cell_type": "code",
   "execution_count": 192,
   "id": "61846599-cbd6-4b36-a5f4-68915f7a0f92",
   "metadata": {
    "tags": []
   },
   "outputs": [],
   "source": [
    "#fill nulls with Other\n",
    "df_2['Race Category'].fillna('Other', inplace=True)"
   ]
  },
  {
   "cell_type": "code",
   "execution_count": 193,
   "id": "769cd7ae-902b-4ca8-8c5a-d9cd3e4f628f",
   "metadata": {
    "tags": []
   },
   "outputs": [],
   "source": [
    "#Replace nondescriptive categories with Other\n",
    "\n",
    "df_2['Race Category'].replace({'Pt refused to answer':'Other','No value entered':'Other','Unknown':'Other'}, inplace=True)"
   ]
  },
  {
   "cell_type": "code",
   "execution_count": 194,
   "id": "e2bad2ed-7804-437c-91ff-f60a9e232bf4",
   "metadata": {
    "tags": []
   },
   "outputs": [
    {
     "data": {
      "text/plain": [
       "Race Category\n",
       "White                             20263\n",
       "Other                              2083\n",
       "Asian-far east/indian subcont      1787\n",
       "Black or african american          1597\n",
       "Native american-am ind/alaska        34\n",
       "Native hawaiian or pacific isl       11\n",
       "Name: count, dtype: int64"
      ]
     },
     "execution_count": 194,
     "metadata": {},
     "output_type": "execute_result"
    }
   ],
   "source": [
    "#sanity check\n",
    "df_2['Race Category'].value_counts()"
   ]
  },
  {
   "cell_type": "markdown",
   "id": "a0c05899-e0f7-450b-baa1-73cfa35365b4",
   "metadata": {},
   "source": [
    "Next we will look at `Tumor Purity` with 407 null values. We will first look at the distribution of values:\n"
   ]
  },
  {
   "cell_type": "code",
   "execution_count": 195,
   "id": "c25f2726-df22-4da1-b82a-e7385ebb1868",
   "metadata": {
    "tags": []
   },
   "outputs": [
    {
     "data": {
      "text/plain": [
       "Tumor Purity\n",
       "30.0     5030\n",
       "20.0     4235\n",
       "40.0     3713\n",
       "50.0     3121\n",
       "60.0     2779\n",
       "10.0     2682\n",
       "70.0     1780\n",
       "80.0     1286\n",
       "90.0      352\n",
       "15.0      105\n",
       "25.0       92\n",
       "75.0       50\n",
       "35.0       41\n",
       "65.0       34\n",
       "85.0       23\n",
       "5.0        14\n",
       "45.0        9\n",
       "95.0        8\n",
       "55.0        6\n",
       "100.0       3\n",
       "0.0         3\n",
       "11.0        1\n",
       "16.0        1\n",
       "Name: count, dtype: int64"
      ]
     },
     "execution_count": 195,
     "metadata": {},
     "output_type": "execute_result"
    }
   ],
   "source": [
    "df_2['Tumor Purity'].value_counts()"
   ]
  },
  {
   "cell_type": "code",
   "execution_count": 196,
   "id": "00775026-ff13-46bc-886c-4b44e5c7bf04",
   "metadata": {
    "tags": []
   },
   "outputs": [
    {
     "data": {
      "image/png": "[encoded data removed]",
      "text/plain": [
       "<Figure size 640x480 with 1 Axes>"
      ]
     },
     "metadata": {},
     "output_type": "display_data"
    }
   ],
   "source": [
    "#plot histogram of Tumor Purity\n",
    "plt.figure()\n",
    "plt.hist(df_2['Tumor Purity'], bins = 10)\n",
    "plt.xlabel('Tumor Purity')\n",
    "plt.title('Distribution of Tumor Purity')\n",
    "plt.ylabel('Frequency')\n",
    "\n",
    "#Plot the Mean and Median\n",
    "plt.axvline(df_2['Tumor Purity'].median(), label='median', color='r')\n",
    "plt.axvline(df_2['Tumor Purity'].mean(), label='mean', color='y')\n",
    "\n",
    "plt.legend()\n",
    "plt.show()"
   ]
  },
  {
   "cell_type": "markdown",
   "id": "6c77b75c-6453-4dc0-b0e0-48605f4941c1",
   "metadata": {},
   "source": [
    "From this distribution, we can see the mean and medians of `Tumor Purity` are very similar. We will replace the null values of `Tumor Purity` with the mean value"
   ]
  },
  {
   "cell_type": "code",
   "execution_count": 197,
   "id": "2268a759-2bbc-4e02-850e-d4173a657931",
   "metadata": {
    "tags": []
   },
   "outputs": [],
   "source": [
    "#fill in nulls with the mean for Tumor Purity feature\n",
    "df_2['Tumor Purity'].fillna(df_2['Tumor Purity'].mean(), inplace=True)"
   ]
  },
  {
   "cell_type": "code",
   "execution_count": 198,
   "id": "dff53178-b9ae-4196-bcb2-aa7c0cac1069",
   "metadata": {
    "tags": []
   },
   "outputs": [
    {
     "data": {
      "text/plain": [
       "Sample ID                        0\n",
       "Age at Sequencing                0\n",
       "Age at Surgical Procedure        0\n",
       "Cancer Type                      0\n",
       "Cancer Type Detailed             0\n",
       "Distant Mets: Adrenal Gland      0\n",
       "Distant Mets: Biliary tract      0\n",
       "Distant Mets: Bladder/UT         0\n",
       "Distant Mets: Bone               0\n",
       "Distant Mets: Bowel              0\n",
       "Distant Mets: Breast             0\n",
       "Distant Mets: CNS/Brain          0\n",
       "Distant Mets: Distant LN         0\n",
       "Distant Mets: Female Genital     0\n",
       "Distant Mets: Head and Neck      0\n",
       "Distant Mets: Intra-Abdominal    0\n",
       "Distant Mets: Kidney             0\n",
       "Distant Mets: Liver              0\n",
       "Distant Mets: Lung               0\n",
       "Distant Mets: Male Genital       0\n",
       "Distant Mets: Mediastinum        0\n",
       "Distant Mets: Ovary              0\n",
       "Distant Mets: Pleura             0\n",
       "Distant Mets: PNS                0\n",
       "Distant Mets: Skin               0\n",
       "Distant Mets: Unspecified        0\n",
       "Fraction Genome Altered          0\n",
       "Gene Panel                       0\n",
       "Metastatic patient               0\n",
       "Met Count                        0\n",
       "Met Site Count                   0\n",
       "MSI Score                        0\n",
       "MSI Type                         0\n",
       "Oncotree Code                    0\n",
       "Organ System                     0\n",
       "Overall Survival (Months)        0\n",
       "Overall Survival Status          0\n",
       "Primary Tumor Site               0\n",
       "Race Category                    0\n",
       "Sample coverage                  0\n",
       "Sample Type                      0\n",
       "Sex                              4\n",
       "Subtype                          0\n",
       "Subtype Abbreviation             0\n",
       "TMB (nonsynonymous)              0\n",
       "Tumor Purity                     0\n",
       "Average Age                      0\n",
       "dtype: int64"
      ]
     },
     "execution_count": 198,
     "metadata": {},
     "output_type": "execute_result"
    }
   ],
   "source": [
    "#sanity check\n",
    "df_2.isna().sum()"
   ]
  },
  {
   "cell_type": "markdown",
   "id": "c1d41b32-c850-4009-8005-34de2e962711",
   "metadata": {
    "tags": []
   },
   "source": [
    "No null values remain!"
   ]
  },
  {
   "cell_type": "markdown",
   "id": "7e73ec03-a5c2-466d-aed7-bb26f8eab154",
   "metadata": {},
   "source": [
    "## Finding Summary <a class=\"anchor\" id=\"findings\"></a>\n",
    "\n",
    "The data has been assessed and cleaned by performing the following steps:\n",
    "\n",
    "- Checking for duplicated or fully correlated rows and columns\n",
    "- Removing one of each pair of fully correlated columns\n",
    "- Dropping redundant or insignificant columns\n",
    "- Dropping columns with a high proportion of null values\n",
    "- Filling in null vlaues with the first iteration of appropriate values"
   ]
  },
  {
   "cell_type": "markdown",
   "id": "411180f7-ee18-4dc3-8a59-81a895216cff",
   "metadata": {},
   "source": [
    "Lets check the shape and a sample of the data before we save the data set to a new csv file."
   ]
  },
  {
   "cell_type": "code",
   "execution_count": 98,
   "id": "928b6e73-f7bd-438d-a3b4-0d24609e0fc8",
   "metadata": {
    "tags": []
   },
   "outputs": [
    {
     "data": {
      "text/plain": [
       "(25775, 47)"
      ]
     },
     "execution_count": 98,
     "metadata": {},
     "output_type": "execute_result"
    }
   ],
   "source": [
    "#check the shape:\n",
    "df_2.shape"
   ]
  },
  {
   "cell_type": "markdown",
   "id": "0173ade7-ac3f-40b5-80a2-71e530da7015",
   "metadata": {},
   "source": [
    "The resulting clean data set is 25775 rows and 47 columns."
   ]
  },
  {
   "cell_type": "code",
   "execution_count": 99,
   "id": "3bd4cc4d-cb3a-4e3d-b051-8e5be0c8e057",
   "metadata": {
    "tags": []
   },
   "outputs": [
    {
     "data": {
      "text/html": [
       "<div>\n",
       "<style scoped>\n",
       "    .dataframe tbody tr th:only-of-type {\n",
       "        vertical-align: middle;\n",
       "    }\n",
       "\n",
       "    .dataframe tbody tr th {\n",
       "        vertical-align: top;\n",
       "    }\n",
       "\n",
       "    .dataframe thead th {\n",
       "        text-align: right;\n",
       "    }\n",
       "</style>\n",
       "<table border=\"1\" class=\"dataframe\">\n",
       "  <thead>\n",
       "    <tr style=\"text-align: right;\">\n",
       "      <th></th>\n",
       "      <th>Sample ID</th>\n",
       "      <th>Age at Sequencing</th>\n",
       "      <th>Age at Surgical Procedure</th>\n",
       "      <th>Cancer Type</th>\n",
       "      <th>Cancer Type Detailed</th>\n",
       "      <th>Distant Mets: Adrenal Gland</th>\n",
       "      <th>Distant Mets: Biliary tract</th>\n",
       "      <th>Distant Mets: Bladder/UT</th>\n",
       "      <th>Distant Mets: Bone</th>\n",
       "      <th>Distant Mets: Bowel</th>\n",
       "      <th>Distant Mets: Breast</th>\n",
       "      <th>Distant Mets: CNS/Brain</th>\n",
       "      <th>Distant Mets: Distant LN</th>\n",
       "      <th>Distant Mets: Female Genital</th>\n",
       "      <th>Distant Mets: Head and Neck</th>\n",
       "      <th>Distant Mets: Intra-Abdominal</th>\n",
       "      <th>Distant Mets: Kidney</th>\n",
       "      <th>Distant Mets: Liver</th>\n",
       "      <th>Distant Mets: Lung</th>\n",
       "      <th>Distant Mets: Male Genital</th>\n",
       "      <th>Distant Mets: Mediastinum</th>\n",
       "      <th>Distant Mets: Ovary</th>\n",
       "      <th>Distant Mets: Pleura</th>\n",
       "      <th>Distant Mets: PNS</th>\n",
       "      <th>Distant Mets: Skin</th>\n",
       "      <th>Distant Mets: Unspecified</th>\n",
       "      <th>Fraction Genome Altered</th>\n",
       "      <th>Gene Panel</th>\n",
       "      <th>Metastatic patient</th>\n",
       "      <th>Met Count</th>\n",
       "      <th>Met Site Count</th>\n",
       "      <th>MSI Score</th>\n",
       "      <th>MSI Type</th>\n",
       "      <th>Oncotree Code</th>\n",
       "      <th>Organ System</th>\n",
       "      <th>Overall Survival (Months)</th>\n",
       "      <th>Overall Survival Status</th>\n",
       "      <th>Primary Tumor Site</th>\n",
       "      <th>Race Category</th>\n",
       "      <th>Sample coverage</th>\n",
       "      <th>Sample Type</th>\n",
       "      <th>Sex</th>\n",
       "      <th>Subtype</th>\n",
       "      <th>Subtype Abbreviation</th>\n",
       "      <th>TMB (nonsynonymous)</th>\n",
       "      <th>Tumor Purity</th>\n",
       "      <th>Average Age</th>\n",
       "    </tr>\n",
       "  </thead>\n",
       "  <tbody>\n",
       "    <tr>\n",
       "      <th>0</th>\n",
       "      <td>P-0000004-T01-IM3</td>\n",
       "      <td>39.74</td>\n",
       "      <td>37.03</td>\n",
       "      <td>Breast Cancer</td>\n",
       "      <td>Breast Invasive Ductal Carcinoma</td>\n",
       "      <td>No</td>\n",
       "      <td>No</td>\n",
       "      <td>No</td>\n",
       "      <td>Yes</td>\n",
       "      <td>No</td>\n",
       "      <td>No</td>\n",
       "      <td>No</td>\n",
       "      <td>No</td>\n",
       "      <td>No</td>\n",
       "      <td>No</td>\n",
       "      <td>No</td>\n",
       "      <td>No</td>\n",
       "      <td>Yes</td>\n",
       "      <td>No</td>\n",
       "      <td>No</td>\n",
       "      <td>No</td>\n",
       "      <td>No</td>\n",
       "      <td>No</td>\n",
       "      <td>No</td>\n",
       "      <td>No</td>\n",
       "      <td>No</td>\n",
       "      <td>0.2782</td>\n",
       "      <td>IMPACT341</td>\n",
       "      <td>True</td>\n",
       "      <td>2</td>\n",
       "      <td>2</td>\n",
       "      <td>2.50</td>\n",
       "      <td>Stable</td>\n",
       "      <td>IDC</td>\n",
       "      <td>Breast</td>\n",
       "      <td>3.78</td>\n",
       "      <td>1:DECEASED</td>\n",
       "      <td>Breast</td>\n",
       "      <td>White</td>\n",
       "      <td>428</td>\n",
       "      <td>Primary</td>\n",
       "      <td>Female</td>\n",
       "      <td>Breast Ductal HR+HER2-</td>\n",
       "      <td>IDC HR+HER2-</td>\n",
       "      <td>4.436621</td>\n",
       "      <td>50.0</td>\n",
       "      <td>39.1225</td>\n",
       "    </tr>\n",
       "    <tr>\n",
       "      <th>1</th>\n",
       "      <td>P-0000015-T01-IM3</td>\n",
       "      <td>44.44</td>\n",
       "      <td>44.42</td>\n",
       "      <td>Breast Cancer</td>\n",
       "      <td>Breast Invasive Ductal Carcinoma</td>\n",
       "      <td>No</td>\n",
       "      <td>No</td>\n",
       "      <td>No</td>\n",
       "      <td>Yes</td>\n",
       "      <td>No</td>\n",
       "      <td>No</td>\n",
       "      <td>Yes</td>\n",
       "      <td>Yes</td>\n",
       "      <td>No</td>\n",
       "      <td>No</td>\n",
       "      <td>No</td>\n",
       "      <td>No</td>\n",
       "      <td>Yes</td>\n",
       "      <td>Yes</td>\n",
       "      <td>No</td>\n",
       "      <td>No</td>\n",
       "      <td>Yes</td>\n",
       "      <td>Yes</td>\n",
       "      <td>No</td>\n",
       "      <td>No</td>\n",
       "      <td>Yes</td>\n",
       "      <td>0.3503</td>\n",
       "      <td>IMPACT341</td>\n",
       "      <td>True</td>\n",
       "      <td>8</td>\n",
       "      <td>8</td>\n",
       "      <td>2.55</td>\n",
       "      <td>Stable</td>\n",
       "      <td>IDC</td>\n",
       "      <td>Breast</td>\n",
       "      <td>13.90</td>\n",
       "      <td>1:DECEASED</td>\n",
       "      <td>Breast</td>\n",
       "      <td>White</td>\n",
       "      <td>281</td>\n",
       "      <td>Metastasis</td>\n",
       "      <td>Female</td>\n",
       "      <td>Breast Ductal HR+HER2-</td>\n",
       "      <td>IDC HR+HER2-</td>\n",
       "      <td>7.764087</td>\n",
       "      <td>40.0</td>\n",
       "      <td>44.6775</td>\n",
       "    </tr>\n",
       "    <tr>\n",
       "      <th>2</th>\n",
       "      <td>P-0000024-T01-IM3</td>\n",
       "      <td>61.33</td>\n",
       "      <td>61.00</td>\n",
       "      <td>Endometrial Cancer</td>\n",
       "      <td>Uterine Endometrioid Carcinoma</td>\n",
       "      <td>No</td>\n",
       "      <td>No</td>\n",
       "      <td>No</td>\n",
       "      <td>Yes</td>\n",
       "      <td>No</td>\n",
       "      <td>No</td>\n",
       "      <td>No</td>\n",
       "      <td>No</td>\n",
       "      <td>No</td>\n",
       "      <td>No</td>\n",
       "      <td>Yes</td>\n",
       "      <td>No</td>\n",
       "      <td>Yes</td>\n",
       "      <td>Yes</td>\n",
       "      <td>No</td>\n",
       "      <td>No</td>\n",
       "      <td>No</td>\n",
       "      <td>No</td>\n",
       "      <td>No</td>\n",
       "      <td>No</td>\n",
       "      <td>Yes</td>\n",
       "      <td>0.3878</td>\n",
       "      <td>IMPACT341</td>\n",
       "      <td>True</td>\n",
       "      <td>8</td>\n",
       "      <td>5</td>\n",
       "      <td>0.72</td>\n",
       "      <td>Stable</td>\n",
       "      <td>UEC</td>\n",
       "      <td>Gynecologic</td>\n",
       "      <td>35.06</td>\n",
       "      <td>1:DECEASED</td>\n",
       "      <td>Uterus</td>\n",
       "      <td>White</td>\n",
       "      <td>1016</td>\n",
       "      <td>Metastasis</td>\n",
       "      <td>Female</td>\n",
       "      <td>Uterine Endometrioid</td>\n",
       "      <td>UCEC ENDO</td>\n",
       "      <td>6.654932</td>\n",
       "      <td>40.0</td>\n",
       "      <td>61.5050</td>\n",
       "    </tr>\n",
       "    <tr>\n",
       "      <th>3</th>\n",
       "      <td>P-0000025-T02-IM5</td>\n",
       "      <td>74.81</td>\n",
       "      <td>74.64</td>\n",
       "      <td>Endometrial Cancer</td>\n",
       "      <td>Uterine Serous Carcinoma/Uterine Papillary Ser...</td>\n",
       "      <td>Yes</td>\n",
       "      <td>Yes</td>\n",
       "      <td>No</td>\n",
       "      <td>No</td>\n",
       "      <td>Yes</td>\n",
       "      <td>No</td>\n",
       "      <td>No</td>\n",
       "      <td>No</td>\n",
       "      <td>Yes</td>\n",
       "      <td>No</td>\n",
       "      <td>Yes</td>\n",
       "      <td>No</td>\n",
       "      <td>Yes</td>\n",
       "      <td>No</td>\n",
       "      <td>No</td>\n",
       "      <td>No</td>\n",
       "      <td>Yes</td>\n",
       "      <td>No</td>\n",
       "      <td>No</td>\n",
       "      <td>No</td>\n",
       "      <td>Yes</td>\n",
       "      <td>0.1020</td>\n",
       "      <td>IMPACT410</td>\n",
       "      <td>True</td>\n",
       "      <td>13</td>\n",
       "      <td>8</td>\n",
       "      <td>0.15</td>\n",
       "      <td>Stable</td>\n",
       "      <td>USC</td>\n",
       "      <td>Gynecologic</td>\n",
       "      <td>46.00</td>\n",
       "      <td>1:DECEASED</td>\n",
       "      <td>Uterus</td>\n",
       "      <td>White</td>\n",
       "      <td>1147</td>\n",
       "      <td>Metastasis</td>\n",
       "      <td>Female</td>\n",
       "      <td>Uterine Serous</td>\n",
       "      <td>UCEC SEROUS</td>\n",
       "      <td>1.957439</td>\n",
       "      <td>30.0</td>\n",
       "      <td>73.9075</td>\n",
       "    </tr>\n",
       "    <tr>\n",
       "      <th>4</th>\n",
       "      <td>P-0000026-T01-IM3</td>\n",
       "      <td>71.72</td>\n",
       "      <td>71.58</td>\n",
       "      <td>Endometrial Cancer</td>\n",
       "      <td>Uterine Endometrioid Carcinoma</td>\n",
       "      <td>No</td>\n",
       "      <td>No</td>\n",
       "      <td>No</td>\n",
       "      <td>No</td>\n",
       "      <td>Yes</td>\n",
       "      <td>No</td>\n",
       "      <td>No</td>\n",
       "      <td>Yes</td>\n",
       "      <td>Yes</td>\n",
       "      <td>No</td>\n",
       "      <td>Yes</td>\n",
       "      <td>No</td>\n",
       "      <td>Yes</td>\n",
       "      <td>Yes</td>\n",
       "      <td>No</td>\n",
       "      <td>No</td>\n",
       "      <td>No</td>\n",
       "      <td>No</td>\n",
       "      <td>No</td>\n",
       "      <td>No</td>\n",
       "      <td>Yes</td>\n",
       "      <td>0.4196</td>\n",
       "      <td>IMPACT341</td>\n",
       "      <td>True</td>\n",
       "      <td>11</td>\n",
       "      <td>7</td>\n",
       "      <td>1.23</td>\n",
       "      <td>Stable</td>\n",
       "      <td>UEC</td>\n",
       "      <td>Gynecologic</td>\n",
       "      <td>80.59</td>\n",
       "      <td>0:LIVING</td>\n",
       "      <td>Uterus</td>\n",
       "      <td>Asian-far east/indian subcont</td>\n",
       "      <td>1222</td>\n",
       "      <td>Metastasis</td>\n",
       "      <td>Female</td>\n",
       "      <td>Uterine Endometrioid</td>\n",
       "      <td>UCEC ENDO</td>\n",
       "      <td>4.436621</td>\n",
       "      <td>10.0</td>\n",
       "      <td>72.5350</td>\n",
       "    </tr>\n",
       "  </tbody>\n",
       "</table>\n",
       "</div>"
      ],
      "text/plain": [
       "           Sample ID  Age at Sequencing  Age at Surgical Procedure  \\\n",
       "0  P-0000004-T01-IM3              39.74                      37.03   \n",
       "1  P-0000015-T01-IM3              44.44                      44.42   \n",
       "2  P-0000024-T01-IM3              61.33                      61.00   \n",
       "3  P-0000025-T02-IM5              74.81                      74.64   \n",
       "4  P-0000026-T01-IM3              71.72                      71.58   \n",
       "\n",
       "          Cancer Type                               Cancer Type Detailed  \\\n",
       "0       Breast Cancer                   Breast Invasive Ductal Carcinoma   \n",
       "1       Breast Cancer                   Breast Invasive Ductal Carcinoma   \n",
       "2  Endometrial Cancer                     Uterine Endometrioid Carcinoma   \n",
       "3  Endometrial Cancer  Uterine Serous Carcinoma/Uterine Papillary Ser...   \n",
       "4  Endometrial Cancer                     Uterine Endometrioid Carcinoma   \n",
       "\n",
       "  Distant Mets: Adrenal Gland Distant Mets: Biliary tract  \\\n",
       "0                          No                          No   \n",
       "1                          No                          No   \n",
       "2                          No                          No   \n",
       "3                         Yes                         Yes   \n",
       "4                          No                          No   \n",
       "\n",
       "  Distant Mets: Bladder/UT Distant Mets: Bone Distant Mets: Bowel  \\\n",
       "0                       No                Yes                  No   \n",
       "1                       No                Yes                  No   \n",
       "2                       No                Yes                  No   \n",
       "3                       No                 No                 Yes   \n",
       "4                       No                 No                 Yes   \n",
       "\n",
       "  Distant Mets: Breast Distant Mets: CNS/Brain Distant Mets: Distant LN  \\\n",
       "0                   No                      No                       No   \n",
       "1                   No                     Yes                      Yes   \n",
       "2                   No                      No                       No   \n",
       "3                   No                      No                       No   \n",
       "4                   No                      No                      Yes   \n",
       "\n",
       "  Distant Mets: Female Genital Distant Mets: Head and Neck  \\\n",
       "0                           No                          No   \n",
       "1                           No                          No   \n",
       "2                           No                          No   \n",
       "3                          Yes                          No   \n",
       "4                          Yes                          No   \n",
       "\n",
       "  Distant Mets: Intra-Abdominal Distant Mets: Kidney Distant Mets: Liver  \\\n",
       "0                            No                   No                 Yes   \n",
       "1                            No                   No                 Yes   \n",
       "2                           Yes                   No                 Yes   \n",
       "3                           Yes                   No                 Yes   \n",
       "4                           Yes                   No                 Yes   \n",
       "\n",
       "  Distant Mets: Lung Distant Mets: Male Genital Distant Mets: Mediastinum  \\\n",
       "0                 No                         No                        No   \n",
       "1                Yes                         No                        No   \n",
       "2                Yes                         No                        No   \n",
       "3                 No                         No                        No   \n",
       "4                Yes                         No                        No   \n",
       "\n",
       "  Distant Mets: Ovary Distant Mets: Pleura Distant Mets: PNS  \\\n",
       "0                  No                   No                No   \n",
       "1                 Yes                  Yes                No   \n",
       "2                  No                   No                No   \n",
       "3                 Yes                   No                No   \n",
       "4                  No                   No                No   \n",
       "\n",
       "  Distant Mets: Skin Distant Mets: Unspecified  Fraction Genome Altered  \\\n",
       "0                 No                        No                   0.2782   \n",
       "1                 No                       Yes                   0.3503   \n",
       "2                 No                       Yes                   0.3878   \n",
       "3                 No                       Yes                   0.1020   \n",
       "4                 No                       Yes                   0.4196   \n",
       "\n",
       "  Gene Panel  Metastatic patient  Met Count  Met Site Count  MSI Score  \\\n",
       "0  IMPACT341                True          2               2       2.50   \n",
       "1  IMPACT341                True          8               8       2.55   \n",
       "2  IMPACT341                True          8               5       0.72   \n",
       "3  IMPACT410                True         13               8       0.15   \n",
       "4  IMPACT341                True         11               7       1.23   \n",
       "\n",
       "  MSI Type Oncotree Code Organ System  Overall Survival (Months)  \\\n",
       "0   Stable           IDC       Breast                       3.78   \n",
       "1   Stable           IDC       Breast                      13.90   \n",
       "2   Stable           UEC  Gynecologic                      35.06   \n",
       "3   Stable           USC  Gynecologic                      46.00   \n",
       "4   Stable           UEC  Gynecologic                      80.59   \n",
       "\n",
       "  Overall Survival Status Primary Tumor Site                  Race Category  \\\n",
       "0              1:DECEASED             Breast                          White   \n",
       "1              1:DECEASED             Breast                          White   \n",
       "2              1:DECEASED             Uterus                          White   \n",
       "3              1:DECEASED             Uterus                          White   \n",
       "4                0:LIVING             Uterus  Asian-far east/indian subcont   \n",
       "\n",
       "   Sample coverage Sample Type     Sex                 Subtype  \\\n",
       "0              428     Primary  Female  Breast Ductal HR+HER2-   \n",
       "1              281  Metastasis  Female  Breast Ductal HR+HER2-   \n",
       "2             1016  Metastasis  Female    Uterine Endometrioid   \n",
       "3             1147  Metastasis  Female          Uterine Serous   \n",
       "4             1222  Metastasis  Female    Uterine Endometrioid   \n",
       "\n",
       "  Subtype Abbreviation  TMB (nonsynonymous) Tumor Purity  Average Age  \n",
       "0         IDC HR+HER2-             4.436621         50.0      39.1225  \n",
       "1         IDC HR+HER2-             7.764087         40.0      44.6775  \n",
       "2            UCEC ENDO             6.654932         40.0      61.5050  \n",
       "3          UCEC SEROUS             1.957439         30.0      73.9075  \n",
       "4            UCEC ENDO             4.436621         10.0      72.5350  "
      ]
     },
     "execution_count": 99,
     "metadata": {},
     "output_type": "execute_result"
    }
   ],
   "source": [
    "df_2.head()"
   ]
  },
  {
   "cell_type": "code",
   "execution_count": 200,
   "id": "0aaf8f2f-5b45-4c4c-b67c-5103fd67640f",
   "metadata": {
    "tags": []
   },
   "outputs": [],
   "source": [
    "#save the data to a parquet\n",
    "df_2.to_csv('cancer_data_clean.csv')"
   ]
  },
  {
   "cell_type": "markdown",
   "id": "7063764a-6df2-496f-84eb-1ffa13c1ba20",
   "metadata": {},
   "source": [
    "### Next Steps <a class=\"anchor\" id=\"next\"></a>\n",
    "\n",
    "- EDA\n",
    "- Feature Selection\n",
    "- Model Selection\n",
    "- Model Training\n",
    "- Model Evaluation\n",
    "- Model Deployment"
   ]
  }
 ],
 "metadata": {
  "kernelspec": {
   "display_name": "basicpythonkernel",
   "language": "python",
   "name": "basicpythonkernel"
  },
  "language_info": {
   "codemirror_mode": {
    "name": "ipython",
    "version": 3
   },
   "file_extension": ".py",
   "mimetype": "text/x-python",
   "name": "python",
   "nbconvert_exporter": "python",
   "pygments_lexer": "ipython3",
   "version": "3.9.18"
  }
 },
 "nbformat": 4,
 "nbformat_minor": 5
}
